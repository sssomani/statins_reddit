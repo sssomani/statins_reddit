{
 "cells": [
  {
   "cell_type": "markdown",
   "id": "2bcb6575-f21e-4e83-9407-97f920b0d75b",
   "metadata": {},
   "source": [
    "# Data Scraper"
   ]
  },
  {
   "cell_type": "markdown",
   "id": "ad38c092-c9fa-45fe-be69-a742b8a24cb4",
   "metadata": {},
   "source": [
    "This notebook will be responsible for scraping all submissions, posts, and user data from Reddit. It is predominantly demonstrative and ultimately will need to be translated into executable Python code that will permit outside parties to run scripts based on the underlying functions here. "
   ]
  },
  {
   "cell_type": "markdown",
   "id": "a1bf1227-3835-4750-b9b4-56ae3320bdf5",
   "metadata": {
    "tags": []
   },
   "source": [
    "### Starters\n",
    "\n",
    "First, let's begin importing our relevant libraries and establishing our root project directory."
   ]
  },
  {
   "cell_type": "code",
   "execution_count": 1,
   "id": "8bf5bd15-6b97-422d-af4e-b459014e355d",
   "metadata": {},
   "outputs": [],
   "source": [
    "import warnings\n",
    "warnings.filterwarnings('ignore')"
   ]
  },
  {
   "cell_type": "code",
   "execution_count": 46,
   "id": "c02c346c-fde0-48c0-be2f-5832511d7101",
   "metadata": {},
   "outputs": [],
   "source": [
    "import pandas as pd\n",
    "import numpy as np\n",
    "import praw\n",
    "import json\n",
    "import re"
   ]
  },
  {
   "cell_type": "code",
   "execution_count": 3,
   "id": "87d40bd2-3b95-4354-8aa4-df365b13eac2",
   "metadata": {},
   "outputs": [],
   "source": [
    "from datetime import datetime as dt, timedelta as td\n",
    "import requests"
   ]
  },
  {
   "cell_type": "code",
   "execution_count": 35,
   "id": "5829ec18-1cdb-4436-9702-65cff702ef0a",
   "metadata": {},
   "outputs": [],
   "source": [
    "import seaborn as sns\n",
    "import matplotlib.pyplot as plt"
   ]
  },
  {
   "cell_type": "code",
   "execution_count": 8,
   "id": "48ff46ee-4c2e-4425-9c39-f8ecba6ce8b7",
   "metadata": {},
   "outputs": [],
   "source": [
    "DATA_FOLDER = '/Users/ssomani/research/heartlab/statins_reddit/data/raw/'\n",
    "API_LOGIN_FN = '/Users/ssomani/research/heartlab/statins_reddit/data/reddit_auth.json'"
   ]
  },
  {
   "cell_type": "code",
   "execution_count": 5,
   "id": "bbe7aedb-fcda-46f4-9c8c-66436a6e982d",
   "metadata": {},
   "outputs": [],
   "source": [
    "date_time = {\n",
    "    'start' : {\n",
    "        'year' : 2010,\n",
    "        'month' : 1,\n",
    "        'day' : 1\n",
    "    },\n",
    "    \n",
    "    'end' : {\n",
    "        'year' : 2022,\n",
    "        'month' : 5,\n",
    "        'day' : 1\n",
    "    }\n",
    "}\n",
    "\n",
    "start_time = int(dt(date_time['start']['year'], date_time['start']['month'], date_time['start']['day']).timestamp())\n",
    "end_time = int(dt(date_time['end']['year'], date_time['end']['month'], date_time['end']['day']).timestamp())"
   ]
  },
  {
   "cell_type": "code",
   "execution_count": 6,
   "id": "ba6693ed-dc67-4e9d-abd8-5ddeca8f6854",
   "metadata": {},
   "outputs": [
    {
     "ename": "FileNotFoundError",
     "evalue": "[Errno 2] No such file or directory: '/Users/ssomani/research/heartlab/statins_reddit/data/reddit_auth.json'",
     "output_type": "error",
     "traceback": [
      "\u001b[0;31m---------------------------------------------------------------------------\u001b[0m",
      "\u001b[0;31mFileNotFoundError\u001b[0m                         Traceback (most recent call last)",
      "Input \u001b[0;32mIn [6]\u001b[0m, in \u001b[0;36m<cell line: 1>\u001b[0;34m()\u001b[0m\n\u001b[0;32m----> 1\u001b[0m \u001b[38;5;28;01mwith\u001b[39;00m \u001b[38;5;28;43mopen\u001b[39;49m\u001b[43m(\u001b[49m\u001b[43mAPI_LOGIN_FN\u001b[49m\u001b[43m,\u001b[49m\u001b[43m \u001b[49m\u001b[38;5;124;43m'\u001b[39;49m\u001b[38;5;124;43mr\u001b[39;49m\u001b[38;5;124;43m'\u001b[39;49m\u001b[43m)\u001b[49m \u001b[38;5;28;01mas\u001b[39;00m f:\n\u001b[1;32m      2\u001b[0m     login_info \u001b[38;5;241m=\u001b[39m json\u001b[38;5;241m.\u001b[39mload(f)\n\u001b[1;32m      4\u001b[0m \u001b[38;5;66;03m# Check to ensure that login_info contains the necessary information.\u001b[39;00m\n",
      "\u001b[0;31mFileNotFoundError\u001b[0m: [Errno 2] No such file or directory: '/Users/ssomani/research/heartlab/statins_reddit/data/reddit_auth.json'"
     ]
    }
   ],
   "source": [
    "with open(API_LOGIN_FN, 'r') as f:\n",
    "    login_info = json.load(f)\n",
    "    \n",
    "# Check to ensure that login_info contains the necessary information.\n",
    "assert('client_id' in login_info.keys())\n",
    "assert('client_secret' in login_info.keys())\n",
    "assert('user_agent' in login_info.keys())"
   ]
  },
  {
   "cell_type": "markdown",
   "id": "0865acb7-3889-4820-bf8a-af6113261c48",
   "metadata": {
    "jp-MarkdownHeadingCollapsed": true,
    "tags": []
   },
   "source": [
    "### PRAW"
   ]
  },
  {
   "cell_type": "code",
   "execution_count": 77,
   "id": "c9dcaa21-f1b1-48a3-98f4-c56e24067a06",
   "metadata": {},
   "outputs": [],
   "source": [
    "reddit = praw.Reddit(**login_info)"
   ]
  },
  {
   "cell_type": "code",
   "execution_count": 78,
   "id": "859f9591-8e34-4dec-8071-eedb6c1926f4",
   "metadata": {},
   "outputs": [],
   "source": [
    "tc = reddit.comment('cholesterol')"
   ]
  },
  {
   "cell_type": "markdown",
   "id": "c692264f-9986-4dba-bf1c-f5db1f69a8c4",
   "metadata": {
    "tags": []
   },
   "source": [
    "#### Scrape!"
   ]
  },
  {
   "cell_type": "code",
   "execution_count": 151,
   "id": "96ca4f38-c779-473c-ac72-f06ca7235669",
   "metadata": {},
   "outputs": [],
   "source": [
    "def scrape_posts(subreddit_name, search_word):\n",
    "    \"\"\" Search for all posts matching a search word in a subreddit.\n",
    "    \"\"\"\n",
    "    \n",
    "    # Create the Subreddit object that matches the subreddit name.\n",
    "    subreddit = reddit.subreddit(subreddit_name)\n",
    "    \n",
    "    # Create empty objects to store post information.\n",
    "    post_info = pd.DataFrame()\n",
    "    post_info.index.name = 'id'\n",
    "    \n",
    "    posts = {}\n",
    "    \n",
    "    # Generate the iterator that will scrape over \n",
    "    for post in subreddit.search(search_word, limit=None):\n",
    "        \n",
    "        # Save this post as k:v pair.\n",
    "        posts[post.id] = post\n",
    "        \n",
    "        # Store this post's metadata in our dataframe.\n",
    "        post_info.loc[post.id, 'query'] = search_word\n",
    "        post_info.loc[post.id, 'subreddit'] = subreddit_name\n",
    "        post_info.loc[post.id, 'author'] = post.author\n",
    "        post_info.loc[post.id, 'title'] = post.title\n",
    "        post_info.loc[post.id, 'body'] = post.selftext\n",
    "        post_info.loc[post.id, 'number_of_comments'] = post.num_comments\n",
    "        post_info.loc[post.id, 'upvotes'] = post.score\n",
    "        post_info.loc[post.id, 'upvote_ratio'] = post.upvote_ratio\n",
    "        \n",
    "    return posts, post_info"
   ]
  },
  {
   "cell_type": "code",
   "execution_count": 9,
   "id": "919b4e90-d314-4ee5-9a62-f29ace2266b6",
   "metadata": {},
   "outputs": [],
   "source": [
    "def scrape_reddit(subreddits, search_words):\n",
    "    \"\"\"Scrapes Reddit for posts matching a set of search words in a set of subreddits.\n",
    "    \"\"\"\n",
    "\n",
    "    POST_INFO = ['query', 'subreddit', 'author', 'title', 'body', 'number_of_comments', 'upvotes', 'upvote_ratio']\n",
    "\n",
    "    all_posts = {}\n",
    "    all_posts_df = pd.DataFrame(columns=POST_INFO)\n",
    "    all_posts_df.index.name = 'id'\n",
    "\n",
    "    for subreddit in subreddits:\n",
    "        for search_word in search_words:\n",
    "            print(\"Now searching r/{0} for {1}\".format(subreddit, search_word))\n",
    "\n",
    "            post_ij, post_df_ij = scrape_posts(subreddit, search_word)\n",
    "\n",
    "            print(\"Completed search. Joining!\")\n",
    "\n",
    "            all_posts.update(post_ij)\n",
    "            all_posts_df = pd.concat([all_posts_df, post_df_ij])\n",
    "\n",
    "            with pd.ExcelWriter(DATA_FOLDER + 'scraped_posts.xlsx', engine='xlsxwriter', options={'strings_to_urls': False}) as writer:\n",
    "                all_posts_df.to_excel(writer)"
   ]
  },
  {
   "cell_type": "code",
   "execution_count": 175,
   "id": "d7d10a18-1eb3-43e5-96a6-6bc506316e02",
   "metadata": {
    "collapsed": true,
    "jupyter": {
     "outputs_hidden": true
    },
    "scrolled": true,
    "tags": []
   },
   "outputs": [
    {
     "name": "stdout",
     "output_type": "stream",
     "text": [
      "Now searching r/ketoscience for atorvastatin\n",
      "Completed search. Joining!\n",
      "Now searching r/ketoscience for lipitor\n"
     ]
    },
    {
     "name": "stderr",
     "output_type": "stream",
     "text": [
      "/var/folders/y1/2907rcw50gq_rm33vwpb806r0000gn/T/ipykernel_71372/533152681.py:22: FutureWarning: Use of **kwargs is deprecated, use engine_kwargs instead.\n",
      "  with pd.ExcelWriter(DATA_FOLDER + 'scraped_posts_full.xlsx', engine='xlsxwriter', options={'strings_to_urls': False}) as writer:\n"
     ]
    },
    {
     "name": "stdout",
     "output_type": "stream",
     "text": [
      "Completed search. Joining!\n",
      "Now searching r/ketoscience for rosuvastatin\n"
     ]
    },
    {
     "name": "stderr",
     "output_type": "stream",
     "text": [
      "/var/folders/y1/2907rcw50gq_rm33vwpb806r0000gn/T/ipykernel_71372/533152681.py:22: FutureWarning: Use of **kwargs is deprecated, use engine_kwargs instead.\n",
      "  with pd.ExcelWriter(DATA_FOLDER + 'scraped_posts_full.xlsx', engine='xlsxwriter', options={'strings_to_urls': False}) as writer:\n"
     ]
    },
    {
     "name": "stdout",
     "output_type": "stream",
     "text": [
      "Completed search. Joining!\n",
      "Now searching r/ketoscience for crestor\n"
     ]
    },
    {
     "name": "stderr",
     "output_type": "stream",
     "text": [
      "/var/folders/y1/2907rcw50gq_rm33vwpb806r0000gn/T/ipykernel_71372/533152681.py:22: FutureWarning: Use of **kwargs is deprecated, use engine_kwargs instead.\n",
      "  with pd.ExcelWriter(DATA_FOLDER + 'scraped_posts_full.xlsx', engine='xlsxwriter', options={'strings_to_urls': False}) as writer:\n"
     ]
    },
    {
     "name": "stdout",
     "output_type": "stream",
     "text": [
      "Completed search. Joining!\n",
      "Now searching r/ketoscience for pitavastatin\n",
      "Completed search. Joining!\n"
     ]
    },
    {
     "name": "stderr",
     "output_type": "stream",
     "text": [
      "/var/folders/y1/2907rcw50gq_rm33vwpb806r0000gn/T/ipykernel_71372/533152681.py:22: FutureWarning: Use of **kwargs is deprecated, use engine_kwargs instead.\n",
      "  with pd.ExcelWriter(DATA_FOLDER + 'scraped_posts_full.xlsx', engine='xlsxwriter', options={'strings_to_urls': False}) as writer:\n",
      "/var/folders/y1/2907rcw50gq_rm33vwpb806r0000gn/T/ipykernel_71372/533152681.py:22: FutureWarning: Use of **kwargs is deprecated, use engine_kwargs instead.\n",
      "  with pd.ExcelWriter(DATA_FOLDER + 'scraped_posts_full.xlsx', engine='xlsxwriter', options={'strings_to_urls': False}) as writer:\n"
     ]
    },
    {
     "name": "stdout",
     "output_type": "stream",
     "text": [
      "Now searching r/ketoscience for livalo\n",
      "Completed search. Joining!\n",
      "Now searching r/ketoscience for zypitamag\n"
     ]
    },
    {
     "name": "stderr",
     "output_type": "stream",
     "text": [
      "/var/folders/y1/2907rcw50gq_rm33vwpb806r0000gn/T/ipykernel_71372/533152681.py:22: FutureWarning: Use of **kwargs is deprecated, use engine_kwargs instead.\n",
      "  with pd.ExcelWriter(DATA_FOLDER + 'scraped_posts_full.xlsx', engine='xlsxwriter', options={'strings_to_urls': False}) as writer:\n"
     ]
    },
    {
     "name": "stdout",
     "output_type": "stream",
     "text": [
      "Completed search. Joining!\n",
      "Now searching r/ketoscience for simvastatin\n"
     ]
    },
    {
     "name": "stderr",
     "output_type": "stream",
     "text": [
      "/var/folders/y1/2907rcw50gq_rm33vwpb806r0000gn/T/ipykernel_71372/533152681.py:22: FutureWarning: Use of **kwargs is deprecated, use engine_kwargs instead.\n",
      "  with pd.ExcelWriter(DATA_FOLDER + 'scraped_posts_full.xlsx', engine='xlsxwriter', options={'strings_to_urls': False}) as writer:\n"
     ]
    },
    {
     "name": "stdout",
     "output_type": "stream",
     "text": [
      "Completed search. Joining!\n",
      "Now searching r/ketoscience for zocor\n"
     ]
    },
    {
     "name": "stderr",
     "output_type": "stream",
     "text": [
      "/var/folders/y1/2907rcw50gq_rm33vwpb806r0000gn/T/ipykernel_71372/533152681.py:22: FutureWarning: Use of **kwargs is deprecated, use engine_kwargs instead.\n",
      "  with pd.ExcelWriter(DATA_FOLDER + 'scraped_posts_full.xlsx', engine='xlsxwriter', options={'strings_to_urls': False}) as writer:\n"
     ]
    },
    {
     "name": "stdout",
     "output_type": "stream",
     "text": [
      "Completed search. Joining!\n",
      "Now searching r/ketoscience for pravastatin\n"
     ]
    },
    {
     "name": "stderr",
     "output_type": "stream",
     "text": [
      "/var/folders/y1/2907rcw50gq_rm33vwpb806r0000gn/T/ipykernel_71372/533152681.py:22: FutureWarning: Use of **kwargs is deprecated, use engine_kwargs instead.\n",
      "  with pd.ExcelWriter(DATA_FOLDER + 'scraped_posts_full.xlsx', engine='xlsxwriter', options={'strings_to_urls': False}) as writer:\n"
     ]
    },
    {
     "name": "stdout",
     "output_type": "stream",
     "text": [
      "Completed search. Joining!\n",
      "Now searching r/ketoscience for pravachol\n"
     ]
    },
    {
     "name": "stderr",
     "output_type": "stream",
     "text": [
      "/var/folders/y1/2907rcw50gq_rm33vwpb806r0000gn/T/ipykernel_71372/533152681.py:22: FutureWarning: Use of **kwargs is deprecated, use engine_kwargs instead.\n",
      "  with pd.ExcelWriter(DATA_FOLDER + 'scraped_posts_full.xlsx', engine='xlsxwriter', options={'strings_to_urls': False}) as writer:\n"
     ]
    },
    {
     "name": "stdout",
     "output_type": "stream",
     "text": [
      "Completed search. Joining!\n",
      "Now searching r/ketoscience for lovastatin\n"
     ]
    },
    {
     "name": "stderr",
     "output_type": "stream",
     "text": [
      "/var/folders/y1/2907rcw50gq_rm33vwpb806r0000gn/T/ipykernel_71372/533152681.py:22: FutureWarning: Use of **kwargs is deprecated, use engine_kwargs instead.\n",
      "  with pd.ExcelWriter(DATA_FOLDER + 'scraped_posts_full.xlsx', engine='xlsxwriter', options={'strings_to_urls': False}) as writer:\n"
     ]
    },
    {
     "name": "stdout",
     "output_type": "stream",
     "text": [
      "Completed search. Joining!\n",
      "Now searching r/ketoscience for altoprev\n"
     ]
    },
    {
     "name": "stderr",
     "output_type": "stream",
     "text": [
      "/var/folders/y1/2907rcw50gq_rm33vwpb806r0000gn/T/ipykernel_71372/533152681.py:22: FutureWarning: Use of **kwargs is deprecated, use engine_kwargs instead.\n",
      "  with pd.ExcelWriter(DATA_FOLDER + 'scraped_posts_full.xlsx', engine='xlsxwriter', options={'strings_to_urls': False}) as writer:\n"
     ]
    },
    {
     "name": "stdout",
     "output_type": "stream",
     "text": [
      "Completed search. Joining!\n",
      "Now searching r/ketoscience for fluvastatin\n"
     ]
    },
    {
     "name": "stderr",
     "output_type": "stream",
     "text": [
      "/var/folders/y1/2907rcw50gq_rm33vwpb806r0000gn/T/ipykernel_71372/533152681.py:22: FutureWarning: Use of **kwargs is deprecated, use engine_kwargs instead.\n",
      "  with pd.ExcelWriter(DATA_FOLDER + 'scraped_posts_full.xlsx', engine='xlsxwriter', options={'strings_to_urls': False}) as writer:\n"
     ]
    },
    {
     "name": "stdout",
     "output_type": "stream",
     "text": [
      "Completed search. Joining!\n",
      "Now searching r/ketoscience for lescol\n"
     ]
    },
    {
     "name": "stderr",
     "output_type": "stream",
     "text": [
      "/var/folders/y1/2907rcw50gq_rm33vwpb806r0000gn/T/ipykernel_71372/533152681.py:22: FutureWarning: Use of **kwargs is deprecated, use engine_kwargs instead.\n",
      "  with pd.ExcelWriter(DATA_FOLDER + 'scraped_posts_full.xlsx', engine='xlsxwriter', options={'strings_to_urls': False}) as writer:\n"
     ]
    },
    {
     "name": "stdout",
     "output_type": "stream",
     "text": [
      "Completed search. Joining!\n",
      "Now searching r/science for atorvastatin\n"
     ]
    },
    {
     "name": "stderr",
     "output_type": "stream",
     "text": [
      "/var/folders/y1/2907rcw50gq_rm33vwpb806r0000gn/T/ipykernel_71372/533152681.py:22: FutureWarning: Use of **kwargs is deprecated, use engine_kwargs instead.\n",
      "  with pd.ExcelWriter(DATA_FOLDER + 'scraped_posts_full.xlsx', engine='xlsxwriter', options={'strings_to_urls': False}) as writer:\n"
     ]
    },
    {
     "name": "stdout",
     "output_type": "stream",
     "text": [
      "Completed search. Joining!\n",
      "Now searching r/science for lipitor\n"
     ]
    },
    {
     "name": "stderr",
     "output_type": "stream",
     "text": [
      "/var/folders/y1/2907rcw50gq_rm33vwpb806r0000gn/T/ipykernel_71372/533152681.py:22: FutureWarning: Use of **kwargs is deprecated, use engine_kwargs instead.\n",
      "  with pd.ExcelWriter(DATA_FOLDER + 'scraped_posts_full.xlsx', engine='xlsxwriter', options={'strings_to_urls': False}) as writer:\n"
     ]
    },
    {
     "name": "stdout",
     "output_type": "stream",
     "text": [
      "Completed search. Joining!\n",
      "Now searching r/science for rosuvastatin\n"
     ]
    },
    {
     "name": "stderr",
     "output_type": "stream",
     "text": [
      "/var/folders/y1/2907rcw50gq_rm33vwpb806r0000gn/T/ipykernel_71372/533152681.py:22: FutureWarning: Use of **kwargs is deprecated, use engine_kwargs instead.\n",
      "  with pd.ExcelWriter(DATA_FOLDER + 'scraped_posts_full.xlsx', engine='xlsxwriter', options={'strings_to_urls': False}) as writer:\n"
     ]
    },
    {
     "name": "stdout",
     "output_type": "stream",
     "text": [
      "Completed search. Joining!\n",
      "Now searching r/science for crestor\n"
     ]
    },
    {
     "name": "stderr",
     "output_type": "stream",
     "text": [
      "/var/folders/y1/2907rcw50gq_rm33vwpb806r0000gn/T/ipykernel_71372/533152681.py:22: FutureWarning: Use of **kwargs is deprecated, use engine_kwargs instead.\n",
      "  with pd.ExcelWriter(DATA_FOLDER + 'scraped_posts_full.xlsx', engine='xlsxwriter', options={'strings_to_urls': False}) as writer:\n"
     ]
    },
    {
     "name": "stdout",
     "output_type": "stream",
     "text": [
      "Completed search. Joining!\n",
      "Now searching r/science for pitavastatin\n"
     ]
    },
    {
     "name": "stderr",
     "output_type": "stream",
     "text": [
      "/var/folders/y1/2907rcw50gq_rm33vwpb806r0000gn/T/ipykernel_71372/533152681.py:22: FutureWarning: Use of **kwargs is deprecated, use engine_kwargs instead.\n",
      "  with pd.ExcelWriter(DATA_FOLDER + 'scraped_posts_full.xlsx', engine='xlsxwriter', options={'strings_to_urls': False}) as writer:\n"
     ]
    },
    {
     "name": "stdout",
     "output_type": "stream",
     "text": [
      "Completed search. Joining!\n",
      "Now searching r/science for livalo\n"
     ]
    },
    {
     "name": "stderr",
     "output_type": "stream",
     "text": [
      "/var/folders/y1/2907rcw50gq_rm33vwpb806r0000gn/T/ipykernel_71372/533152681.py:22: FutureWarning: Use of **kwargs is deprecated, use engine_kwargs instead.\n",
      "  with pd.ExcelWriter(DATA_FOLDER + 'scraped_posts_full.xlsx', engine='xlsxwriter', options={'strings_to_urls': False}) as writer:\n"
     ]
    },
    {
     "name": "stdout",
     "output_type": "stream",
     "text": [
      "Completed search. Joining!\n",
      "Now searching r/science for zypitamag\n",
      "Completed search. Joining!\n"
     ]
    },
    {
     "name": "stderr",
     "output_type": "stream",
     "text": [
      "/var/folders/y1/2907rcw50gq_rm33vwpb806r0000gn/T/ipykernel_71372/533152681.py:22: FutureWarning: Use of **kwargs is deprecated, use engine_kwargs instead.\n",
      "  with pd.ExcelWriter(DATA_FOLDER + 'scraped_posts_full.xlsx', engine='xlsxwriter', options={'strings_to_urls': False}) as writer:\n",
      "/var/folders/y1/2907rcw50gq_rm33vwpb806r0000gn/T/ipykernel_71372/533152681.py:22: FutureWarning: Use of **kwargs is deprecated, use engine_kwargs instead.\n",
      "  with pd.ExcelWriter(DATA_FOLDER + 'scraped_posts_full.xlsx', engine='xlsxwriter', options={'strings_to_urls': False}) as writer:\n"
     ]
    },
    {
     "name": "stdout",
     "output_type": "stream",
     "text": [
      "Now searching r/science for simvastatin\n",
      "Completed search. Joining!\n",
      "Now searching r/science for zocor\n"
     ]
    },
    {
     "name": "stderr",
     "output_type": "stream",
     "text": [
      "/var/folders/y1/2907rcw50gq_rm33vwpb806r0000gn/T/ipykernel_71372/533152681.py:22: FutureWarning: Use of **kwargs is deprecated, use engine_kwargs instead.\n",
      "  with pd.ExcelWriter(DATA_FOLDER + 'scraped_posts_full.xlsx', engine='xlsxwriter', options={'strings_to_urls': False}) as writer:\n"
     ]
    },
    {
     "name": "stdout",
     "output_type": "stream",
     "text": [
      "Completed search. Joining!\n",
      "Now searching r/science for pravastatin\n"
     ]
    },
    {
     "name": "stderr",
     "output_type": "stream",
     "text": [
      "/var/folders/y1/2907rcw50gq_rm33vwpb806r0000gn/T/ipykernel_71372/533152681.py:22: FutureWarning: Use of **kwargs is deprecated, use engine_kwargs instead.\n",
      "  with pd.ExcelWriter(DATA_FOLDER + 'scraped_posts_full.xlsx', engine='xlsxwriter', options={'strings_to_urls': False}) as writer:\n"
     ]
    },
    {
     "name": "stdout",
     "output_type": "stream",
     "text": [
      "Completed search. Joining!\n",
      "Now searching r/science for pravachol\n"
     ]
    },
    {
     "name": "stderr",
     "output_type": "stream",
     "text": [
      "/var/folders/y1/2907rcw50gq_rm33vwpb806r0000gn/T/ipykernel_71372/533152681.py:22: FutureWarning: Use of **kwargs is deprecated, use engine_kwargs instead.\n",
      "  with pd.ExcelWriter(DATA_FOLDER + 'scraped_posts_full.xlsx', engine='xlsxwriter', options={'strings_to_urls': False}) as writer:\n"
     ]
    },
    {
     "name": "stdout",
     "output_type": "stream",
     "text": [
      "Completed search. Joining!\n",
      "Now searching r/science for lovastatin\n"
     ]
    },
    {
     "name": "stderr",
     "output_type": "stream",
     "text": [
      "/var/folders/y1/2907rcw50gq_rm33vwpb806r0000gn/T/ipykernel_71372/533152681.py:22: FutureWarning: Use of **kwargs is deprecated, use engine_kwargs instead.\n",
      "  with pd.ExcelWriter(DATA_FOLDER + 'scraped_posts_full.xlsx', engine='xlsxwriter', options={'strings_to_urls': False}) as writer:\n"
     ]
    },
    {
     "name": "stdout",
     "output_type": "stream",
     "text": [
      "Completed search. Joining!\n",
      "Now searching r/science for altoprev\n"
     ]
    },
    {
     "name": "stderr",
     "output_type": "stream",
     "text": [
      "/var/folders/y1/2907rcw50gq_rm33vwpb806r0000gn/T/ipykernel_71372/533152681.py:22: FutureWarning: Use of **kwargs is deprecated, use engine_kwargs instead.\n",
      "  with pd.ExcelWriter(DATA_FOLDER + 'scraped_posts_full.xlsx', engine='xlsxwriter', options={'strings_to_urls': False}) as writer:\n"
     ]
    },
    {
     "name": "stdout",
     "output_type": "stream",
     "text": [
      "Completed search. Joining!\n",
      "Now searching r/science for fluvastatin\n"
     ]
    },
    {
     "name": "stderr",
     "output_type": "stream",
     "text": [
      "/var/folders/y1/2907rcw50gq_rm33vwpb806r0000gn/T/ipykernel_71372/533152681.py:22: FutureWarning: Use of **kwargs is deprecated, use engine_kwargs instead.\n",
      "  with pd.ExcelWriter(DATA_FOLDER + 'scraped_posts_full.xlsx', engine='xlsxwriter', options={'strings_to_urls': False}) as writer:\n"
     ]
    },
    {
     "name": "stdout",
     "output_type": "stream",
     "text": [
      "Completed search. Joining!\n",
      "Now searching r/science for lescol\n"
     ]
    },
    {
     "name": "stderr",
     "output_type": "stream",
     "text": [
      "/var/folders/y1/2907rcw50gq_rm33vwpb806r0000gn/T/ipykernel_71372/533152681.py:22: FutureWarning: Use of **kwargs is deprecated, use engine_kwargs instead.\n",
      "  with pd.ExcelWriter(DATA_FOLDER + 'scraped_posts_full.xlsx', engine='xlsxwriter', options={'strings_to_urls': False}) as writer:\n"
     ]
    },
    {
     "name": "stdout",
     "output_type": "stream",
     "text": [
      "Completed search. Joining!\n",
      "Now searching r/keto for atorvastatin\n"
     ]
    },
    {
     "name": "stderr",
     "output_type": "stream",
     "text": [
      "/var/folders/y1/2907rcw50gq_rm33vwpb806r0000gn/T/ipykernel_71372/533152681.py:22: FutureWarning: Use of **kwargs is deprecated, use engine_kwargs instead.\n",
      "  with pd.ExcelWriter(DATA_FOLDER + 'scraped_posts_full.xlsx', engine='xlsxwriter', options={'strings_to_urls': False}) as writer:\n"
     ]
    },
    {
     "name": "stdout",
     "output_type": "stream",
     "text": [
      "Completed search. Joining!\n",
      "Now searching r/keto for lipitor\n"
     ]
    },
    {
     "name": "stderr",
     "output_type": "stream",
     "text": [
      "/var/folders/y1/2907rcw50gq_rm33vwpb806r0000gn/T/ipykernel_71372/533152681.py:22: FutureWarning: Use of **kwargs is deprecated, use engine_kwargs instead.\n",
      "  with pd.ExcelWriter(DATA_FOLDER + 'scraped_posts_full.xlsx', engine='xlsxwriter', options={'strings_to_urls': False}) as writer:\n"
     ]
    },
    {
     "name": "stdout",
     "output_type": "stream",
     "text": [
      "Completed search. Joining!\n",
      "Now searching r/keto for rosuvastatin\n"
     ]
    },
    {
     "name": "stderr",
     "output_type": "stream",
     "text": [
      "/var/folders/y1/2907rcw50gq_rm33vwpb806r0000gn/T/ipykernel_71372/533152681.py:22: FutureWarning: Use of **kwargs is deprecated, use engine_kwargs instead.\n",
      "  with pd.ExcelWriter(DATA_FOLDER + 'scraped_posts_full.xlsx', engine='xlsxwriter', options={'strings_to_urls': False}) as writer:\n"
     ]
    },
    {
     "name": "stdout",
     "output_type": "stream",
     "text": [
      "Completed search. Joining!\n",
      "Now searching r/keto for crestor\n"
     ]
    },
    {
     "name": "stderr",
     "output_type": "stream",
     "text": [
      "/var/folders/y1/2907rcw50gq_rm33vwpb806r0000gn/T/ipykernel_71372/533152681.py:22: FutureWarning: Use of **kwargs is deprecated, use engine_kwargs instead.\n",
      "  with pd.ExcelWriter(DATA_FOLDER + 'scraped_posts_full.xlsx', engine='xlsxwriter', options={'strings_to_urls': False}) as writer:\n"
     ]
    },
    {
     "name": "stdout",
     "output_type": "stream",
     "text": [
      "Completed search. Joining!\n",
      "Now searching r/keto for pitavastatin\n"
     ]
    },
    {
     "name": "stderr",
     "output_type": "stream",
     "text": [
      "/var/folders/y1/2907rcw50gq_rm33vwpb806r0000gn/T/ipykernel_71372/533152681.py:22: FutureWarning: Use of **kwargs is deprecated, use engine_kwargs instead.\n",
      "  with pd.ExcelWriter(DATA_FOLDER + 'scraped_posts_full.xlsx', engine='xlsxwriter', options={'strings_to_urls': False}) as writer:\n"
     ]
    },
    {
     "name": "stdout",
     "output_type": "stream",
     "text": [
      "Completed search. Joining!\n",
      "Now searching r/keto for livalo\n"
     ]
    },
    {
     "name": "stderr",
     "output_type": "stream",
     "text": [
      "/var/folders/y1/2907rcw50gq_rm33vwpb806r0000gn/T/ipykernel_71372/533152681.py:22: FutureWarning: Use of **kwargs is deprecated, use engine_kwargs instead.\n",
      "  with pd.ExcelWriter(DATA_FOLDER + 'scraped_posts_full.xlsx', engine='xlsxwriter', options={'strings_to_urls': False}) as writer:\n"
     ]
    },
    {
     "name": "stdout",
     "output_type": "stream",
     "text": [
      "Completed search. Joining!\n",
      "Now searching r/keto for zypitamag\n"
     ]
    },
    {
     "name": "stderr",
     "output_type": "stream",
     "text": [
      "/var/folders/y1/2907rcw50gq_rm33vwpb806r0000gn/T/ipykernel_71372/533152681.py:22: FutureWarning: Use of **kwargs is deprecated, use engine_kwargs instead.\n",
      "  with pd.ExcelWriter(DATA_FOLDER + 'scraped_posts_full.xlsx', engine='xlsxwriter', options={'strings_to_urls': False}) as writer:\n"
     ]
    },
    {
     "name": "stdout",
     "output_type": "stream",
     "text": [
      "Completed search. Joining!\n",
      "Now searching r/keto for simvastatin\n"
     ]
    },
    {
     "name": "stderr",
     "output_type": "stream",
     "text": [
      "/var/folders/y1/2907rcw50gq_rm33vwpb806r0000gn/T/ipykernel_71372/533152681.py:22: FutureWarning: Use of **kwargs is deprecated, use engine_kwargs instead.\n",
      "  with pd.ExcelWriter(DATA_FOLDER + 'scraped_posts_full.xlsx', engine='xlsxwriter', options={'strings_to_urls': False}) as writer:\n"
     ]
    },
    {
     "name": "stdout",
     "output_type": "stream",
     "text": [
      "Completed search. Joining!\n",
      "Now searching r/keto for zocor\n"
     ]
    },
    {
     "name": "stderr",
     "output_type": "stream",
     "text": [
      "/var/folders/y1/2907rcw50gq_rm33vwpb806r0000gn/T/ipykernel_71372/533152681.py:22: FutureWarning: Use of **kwargs is deprecated, use engine_kwargs instead.\n",
      "  with pd.ExcelWriter(DATA_FOLDER + 'scraped_posts_full.xlsx', engine='xlsxwriter', options={'strings_to_urls': False}) as writer:\n"
     ]
    },
    {
     "name": "stdout",
     "output_type": "stream",
     "text": [
      "Completed search. Joining!\n",
      "Now searching r/keto for pravastatin\n"
     ]
    },
    {
     "name": "stderr",
     "output_type": "stream",
     "text": [
      "/var/folders/y1/2907rcw50gq_rm33vwpb806r0000gn/T/ipykernel_71372/533152681.py:22: FutureWarning: Use of **kwargs is deprecated, use engine_kwargs instead.\n",
      "  with pd.ExcelWriter(DATA_FOLDER + 'scraped_posts_full.xlsx', engine='xlsxwriter', options={'strings_to_urls': False}) as writer:\n"
     ]
    },
    {
     "name": "stdout",
     "output_type": "stream",
     "text": [
      "Completed search. Joining!\n",
      "Now searching r/keto for pravachol\n"
     ]
    },
    {
     "name": "stderr",
     "output_type": "stream",
     "text": [
      "/var/folders/y1/2907rcw50gq_rm33vwpb806r0000gn/T/ipykernel_71372/533152681.py:22: FutureWarning: Use of **kwargs is deprecated, use engine_kwargs instead.\n",
      "  with pd.ExcelWriter(DATA_FOLDER + 'scraped_posts_full.xlsx', engine='xlsxwriter', options={'strings_to_urls': False}) as writer:\n"
     ]
    },
    {
     "name": "stdout",
     "output_type": "stream",
     "text": [
      "Completed search. Joining!\n",
      "Now searching r/keto for lovastatin\n"
     ]
    },
    {
     "name": "stderr",
     "output_type": "stream",
     "text": [
      "/var/folders/y1/2907rcw50gq_rm33vwpb806r0000gn/T/ipykernel_71372/533152681.py:22: FutureWarning: Use of **kwargs is deprecated, use engine_kwargs instead.\n",
      "  with pd.ExcelWriter(DATA_FOLDER + 'scraped_posts_full.xlsx', engine='xlsxwriter', options={'strings_to_urls': False}) as writer:\n"
     ]
    },
    {
     "name": "stdout",
     "output_type": "stream",
     "text": [
      "Completed search. Joining!\n",
      "Now searching r/keto for altoprev\n"
     ]
    },
    {
     "name": "stderr",
     "output_type": "stream",
     "text": [
      "/var/folders/y1/2907rcw50gq_rm33vwpb806r0000gn/T/ipykernel_71372/533152681.py:22: FutureWarning: Use of **kwargs is deprecated, use engine_kwargs instead.\n",
      "  with pd.ExcelWriter(DATA_FOLDER + 'scraped_posts_full.xlsx', engine='xlsxwriter', options={'strings_to_urls': False}) as writer:\n"
     ]
    },
    {
     "name": "stdout",
     "output_type": "stream",
     "text": [
      "Completed search. Joining!\n",
      "Now searching r/keto for fluvastatin\n"
     ]
    },
    {
     "name": "stderr",
     "output_type": "stream",
     "text": [
      "/var/folders/y1/2907rcw50gq_rm33vwpb806r0000gn/T/ipykernel_71372/533152681.py:22: FutureWarning: Use of **kwargs is deprecated, use engine_kwargs instead.\n",
      "  with pd.ExcelWriter(DATA_FOLDER + 'scraped_posts_full.xlsx', engine='xlsxwriter', options={'strings_to_urls': False}) as writer:\n"
     ]
    },
    {
     "name": "stdout",
     "output_type": "stream",
     "text": [
      "Completed search. Joining!\n",
      "Now searching r/keto for lescol\n"
     ]
    },
    {
     "name": "stderr",
     "output_type": "stream",
     "text": [
      "/var/folders/y1/2907rcw50gq_rm33vwpb806r0000gn/T/ipykernel_71372/533152681.py:22: FutureWarning: Use of **kwargs is deprecated, use engine_kwargs instead.\n",
      "  with pd.ExcelWriter(DATA_FOLDER + 'scraped_posts_full.xlsx', engine='xlsxwriter', options={'strings_to_urls': False}) as writer:\n"
     ]
    },
    {
     "name": "stdout",
     "output_type": "stream",
     "text": [
      "Completed search. Joining!\n",
      "Now searching r/Health for atorvastatin\n"
     ]
    },
    {
     "name": "stderr",
     "output_type": "stream",
     "text": [
      "/var/folders/y1/2907rcw50gq_rm33vwpb806r0000gn/T/ipykernel_71372/533152681.py:22: FutureWarning: Use of **kwargs is deprecated, use engine_kwargs instead.\n",
      "  with pd.ExcelWriter(DATA_FOLDER + 'scraped_posts_full.xlsx', engine='xlsxwriter', options={'strings_to_urls': False}) as writer:\n"
     ]
    },
    {
     "name": "stdout",
     "output_type": "stream",
     "text": [
      "Completed search. Joining!\n",
      "Now searching r/Health for lipitor\n"
     ]
    },
    {
     "name": "stderr",
     "output_type": "stream",
     "text": [
      "/var/folders/y1/2907rcw50gq_rm33vwpb806r0000gn/T/ipykernel_71372/533152681.py:22: FutureWarning: Use of **kwargs is deprecated, use engine_kwargs instead.\n",
      "  with pd.ExcelWriter(DATA_FOLDER + 'scraped_posts_full.xlsx', engine='xlsxwriter', options={'strings_to_urls': False}) as writer:\n"
     ]
    },
    {
     "name": "stdout",
     "output_type": "stream",
     "text": [
      "Completed search. Joining!\n",
      "Now searching r/Health for rosuvastatin\n"
     ]
    },
    {
     "name": "stderr",
     "output_type": "stream",
     "text": [
      "/var/folders/y1/2907rcw50gq_rm33vwpb806r0000gn/T/ipykernel_71372/533152681.py:22: FutureWarning: Use of **kwargs is deprecated, use engine_kwargs instead.\n",
      "  with pd.ExcelWriter(DATA_FOLDER + 'scraped_posts_full.xlsx', engine='xlsxwriter', options={'strings_to_urls': False}) as writer:\n"
     ]
    },
    {
     "name": "stdout",
     "output_type": "stream",
     "text": [
      "Completed search. Joining!\n",
      "Now searching r/Health for crestor\n"
     ]
    },
    {
     "name": "stderr",
     "output_type": "stream",
     "text": [
      "/var/folders/y1/2907rcw50gq_rm33vwpb806r0000gn/T/ipykernel_71372/533152681.py:22: FutureWarning: Use of **kwargs is deprecated, use engine_kwargs instead.\n",
      "  with pd.ExcelWriter(DATA_FOLDER + 'scraped_posts_full.xlsx', engine='xlsxwriter', options={'strings_to_urls': False}) as writer:\n"
     ]
    },
    {
     "name": "stdout",
     "output_type": "stream",
     "text": [
      "Completed search. Joining!\n",
      "Now searching r/Health for pitavastatin\n"
     ]
    },
    {
     "name": "stderr",
     "output_type": "stream",
     "text": [
      "/var/folders/y1/2907rcw50gq_rm33vwpb806r0000gn/T/ipykernel_71372/533152681.py:22: FutureWarning: Use of **kwargs is deprecated, use engine_kwargs instead.\n",
      "  with pd.ExcelWriter(DATA_FOLDER + 'scraped_posts_full.xlsx', engine='xlsxwriter', options={'strings_to_urls': False}) as writer:\n"
     ]
    },
    {
     "name": "stdout",
     "output_type": "stream",
     "text": [
      "Completed search. Joining!\n",
      "Now searching r/Health for livalo\n"
     ]
    },
    {
     "name": "stderr",
     "output_type": "stream",
     "text": [
      "/var/folders/y1/2907rcw50gq_rm33vwpb806r0000gn/T/ipykernel_71372/533152681.py:22: FutureWarning: Use of **kwargs is deprecated, use engine_kwargs instead.\n",
      "  with pd.ExcelWriter(DATA_FOLDER + 'scraped_posts_full.xlsx', engine='xlsxwriter', options={'strings_to_urls': False}) as writer:\n"
     ]
    },
    {
     "name": "stdout",
     "output_type": "stream",
     "text": [
      "Completed search. Joining!\n",
      "Now searching r/Health for zypitamag\n"
     ]
    },
    {
     "name": "stderr",
     "output_type": "stream",
     "text": [
      "/var/folders/y1/2907rcw50gq_rm33vwpb806r0000gn/T/ipykernel_71372/533152681.py:22: FutureWarning: Use of **kwargs is deprecated, use engine_kwargs instead.\n",
      "  with pd.ExcelWriter(DATA_FOLDER + 'scraped_posts_full.xlsx', engine='xlsxwriter', options={'strings_to_urls': False}) as writer:\n"
     ]
    },
    {
     "name": "stdout",
     "output_type": "stream",
     "text": [
      "Completed search. Joining!\n",
      "Now searching r/Health for simvastatin\n"
     ]
    },
    {
     "name": "stderr",
     "output_type": "stream",
     "text": [
      "/var/folders/y1/2907rcw50gq_rm33vwpb806r0000gn/T/ipykernel_71372/533152681.py:22: FutureWarning: Use of **kwargs is deprecated, use engine_kwargs instead.\n",
      "  with pd.ExcelWriter(DATA_FOLDER + 'scraped_posts_full.xlsx', engine='xlsxwriter', options={'strings_to_urls': False}) as writer:\n"
     ]
    },
    {
     "name": "stdout",
     "output_type": "stream",
     "text": [
      "Completed search. Joining!\n",
      "Now searching r/Health for zocor\n"
     ]
    },
    {
     "name": "stderr",
     "output_type": "stream",
     "text": [
      "/var/folders/y1/2907rcw50gq_rm33vwpb806r0000gn/T/ipykernel_71372/533152681.py:22: FutureWarning: Use of **kwargs is deprecated, use engine_kwargs instead.\n",
      "  with pd.ExcelWriter(DATA_FOLDER + 'scraped_posts_full.xlsx', engine='xlsxwriter', options={'strings_to_urls': False}) as writer:\n"
     ]
    },
    {
     "name": "stdout",
     "output_type": "stream",
     "text": [
      "Completed search. Joining!\n",
      "Now searching r/Health for pravastatin\n"
     ]
    },
    {
     "name": "stderr",
     "output_type": "stream",
     "text": [
      "/var/folders/y1/2907rcw50gq_rm33vwpb806r0000gn/T/ipykernel_71372/533152681.py:22: FutureWarning: Use of **kwargs is deprecated, use engine_kwargs instead.\n",
      "  with pd.ExcelWriter(DATA_FOLDER + 'scraped_posts_full.xlsx', engine='xlsxwriter', options={'strings_to_urls': False}) as writer:\n"
     ]
    },
    {
     "name": "stdout",
     "output_type": "stream",
     "text": [
      "Completed search. Joining!\n",
      "Now searching r/Health for pravachol\n"
     ]
    },
    {
     "name": "stderr",
     "output_type": "stream",
     "text": [
      "/var/folders/y1/2907rcw50gq_rm33vwpb806r0000gn/T/ipykernel_71372/533152681.py:22: FutureWarning: Use of **kwargs is deprecated, use engine_kwargs instead.\n",
      "  with pd.ExcelWriter(DATA_FOLDER + 'scraped_posts_full.xlsx', engine='xlsxwriter', options={'strings_to_urls': False}) as writer:\n"
     ]
    },
    {
     "name": "stdout",
     "output_type": "stream",
     "text": [
      "Completed search. Joining!\n",
      "Now searching r/Health for lovastatin\n"
     ]
    },
    {
     "name": "stderr",
     "output_type": "stream",
     "text": [
      "/var/folders/y1/2907rcw50gq_rm33vwpb806r0000gn/T/ipykernel_71372/533152681.py:22: FutureWarning: Use of **kwargs is deprecated, use engine_kwargs instead.\n",
      "  with pd.ExcelWriter(DATA_FOLDER + 'scraped_posts_full.xlsx', engine='xlsxwriter', options={'strings_to_urls': False}) as writer:\n"
     ]
    },
    {
     "name": "stdout",
     "output_type": "stream",
     "text": [
      "Completed search. Joining!\n",
      "Now searching r/Health for altoprev\n"
     ]
    },
    {
     "name": "stderr",
     "output_type": "stream",
     "text": [
      "/var/folders/y1/2907rcw50gq_rm33vwpb806r0000gn/T/ipykernel_71372/533152681.py:22: FutureWarning: Use of **kwargs is deprecated, use engine_kwargs instead.\n",
      "  with pd.ExcelWriter(DATA_FOLDER + 'scraped_posts_full.xlsx', engine='xlsxwriter', options={'strings_to_urls': False}) as writer:\n"
     ]
    },
    {
     "name": "stdout",
     "output_type": "stream",
     "text": [
      "Completed search. Joining!\n",
      "Now searching r/Health for fluvastatin\n"
     ]
    },
    {
     "name": "stderr",
     "output_type": "stream",
     "text": [
      "/var/folders/y1/2907rcw50gq_rm33vwpb806r0000gn/T/ipykernel_71372/533152681.py:22: FutureWarning: Use of **kwargs is deprecated, use engine_kwargs instead.\n",
      "  with pd.ExcelWriter(DATA_FOLDER + 'scraped_posts_full.xlsx', engine='xlsxwriter', options={'strings_to_urls': False}) as writer:\n"
     ]
    },
    {
     "name": "stdout",
     "output_type": "stream",
     "text": [
      "Completed search. Joining!\n",
      "Now searching r/Health for lescol\n"
     ]
    },
    {
     "name": "stderr",
     "output_type": "stream",
     "text": [
      "/var/folders/y1/2907rcw50gq_rm33vwpb806r0000gn/T/ipykernel_71372/533152681.py:22: FutureWarning: Use of **kwargs is deprecated, use engine_kwargs instead.\n",
      "  with pd.ExcelWriter(DATA_FOLDER + 'scraped_posts_full.xlsx', engine='xlsxwriter', options={'strings_to_urls': False}) as writer:\n"
     ]
    },
    {
     "name": "stdout",
     "output_type": "stream",
     "text": [
      "Completed search. Joining!\n",
      "Now searching r/conspiracy for atorvastatin\n"
     ]
    },
    {
     "name": "stderr",
     "output_type": "stream",
     "text": [
      "/var/folders/y1/2907rcw50gq_rm33vwpb806r0000gn/T/ipykernel_71372/533152681.py:22: FutureWarning: Use of **kwargs is deprecated, use engine_kwargs instead.\n",
      "  with pd.ExcelWriter(DATA_FOLDER + 'scraped_posts_full.xlsx', engine='xlsxwriter', options={'strings_to_urls': False}) as writer:\n"
     ]
    },
    {
     "name": "stdout",
     "output_type": "stream",
     "text": [
      "Completed search. Joining!\n",
      "Now searching r/conspiracy for lipitor\n"
     ]
    },
    {
     "name": "stderr",
     "output_type": "stream",
     "text": [
      "/var/folders/y1/2907rcw50gq_rm33vwpb806r0000gn/T/ipykernel_71372/533152681.py:22: FutureWarning: Use of **kwargs is deprecated, use engine_kwargs instead.\n",
      "  with pd.ExcelWriter(DATA_FOLDER + 'scraped_posts_full.xlsx', engine='xlsxwriter', options={'strings_to_urls': False}) as writer:\n"
     ]
    },
    {
     "name": "stdout",
     "output_type": "stream",
     "text": [
      "Completed search. Joining!\n",
      "Now searching r/conspiracy for rosuvastatin\n"
     ]
    },
    {
     "name": "stderr",
     "output_type": "stream",
     "text": [
      "/var/folders/y1/2907rcw50gq_rm33vwpb806r0000gn/T/ipykernel_71372/533152681.py:22: FutureWarning: Use of **kwargs is deprecated, use engine_kwargs instead.\n",
      "  with pd.ExcelWriter(DATA_FOLDER + 'scraped_posts_full.xlsx', engine='xlsxwriter', options={'strings_to_urls': False}) as writer:\n"
     ]
    },
    {
     "name": "stdout",
     "output_type": "stream",
     "text": [
      "Completed search. Joining!\n",
      "Now searching r/conspiracy for crestor\n"
     ]
    },
    {
     "name": "stderr",
     "output_type": "stream",
     "text": [
      "/var/folders/y1/2907rcw50gq_rm33vwpb806r0000gn/T/ipykernel_71372/533152681.py:22: FutureWarning: Use of **kwargs is deprecated, use engine_kwargs instead.\n",
      "  with pd.ExcelWriter(DATA_FOLDER + 'scraped_posts_full.xlsx', engine='xlsxwriter', options={'strings_to_urls': False}) as writer:\n"
     ]
    },
    {
     "name": "stdout",
     "output_type": "stream",
     "text": [
      "Completed search. Joining!\n",
      "Now searching r/conspiracy for pitavastatin\n"
     ]
    },
    {
     "name": "stderr",
     "output_type": "stream",
     "text": [
      "/var/folders/y1/2907rcw50gq_rm33vwpb806r0000gn/T/ipykernel_71372/533152681.py:22: FutureWarning: Use of **kwargs is deprecated, use engine_kwargs instead.\n",
      "  with pd.ExcelWriter(DATA_FOLDER + 'scraped_posts_full.xlsx', engine='xlsxwriter', options={'strings_to_urls': False}) as writer:\n"
     ]
    },
    {
     "name": "stdout",
     "output_type": "stream",
     "text": [
      "Completed search. Joining!\n",
      "Now searching r/conspiracy for livalo\n"
     ]
    },
    {
     "name": "stderr",
     "output_type": "stream",
     "text": [
      "/var/folders/y1/2907rcw50gq_rm33vwpb806r0000gn/T/ipykernel_71372/533152681.py:22: FutureWarning: Use of **kwargs is deprecated, use engine_kwargs instead.\n",
      "  with pd.ExcelWriter(DATA_FOLDER + 'scraped_posts_full.xlsx', engine='xlsxwriter', options={'strings_to_urls': False}) as writer:\n"
     ]
    },
    {
     "name": "stdout",
     "output_type": "stream",
     "text": [
      "Completed search. Joining!\n",
      "Now searching r/conspiracy for zypitamag\n"
     ]
    },
    {
     "name": "stderr",
     "output_type": "stream",
     "text": [
      "/var/folders/y1/2907rcw50gq_rm33vwpb806r0000gn/T/ipykernel_71372/533152681.py:22: FutureWarning: Use of **kwargs is deprecated, use engine_kwargs instead.\n",
      "  with pd.ExcelWriter(DATA_FOLDER + 'scraped_posts_full.xlsx', engine='xlsxwriter', options={'strings_to_urls': False}) as writer:\n"
     ]
    },
    {
     "name": "stdout",
     "output_type": "stream",
     "text": [
      "Completed search. Joining!\n",
      "Now searching r/conspiracy for simvastatin\n"
     ]
    },
    {
     "name": "stderr",
     "output_type": "stream",
     "text": [
      "/var/folders/y1/2907rcw50gq_rm33vwpb806r0000gn/T/ipykernel_71372/533152681.py:22: FutureWarning: Use of **kwargs is deprecated, use engine_kwargs instead.\n",
      "  with pd.ExcelWriter(DATA_FOLDER + 'scraped_posts_full.xlsx', engine='xlsxwriter', options={'strings_to_urls': False}) as writer:\n"
     ]
    },
    {
     "name": "stdout",
     "output_type": "stream",
     "text": [
      "Completed search. Joining!\n",
      "Now searching r/conspiracy for zocor\n"
     ]
    },
    {
     "name": "stderr",
     "output_type": "stream",
     "text": [
      "/var/folders/y1/2907rcw50gq_rm33vwpb806r0000gn/T/ipykernel_71372/533152681.py:22: FutureWarning: Use of **kwargs is deprecated, use engine_kwargs instead.\n",
      "  with pd.ExcelWriter(DATA_FOLDER + 'scraped_posts_full.xlsx', engine='xlsxwriter', options={'strings_to_urls': False}) as writer:\n"
     ]
    },
    {
     "name": "stdout",
     "output_type": "stream",
     "text": [
      "Completed search. Joining!\n",
      "Now searching r/conspiracy for pravastatin\n"
     ]
    },
    {
     "name": "stderr",
     "output_type": "stream",
     "text": [
      "/var/folders/y1/2907rcw50gq_rm33vwpb806r0000gn/T/ipykernel_71372/533152681.py:22: FutureWarning: Use of **kwargs is deprecated, use engine_kwargs instead.\n",
      "  with pd.ExcelWriter(DATA_FOLDER + 'scraped_posts_full.xlsx', engine='xlsxwriter', options={'strings_to_urls': False}) as writer:\n"
     ]
    },
    {
     "name": "stdout",
     "output_type": "stream",
     "text": [
      "Completed search. Joining!\n",
      "Now searching r/conspiracy for pravachol\n"
     ]
    },
    {
     "name": "stderr",
     "output_type": "stream",
     "text": [
      "/var/folders/y1/2907rcw50gq_rm33vwpb806r0000gn/T/ipykernel_71372/533152681.py:22: FutureWarning: Use of **kwargs is deprecated, use engine_kwargs instead.\n",
      "  with pd.ExcelWriter(DATA_FOLDER + 'scraped_posts_full.xlsx', engine='xlsxwriter', options={'strings_to_urls': False}) as writer:\n"
     ]
    },
    {
     "name": "stdout",
     "output_type": "stream",
     "text": [
      "Completed search. Joining!\n",
      "Now searching r/conspiracy for lovastatin\n"
     ]
    },
    {
     "name": "stderr",
     "output_type": "stream",
     "text": [
      "/var/folders/y1/2907rcw50gq_rm33vwpb806r0000gn/T/ipykernel_71372/533152681.py:22: FutureWarning: Use of **kwargs is deprecated, use engine_kwargs instead.\n",
      "  with pd.ExcelWriter(DATA_FOLDER + 'scraped_posts_full.xlsx', engine='xlsxwriter', options={'strings_to_urls': False}) as writer:\n"
     ]
    },
    {
     "name": "stdout",
     "output_type": "stream",
     "text": [
      "Completed search. Joining!\n",
      "Now searching r/conspiracy for altoprev\n"
     ]
    },
    {
     "name": "stderr",
     "output_type": "stream",
     "text": [
      "/var/folders/y1/2907rcw50gq_rm33vwpb806r0000gn/T/ipykernel_71372/533152681.py:22: FutureWarning: Use of **kwargs is deprecated, use engine_kwargs instead.\n",
      "  with pd.ExcelWriter(DATA_FOLDER + 'scraped_posts_full.xlsx', engine='xlsxwriter', options={'strings_to_urls': False}) as writer:\n"
     ]
    },
    {
     "name": "stdout",
     "output_type": "stream",
     "text": [
      "Completed search. Joining!\n",
      "Now searching r/conspiracy for fluvastatin\n"
     ]
    },
    {
     "name": "stderr",
     "output_type": "stream",
     "text": [
      "/var/folders/y1/2907rcw50gq_rm33vwpb806r0000gn/T/ipykernel_71372/533152681.py:22: FutureWarning: Use of **kwargs is deprecated, use engine_kwargs instead.\n",
      "  with pd.ExcelWriter(DATA_FOLDER + 'scraped_posts_full.xlsx', engine='xlsxwriter', options={'strings_to_urls': False}) as writer:\n"
     ]
    },
    {
     "name": "stdout",
     "output_type": "stream",
     "text": [
      "Completed search. Joining!\n",
      "Now searching r/conspiracy for lescol\n"
     ]
    },
    {
     "name": "stderr",
     "output_type": "stream",
     "text": [
      "/var/folders/y1/2907rcw50gq_rm33vwpb806r0000gn/T/ipykernel_71372/533152681.py:22: FutureWarning: Use of **kwargs is deprecated, use engine_kwargs instead.\n",
      "  with pd.ExcelWriter(DATA_FOLDER + 'scraped_posts_full.xlsx', engine='xlsxwriter', options={'strings_to_urls': False}) as writer:\n"
     ]
    },
    {
     "name": "stdout",
     "output_type": "stream",
     "text": [
      "Completed search. Joining!\n",
      "Now searching r/todayilearned for atorvastatin\n"
     ]
    },
    {
     "name": "stderr",
     "output_type": "stream",
     "text": [
      "/var/folders/y1/2907rcw50gq_rm33vwpb806r0000gn/T/ipykernel_71372/533152681.py:22: FutureWarning: Use of **kwargs is deprecated, use engine_kwargs instead.\n",
      "  with pd.ExcelWriter(DATA_FOLDER + 'scraped_posts_full.xlsx', engine='xlsxwriter', options={'strings_to_urls': False}) as writer:\n"
     ]
    },
    {
     "name": "stdout",
     "output_type": "stream",
     "text": [
      "Completed search. Joining!\n",
      "Now searching r/todayilearned for lipitor\n"
     ]
    },
    {
     "name": "stderr",
     "output_type": "stream",
     "text": [
      "/var/folders/y1/2907rcw50gq_rm33vwpb806r0000gn/T/ipykernel_71372/533152681.py:22: FutureWarning: Use of **kwargs is deprecated, use engine_kwargs instead.\n",
      "  with pd.ExcelWriter(DATA_FOLDER + 'scraped_posts_full.xlsx', engine='xlsxwriter', options={'strings_to_urls': False}) as writer:\n"
     ]
    },
    {
     "name": "stdout",
     "output_type": "stream",
     "text": [
      "Completed search. Joining!\n",
      "Now searching r/todayilearned for rosuvastatin\n"
     ]
    },
    {
     "name": "stderr",
     "output_type": "stream",
     "text": [
      "/var/folders/y1/2907rcw50gq_rm33vwpb806r0000gn/T/ipykernel_71372/533152681.py:22: FutureWarning: Use of **kwargs is deprecated, use engine_kwargs instead.\n",
      "  with pd.ExcelWriter(DATA_FOLDER + 'scraped_posts_full.xlsx', engine='xlsxwriter', options={'strings_to_urls': False}) as writer:\n"
     ]
    },
    {
     "name": "stdout",
     "output_type": "stream",
     "text": [
      "Completed search. Joining!\n",
      "Now searching r/todayilearned for crestor\n"
     ]
    },
    {
     "name": "stderr",
     "output_type": "stream",
     "text": [
      "/var/folders/y1/2907rcw50gq_rm33vwpb806r0000gn/T/ipykernel_71372/533152681.py:22: FutureWarning: Use of **kwargs is deprecated, use engine_kwargs instead.\n",
      "  with pd.ExcelWriter(DATA_FOLDER + 'scraped_posts_full.xlsx', engine='xlsxwriter', options={'strings_to_urls': False}) as writer:\n"
     ]
    },
    {
     "name": "stdout",
     "output_type": "stream",
     "text": [
      "Completed search. Joining!\n",
      "Now searching r/todayilearned for pitavastatin\n"
     ]
    },
    {
     "name": "stderr",
     "output_type": "stream",
     "text": [
      "/var/folders/y1/2907rcw50gq_rm33vwpb806r0000gn/T/ipykernel_71372/533152681.py:22: FutureWarning: Use of **kwargs is deprecated, use engine_kwargs instead.\n",
      "  with pd.ExcelWriter(DATA_FOLDER + 'scraped_posts_full.xlsx', engine='xlsxwriter', options={'strings_to_urls': False}) as writer:\n"
     ]
    },
    {
     "name": "stdout",
     "output_type": "stream",
     "text": [
      "Completed search. Joining!\n",
      "Now searching r/todayilearned for livalo\n"
     ]
    },
    {
     "name": "stderr",
     "output_type": "stream",
     "text": [
      "/var/folders/y1/2907rcw50gq_rm33vwpb806r0000gn/T/ipykernel_71372/533152681.py:22: FutureWarning: Use of **kwargs is deprecated, use engine_kwargs instead.\n",
      "  with pd.ExcelWriter(DATA_FOLDER + 'scraped_posts_full.xlsx', engine='xlsxwriter', options={'strings_to_urls': False}) as writer:\n"
     ]
    },
    {
     "name": "stdout",
     "output_type": "stream",
     "text": [
      "Completed search. Joining!\n",
      "Now searching r/todayilearned for zypitamag\n"
     ]
    },
    {
     "name": "stderr",
     "output_type": "stream",
     "text": [
      "/var/folders/y1/2907rcw50gq_rm33vwpb806r0000gn/T/ipykernel_71372/533152681.py:22: FutureWarning: Use of **kwargs is deprecated, use engine_kwargs instead.\n",
      "  with pd.ExcelWriter(DATA_FOLDER + 'scraped_posts_full.xlsx', engine='xlsxwriter', options={'strings_to_urls': False}) as writer:\n"
     ]
    },
    {
     "name": "stdout",
     "output_type": "stream",
     "text": [
      "Completed search. Joining!\n",
      "Now searching r/todayilearned for simvastatin\n"
     ]
    },
    {
     "name": "stderr",
     "output_type": "stream",
     "text": [
      "/var/folders/y1/2907rcw50gq_rm33vwpb806r0000gn/T/ipykernel_71372/533152681.py:22: FutureWarning: Use of **kwargs is deprecated, use engine_kwargs instead.\n",
      "  with pd.ExcelWriter(DATA_FOLDER + 'scraped_posts_full.xlsx', engine='xlsxwriter', options={'strings_to_urls': False}) as writer:\n"
     ]
    },
    {
     "name": "stdout",
     "output_type": "stream",
     "text": [
      "Completed search. Joining!\n",
      "Now searching r/todayilearned for zocor\n"
     ]
    },
    {
     "name": "stderr",
     "output_type": "stream",
     "text": [
      "/var/folders/y1/2907rcw50gq_rm33vwpb806r0000gn/T/ipykernel_71372/533152681.py:22: FutureWarning: Use of **kwargs is deprecated, use engine_kwargs instead.\n",
      "  with pd.ExcelWriter(DATA_FOLDER + 'scraped_posts_full.xlsx', engine='xlsxwriter', options={'strings_to_urls': False}) as writer:\n"
     ]
    },
    {
     "name": "stdout",
     "output_type": "stream",
     "text": [
      "Completed search. Joining!\n",
      "Now searching r/todayilearned for pravastatin\n"
     ]
    },
    {
     "name": "stderr",
     "output_type": "stream",
     "text": [
      "/var/folders/y1/2907rcw50gq_rm33vwpb806r0000gn/T/ipykernel_71372/533152681.py:22: FutureWarning: Use of **kwargs is deprecated, use engine_kwargs instead.\n",
      "  with pd.ExcelWriter(DATA_FOLDER + 'scraped_posts_full.xlsx', engine='xlsxwriter', options={'strings_to_urls': False}) as writer:\n"
     ]
    },
    {
     "name": "stdout",
     "output_type": "stream",
     "text": [
      "Completed search. Joining!\n",
      "Now searching r/todayilearned for pravachol\n"
     ]
    },
    {
     "name": "stderr",
     "output_type": "stream",
     "text": [
      "/var/folders/y1/2907rcw50gq_rm33vwpb806r0000gn/T/ipykernel_71372/533152681.py:22: FutureWarning: Use of **kwargs is deprecated, use engine_kwargs instead.\n",
      "  with pd.ExcelWriter(DATA_FOLDER + 'scraped_posts_full.xlsx', engine='xlsxwriter', options={'strings_to_urls': False}) as writer:\n"
     ]
    },
    {
     "name": "stdout",
     "output_type": "stream",
     "text": [
      "Completed search. Joining!\n",
      "Now searching r/todayilearned for lovastatin\n"
     ]
    },
    {
     "name": "stderr",
     "output_type": "stream",
     "text": [
      "/var/folders/y1/2907rcw50gq_rm33vwpb806r0000gn/T/ipykernel_71372/533152681.py:22: FutureWarning: Use of **kwargs is deprecated, use engine_kwargs instead.\n",
      "  with pd.ExcelWriter(DATA_FOLDER + 'scraped_posts_full.xlsx', engine='xlsxwriter', options={'strings_to_urls': False}) as writer:\n"
     ]
    },
    {
     "name": "stdout",
     "output_type": "stream",
     "text": [
      "Completed search. Joining!\n",
      "Now searching r/todayilearned for altoprev\n"
     ]
    },
    {
     "name": "stderr",
     "output_type": "stream",
     "text": [
      "/var/folders/y1/2907rcw50gq_rm33vwpb806r0000gn/T/ipykernel_71372/533152681.py:22: FutureWarning: Use of **kwargs is deprecated, use engine_kwargs instead.\n",
      "  with pd.ExcelWriter(DATA_FOLDER + 'scraped_posts_full.xlsx', engine='xlsxwriter', options={'strings_to_urls': False}) as writer:\n"
     ]
    },
    {
     "name": "stdout",
     "output_type": "stream",
     "text": [
      "Completed search. Joining!\n",
      "Now searching r/todayilearned for fluvastatin\n"
     ]
    },
    {
     "name": "stderr",
     "output_type": "stream",
     "text": [
      "/var/folders/y1/2907rcw50gq_rm33vwpb806r0000gn/T/ipykernel_71372/533152681.py:22: FutureWarning: Use of **kwargs is deprecated, use engine_kwargs instead.\n",
      "  with pd.ExcelWriter(DATA_FOLDER + 'scraped_posts_full.xlsx', engine='xlsxwriter', options={'strings_to_urls': False}) as writer:\n"
     ]
    },
    {
     "name": "stdout",
     "output_type": "stream",
     "text": [
      "Completed search. Joining!\n",
      "Now searching r/todayilearned for lescol\n"
     ]
    },
    {
     "name": "stderr",
     "output_type": "stream",
     "text": [
      "/var/folders/y1/2907rcw50gq_rm33vwpb806r0000gn/T/ipykernel_71372/533152681.py:22: FutureWarning: Use of **kwargs is deprecated, use engine_kwargs instead.\n",
      "  with pd.ExcelWriter(DATA_FOLDER + 'scraped_posts_full.xlsx', engine='xlsxwriter', options={'strings_to_urls': False}) as writer:\n"
     ]
    },
    {
     "name": "stdout",
     "output_type": "stream",
     "text": [
      "Completed search. Joining!\n",
      "Now searching r/ScientificNutrition for atorvastatin\n"
     ]
    },
    {
     "name": "stderr",
     "output_type": "stream",
     "text": [
      "/var/folders/y1/2907rcw50gq_rm33vwpb806r0000gn/T/ipykernel_71372/533152681.py:22: FutureWarning: Use of **kwargs is deprecated, use engine_kwargs instead.\n",
      "  with pd.ExcelWriter(DATA_FOLDER + 'scraped_posts_full.xlsx', engine='xlsxwriter', options={'strings_to_urls': False}) as writer:\n"
     ]
    },
    {
     "name": "stdout",
     "output_type": "stream",
     "text": [
      "Completed search. Joining!\n",
      "Now searching r/ScientificNutrition for lipitor\n"
     ]
    },
    {
     "name": "stderr",
     "output_type": "stream",
     "text": [
      "/var/folders/y1/2907rcw50gq_rm33vwpb806r0000gn/T/ipykernel_71372/533152681.py:22: FutureWarning: Use of **kwargs is deprecated, use engine_kwargs instead.\n",
      "  with pd.ExcelWriter(DATA_FOLDER + 'scraped_posts_full.xlsx', engine='xlsxwriter', options={'strings_to_urls': False}) as writer:\n"
     ]
    },
    {
     "name": "stdout",
     "output_type": "stream",
     "text": [
      "Completed search. Joining!\n",
      "Now searching r/ScientificNutrition for rosuvastatin\n"
     ]
    },
    {
     "name": "stderr",
     "output_type": "stream",
     "text": [
      "/var/folders/y1/2907rcw50gq_rm33vwpb806r0000gn/T/ipykernel_71372/533152681.py:22: FutureWarning: Use of **kwargs is deprecated, use engine_kwargs instead.\n",
      "  with pd.ExcelWriter(DATA_FOLDER + 'scraped_posts_full.xlsx', engine='xlsxwriter', options={'strings_to_urls': False}) as writer:\n"
     ]
    },
    {
     "name": "stdout",
     "output_type": "stream",
     "text": [
      "Completed search. Joining!\n",
      "Now searching r/ScientificNutrition for crestor\n"
     ]
    },
    {
     "name": "stderr",
     "output_type": "stream",
     "text": [
      "/var/folders/y1/2907rcw50gq_rm33vwpb806r0000gn/T/ipykernel_71372/533152681.py:22: FutureWarning: Use of **kwargs is deprecated, use engine_kwargs instead.\n",
      "  with pd.ExcelWriter(DATA_FOLDER + 'scraped_posts_full.xlsx', engine='xlsxwriter', options={'strings_to_urls': False}) as writer:\n"
     ]
    },
    {
     "name": "stdout",
     "output_type": "stream",
     "text": [
      "Completed search. Joining!\n",
      "Now searching r/ScientificNutrition for pitavastatin\n"
     ]
    },
    {
     "name": "stderr",
     "output_type": "stream",
     "text": [
      "/var/folders/y1/2907rcw50gq_rm33vwpb806r0000gn/T/ipykernel_71372/533152681.py:22: FutureWarning: Use of **kwargs is deprecated, use engine_kwargs instead.\n",
      "  with pd.ExcelWriter(DATA_FOLDER + 'scraped_posts_full.xlsx', engine='xlsxwriter', options={'strings_to_urls': False}) as writer:\n"
     ]
    },
    {
     "name": "stdout",
     "output_type": "stream",
     "text": [
      "Completed search. Joining!\n",
      "Now searching r/ScientificNutrition for livalo\n"
     ]
    },
    {
     "name": "stderr",
     "output_type": "stream",
     "text": [
      "/var/folders/y1/2907rcw50gq_rm33vwpb806r0000gn/T/ipykernel_71372/533152681.py:22: FutureWarning: Use of **kwargs is deprecated, use engine_kwargs instead.\n",
      "  with pd.ExcelWriter(DATA_FOLDER + 'scraped_posts_full.xlsx', engine='xlsxwriter', options={'strings_to_urls': False}) as writer:\n"
     ]
    },
    {
     "name": "stdout",
     "output_type": "stream",
     "text": [
      "Completed search. Joining!\n",
      "Now searching r/ScientificNutrition for zypitamag\n"
     ]
    },
    {
     "name": "stderr",
     "output_type": "stream",
     "text": [
      "/var/folders/y1/2907rcw50gq_rm33vwpb806r0000gn/T/ipykernel_71372/533152681.py:22: FutureWarning: Use of **kwargs is deprecated, use engine_kwargs instead.\n",
      "  with pd.ExcelWriter(DATA_FOLDER + 'scraped_posts_full.xlsx', engine='xlsxwriter', options={'strings_to_urls': False}) as writer:\n"
     ]
    },
    {
     "name": "stdout",
     "output_type": "stream",
     "text": [
      "Completed search. Joining!\n",
      "Now searching r/ScientificNutrition for simvastatin\n"
     ]
    },
    {
     "name": "stderr",
     "output_type": "stream",
     "text": [
      "/var/folders/y1/2907rcw50gq_rm33vwpb806r0000gn/T/ipykernel_71372/533152681.py:22: FutureWarning: Use of **kwargs is deprecated, use engine_kwargs instead.\n",
      "  with pd.ExcelWriter(DATA_FOLDER + 'scraped_posts_full.xlsx', engine='xlsxwriter', options={'strings_to_urls': False}) as writer:\n"
     ]
    },
    {
     "name": "stdout",
     "output_type": "stream",
     "text": [
      "Completed search. Joining!\n",
      "Now searching r/ScientificNutrition for zocor\n"
     ]
    },
    {
     "name": "stderr",
     "output_type": "stream",
     "text": [
      "/var/folders/y1/2907rcw50gq_rm33vwpb806r0000gn/T/ipykernel_71372/533152681.py:22: FutureWarning: Use of **kwargs is deprecated, use engine_kwargs instead.\n",
      "  with pd.ExcelWriter(DATA_FOLDER + 'scraped_posts_full.xlsx', engine='xlsxwriter', options={'strings_to_urls': False}) as writer:\n"
     ]
    },
    {
     "name": "stdout",
     "output_type": "stream",
     "text": [
      "Completed search. Joining!\n",
      "Now searching r/ScientificNutrition for pravastatin\n"
     ]
    },
    {
     "name": "stderr",
     "output_type": "stream",
     "text": [
      "/var/folders/y1/2907rcw50gq_rm33vwpb806r0000gn/T/ipykernel_71372/533152681.py:22: FutureWarning: Use of **kwargs is deprecated, use engine_kwargs instead.\n",
      "  with pd.ExcelWriter(DATA_FOLDER + 'scraped_posts_full.xlsx', engine='xlsxwriter', options={'strings_to_urls': False}) as writer:\n"
     ]
    },
    {
     "name": "stdout",
     "output_type": "stream",
     "text": [
      "Completed search. Joining!\n",
      "Now searching r/ScientificNutrition for pravachol\n"
     ]
    },
    {
     "name": "stderr",
     "output_type": "stream",
     "text": [
      "/var/folders/y1/2907rcw50gq_rm33vwpb806r0000gn/T/ipykernel_71372/533152681.py:22: FutureWarning: Use of **kwargs is deprecated, use engine_kwargs instead.\n",
      "  with pd.ExcelWriter(DATA_FOLDER + 'scraped_posts_full.xlsx', engine='xlsxwriter', options={'strings_to_urls': False}) as writer:\n"
     ]
    },
    {
     "name": "stdout",
     "output_type": "stream",
     "text": [
      "Completed search. Joining!\n",
      "Now searching r/ScientificNutrition for lovastatin\n"
     ]
    },
    {
     "name": "stderr",
     "output_type": "stream",
     "text": [
      "/var/folders/y1/2907rcw50gq_rm33vwpb806r0000gn/T/ipykernel_71372/533152681.py:22: FutureWarning: Use of **kwargs is deprecated, use engine_kwargs instead.\n",
      "  with pd.ExcelWriter(DATA_FOLDER + 'scraped_posts_full.xlsx', engine='xlsxwriter', options={'strings_to_urls': False}) as writer:\n"
     ]
    },
    {
     "name": "stdout",
     "output_type": "stream",
     "text": [
      "Completed search. Joining!\n",
      "Now searching r/ScientificNutrition for altoprev\n"
     ]
    },
    {
     "name": "stderr",
     "output_type": "stream",
     "text": [
      "/var/folders/y1/2907rcw50gq_rm33vwpb806r0000gn/T/ipykernel_71372/533152681.py:22: FutureWarning: Use of **kwargs is deprecated, use engine_kwargs instead.\n",
      "  with pd.ExcelWriter(DATA_FOLDER + 'scraped_posts_full.xlsx', engine='xlsxwriter', options={'strings_to_urls': False}) as writer:\n"
     ]
    },
    {
     "name": "stdout",
     "output_type": "stream",
     "text": [
      "Completed search. Joining!\n",
      "Now searching r/ScientificNutrition for fluvastatin\n"
     ]
    },
    {
     "name": "stderr",
     "output_type": "stream",
     "text": [
      "/var/folders/y1/2907rcw50gq_rm33vwpb806r0000gn/T/ipykernel_71372/533152681.py:22: FutureWarning: Use of **kwargs is deprecated, use engine_kwargs instead.\n",
      "  with pd.ExcelWriter(DATA_FOLDER + 'scraped_posts_full.xlsx', engine='xlsxwriter', options={'strings_to_urls': False}) as writer:\n"
     ]
    },
    {
     "name": "stdout",
     "output_type": "stream",
     "text": [
      "Completed search. Joining!\n",
      "Now searching r/ScientificNutrition for lescol\n"
     ]
    },
    {
     "name": "stderr",
     "output_type": "stream",
     "text": [
      "/var/folders/y1/2907rcw50gq_rm33vwpb806r0000gn/T/ipykernel_71372/533152681.py:22: FutureWarning: Use of **kwargs is deprecated, use engine_kwargs instead.\n",
      "  with pd.ExcelWriter(DATA_FOLDER + 'scraped_posts_full.xlsx', engine='xlsxwriter', options={'strings_to_urls': False}) as writer:\n"
     ]
    },
    {
     "name": "stdout",
     "output_type": "stream",
     "text": [
      "Completed search. Joining!\n",
      "Now searching r/askscience for atorvastatin\n"
     ]
    },
    {
     "name": "stderr",
     "output_type": "stream",
     "text": [
      "/var/folders/y1/2907rcw50gq_rm33vwpb806r0000gn/T/ipykernel_71372/533152681.py:22: FutureWarning: Use of **kwargs is deprecated, use engine_kwargs instead.\n",
      "  with pd.ExcelWriter(DATA_FOLDER + 'scraped_posts_full.xlsx', engine='xlsxwriter', options={'strings_to_urls': False}) as writer:\n"
     ]
    },
    {
     "name": "stdout",
     "output_type": "stream",
     "text": [
      "Completed search. Joining!\n",
      "Now searching r/askscience for lipitor\n"
     ]
    },
    {
     "name": "stderr",
     "output_type": "stream",
     "text": [
      "/var/folders/y1/2907rcw50gq_rm33vwpb806r0000gn/T/ipykernel_71372/533152681.py:22: FutureWarning: Use of **kwargs is deprecated, use engine_kwargs instead.\n",
      "  with pd.ExcelWriter(DATA_FOLDER + 'scraped_posts_full.xlsx', engine='xlsxwriter', options={'strings_to_urls': False}) as writer:\n"
     ]
    },
    {
     "name": "stdout",
     "output_type": "stream",
     "text": [
      "Completed search. Joining!\n",
      "Now searching r/askscience for rosuvastatin\n"
     ]
    },
    {
     "name": "stderr",
     "output_type": "stream",
     "text": [
      "/var/folders/y1/2907rcw50gq_rm33vwpb806r0000gn/T/ipykernel_71372/533152681.py:22: FutureWarning: Use of **kwargs is deprecated, use engine_kwargs instead.\n",
      "  with pd.ExcelWriter(DATA_FOLDER + 'scraped_posts_full.xlsx', engine='xlsxwriter', options={'strings_to_urls': False}) as writer:\n"
     ]
    },
    {
     "name": "stdout",
     "output_type": "stream",
     "text": [
      "Completed search. Joining!\n",
      "Now searching r/askscience for crestor\n"
     ]
    },
    {
     "name": "stderr",
     "output_type": "stream",
     "text": [
      "/var/folders/y1/2907rcw50gq_rm33vwpb806r0000gn/T/ipykernel_71372/533152681.py:22: FutureWarning: Use of **kwargs is deprecated, use engine_kwargs instead.\n",
      "  with pd.ExcelWriter(DATA_FOLDER + 'scraped_posts_full.xlsx', engine='xlsxwriter', options={'strings_to_urls': False}) as writer:\n"
     ]
    },
    {
     "name": "stdout",
     "output_type": "stream",
     "text": [
      "Completed search. Joining!\n",
      "Now searching r/askscience for pitavastatin\n"
     ]
    },
    {
     "name": "stderr",
     "output_type": "stream",
     "text": [
      "/var/folders/y1/2907rcw50gq_rm33vwpb806r0000gn/T/ipykernel_71372/533152681.py:22: FutureWarning: Use of **kwargs is deprecated, use engine_kwargs instead.\n",
      "  with pd.ExcelWriter(DATA_FOLDER + 'scraped_posts_full.xlsx', engine='xlsxwriter', options={'strings_to_urls': False}) as writer:\n"
     ]
    },
    {
     "name": "stdout",
     "output_type": "stream",
     "text": [
      "Completed search. Joining!\n",
      "Now searching r/askscience for livalo\n"
     ]
    },
    {
     "name": "stderr",
     "output_type": "stream",
     "text": [
      "/var/folders/y1/2907rcw50gq_rm33vwpb806r0000gn/T/ipykernel_71372/533152681.py:22: FutureWarning: Use of **kwargs is deprecated, use engine_kwargs instead.\n",
      "  with pd.ExcelWriter(DATA_FOLDER + 'scraped_posts_full.xlsx', engine='xlsxwriter', options={'strings_to_urls': False}) as writer:\n"
     ]
    },
    {
     "name": "stdout",
     "output_type": "stream",
     "text": [
      "Completed search. Joining!\n",
      "Now searching r/askscience for zypitamag\n"
     ]
    },
    {
     "name": "stderr",
     "output_type": "stream",
     "text": [
      "/var/folders/y1/2907rcw50gq_rm33vwpb806r0000gn/T/ipykernel_71372/533152681.py:22: FutureWarning: Use of **kwargs is deprecated, use engine_kwargs instead.\n",
      "  with pd.ExcelWriter(DATA_FOLDER + 'scraped_posts_full.xlsx', engine='xlsxwriter', options={'strings_to_urls': False}) as writer:\n"
     ]
    },
    {
     "name": "stdout",
     "output_type": "stream",
     "text": [
      "Completed search. Joining!\n",
      "Now searching r/askscience for simvastatin\n"
     ]
    },
    {
     "name": "stderr",
     "output_type": "stream",
     "text": [
      "/var/folders/y1/2907rcw50gq_rm33vwpb806r0000gn/T/ipykernel_71372/533152681.py:22: FutureWarning: Use of **kwargs is deprecated, use engine_kwargs instead.\n",
      "  with pd.ExcelWriter(DATA_FOLDER + 'scraped_posts_full.xlsx', engine='xlsxwriter', options={'strings_to_urls': False}) as writer:\n"
     ]
    },
    {
     "name": "stdout",
     "output_type": "stream",
     "text": [
      "Completed search. Joining!\n",
      "Now searching r/askscience for zocor\n"
     ]
    },
    {
     "name": "stderr",
     "output_type": "stream",
     "text": [
      "/var/folders/y1/2907rcw50gq_rm33vwpb806r0000gn/T/ipykernel_71372/533152681.py:22: FutureWarning: Use of **kwargs is deprecated, use engine_kwargs instead.\n",
      "  with pd.ExcelWriter(DATA_FOLDER + 'scraped_posts_full.xlsx', engine='xlsxwriter', options={'strings_to_urls': False}) as writer:\n"
     ]
    },
    {
     "name": "stdout",
     "output_type": "stream",
     "text": [
      "Completed search. Joining!\n",
      "Now searching r/askscience for pravastatin\n"
     ]
    },
    {
     "name": "stderr",
     "output_type": "stream",
     "text": [
      "/var/folders/y1/2907rcw50gq_rm33vwpb806r0000gn/T/ipykernel_71372/533152681.py:22: FutureWarning: Use of **kwargs is deprecated, use engine_kwargs instead.\n",
      "  with pd.ExcelWriter(DATA_FOLDER + 'scraped_posts_full.xlsx', engine='xlsxwriter', options={'strings_to_urls': False}) as writer:\n"
     ]
    },
    {
     "name": "stdout",
     "output_type": "stream",
     "text": [
      "Completed search. Joining!\n",
      "Now searching r/askscience for pravachol\n"
     ]
    },
    {
     "name": "stderr",
     "output_type": "stream",
     "text": [
      "/var/folders/y1/2907rcw50gq_rm33vwpb806r0000gn/T/ipykernel_71372/533152681.py:22: FutureWarning: Use of **kwargs is deprecated, use engine_kwargs instead.\n",
      "  with pd.ExcelWriter(DATA_FOLDER + 'scraped_posts_full.xlsx', engine='xlsxwriter', options={'strings_to_urls': False}) as writer:\n"
     ]
    },
    {
     "name": "stdout",
     "output_type": "stream",
     "text": [
      "Completed search. Joining!\n",
      "Now searching r/askscience for lovastatin\n"
     ]
    },
    {
     "name": "stderr",
     "output_type": "stream",
     "text": [
      "/var/folders/y1/2907rcw50gq_rm33vwpb806r0000gn/T/ipykernel_71372/533152681.py:22: FutureWarning: Use of **kwargs is deprecated, use engine_kwargs instead.\n",
      "  with pd.ExcelWriter(DATA_FOLDER + 'scraped_posts_full.xlsx', engine='xlsxwriter', options={'strings_to_urls': False}) as writer:\n"
     ]
    },
    {
     "name": "stdout",
     "output_type": "stream",
     "text": [
      "Completed search. Joining!\n",
      "Now searching r/askscience for altoprev\n"
     ]
    },
    {
     "name": "stderr",
     "output_type": "stream",
     "text": [
      "/var/folders/y1/2907rcw50gq_rm33vwpb806r0000gn/T/ipykernel_71372/533152681.py:22: FutureWarning: Use of **kwargs is deprecated, use engine_kwargs instead.\n",
      "  with pd.ExcelWriter(DATA_FOLDER + 'scraped_posts_full.xlsx', engine='xlsxwriter', options={'strings_to_urls': False}) as writer:\n"
     ]
    },
    {
     "name": "stdout",
     "output_type": "stream",
     "text": [
      "Completed search. Joining!\n",
      "Now searching r/askscience for fluvastatin\n"
     ]
    },
    {
     "name": "stderr",
     "output_type": "stream",
     "text": [
      "/var/folders/y1/2907rcw50gq_rm33vwpb806r0000gn/T/ipykernel_71372/533152681.py:22: FutureWarning: Use of **kwargs is deprecated, use engine_kwargs instead.\n",
      "  with pd.ExcelWriter(DATA_FOLDER + 'scraped_posts_full.xlsx', engine='xlsxwriter', options={'strings_to_urls': False}) as writer:\n"
     ]
    },
    {
     "name": "stdout",
     "output_type": "stream",
     "text": [
      "Completed search. Joining!\n",
      "Now searching r/askscience for lescol\n"
     ]
    },
    {
     "name": "stderr",
     "output_type": "stream",
     "text": [
      "/var/folders/y1/2907rcw50gq_rm33vwpb806r0000gn/T/ipykernel_71372/533152681.py:22: FutureWarning: Use of **kwargs is deprecated, use engine_kwargs instead.\n",
      "  with pd.ExcelWriter(DATA_FOLDER + 'scraped_posts_full.xlsx', engine='xlsxwriter', options={'strings_to_urls': False}) as writer:\n"
     ]
    },
    {
     "name": "stdout",
     "output_type": "stream",
     "text": [
      "Completed search. Joining!\n",
      "Now searching r/Futurology for atorvastatin\n"
     ]
    },
    {
     "name": "stderr",
     "output_type": "stream",
     "text": [
      "/var/folders/y1/2907rcw50gq_rm33vwpb806r0000gn/T/ipykernel_71372/533152681.py:22: FutureWarning: Use of **kwargs is deprecated, use engine_kwargs instead.\n",
      "  with pd.ExcelWriter(DATA_FOLDER + 'scraped_posts_full.xlsx', engine='xlsxwriter', options={'strings_to_urls': False}) as writer:\n"
     ]
    },
    {
     "name": "stdout",
     "output_type": "stream",
     "text": [
      "Completed search. Joining!\n",
      "Now searching r/Futurology for lipitor\n"
     ]
    },
    {
     "name": "stderr",
     "output_type": "stream",
     "text": [
      "/var/folders/y1/2907rcw50gq_rm33vwpb806r0000gn/T/ipykernel_71372/533152681.py:22: FutureWarning: Use of **kwargs is deprecated, use engine_kwargs instead.\n",
      "  with pd.ExcelWriter(DATA_FOLDER + 'scraped_posts_full.xlsx', engine='xlsxwriter', options={'strings_to_urls': False}) as writer:\n"
     ]
    },
    {
     "name": "stdout",
     "output_type": "stream",
     "text": [
      "Completed search. Joining!\n",
      "Now searching r/Futurology for rosuvastatin\n"
     ]
    },
    {
     "name": "stderr",
     "output_type": "stream",
     "text": [
      "/var/folders/y1/2907rcw50gq_rm33vwpb806r0000gn/T/ipykernel_71372/533152681.py:22: FutureWarning: Use of **kwargs is deprecated, use engine_kwargs instead.\n",
      "  with pd.ExcelWriter(DATA_FOLDER + 'scraped_posts_full.xlsx', engine='xlsxwriter', options={'strings_to_urls': False}) as writer:\n"
     ]
    },
    {
     "name": "stdout",
     "output_type": "stream",
     "text": [
      "Completed search. Joining!\n",
      "Now searching r/Futurology for crestor\n"
     ]
    },
    {
     "name": "stderr",
     "output_type": "stream",
     "text": [
      "/var/folders/y1/2907rcw50gq_rm33vwpb806r0000gn/T/ipykernel_71372/533152681.py:22: FutureWarning: Use of **kwargs is deprecated, use engine_kwargs instead.\n",
      "  with pd.ExcelWriter(DATA_FOLDER + 'scraped_posts_full.xlsx', engine='xlsxwriter', options={'strings_to_urls': False}) as writer:\n"
     ]
    },
    {
     "name": "stdout",
     "output_type": "stream",
     "text": [
      "Completed search. Joining!\n",
      "Now searching r/Futurology for pitavastatin\n"
     ]
    },
    {
     "name": "stderr",
     "output_type": "stream",
     "text": [
      "/var/folders/y1/2907rcw50gq_rm33vwpb806r0000gn/T/ipykernel_71372/533152681.py:22: FutureWarning: Use of **kwargs is deprecated, use engine_kwargs instead.\n",
      "  with pd.ExcelWriter(DATA_FOLDER + 'scraped_posts_full.xlsx', engine='xlsxwriter', options={'strings_to_urls': False}) as writer:\n"
     ]
    },
    {
     "name": "stdout",
     "output_type": "stream",
     "text": [
      "Completed search. Joining!\n",
      "Now searching r/Futurology for livalo\n"
     ]
    },
    {
     "name": "stderr",
     "output_type": "stream",
     "text": [
      "/var/folders/y1/2907rcw50gq_rm33vwpb806r0000gn/T/ipykernel_71372/533152681.py:22: FutureWarning: Use of **kwargs is deprecated, use engine_kwargs instead.\n",
      "  with pd.ExcelWriter(DATA_FOLDER + 'scraped_posts_full.xlsx', engine='xlsxwriter', options={'strings_to_urls': False}) as writer:\n"
     ]
    },
    {
     "name": "stdout",
     "output_type": "stream",
     "text": [
      "Completed search. Joining!\n",
      "Now searching r/Futurology for zypitamag\n"
     ]
    },
    {
     "name": "stderr",
     "output_type": "stream",
     "text": [
      "/var/folders/y1/2907rcw50gq_rm33vwpb806r0000gn/T/ipykernel_71372/533152681.py:22: FutureWarning: Use of **kwargs is deprecated, use engine_kwargs instead.\n",
      "  with pd.ExcelWriter(DATA_FOLDER + 'scraped_posts_full.xlsx', engine='xlsxwriter', options={'strings_to_urls': False}) as writer:\n"
     ]
    },
    {
     "name": "stdout",
     "output_type": "stream",
     "text": [
      "Completed search. Joining!\n",
      "Now searching r/Futurology for simvastatin\n"
     ]
    },
    {
     "name": "stderr",
     "output_type": "stream",
     "text": [
      "/var/folders/y1/2907rcw50gq_rm33vwpb806r0000gn/T/ipykernel_71372/533152681.py:22: FutureWarning: Use of **kwargs is deprecated, use engine_kwargs instead.\n",
      "  with pd.ExcelWriter(DATA_FOLDER + 'scraped_posts_full.xlsx', engine='xlsxwriter', options={'strings_to_urls': False}) as writer:\n"
     ]
    },
    {
     "name": "stdout",
     "output_type": "stream",
     "text": [
      "Completed search. Joining!\n",
      "Now searching r/Futurology for zocor\n"
     ]
    },
    {
     "name": "stderr",
     "output_type": "stream",
     "text": [
      "/var/folders/y1/2907rcw50gq_rm33vwpb806r0000gn/T/ipykernel_71372/533152681.py:22: FutureWarning: Use of **kwargs is deprecated, use engine_kwargs instead.\n",
      "  with pd.ExcelWriter(DATA_FOLDER + 'scraped_posts_full.xlsx', engine='xlsxwriter', options={'strings_to_urls': False}) as writer:\n"
     ]
    },
    {
     "name": "stdout",
     "output_type": "stream",
     "text": [
      "Completed search. Joining!\n",
      "Now searching r/Futurology for pravastatin\n"
     ]
    },
    {
     "name": "stderr",
     "output_type": "stream",
     "text": [
      "/var/folders/y1/2907rcw50gq_rm33vwpb806r0000gn/T/ipykernel_71372/533152681.py:22: FutureWarning: Use of **kwargs is deprecated, use engine_kwargs instead.\n",
      "  with pd.ExcelWriter(DATA_FOLDER + 'scraped_posts_full.xlsx', engine='xlsxwriter', options={'strings_to_urls': False}) as writer:\n"
     ]
    },
    {
     "name": "stdout",
     "output_type": "stream",
     "text": [
      "Completed search. Joining!\n",
      "Now searching r/Futurology for pravachol\n"
     ]
    },
    {
     "name": "stderr",
     "output_type": "stream",
     "text": [
      "/var/folders/y1/2907rcw50gq_rm33vwpb806r0000gn/T/ipykernel_71372/533152681.py:22: FutureWarning: Use of **kwargs is deprecated, use engine_kwargs instead.\n",
      "  with pd.ExcelWriter(DATA_FOLDER + 'scraped_posts_full.xlsx', engine='xlsxwriter', options={'strings_to_urls': False}) as writer:\n"
     ]
    },
    {
     "name": "stdout",
     "output_type": "stream",
     "text": [
      "Completed search. Joining!\n",
      "Now searching r/Futurology for lovastatin\n"
     ]
    },
    {
     "name": "stderr",
     "output_type": "stream",
     "text": [
      "/var/folders/y1/2907rcw50gq_rm33vwpb806r0000gn/T/ipykernel_71372/533152681.py:22: FutureWarning: Use of **kwargs is deprecated, use engine_kwargs instead.\n",
      "  with pd.ExcelWriter(DATA_FOLDER + 'scraped_posts_full.xlsx', engine='xlsxwriter', options={'strings_to_urls': False}) as writer:\n"
     ]
    },
    {
     "name": "stdout",
     "output_type": "stream",
     "text": [
      "Completed search. Joining!\n",
      "Now searching r/Futurology for altoprev\n"
     ]
    },
    {
     "name": "stderr",
     "output_type": "stream",
     "text": [
      "/var/folders/y1/2907rcw50gq_rm33vwpb806r0000gn/T/ipykernel_71372/533152681.py:22: FutureWarning: Use of **kwargs is deprecated, use engine_kwargs instead.\n",
      "  with pd.ExcelWriter(DATA_FOLDER + 'scraped_posts_full.xlsx', engine='xlsxwriter', options={'strings_to_urls': False}) as writer:\n"
     ]
    },
    {
     "name": "stdout",
     "output_type": "stream",
     "text": [
      "Completed search. Joining!\n",
      "Now searching r/Futurology for fluvastatin\n"
     ]
    },
    {
     "name": "stderr",
     "output_type": "stream",
     "text": [
      "/var/folders/y1/2907rcw50gq_rm33vwpb806r0000gn/T/ipykernel_71372/533152681.py:22: FutureWarning: Use of **kwargs is deprecated, use engine_kwargs instead.\n",
      "  with pd.ExcelWriter(DATA_FOLDER + 'scraped_posts_full.xlsx', engine='xlsxwriter', options={'strings_to_urls': False}) as writer:\n"
     ]
    },
    {
     "name": "stdout",
     "output_type": "stream",
     "text": [
      "Completed search. Joining!\n",
      "Now searching r/Futurology for lescol\n"
     ]
    },
    {
     "name": "stderr",
     "output_type": "stream",
     "text": [
      "/var/folders/y1/2907rcw50gq_rm33vwpb806r0000gn/T/ipykernel_71372/533152681.py:22: FutureWarning: Use of **kwargs is deprecated, use engine_kwargs instead.\n",
      "  with pd.ExcelWriter(DATA_FOLDER + 'scraped_posts_full.xlsx', engine='xlsxwriter', options={'strings_to_urls': False}) as writer:\n"
     ]
    },
    {
     "name": "stdout",
     "output_type": "stream",
     "text": [
      "Completed search. Joining!\n",
      "Now searching r/news for atorvastatin\n"
     ]
    },
    {
     "name": "stderr",
     "output_type": "stream",
     "text": [
      "/var/folders/y1/2907rcw50gq_rm33vwpb806r0000gn/T/ipykernel_71372/533152681.py:22: FutureWarning: Use of **kwargs is deprecated, use engine_kwargs instead.\n",
      "  with pd.ExcelWriter(DATA_FOLDER + 'scraped_posts_full.xlsx', engine='xlsxwriter', options={'strings_to_urls': False}) as writer:\n"
     ]
    },
    {
     "name": "stdout",
     "output_type": "stream",
     "text": [
      "Completed search. Joining!\n",
      "Now searching r/news for lipitor\n"
     ]
    },
    {
     "name": "stderr",
     "output_type": "stream",
     "text": [
      "/var/folders/y1/2907rcw50gq_rm33vwpb806r0000gn/T/ipykernel_71372/533152681.py:22: FutureWarning: Use of **kwargs is deprecated, use engine_kwargs instead.\n",
      "  with pd.ExcelWriter(DATA_FOLDER + 'scraped_posts_full.xlsx', engine='xlsxwriter', options={'strings_to_urls': False}) as writer:\n"
     ]
    },
    {
     "name": "stdout",
     "output_type": "stream",
     "text": [
      "Completed search. Joining!\n",
      "Now searching r/news for rosuvastatin\n"
     ]
    },
    {
     "name": "stderr",
     "output_type": "stream",
     "text": [
      "/var/folders/y1/2907rcw50gq_rm33vwpb806r0000gn/T/ipykernel_71372/533152681.py:22: FutureWarning: Use of **kwargs is deprecated, use engine_kwargs instead.\n",
      "  with pd.ExcelWriter(DATA_FOLDER + 'scraped_posts_full.xlsx', engine='xlsxwriter', options={'strings_to_urls': False}) as writer:\n"
     ]
    },
    {
     "name": "stdout",
     "output_type": "stream",
     "text": [
      "Completed search. Joining!\n",
      "Now searching r/news for crestor\n"
     ]
    },
    {
     "name": "stderr",
     "output_type": "stream",
     "text": [
      "/var/folders/y1/2907rcw50gq_rm33vwpb806r0000gn/T/ipykernel_71372/533152681.py:22: FutureWarning: Use of **kwargs is deprecated, use engine_kwargs instead.\n",
      "  with pd.ExcelWriter(DATA_FOLDER + 'scraped_posts_full.xlsx', engine='xlsxwriter', options={'strings_to_urls': False}) as writer:\n"
     ]
    },
    {
     "name": "stdout",
     "output_type": "stream",
     "text": [
      "Completed search. Joining!\n",
      "Now searching r/news for pitavastatin\n"
     ]
    },
    {
     "name": "stderr",
     "output_type": "stream",
     "text": [
      "/var/folders/y1/2907rcw50gq_rm33vwpb806r0000gn/T/ipykernel_71372/533152681.py:22: FutureWarning: Use of **kwargs is deprecated, use engine_kwargs instead.\n",
      "  with pd.ExcelWriter(DATA_FOLDER + 'scraped_posts_full.xlsx', engine='xlsxwriter', options={'strings_to_urls': False}) as writer:\n"
     ]
    },
    {
     "name": "stdout",
     "output_type": "stream",
     "text": [
      "Completed search. Joining!\n",
      "Now searching r/news for livalo\n"
     ]
    },
    {
     "name": "stderr",
     "output_type": "stream",
     "text": [
      "/var/folders/y1/2907rcw50gq_rm33vwpb806r0000gn/T/ipykernel_71372/533152681.py:22: FutureWarning: Use of **kwargs is deprecated, use engine_kwargs instead.\n",
      "  with pd.ExcelWriter(DATA_FOLDER + 'scraped_posts_full.xlsx', engine='xlsxwriter', options={'strings_to_urls': False}) as writer:\n"
     ]
    },
    {
     "name": "stdout",
     "output_type": "stream",
     "text": [
      "Completed search. Joining!\n",
      "Now searching r/news for zypitamag\n"
     ]
    },
    {
     "name": "stderr",
     "output_type": "stream",
     "text": [
      "/var/folders/y1/2907rcw50gq_rm33vwpb806r0000gn/T/ipykernel_71372/533152681.py:22: FutureWarning: Use of **kwargs is deprecated, use engine_kwargs instead.\n",
      "  with pd.ExcelWriter(DATA_FOLDER + 'scraped_posts_full.xlsx', engine='xlsxwriter', options={'strings_to_urls': False}) as writer:\n"
     ]
    },
    {
     "name": "stdout",
     "output_type": "stream",
     "text": [
      "Completed search. Joining!\n",
      "Now searching r/news for simvastatin\n"
     ]
    },
    {
     "name": "stderr",
     "output_type": "stream",
     "text": [
      "/var/folders/y1/2907rcw50gq_rm33vwpb806r0000gn/T/ipykernel_71372/533152681.py:22: FutureWarning: Use of **kwargs is deprecated, use engine_kwargs instead.\n",
      "  with pd.ExcelWriter(DATA_FOLDER + 'scraped_posts_full.xlsx', engine='xlsxwriter', options={'strings_to_urls': False}) as writer:\n"
     ]
    },
    {
     "name": "stdout",
     "output_type": "stream",
     "text": [
      "Completed search. Joining!\n",
      "Now searching r/news for zocor\n"
     ]
    },
    {
     "name": "stderr",
     "output_type": "stream",
     "text": [
      "/var/folders/y1/2907rcw50gq_rm33vwpb806r0000gn/T/ipykernel_71372/533152681.py:22: FutureWarning: Use of **kwargs is deprecated, use engine_kwargs instead.\n",
      "  with pd.ExcelWriter(DATA_FOLDER + 'scraped_posts_full.xlsx', engine='xlsxwriter', options={'strings_to_urls': False}) as writer:\n"
     ]
    },
    {
     "name": "stdout",
     "output_type": "stream",
     "text": [
      "Completed search. Joining!\n",
      "Now searching r/news for pravastatin\n"
     ]
    },
    {
     "name": "stderr",
     "output_type": "stream",
     "text": [
      "/var/folders/y1/2907rcw50gq_rm33vwpb806r0000gn/T/ipykernel_71372/533152681.py:22: FutureWarning: Use of **kwargs is deprecated, use engine_kwargs instead.\n",
      "  with pd.ExcelWriter(DATA_FOLDER + 'scraped_posts_full.xlsx', engine='xlsxwriter', options={'strings_to_urls': False}) as writer:\n"
     ]
    },
    {
     "name": "stdout",
     "output_type": "stream",
     "text": [
      "Completed search. Joining!\n",
      "Now searching r/news for pravachol\n"
     ]
    },
    {
     "name": "stderr",
     "output_type": "stream",
     "text": [
      "/var/folders/y1/2907rcw50gq_rm33vwpb806r0000gn/T/ipykernel_71372/533152681.py:22: FutureWarning: Use of **kwargs is deprecated, use engine_kwargs instead.\n",
      "  with pd.ExcelWriter(DATA_FOLDER + 'scraped_posts_full.xlsx', engine='xlsxwriter', options={'strings_to_urls': False}) as writer:\n"
     ]
    },
    {
     "name": "stdout",
     "output_type": "stream",
     "text": [
      "Completed search. Joining!\n",
      "Now searching r/news for lovastatin\n"
     ]
    },
    {
     "name": "stderr",
     "output_type": "stream",
     "text": [
      "/var/folders/y1/2907rcw50gq_rm33vwpb806r0000gn/T/ipykernel_71372/533152681.py:22: FutureWarning: Use of **kwargs is deprecated, use engine_kwargs instead.\n",
      "  with pd.ExcelWriter(DATA_FOLDER + 'scraped_posts_full.xlsx', engine='xlsxwriter', options={'strings_to_urls': False}) as writer:\n"
     ]
    },
    {
     "name": "stdout",
     "output_type": "stream",
     "text": [
      "Completed search. Joining!\n",
      "Now searching r/news for altoprev\n"
     ]
    },
    {
     "name": "stderr",
     "output_type": "stream",
     "text": [
      "/var/folders/y1/2907rcw50gq_rm33vwpb806r0000gn/T/ipykernel_71372/533152681.py:22: FutureWarning: Use of **kwargs is deprecated, use engine_kwargs instead.\n",
      "  with pd.ExcelWriter(DATA_FOLDER + 'scraped_posts_full.xlsx', engine='xlsxwriter', options={'strings_to_urls': False}) as writer:\n"
     ]
    },
    {
     "name": "stdout",
     "output_type": "stream",
     "text": [
      "Completed search. Joining!\n",
      "Now searching r/news for fluvastatin\n"
     ]
    },
    {
     "name": "stderr",
     "output_type": "stream",
     "text": [
      "/var/folders/y1/2907rcw50gq_rm33vwpb806r0000gn/T/ipykernel_71372/533152681.py:22: FutureWarning: Use of **kwargs is deprecated, use engine_kwargs instead.\n",
      "  with pd.ExcelWriter(DATA_FOLDER + 'scraped_posts_full.xlsx', engine='xlsxwriter', options={'strings_to_urls': False}) as writer:\n"
     ]
    },
    {
     "name": "stdout",
     "output_type": "stream",
     "text": [
      "Completed search. Joining!\n",
      "Now searching r/news for lescol\n"
     ]
    },
    {
     "name": "stderr",
     "output_type": "stream",
     "text": [
      "/var/folders/y1/2907rcw50gq_rm33vwpb806r0000gn/T/ipykernel_71372/533152681.py:22: FutureWarning: Use of **kwargs is deprecated, use engine_kwargs instead.\n",
      "  with pd.ExcelWriter(DATA_FOLDER + 'scraped_posts_full.xlsx', engine='xlsxwriter', options={'strings_to_urls': False}) as writer:\n"
     ]
    },
    {
     "name": "stdout",
     "output_type": "stream",
     "text": [
      "Completed search. Joining!\n",
      "Now searching r/PlantBasedDiet for atorvastatin\n"
     ]
    },
    {
     "name": "stderr",
     "output_type": "stream",
     "text": [
      "/var/folders/y1/2907rcw50gq_rm33vwpb806r0000gn/T/ipykernel_71372/533152681.py:22: FutureWarning: Use of **kwargs is deprecated, use engine_kwargs instead.\n",
      "  with pd.ExcelWriter(DATA_FOLDER + 'scraped_posts_full.xlsx', engine='xlsxwriter', options={'strings_to_urls': False}) as writer:\n"
     ]
    },
    {
     "name": "stdout",
     "output_type": "stream",
     "text": [
      "Completed search. Joining!\n",
      "Now searching r/PlantBasedDiet for lipitor\n"
     ]
    },
    {
     "name": "stderr",
     "output_type": "stream",
     "text": [
      "/var/folders/y1/2907rcw50gq_rm33vwpb806r0000gn/T/ipykernel_71372/533152681.py:22: FutureWarning: Use of **kwargs is deprecated, use engine_kwargs instead.\n",
      "  with pd.ExcelWriter(DATA_FOLDER + 'scraped_posts_full.xlsx', engine='xlsxwriter', options={'strings_to_urls': False}) as writer:\n"
     ]
    },
    {
     "name": "stdout",
     "output_type": "stream",
     "text": [
      "Completed search. Joining!\n",
      "Now searching r/PlantBasedDiet for rosuvastatin\n"
     ]
    },
    {
     "name": "stderr",
     "output_type": "stream",
     "text": [
      "/var/folders/y1/2907rcw50gq_rm33vwpb806r0000gn/T/ipykernel_71372/533152681.py:22: FutureWarning: Use of **kwargs is deprecated, use engine_kwargs instead.\n",
      "  with pd.ExcelWriter(DATA_FOLDER + 'scraped_posts_full.xlsx', engine='xlsxwriter', options={'strings_to_urls': False}) as writer:\n"
     ]
    },
    {
     "name": "stdout",
     "output_type": "stream",
     "text": [
      "Completed search. Joining!\n",
      "Now searching r/PlantBasedDiet for crestor\n"
     ]
    },
    {
     "name": "stderr",
     "output_type": "stream",
     "text": [
      "/var/folders/y1/2907rcw50gq_rm33vwpb806r0000gn/T/ipykernel_71372/533152681.py:22: FutureWarning: Use of **kwargs is deprecated, use engine_kwargs instead.\n",
      "  with pd.ExcelWriter(DATA_FOLDER + 'scraped_posts_full.xlsx', engine='xlsxwriter', options={'strings_to_urls': False}) as writer:\n"
     ]
    },
    {
     "name": "stdout",
     "output_type": "stream",
     "text": [
      "Completed search. Joining!\n",
      "Now searching r/PlantBasedDiet for pitavastatin\n"
     ]
    },
    {
     "name": "stderr",
     "output_type": "stream",
     "text": [
      "/var/folders/y1/2907rcw50gq_rm33vwpb806r0000gn/T/ipykernel_71372/533152681.py:22: FutureWarning: Use of **kwargs is deprecated, use engine_kwargs instead.\n",
      "  with pd.ExcelWriter(DATA_FOLDER + 'scraped_posts_full.xlsx', engine='xlsxwriter', options={'strings_to_urls': False}) as writer:\n"
     ]
    },
    {
     "name": "stdout",
     "output_type": "stream",
     "text": [
      "Completed search. Joining!\n",
      "Now searching r/PlantBasedDiet for livalo\n"
     ]
    },
    {
     "name": "stderr",
     "output_type": "stream",
     "text": [
      "/var/folders/y1/2907rcw50gq_rm33vwpb806r0000gn/T/ipykernel_71372/533152681.py:22: FutureWarning: Use of **kwargs is deprecated, use engine_kwargs instead.\n",
      "  with pd.ExcelWriter(DATA_FOLDER + 'scraped_posts_full.xlsx', engine='xlsxwriter', options={'strings_to_urls': False}) as writer:\n"
     ]
    },
    {
     "name": "stdout",
     "output_type": "stream",
     "text": [
      "Completed search. Joining!\n",
      "Now searching r/PlantBasedDiet for zypitamag\n"
     ]
    },
    {
     "name": "stderr",
     "output_type": "stream",
     "text": [
      "/var/folders/y1/2907rcw50gq_rm33vwpb806r0000gn/T/ipykernel_71372/533152681.py:22: FutureWarning: Use of **kwargs is deprecated, use engine_kwargs instead.\n",
      "  with pd.ExcelWriter(DATA_FOLDER + 'scraped_posts_full.xlsx', engine='xlsxwriter', options={'strings_to_urls': False}) as writer:\n"
     ]
    },
    {
     "name": "stdout",
     "output_type": "stream",
     "text": [
      "Completed search. Joining!\n",
      "Now searching r/PlantBasedDiet for simvastatin\n"
     ]
    },
    {
     "name": "stderr",
     "output_type": "stream",
     "text": [
      "/var/folders/y1/2907rcw50gq_rm33vwpb806r0000gn/T/ipykernel_71372/533152681.py:22: FutureWarning: Use of **kwargs is deprecated, use engine_kwargs instead.\n",
      "  with pd.ExcelWriter(DATA_FOLDER + 'scraped_posts_full.xlsx', engine='xlsxwriter', options={'strings_to_urls': False}) as writer:\n"
     ]
    },
    {
     "name": "stdout",
     "output_type": "stream",
     "text": [
      "Completed search. Joining!\n",
      "Now searching r/PlantBasedDiet for zocor\n"
     ]
    },
    {
     "name": "stderr",
     "output_type": "stream",
     "text": [
      "/var/folders/y1/2907rcw50gq_rm33vwpb806r0000gn/T/ipykernel_71372/533152681.py:22: FutureWarning: Use of **kwargs is deprecated, use engine_kwargs instead.\n",
      "  with pd.ExcelWriter(DATA_FOLDER + 'scraped_posts_full.xlsx', engine='xlsxwriter', options={'strings_to_urls': False}) as writer:\n"
     ]
    },
    {
     "name": "stdout",
     "output_type": "stream",
     "text": [
      "Completed search. Joining!\n",
      "Now searching r/PlantBasedDiet for pravastatin\n"
     ]
    },
    {
     "name": "stderr",
     "output_type": "stream",
     "text": [
      "/var/folders/y1/2907rcw50gq_rm33vwpb806r0000gn/T/ipykernel_71372/533152681.py:22: FutureWarning: Use of **kwargs is deprecated, use engine_kwargs instead.\n",
      "  with pd.ExcelWriter(DATA_FOLDER + 'scraped_posts_full.xlsx', engine='xlsxwriter', options={'strings_to_urls': False}) as writer:\n"
     ]
    },
    {
     "name": "stdout",
     "output_type": "stream",
     "text": [
      "Completed search. Joining!\n",
      "Now searching r/PlantBasedDiet for pravachol\n"
     ]
    },
    {
     "name": "stderr",
     "output_type": "stream",
     "text": [
      "/var/folders/y1/2907rcw50gq_rm33vwpb806r0000gn/T/ipykernel_71372/533152681.py:22: FutureWarning: Use of **kwargs is deprecated, use engine_kwargs instead.\n",
      "  with pd.ExcelWriter(DATA_FOLDER + 'scraped_posts_full.xlsx', engine='xlsxwriter', options={'strings_to_urls': False}) as writer:\n"
     ]
    },
    {
     "name": "stdout",
     "output_type": "stream",
     "text": [
      "Completed search. Joining!\n",
      "Now searching r/PlantBasedDiet for lovastatin\n"
     ]
    },
    {
     "name": "stderr",
     "output_type": "stream",
     "text": [
      "/var/folders/y1/2907rcw50gq_rm33vwpb806r0000gn/T/ipykernel_71372/533152681.py:22: FutureWarning: Use of **kwargs is deprecated, use engine_kwargs instead.\n",
      "  with pd.ExcelWriter(DATA_FOLDER + 'scraped_posts_full.xlsx', engine='xlsxwriter', options={'strings_to_urls': False}) as writer:\n"
     ]
    },
    {
     "name": "stdout",
     "output_type": "stream",
     "text": [
      "Completed search. Joining!\n",
      "Now searching r/PlantBasedDiet for altoprev\n"
     ]
    },
    {
     "name": "stderr",
     "output_type": "stream",
     "text": [
      "/var/folders/y1/2907rcw50gq_rm33vwpb806r0000gn/T/ipykernel_71372/533152681.py:22: FutureWarning: Use of **kwargs is deprecated, use engine_kwargs instead.\n",
      "  with pd.ExcelWriter(DATA_FOLDER + 'scraped_posts_full.xlsx', engine='xlsxwriter', options={'strings_to_urls': False}) as writer:\n"
     ]
    },
    {
     "name": "stdout",
     "output_type": "stream",
     "text": [
      "Completed search. Joining!\n",
      "Now searching r/PlantBasedDiet for fluvastatin\n"
     ]
    },
    {
     "name": "stderr",
     "output_type": "stream",
     "text": [
      "/var/folders/y1/2907rcw50gq_rm33vwpb806r0000gn/T/ipykernel_71372/533152681.py:22: FutureWarning: Use of **kwargs is deprecated, use engine_kwargs instead.\n",
      "  with pd.ExcelWriter(DATA_FOLDER + 'scraped_posts_full.xlsx', engine='xlsxwriter', options={'strings_to_urls': False}) as writer:\n"
     ]
    },
    {
     "name": "stdout",
     "output_type": "stream",
     "text": [
      "Completed search. Joining!\n",
      "Now searching r/PlantBasedDiet for lescol\n"
     ]
    },
    {
     "name": "stderr",
     "output_type": "stream",
     "text": [
      "/var/folders/y1/2907rcw50gq_rm33vwpb806r0000gn/T/ipykernel_71372/533152681.py:22: FutureWarning: Use of **kwargs is deprecated, use engine_kwargs instead.\n",
      "  with pd.ExcelWriter(DATA_FOLDER + 'scraped_posts_full.xlsx', engine='xlsxwriter', options={'strings_to_urls': False}) as writer:\n"
     ]
    },
    {
     "name": "stdout",
     "output_type": "stream",
     "text": [
      "Completed search. Joining!\n",
      "Now searching r/nutrition for atorvastatin\n"
     ]
    },
    {
     "name": "stderr",
     "output_type": "stream",
     "text": [
      "/var/folders/y1/2907rcw50gq_rm33vwpb806r0000gn/T/ipykernel_71372/533152681.py:22: FutureWarning: Use of **kwargs is deprecated, use engine_kwargs instead.\n",
      "  with pd.ExcelWriter(DATA_FOLDER + 'scraped_posts_full.xlsx', engine='xlsxwriter', options={'strings_to_urls': False}) as writer:\n"
     ]
    },
    {
     "name": "stdout",
     "output_type": "stream",
     "text": [
      "Completed search. Joining!\n",
      "Now searching r/nutrition for lipitor\n"
     ]
    },
    {
     "name": "stderr",
     "output_type": "stream",
     "text": [
      "/var/folders/y1/2907rcw50gq_rm33vwpb806r0000gn/T/ipykernel_71372/533152681.py:22: FutureWarning: Use of **kwargs is deprecated, use engine_kwargs instead.\n",
      "  with pd.ExcelWriter(DATA_FOLDER + 'scraped_posts_full.xlsx', engine='xlsxwriter', options={'strings_to_urls': False}) as writer:\n"
     ]
    },
    {
     "name": "stdout",
     "output_type": "stream",
     "text": [
      "Completed search. Joining!\n",
      "Now searching r/nutrition for rosuvastatin\n"
     ]
    },
    {
     "name": "stderr",
     "output_type": "stream",
     "text": [
      "/var/folders/y1/2907rcw50gq_rm33vwpb806r0000gn/T/ipykernel_71372/533152681.py:22: FutureWarning: Use of **kwargs is deprecated, use engine_kwargs instead.\n",
      "  with pd.ExcelWriter(DATA_FOLDER + 'scraped_posts_full.xlsx', engine='xlsxwriter', options={'strings_to_urls': False}) as writer:\n"
     ]
    },
    {
     "name": "stdout",
     "output_type": "stream",
     "text": [
      "Completed search. Joining!\n",
      "Now searching r/nutrition for crestor\n"
     ]
    },
    {
     "name": "stderr",
     "output_type": "stream",
     "text": [
      "/var/folders/y1/2907rcw50gq_rm33vwpb806r0000gn/T/ipykernel_71372/533152681.py:22: FutureWarning: Use of **kwargs is deprecated, use engine_kwargs instead.\n",
      "  with pd.ExcelWriter(DATA_FOLDER + 'scraped_posts_full.xlsx', engine='xlsxwriter', options={'strings_to_urls': False}) as writer:\n"
     ]
    },
    {
     "name": "stdout",
     "output_type": "stream",
     "text": [
      "Completed search. Joining!\n",
      "Now searching r/nutrition for pitavastatin\n"
     ]
    },
    {
     "name": "stderr",
     "output_type": "stream",
     "text": [
      "/var/folders/y1/2907rcw50gq_rm33vwpb806r0000gn/T/ipykernel_71372/533152681.py:22: FutureWarning: Use of **kwargs is deprecated, use engine_kwargs instead.\n",
      "  with pd.ExcelWriter(DATA_FOLDER + 'scraped_posts_full.xlsx', engine='xlsxwriter', options={'strings_to_urls': False}) as writer:\n"
     ]
    },
    {
     "name": "stdout",
     "output_type": "stream",
     "text": [
      "Completed search. Joining!\n",
      "Now searching r/nutrition for livalo\n"
     ]
    },
    {
     "name": "stderr",
     "output_type": "stream",
     "text": [
      "/var/folders/y1/2907rcw50gq_rm33vwpb806r0000gn/T/ipykernel_71372/533152681.py:22: FutureWarning: Use of **kwargs is deprecated, use engine_kwargs instead.\n",
      "  with pd.ExcelWriter(DATA_FOLDER + 'scraped_posts_full.xlsx', engine='xlsxwriter', options={'strings_to_urls': False}) as writer:\n"
     ]
    },
    {
     "name": "stdout",
     "output_type": "stream",
     "text": [
      "Completed search. Joining!\n",
      "Now searching r/nutrition for zypitamag\n"
     ]
    },
    {
     "name": "stderr",
     "output_type": "stream",
     "text": [
      "/var/folders/y1/2907rcw50gq_rm33vwpb806r0000gn/T/ipykernel_71372/533152681.py:22: FutureWarning: Use of **kwargs is deprecated, use engine_kwargs instead.\n",
      "  with pd.ExcelWriter(DATA_FOLDER + 'scraped_posts_full.xlsx', engine='xlsxwriter', options={'strings_to_urls': False}) as writer:\n"
     ]
    },
    {
     "name": "stdout",
     "output_type": "stream",
     "text": [
      "Completed search. Joining!\n",
      "Now searching r/nutrition for simvastatin\n"
     ]
    },
    {
     "name": "stderr",
     "output_type": "stream",
     "text": [
      "/var/folders/y1/2907rcw50gq_rm33vwpb806r0000gn/T/ipykernel_71372/533152681.py:22: FutureWarning: Use of **kwargs is deprecated, use engine_kwargs instead.\n",
      "  with pd.ExcelWriter(DATA_FOLDER + 'scraped_posts_full.xlsx', engine='xlsxwriter', options={'strings_to_urls': False}) as writer:\n"
     ]
    },
    {
     "name": "stdout",
     "output_type": "stream",
     "text": [
      "Completed search. Joining!\n",
      "Now searching r/nutrition for zocor\n"
     ]
    },
    {
     "name": "stderr",
     "output_type": "stream",
     "text": [
      "/var/folders/y1/2907rcw50gq_rm33vwpb806r0000gn/T/ipykernel_71372/533152681.py:22: FutureWarning: Use of **kwargs is deprecated, use engine_kwargs instead.\n",
      "  with pd.ExcelWriter(DATA_FOLDER + 'scraped_posts_full.xlsx', engine='xlsxwriter', options={'strings_to_urls': False}) as writer:\n"
     ]
    },
    {
     "name": "stdout",
     "output_type": "stream",
     "text": [
      "Completed search. Joining!\n",
      "Now searching r/nutrition for pravastatin\n"
     ]
    },
    {
     "name": "stderr",
     "output_type": "stream",
     "text": [
      "/var/folders/y1/2907rcw50gq_rm33vwpb806r0000gn/T/ipykernel_71372/533152681.py:22: FutureWarning: Use of **kwargs is deprecated, use engine_kwargs instead.\n",
      "  with pd.ExcelWriter(DATA_FOLDER + 'scraped_posts_full.xlsx', engine='xlsxwriter', options={'strings_to_urls': False}) as writer:\n"
     ]
    },
    {
     "name": "stdout",
     "output_type": "stream",
     "text": [
      "Completed search. Joining!\n",
      "Now searching r/nutrition for pravachol\n"
     ]
    },
    {
     "name": "stderr",
     "output_type": "stream",
     "text": [
      "/var/folders/y1/2907rcw50gq_rm33vwpb806r0000gn/T/ipykernel_71372/533152681.py:22: FutureWarning: Use of **kwargs is deprecated, use engine_kwargs instead.\n",
      "  with pd.ExcelWriter(DATA_FOLDER + 'scraped_posts_full.xlsx', engine='xlsxwriter', options={'strings_to_urls': False}) as writer:\n"
     ]
    },
    {
     "name": "stdout",
     "output_type": "stream",
     "text": [
      "Completed search. Joining!\n",
      "Now searching r/nutrition for lovastatin\n"
     ]
    },
    {
     "name": "stderr",
     "output_type": "stream",
     "text": [
      "/var/folders/y1/2907rcw50gq_rm33vwpb806r0000gn/T/ipykernel_71372/533152681.py:22: FutureWarning: Use of **kwargs is deprecated, use engine_kwargs instead.\n",
      "  with pd.ExcelWriter(DATA_FOLDER + 'scraped_posts_full.xlsx', engine='xlsxwriter', options={'strings_to_urls': False}) as writer:\n"
     ]
    },
    {
     "name": "stdout",
     "output_type": "stream",
     "text": [
      "Completed search. Joining!\n",
      "Now searching r/nutrition for altoprev\n"
     ]
    },
    {
     "name": "stderr",
     "output_type": "stream",
     "text": [
      "/var/folders/y1/2907rcw50gq_rm33vwpb806r0000gn/T/ipykernel_71372/533152681.py:22: FutureWarning: Use of **kwargs is deprecated, use engine_kwargs instead.\n",
      "  with pd.ExcelWriter(DATA_FOLDER + 'scraped_posts_full.xlsx', engine='xlsxwriter', options={'strings_to_urls': False}) as writer:\n"
     ]
    },
    {
     "name": "stdout",
     "output_type": "stream",
     "text": [
      "Completed search. Joining!\n",
      "Now searching r/nutrition for fluvastatin\n"
     ]
    },
    {
     "name": "stderr",
     "output_type": "stream",
     "text": [
      "/var/folders/y1/2907rcw50gq_rm33vwpb806r0000gn/T/ipykernel_71372/533152681.py:22: FutureWarning: Use of **kwargs is deprecated, use engine_kwargs instead.\n",
      "  with pd.ExcelWriter(DATA_FOLDER + 'scraped_posts_full.xlsx', engine='xlsxwriter', options={'strings_to_urls': False}) as writer:\n"
     ]
    },
    {
     "name": "stdout",
     "output_type": "stream",
     "text": [
      "Completed search. Joining!\n",
      "Now searching r/nutrition for lescol\n"
     ]
    },
    {
     "name": "stderr",
     "output_type": "stream",
     "text": [
      "/var/folders/y1/2907rcw50gq_rm33vwpb806r0000gn/T/ipykernel_71372/533152681.py:22: FutureWarning: Use of **kwargs is deprecated, use engine_kwargs instead.\n",
      "  with pd.ExcelWriter(DATA_FOLDER + 'scraped_posts_full.xlsx', engine='xlsxwriter', options={'strings_to_urls': False}) as writer:\n"
     ]
    },
    {
     "name": "stdout",
     "output_type": "stream",
     "text": [
      "Completed search. Joining!\n",
      "Now searching r/Paleo for atorvastatin\n"
     ]
    },
    {
     "name": "stderr",
     "output_type": "stream",
     "text": [
      "/var/folders/y1/2907rcw50gq_rm33vwpb806r0000gn/T/ipykernel_71372/533152681.py:22: FutureWarning: Use of **kwargs is deprecated, use engine_kwargs instead.\n",
      "  with pd.ExcelWriter(DATA_FOLDER + 'scraped_posts_full.xlsx', engine='xlsxwriter', options={'strings_to_urls': False}) as writer:\n"
     ]
    },
    {
     "name": "stdout",
     "output_type": "stream",
     "text": [
      "Completed search. Joining!\n",
      "Now searching r/Paleo for lipitor\n"
     ]
    },
    {
     "name": "stderr",
     "output_type": "stream",
     "text": [
      "/var/folders/y1/2907rcw50gq_rm33vwpb806r0000gn/T/ipykernel_71372/533152681.py:22: FutureWarning: Use of **kwargs is deprecated, use engine_kwargs instead.\n",
      "  with pd.ExcelWriter(DATA_FOLDER + 'scraped_posts_full.xlsx', engine='xlsxwriter', options={'strings_to_urls': False}) as writer:\n"
     ]
    },
    {
     "name": "stdout",
     "output_type": "stream",
     "text": [
      "Completed search. Joining!\n",
      "Now searching r/Paleo for rosuvastatin\n"
     ]
    },
    {
     "name": "stderr",
     "output_type": "stream",
     "text": [
      "/var/folders/y1/2907rcw50gq_rm33vwpb806r0000gn/T/ipykernel_71372/533152681.py:22: FutureWarning: Use of **kwargs is deprecated, use engine_kwargs instead.\n",
      "  with pd.ExcelWriter(DATA_FOLDER + 'scraped_posts_full.xlsx', engine='xlsxwriter', options={'strings_to_urls': False}) as writer:\n"
     ]
    },
    {
     "name": "stdout",
     "output_type": "stream",
     "text": [
      "Completed search. Joining!\n",
      "Now searching r/Paleo for crestor\n"
     ]
    },
    {
     "name": "stderr",
     "output_type": "stream",
     "text": [
      "/var/folders/y1/2907rcw50gq_rm33vwpb806r0000gn/T/ipykernel_71372/533152681.py:22: FutureWarning: Use of **kwargs is deprecated, use engine_kwargs instead.\n",
      "  with pd.ExcelWriter(DATA_FOLDER + 'scraped_posts_full.xlsx', engine='xlsxwriter', options={'strings_to_urls': False}) as writer:\n"
     ]
    },
    {
     "name": "stdout",
     "output_type": "stream",
     "text": [
      "Completed search. Joining!\n",
      "Now searching r/Paleo for pitavastatin\n"
     ]
    },
    {
     "name": "stderr",
     "output_type": "stream",
     "text": [
      "/var/folders/y1/2907rcw50gq_rm33vwpb806r0000gn/T/ipykernel_71372/533152681.py:22: FutureWarning: Use of **kwargs is deprecated, use engine_kwargs instead.\n",
      "  with pd.ExcelWriter(DATA_FOLDER + 'scraped_posts_full.xlsx', engine='xlsxwriter', options={'strings_to_urls': False}) as writer:\n"
     ]
    },
    {
     "name": "stdout",
     "output_type": "stream",
     "text": [
      "Completed search. Joining!\n",
      "Now searching r/Paleo for livalo\n"
     ]
    },
    {
     "name": "stderr",
     "output_type": "stream",
     "text": [
      "/var/folders/y1/2907rcw50gq_rm33vwpb806r0000gn/T/ipykernel_71372/533152681.py:22: FutureWarning: Use of **kwargs is deprecated, use engine_kwargs instead.\n",
      "  with pd.ExcelWriter(DATA_FOLDER + 'scraped_posts_full.xlsx', engine='xlsxwriter', options={'strings_to_urls': False}) as writer:\n"
     ]
    },
    {
     "name": "stdout",
     "output_type": "stream",
     "text": [
      "Completed search. Joining!\n",
      "Now searching r/Paleo for zypitamag\n"
     ]
    },
    {
     "name": "stderr",
     "output_type": "stream",
     "text": [
      "/var/folders/y1/2907rcw50gq_rm33vwpb806r0000gn/T/ipykernel_71372/533152681.py:22: FutureWarning: Use of **kwargs is deprecated, use engine_kwargs instead.\n",
      "  with pd.ExcelWriter(DATA_FOLDER + 'scraped_posts_full.xlsx', engine='xlsxwriter', options={'strings_to_urls': False}) as writer:\n"
     ]
    },
    {
     "name": "stdout",
     "output_type": "stream",
     "text": [
      "Completed search. Joining!\n",
      "Now searching r/Paleo for simvastatin\n"
     ]
    },
    {
     "name": "stderr",
     "output_type": "stream",
     "text": [
      "/var/folders/y1/2907rcw50gq_rm33vwpb806r0000gn/T/ipykernel_71372/533152681.py:22: FutureWarning: Use of **kwargs is deprecated, use engine_kwargs instead.\n",
      "  with pd.ExcelWriter(DATA_FOLDER + 'scraped_posts_full.xlsx', engine='xlsxwriter', options={'strings_to_urls': False}) as writer:\n"
     ]
    },
    {
     "name": "stdout",
     "output_type": "stream",
     "text": [
      "Completed search. Joining!\n",
      "Now searching r/Paleo for zocor\n"
     ]
    },
    {
     "name": "stderr",
     "output_type": "stream",
     "text": [
      "/var/folders/y1/2907rcw50gq_rm33vwpb806r0000gn/T/ipykernel_71372/533152681.py:22: FutureWarning: Use of **kwargs is deprecated, use engine_kwargs instead.\n",
      "  with pd.ExcelWriter(DATA_FOLDER + 'scraped_posts_full.xlsx', engine='xlsxwriter', options={'strings_to_urls': False}) as writer:\n"
     ]
    },
    {
     "name": "stdout",
     "output_type": "stream",
     "text": [
      "Completed search. Joining!\n",
      "Now searching r/Paleo for pravastatin\n"
     ]
    },
    {
     "name": "stderr",
     "output_type": "stream",
     "text": [
      "/var/folders/y1/2907rcw50gq_rm33vwpb806r0000gn/T/ipykernel_71372/533152681.py:22: FutureWarning: Use of **kwargs is deprecated, use engine_kwargs instead.\n",
      "  with pd.ExcelWriter(DATA_FOLDER + 'scraped_posts_full.xlsx', engine='xlsxwriter', options={'strings_to_urls': False}) as writer:\n"
     ]
    },
    {
     "name": "stdout",
     "output_type": "stream",
     "text": [
      "Completed search. Joining!\n",
      "Now searching r/Paleo for pravachol\n"
     ]
    },
    {
     "name": "stderr",
     "output_type": "stream",
     "text": [
      "/var/folders/y1/2907rcw50gq_rm33vwpb806r0000gn/T/ipykernel_71372/533152681.py:22: FutureWarning: Use of **kwargs is deprecated, use engine_kwargs instead.\n",
      "  with pd.ExcelWriter(DATA_FOLDER + 'scraped_posts_full.xlsx', engine='xlsxwriter', options={'strings_to_urls': False}) as writer:\n"
     ]
    },
    {
     "name": "stdout",
     "output_type": "stream",
     "text": [
      "Completed search. Joining!\n",
      "Now searching r/Paleo for lovastatin\n"
     ]
    },
    {
     "name": "stderr",
     "output_type": "stream",
     "text": [
      "/var/folders/y1/2907rcw50gq_rm33vwpb806r0000gn/T/ipykernel_71372/533152681.py:22: FutureWarning: Use of **kwargs is deprecated, use engine_kwargs instead.\n",
      "  with pd.ExcelWriter(DATA_FOLDER + 'scraped_posts_full.xlsx', engine='xlsxwriter', options={'strings_to_urls': False}) as writer:\n"
     ]
    },
    {
     "name": "stdout",
     "output_type": "stream",
     "text": [
      "Completed search. Joining!\n",
      "Now searching r/Paleo for altoprev\n"
     ]
    },
    {
     "name": "stderr",
     "output_type": "stream",
     "text": [
      "/var/folders/y1/2907rcw50gq_rm33vwpb806r0000gn/T/ipykernel_71372/533152681.py:22: FutureWarning: Use of **kwargs is deprecated, use engine_kwargs instead.\n",
      "  with pd.ExcelWriter(DATA_FOLDER + 'scraped_posts_full.xlsx', engine='xlsxwriter', options={'strings_to_urls': False}) as writer:\n"
     ]
    },
    {
     "name": "stdout",
     "output_type": "stream",
     "text": [
      "Completed search. Joining!\n",
      "Now searching r/Paleo for fluvastatin\n"
     ]
    },
    {
     "name": "stderr",
     "output_type": "stream",
     "text": [
      "/var/folders/y1/2907rcw50gq_rm33vwpb806r0000gn/T/ipykernel_71372/533152681.py:22: FutureWarning: Use of **kwargs is deprecated, use engine_kwargs instead.\n",
      "  with pd.ExcelWriter(DATA_FOLDER + 'scraped_posts_full.xlsx', engine='xlsxwriter', options={'strings_to_urls': False}) as writer:\n"
     ]
    },
    {
     "name": "stdout",
     "output_type": "stream",
     "text": [
      "Completed search. Joining!\n",
      "Now searching r/Paleo for lescol\n"
     ]
    },
    {
     "name": "stderr",
     "output_type": "stream",
     "text": [
      "/var/folders/y1/2907rcw50gq_rm33vwpb806r0000gn/T/ipykernel_71372/533152681.py:22: FutureWarning: Use of **kwargs is deprecated, use engine_kwargs instead.\n",
      "  with pd.ExcelWriter(DATA_FOLDER + 'scraped_posts_full.xlsx', engine='xlsxwriter', options={'strings_to_urls': False}) as writer:\n"
     ]
    },
    {
     "name": "stdout",
     "output_type": "stream",
     "text": [
      "Completed search. Joining!\n",
      "Now searching r/fasting for atorvastatin\n"
     ]
    },
    {
     "name": "stderr",
     "output_type": "stream",
     "text": [
      "/var/folders/y1/2907rcw50gq_rm33vwpb806r0000gn/T/ipykernel_71372/533152681.py:22: FutureWarning: Use of **kwargs is deprecated, use engine_kwargs instead.\n",
      "  with pd.ExcelWriter(DATA_FOLDER + 'scraped_posts_full.xlsx', engine='xlsxwriter', options={'strings_to_urls': False}) as writer:\n"
     ]
    },
    {
     "name": "stdout",
     "output_type": "stream",
     "text": [
      "Completed search. Joining!\n",
      "Now searching r/fasting for lipitor\n"
     ]
    },
    {
     "name": "stderr",
     "output_type": "stream",
     "text": [
      "/var/folders/y1/2907rcw50gq_rm33vwpb806r0000gn/T/ipykernel_71372/533152681.py:22: FutureWarning: Use of **kwargs is deprecated, use engine_kwargs instead.\n",
      "  with pd.ExcelWriter(DATA_FOLDER + 'scraped_posts_full.xlsx', engine='xlsxwriter', options={'strings_to_urls': False}) as writer:\n"
     ]
    },
    {
     "name": "stdout",
     "output_type": "stream",
     "text": [
      "Completed search. Joining!\n",
      "Now searching r/fasting for rosuvastatin\n"
     ]
    },
    {
     "name": "stderr",
     "output_type": "stream",
     "text": [
      "/var/folders/y1/2907rcw50gq_rm33vwpb806r0000gn/T/ipykernel_71372/533152681.py:22: FutureWarning: Use of **kwargs is deprecated, use engine_kwargs instead.\n",
      "  with pd.ExcelWriter(DATA_FOLDER + 'scraped_posts_full.xlsx', engine='xlsxwriter', options={'strings_to_urls': False}) as writer:\n"
     ]
    },
    {
     "name": "stdout",
     "output_type": "stream",
     "text": [
      "Completed search. Joining!\n",
      "Now searching r/fasting for crestor\n"
     ]
    },
    {
     "name": "stderr",
     "output_type": "stream",
     "text": [
      "/var/folders/y1/2907rcw50gq_rm33vwpb806r0000gn/T/ipykernel_71372/533152681.py:22: FutureWarning: Use of **kwargs is deprecated, use engine_kwargs instead.\n",
      "  with pd.ExcelWriter(DATA_FOLDER + 'scraped_posts_full.xlsx', engine='xlsxwriter', options={'strings_to_urls': False}) as writer:\n"
     ]
    },
    {
     "name": "stdout",
     "output_type": "stream",
     "text": [
      "Completed search. Joining!\n",
      "Now searching r/fasting for pitavastatin\n"
     ]
    },
    {
     "name": "stderr",
     "output_type": "stream",
     "text": [
      "/var/folders/y1/2907rcw50gq_rm33vwpb806r0000gn/T/ipykernel_71372/533152681.py:22: FutureWarning: Use of **kwargs is deprecated, use engine_kwargs instead.\n",
      "  with pd.ExcelWriter(DATA_FOLDER + 'scraped_posts_full.xlsx', engine='xlsxwriter', options={'strings_to_urls': False}) as writer:\n"
     ]
    },
    {
     "name": "stdout",
     "output_type": "stream",
     "text": [
      "Completed search. Joining!\n",
      "Now searching r/fasting for livalo\n"
     ]
    },
    {
     "name": "stderr",
     "output_type": "stream",
     "text": [
      "/var/folders/y1/2907rcw50gq_rm33vwpb806r0000gn/T/ipykernel_71372/533152681.py:22: FutureWarning: Use of **kwargs is deprecated, use engine_kwargs instead.\n",
      "  with pd.ExcelWriter(DATA_FOLDER + 'scraped_posts_full.xlsx', engine='xlsxwriter', options={'strings_to_urls': False}) as writer:\n"
     ]
    },
    {
     "name": "stdout",
     "output_type": "stream",
     "text": [
      "Completed search. Joining!\n",
      "Now searching r/fasting for zypitamag\n"
     ]
    },
    {
     "name": "stderr",
     "output_type": "stream",
     "text": [
      "/var/folders/y1/2907rcw50gq_rm33vwpb806r0000gn/T/ipykernel_71372/533152681.py:22: FutureWarning: Use of **kwargs is deprecated, use engine_kwargs instead.\n",
      "  with pd.ExcelWriter(DATA_FOLDER + 'scraped_posts_full.xlsx', engine='xlsxwriter', options={'strings_to_urls': False}) as writer:\n"
     ]
    },
    {
     "name": "stdout",
     "output_type": "stream",
     "text": [
      "Completed search. Joining!\n",
      "Now searching r/fasting for simvastatin\n"
     ]
    },
    {
     "name": "stderr",
     "output_type": "stream",
     "text": [
      "/var/folders/y1/2907rcw50gq_rm33vwpb806r0000gn/T/ipykernel_71372/533152681.py:22: FutureWarning: Use of **kwargs is deprecated, use engine_kwargs instead.\n",
      "  with pd.ExcelWriter(DATA_FOLDER + 'scraped_posts_full.xlsx', engine='xlsxwriter', options={'strings_to_urls': False}) as writer:\n"
     ]
    },
    {
     "name": "stdout",
     "output_type": "stream",
     "text": [
      "Completed search. Joining!\n",
      "Now searching r/fasting for zocor\n"
     ]
    },
    {
     "name": "stderr",
     "output_type": "stream",
     "text": [
      "/var/folders/y1/2907rcw50gq_rm33vwpb806r0000gn/T/ipykernel_71372/533152681.py:22: FutureWarning: Use of **kwargs is deprecated, use engine_kwargs instead.\n",
      "  with pd.ExcelWriter(DATA_FOLDER + 'scraped_posts_full.xlsx', engine='xlsxwriter', options={'strings_to_urls': False}) as writer:\n"
     ]
    },
    {
     "name": "stdout",
     "output_type": "stream",
     "text": [
      "Completed search. Joining!\n",
      "Now searching r/fasting for pravastatin\n"
     ]
    },
    {
     "name": "stderr",
     "output_type": "stream",
     "text": [
      "/var/folders/y1/2907rcw50gq_rm33vwpb806r0000gn/T/ipykernel_71372/533152681.py:22: FutureWarning: Use of **kwargs is deprecated, use engine_kwargs instead.\n",
      "  with pd.ExcelWriter(DATA_FOLDER + 'scraped_posts_full.xlsx', engine='xlsxwriter', options={'strings_to_urls': False}) as writer:\n"
     ]
    },
    {
     "name": "stdout",
     "output_type": "stream",
     "text": [
      "Completed search. Joining!\n",
      "Now searching r/fasting for pravachol\n"
     ]
    },
    {
     "name": "stderr",
     "output_type": "stream",
     "text": [
      "/var/folders/y1/2907rcw50gq_rm33vwpb806r0000gn/T/ipykernel_71372/533152681.py:22: FutureWarning: Use of **kwargs is deprecated, use engine_kwargs instead.\n",
      "  with pd.ExcelWriter(DATA_FOLDER + 'scraped_posts_full.xlsx', engine='xlsxwriter', options={'strings_to_urls': False}) as writer:\n"
     ]
    },
    {
     "name": "stdout",
     "output_type": "stream",
     "text": [
      "Completed search. Joining!\n",
      "Now searching r/fasting for lovastatin\n"
     ]
    },
    {
     "name": "stderr",
     "output_type": "stream",
     "text": [
      "/var/folders/y1/2907rcw50gq_rm33vwpb806r0000gn/T/ipykernel_71372/533152681.py:22: FutureWarning: Use of **kwargs is deprecated, use engine_kwargs instead.\n",
      "  with pd.ExcelWriter(DATA_FOLDER + 'scraped_posts_full.xlsx', engine='xlsxwriter', options={'strings_to_urls': False}) as writer:\n"
     ]
    },
    {
     "name": "stdout",
     "output_type": "stream",
     "text": [
      "Completed search. Joining!\n",
      "Now searching r/fasting for altoprev\n"
     ]
    },
    {
     "name": "stderr",
     "output_type": "stream",
     "text": [
      "/var/folders/y1/2907rcw50gq_rm33vwpb806r0000gn/T/ipykernel_71372/533152681.py:22: FutureWarning: Use of **kwargs is deprecated, use engine_kwargs instead.\n",
      "  with pd.ExcelWriter(DATA_FOLDER + 'scraped_posts_full.xlsx', engine='xlsxwriter', options={'strings_to_urls': False}) as writer:\n"
     ]
    },
    {
     "name": "stdout",
     "output_type": "stream",
     "text": [
      "Completed search. Joining!\n",
      "Now searching r/fasting for fluvastatin\n"
     ]
    },
    {
     "name": "stderr",
     "output_type": "stream",
     "text": [
      "/var/folders/y1/2907rcw50gq_rm33vwpb806r0000gn/T/ipykernel_71372/533152681.py:22: FutureWarning: Use of **kwargs is deprecated, use engine_kwargs instead.\n",
      "  with pd.ExcelWriter(DATA_FOLDER + 'scraped_posts_full.xlsx', engine='xlsxwriter', options={'strings_to_urls': False}) as writer:\n"
     ]
    },
    {
     "name": "stdout",
     "output_type": "stream",
     "text": [
      "Completed search. Joining!\n",
      "Now searching r/fasting for lescol\n"
     ]
    },
    {
     "name": "stderr",
     "output_type": "stream",
     "text": [
      "/var/folders/y1/2907rcw50gq_rm33vwpb806r0000gn/T/ipykernel_71372/533152681.py:22: FutureWarning: Use of **kwargs is deprecated, use engine_kwargs instead.\n",
      "  with pd.ExcelWriter(DATA_FOLDER + 'scraped_posts_full.xlsx', engine='xlsxwriter', options={'strings_to_urls': False}) as writer:\n"
     ]
    },
    {
     "name": "stdout",
     "output_type": "stream",
     "text": [
      "Completed search. Joining!\n",
      "Now searching r/longevity for atorvastatin\n"
     ]
    },
    {
     "name": "stderr",
     "output_type": "stream",
     "text": [
      "/var/folders/y1/2907rcw50gq_rm33vwpb806r0000gn/T/ipykernel_71372/533152681.py:22: FutureWarning: Use of **kwargs is deprecated, use engine_kwargs instead.\n",
      "  with pd.ExcelWriter(DATA_FOLDER + 'scraped_posts_full.xlsx', engine='xlsxwriter', options={'strings_to_urls': False}) as writer:\n"
     ]
    },
    {
     "name": "stdout",
     "output_type": "stream",
     "text": [
      "Completed search. Joining!\n",
      "Now searching r/longevity for lipitor\n"
     ]
    },
    {
     "name": "stderr",
     "output_type": "stream",
     "text": [
      "/var/folders/y1/2907rcw50gq_rm33vwpb806r0000gn/T/ipykernel_71372/533152681.py:22: FutureWarning: Use of **kwargs is deprecated, use engine_kwargs instead.\n",
      "  with pd.ExcelWriter(DATA_FOLDER + 'scraped_posts_full.xlsx', engine='xlsxwriter', options={'strings_to_urls': False}) as writer:\n"
     ]
    },
    {
     "name": "stdout",
     "output_type": "stream",
     "text": [
      "Completed search. Joining!\n",
      "Now searching r/longevity for rosuvastatin\n"
     ]
    },
    {
     "name": "stderr",
     "output_type": "stream",
     "text": [
      "/var/folders/y1/2907rcw50gq_rm33vwpb806r0000gn/T/ipykernel_71372/533152681.py:22: FutureWarning: Use of **kwargs is deprecated, use engine_kwargs instead.\n",
      "  with pd.ExcelWriter(DATA_FOLDER + 'scraped_posts_full.xlsx', engine='xlsxwriter', options={'strings_to_urls': False}) as writer:\n"
     ]
    },
    {
     "name": "stdout",
     "output_type": "stream",
     "text": [
      "Completed search. Joining!\n",
      "Now searching r/longevity for crestor\n"
     ]
    },
    {
     "name": "stderr",
     "output_type": "stream",
     "text": [
      "/var/folders/y1/2907rcw50gq_rm33vwpb806r0000gn/T/ipykernel_71372/533152681.py:22: FutureWarning: Use of **kwargs is deprecated, use engine_kwargs instead.\n",
      "  with pd.ExcelWriter(DATA_FOLDER + 'scraped_posts_full.xlsx', engine='xlsxwriter', options={'strings_to_urls': False}) as writer:\n"
     ]
    },
    {
     "name": "stdout",
     "output_type": "stream",
     "text": [
      "Completed search. Joining!\n",
      "Now searching r/longevity for pitavastatin\n"
     ]
    },
    {
     "name": "stderr",
     "output_type": "stream",
     "text": [
      "/var/folders/y1/2907rcw50gq_rm33vwpb806r0000gn/T/ipykernel_71372/533152681.py:22: FutureWarning: Use of **kwargs is deprecated, use engine_kwargs instead.\n",
      "  with pd.ExcelWriter(DATA_FOLDER + 'scraped_posts_full.xlsx', engine='xlsxwriter', options={'strings_to_urls': False}) as writer:\n"
     ]
    },
    {
     "name": "stdout",
     "output_type": "stream",
     "text": [
      "Completed search. Joining!\n",
      "Now searching r/longevity for livalo\n"
     ]
    },
    {
     "name": "stderr",
     "output_type": "stream",
     "text": [
      "/var/folders/y1/2907rcw50gq_rm33vwpb806r0000gn/T/ipykernel_71372/533152681.py:22: FutureWarning: Use of **kwargs is deprecated, use engine_kwargs instead.\n",
      "  with pd.ExcelWriter(DATA_FOLDER + 'scraped_posts_full.xlsx', engine='xlsxwriter', options={'strings_to_urls': False}) as writer:\n"
     ]
    },
    {
     "name": "stdout",
     "output_type": "stream",
     "text": [
      "Completed search. Joining!\n",
      "Now searching r/longevity for zypitamag\n"
     ]
    },
    {
     "name": "stderr",
     "output_type": "stream",
     "text": [
      "/var/folders/y1/2907rcw50gq_rm33vwpb806r0000gn/T/ipykernel_71372/533152681.py:22: FutureWarning: Use of **kwargs is deprecated, use engine_kwargs instead.\n",
      "  with pd.ExcelWriter(DATA_FOLDER + 'scraped_posts_full.xlsx', engine='xlsxwriter', options={'strings_to_urls': False}) as writer:\n"
     ]
    },
    {
     "name": "stdout",
     "output_type": "stream",
     "text": [
      "Completed search. Joining!\n",
      "Now searching r/longevity for simvastatin\n"
     ]
    },
    {
     "name": "stderr",
     "output_type": "stream",
     "text": [
      "/var/folders/y1/2907rcw50gq_rm33vwpb806r0000gn/T/ipykernel_71372/533152681.py:22: FutureWarning: Use of **kwargs is deprecated, use engine_kwargs instead.\n",
      "  with pd.ExcelWriter(DATA_FOLDER + 'scraped_posts_full.xlsx', engine='xlsxwriter', options={'strings_to_urls': False}) as writer:\n"
     ]
    },
    {
     "name": "stdout",
     "output_type": "stream",
     "text": [
      "Completed search. Joining!\n",
      "Now searching r/longevity for zocor\n"
     ]
    },
    {
     "name": "stderr",
     "output_type": "stream",
     "text": [
      "/var/folders/y1/2907rcw50gq_rm33vwpb806r0000gn/T/ipykernel_71372/533152681.py:22: FutureWarning: Use of **kwargs is deprecated, use engine_kwargs instead.\n",
      "  with pd.ExcelWriter(DATA_FOLDER + 'scraped_posts_full.xlsx', engine='xlsxwriter', options={'strings_to_urls': False}) as writer:\n"
     ]
    },
    {
     "name": "stdout",
     "output_type": "stream",
     "text": [
      "Completed search. Joining!\n",
      "Now searching r/longevity for pravastatin\n"
     ]
    },
    {
     "name": "stderr",
     "output_type": "stream",
     "text": [
      "/var/folders/y1/2907rcw50gq_rm33vwpb806r0000gn/T/ipykernel_71372/533152681.py:22: FutureWarning: Use of **kwargs is deprecated, use engine_kwargs instead.\n",
      "  with pd.ExcelWriter(DATA_FOLDER + 'scraped_posts_full.xlsx', engine='xlsxwriter', options={'strings_to_urls': False}) as writer:\n"
     ]
    },
    {
     "name": "stdout",
     "output_type": "stream",
     "text": [
      "Completed search. Joining!\n",
      "Now searching r/longevity for pravachol\n"
     ]
    },
    {
     "name": "stderr",
     "output_type": "stream",
     "text": [
      "/var/folders/y1/2907rcw50gq_rm33vwpb806r0000gn/T/ipykernel_71372/533152681.py:22: FutureWarning: Use of **kwargs is deprecated, use engine_kwargs instead.\n",
      "  with pd.ExcelWriter(DATA_FOLDER + 'scraped_posts_full.xlsx', engine='xlsxwriter', options={'strings_to_urls': False}) as writer:\n"
     ]
    },
    {
     "name": "stdout",
     "output_type": "stream",
     "text": [
      "Completed search. Joining!\n",
      "Now searching r/longevity for lovastatin\n"
     ]
    },
    {
     "name": "stderr",
     "output_type": "stream",
     "text": [
      "/var/folders/y1/2907rcw50gq_rm33vwpb806r0000gn/T/ipykernel_71372/533152681.py:22: FutureWarning: Use of **kwargs is deprecated, use engine_kwargs instead.\n",
      "  with pd.ExcelWriter(DATA_FOLDER + 'scraped_posts_full.xlsx', engine='xlsxwriter', options={'strings_to_urls': False}) as writer:\n"
     ]
    },
    {
     "name": "stdout",
     "output_type": "stream",
     "text": [
      "Completed search. Joining!\n",
      "Now searching r/longevity for altoprev\n"
     ]
    },
    {
     "name": "stderr",
     "output_type": "stream",
     "text": [
      "/var/folders/y1/2907rcw50gq_rm33vwpb806r0000gn/T/ipykernel_71372/533152681.py:22: FutureWarning: Use of **kwargs is deprecated, use engine_kwargs instead.\n",
      "  with pd.ExcelWriter(DATA_FOLDER + 'scraped_posts_full.xlsx', engine='xlsxwriter', options={'strings_to_urls': False}) as writer:\n"
     ]
    },
    {
     "name": "stdout",
     "output_type": "stream",
     "text": [
      "Completed search. Joining!\n",
      "Now searching r/longevity for fluvastatin\n"
     ]
    },
    {
     "name": "stderr",
     "output_type": "stream",
     "text": [
      "/var/folders/y1/2907rcw50gq_rm33vwpb806r0000gn/T/ipykernel_71372/533152681.py:22: FutureWarning: Use of **kwargs is deprecated, use engine_kwargs instead.\n",
      "  with pd.ExcelWriter(DATA_FOLDER + 'scraped_posts_full.xlsx', engine='xlsxwriter', options={'strings_to_urls': False}) as writer:\n"
     ]
    },
    {
     "name": "stdout",
     "output_type": "stream",
     "text": [
      "Completed search. Joining!\n",
      "Now searching r/longevity for lescol\n"
     ]
    },
    {
     "name": "stderr",
     "output_type": "stream",
     "text": [
      "/var/folders/y1/2907rcw50gq_rm33vwpb806r0000gn/T/ipykernel_71372/533152681.py:22: FutureWarning: Use of **kwargs is deprecated, use engine_kwargs instead.\n",
      "  with pd.ExcelWriter(DATA_FOLDER + 'scraped_posts_full.xlsx', engine='xlsxwriter', options={'strings_to_urls': False}) as writer:\n"
     ]
    },
    {
     "name": "stdout",
     "output_type": "stream",
     "text": [
      "Completed search. Joining!\n",
      "Now searching r/Supplements for atorvastatin\n"
     ]
    },
    {
     "name": "stderr",
     "output_type": "stream",
     "text": [
      "/var/folders/y1/2907rcw50gq_rm33vwpb806r0000gn/T/ipykernel_71372/533152681.py:22: FutureWarning: Use of **kwargs is deprecated, use engine_kwargs instead.\n",
      "  with pd.ExcelWriter(DATA_FOLDER + 'scraped_posts_full.xlsx', engine='xlsxwriter', options={'strings_to_urls': False}) as writer:\n"
     ]
    },
    {
     "name": "stdout",
     "output_type": "stream",
     "text": [
      "Completed search. Joining!\n",
      "Now searching r/Supplements for lipitor\n"
     ]
    },
    {
     "name": "stderr",
     "output_type": "stream",
     "text": [
      "/var/folders/y1/2907rcw50gq_rm33vwpb806r0000gn/T/ipykernel_71372/533152681.py:22: FutureWarning: Use of **kwargs is deprecated, use engine_kwargs instead.\n",
      "  with pd.ExcelWriter(DATA_FOLDER + 'scraped_posts_full.xlsx', engine='xlsxwriter', options={'strings_to_urls': False}) as writer:\n"
     ]
    },
    {
     "name": "stdout",
     "output_type": "stream",
     "text": [
      "Completed search. Joining!\n",
      "Now searching r/Supplements for rosuvastatin\n"
     ]
    },
    {
     "name": "stderr",
     "output_type": "stream",
     "text": [
      "/var/folders/y1/2907rcw50gq_rm33vwpb806r0000gn/T/ipykernel_71372/533152681.py:22: FutureWarning: Use of **kwargs is deprecated, use engine_kwargs instead.\n",
      "  with pd.ExcelWriter(DATA_FOLDER + 'scraped_posts_full.xlsx', engine='xlsxwriter', options={'strings_to_urls': False}) as writer:\n"
     ]
    },
    {
     "name": "stdout",
     "output_type": "stream",
     "text": [
      "Completed search. Joining!\n",
      "Now searching r/Supplements for crestor\n"
     ]
    },
    {
     "name": "stderr",
     "output_type": "stream",
     "text": [
      "/var/folders/y1/2907rcw50gq_rm33vwpb806r0000gn/T/ipykernel_71372/533152681.py:22: FutureWarning: Use of **kwargs is deprecated, use engine_kwargs instead.\n",
      "  with pd.ExcelWriter(DATA_FOLDER + 'scraped_posts_full.xlsx', engine='xlsxwriter', options={'strings_to_urls': False}) as writer:\n"
     ]
    },
    {
     "name": "stdout",
     "output_type": "stream",
     "text": [
      "Completed search. Joining!\n",
      "Now searching r/Supplements for pitavastatin\n"
     ]
    },
    {
     "name": "stderr",
     "output_type": "stream",
     "text": [
      "/var/folders/y1/2907rcw50gq_rm33vwpb806r0000gn/T/ipykernel_71372/533152681.py:22: FutureWarning: Use of **kwargs is deprecated, use engine_kwargs instead.\n",
      "  with pd.ExcelWriter(DATA_FOLDER + 'scraped_posts_full.xlsx', engine='xlsxwriter', options={'strings_to_urls': False}) as writer:\n"
     ]
    },
    {
     "name": "stdout",
     "output_type": "stream",
     "text": [
      "Completed search. Joining!\n",
      "Now searching r/Supplements for livalo\n"
     ]
    },
    {
     "name": "stderr",
     "output_type": "stream",
     "text": [
      "/var/folders/y1/2907rcw50gq_rm33vwpb806r0000gn/T/ipykernel_71372/533152681.py:22: FutureWarning: Use of **kwargs is deprecated, use engine_kwargs instead.\n",
      "  with pd.ExcelWriter(DATA_FOLDER + 'scraped_posts_full.xlsx', engine='xlsxwriter', options={'strings_to_urls': False}) as writer:\n"
     ]
    },
    {
     "name": "stdout",
     "output_type": "stream",
     "text": [
      "Completed search. Joining!\n",
      "Now searching r/Supplements for zypitamag\n"
     ]
    },
    {
     "name": "stderr",
     "output_type": "stream",
     "text": [
      "/var/folders/y1/2907rcw50gq_rm33vwpb806r0000gn/T/ipykernel_71372/533152681.py:22: FutureWarning: Use of **kwargs is deprecated, use engine_kwargs instead.\n",
      "  with pd.ExcelWriter(DATA_FOLDER + 'scraped_posts_full.xlsx', engine='xlsxwriter', options={'strings_to_urls': False}) as writer:\n"
     ]
    },
    {
     "name": "stdout",
     "output_type": "stream",
     "text": [
      "Completed search. Joining!\n",
      "Now searching r/Supplements for simvastatin\n"
     ]
    },
    {
     "name": "stderr",
     "output_type": "stream",
     "text": [
      "/var/folders/y1/2907rcw50gq_rm33vwpb806r0000gn/T/ipykernel_71372/533152681.py:22: FutureWarning: Use of **kwargs is deprecated, use engine_kwargs instead.\n",
      "  with pd.ExcelWriter(DATA_FOLDER + 'scraped_posts_full.xlsx', engine='xlsxwriter', options={'strings_to_urls': False}) as writer:\n"
     ]
    },
    {
     "name": "stdout",
     "output_type": "stream",
     "text": [
      "Completed search. Joining!\n",
      "Now searching r/Supplements for zocor\n"
     ]
    },
    {
     "name": "stderr",
     "output_type": "stream",
     "text": [
      "/var/folders/y1/2907rcw50gq_rm33vwpb806r0000gn/T/ipykernel_71372/533152681.py:22: FutureWarning: Use of **kwargs is deprecated, use engine_kwargs instead.\n",
      "  with pd.ExcelWriter(DATA_FOLDER + 'scraped_posts_full.xlsx', engine='xlsxwriter', options={'strings_to_urls': False}) as writer:\n"
     ]
    },
    {
     "name": "stdout",
     "output_type": "stream",
     "text": [
      "Completed search. Joining!\n",
      "Now searching r/Supplements for pravastatin\n"
     ]
    },
    {
     "name": "stderr",
     "output_type": "stream",
     "text": [
      "/var/folders/y1/2907rcw50gq_rm33vwpb806r0000gn/T/ipykernel_71372/533152681.py:22: FutureWarning: Use of **kwargs is deprecated, use engine_kwargs instead.\n",
      "  with pd.ExcelWriter(DATA_FOLDER + 'scraped_posts_full.xlsx', engine='xlsxwriter', options={'strings_to_urls': False}) as writer:\n"
     ]
    },
    {
     "name": "stdout",
     "output_type": "stream",
     "text": [
      "Completed search. Joining!\n",
      "Now searching r/Supplements for pravachol\n"
     ]
    },
    {
     "name": "stderr",
     "output_type": "stream",
     "text": [
      "/var/folders/y1/2907rcw50gq_rm33vwpb806r0000gn/T/ipykernel_71372/533152681.py:22: FutureWarning: Use of **kwargs is deprecated, use engine_kwargs instead.\n",
      "  with pd.ExcelWriter(DATA_FOLDER + 'scraped_posts_full.xlsx', engine='xlsxwriter', options={'strings_to_urls': False}) as writer:\n"
     ]
    },
    {
     "name": "stdout",
     "output_type": "stream",
     "text": [
      "Completed search. Joining!\n",
      "Now searching r/Supplements for lovastatin\n"
     ]
    },
    {
     "name": "stderr",
     "output_type": "stream",
     "text": [
      "/var/folders/y1/2907rcw50gq_rm33vwpb806r0000gn/T/ipykernel_71372/533152681.py:22: FutureWarning: Use of **kwargs is deprecated, use engine_kwargs instead.\n",
      "  with pd.ExcelWriter(DATA_FOLDER + 'scraped_posts_full.xlsx', engine='xlsxwriter', options={'strings_to_urls': False}) as writer:\n"
     ]
    },
    {
     "name": "stdout",
     "output_type": "stream",
     "text": [
      "Completed search. Joining!\n",
      "Now searching r/Supplements for altoprev\n"
     ]
    },
    {
     "name": "stderr",
     "output_type": "stream",
     "text": [
      "/var/folders/y1/2907rcw50gq_rm33vwpb806r0000gn/T/ipykernel_71372/533152681.py:22: FutureWarning: Use of **kwargs is deprecated, use engine_kwargs instead.\n",
      "  with pd.ExcelWriter(DATA_FOLDER + 'scraped_posts_full.xlsx', engine='xlsxwriter', options={'strings_to_urls': False}) as writer:\n"
     ]
    },
    {
     "name": "stdout",
     "output_type": "stream",
     "text": [
      "Completed search. Joining!\n",
      "Now searching r/Supplements for fluvastatin\n"
     ]
    },
    {
     "name": "stderr",
     "output_type": "stream",
     "text": [
      "/var/folders/y1/2907rcw50gq_rm33vwpb806r0000gn/T/ipykernel_71372/533152681.py:22: FutureWarning: Use of **kwargs is deprecated, use engine_kwargs instead.\n",
      "  with pd.ExcelWriter(DATA_FOLDER + 'scraped_posts_full.xlsx', engine='xlsxwriter', options={'strings_to_urls': False}) as writer:\n"
     ]
    },
    {
     "name": "stdout",
     "output_type": "stream",
     "text": [
      "Completed search. Joining!\n",
      "Now searching r/Supplements for lescol\n"
     ]
    },
    {
     "name": "stderr",
     "output_type": "stream",
     "text": [
      "/var/folders/y1/2907rcw50gq_rm33vwpb806r0000gn/T/ipykernel_71372/533152681.py:22: FutureWarning: Use of **kwargs is deprecated, use engine_kwargs instead.\n",
      "  with pd.ExcelWriter(DATA_FOLDER + 'scraped_posts_full.xlsx', engine='xlsxwriter', options={'strings_to_urls': False}) as writer:\n"
     ]
    },
    {
     "name": "stdout",
     "output_type": "stream",
     "text": [
      "Completed search. Joining!\n",
      "Now searching r/Coronavirus for atorvastatin\n"
     ]
    },
    {
     "name": "stderr",
     "output_type": "stream",
     "text": [
      "/var/folders/y1/2907rcw50gq_rm33vwpb806r0000gn/T/ipykernel_71372/533152681.py:22: FutureWarning: Use of **kwargs is deprecated, use engine_kwargs instead.\n",
      "  with pd.ExcelWriter(DATA_FOLDER + 'scraped_posts_full.xlsx', engine='xlsxwriter', options={'strings_to_urls': False}) as writer:\n"
     ]
    },
    {
     "name": "stdout",
     "output_type": "stream",
     "text": [
      "Completed search. Joining!\n",
      "Now searching r/Coronavirus for lipitor\n"
     ]
    },
    {
     "name": "stderr",
     "output_type": "stream",
     "text": [
      "/var/folders/y1/2907rcw50gq_rm33vwpb806r0000gn/T/ipykernel_71372/533152681.py:22: FutureWarning: Use of **kwargs is deprecated, use engine_kwargs instead.\n",
      "  with pd.ExcelWriter(DATA_FOLDER + 'scraped_posts_full.xlsx', engine='xlsxwriter', options={'strings_to_urls': False}) as writer:\n"
     ]
    },
    {
     "name": "stdout",
     "output_type": "stream",
     "text": [
      "Completed search. Joining!\n",
      "Now searching r/Coronavirus for rosuvastatin\n"
     ]
    },
    {
     "name": "stderr",
     "output_type": "stream",
     "text": [
      "/var/folders/y1/2907rcw50gq_rm33vwpb806r0000gn/T/ipykernel_71372/533152681.py:22: FutureWarning: Use of **kwargs is deprecated, use engine_kwargs instead.\n",
      "  with pd.ExcelWriter(DATA_FOLDER + 'scraped_posts_full.xlsx', engine='xlsxwriter', options={'strings_to_urls': False}) as writer:\n"
     ]
    },
    {
     "name": "stdout",
     "output_type": "stream",
     "text": [
      "Completed search. Joining!\n",
      "Now searching r/Coronavirus for crestor\n"
     ]
    },
    {
     "name": "stderr",
     "output_type": "stream",
     "text": [
      "/var/folders/y1/2907rcw50gq_rm33vwpb806r0000gn/T/ipykernel_71372/533152681.py:22: FutureWarning: Use of **kwargs is deprecated, use engine_kwargs instead.\n",
      "  with pd.ExcelWriter(DATA_FOLDER + 'scraped_posts_full.xlsx', engine='xlsxwriter', options={'strings_to_urls': False}) as writer:\n"
     ]
    },
    {
     "name": "stdout",
     "output_type": "stream",
     "text": [
      "Completed search. Joining!\n",
      "Now searching r/Coronavirus for pitavastatin\n"
     ]
    },
    {
     "name": "stderr",
     "output_type": "stream",
     "text": [
      "/var/folders/y1/2907rcw50gq_rm33vwpb806r0000gn/T/ipykernel_71372/533152681.py:22: FutureWarning: Use of **kwargs is deprecated, use engine_kwargs instead.\n",
      "  with pd.ExcelWriter(DATA_FOLDER + 'scraped_posts_full.xlsx', engine='xlsxwriter', options={'strings_to_urls': False}) as writer:\n"
     ]
    },
    {
     "name": "stdout",
     "output_type": "stream",
     "text": [
      "Completed search. Joining!\n",
      "Now searching r/Coronavirus for livalo\n"
     ]
    },
    {
     "name": "stderr",
     "output_type": "stream",
     "text": [
      "/var/folders/y1/2907rcw50gq_rm33vwpb806r0000gn/T/ipykernel_71372/533152681.py:22: FutureWarning: Use of **kwargs is deprecated, use engine_kwargs instead.\n",
      "  with pd.ExcelWriter(DATA_FOLDER + 'scraped_posts_full.xlsx', engine='xlsxwriter', options={'strings_to_urls': False}) as writer:\n"
     ]
    },
    {
     "name": "stdout",
     "output_type": "stream",
     "text": [
      "Completed search. Joining!\n",
      "Now searching r/Coronavirus for zypitamag\n"
     ]
    },
    {
     "name": "stderr",
     "output_type": "stream",
     "text": [
      "/var/folders/y1/2907rcw50gq_rm33vwpb806r0000gn/T/ipykernel_71372/533152681.py:22: FutureWarning: Use of **kwargs is deprecated, use engine_kwargs instead.\n",
      "  with pd.ExcelWriter(DATA_FOLDER + 'scraped_posts_full.xlsx', engine='xlsxwriter', options={'strings_to_urls': False}) as writer:\n"
     ]
    },
    {
     "name": "stdout",
     "output_type": "stream",
     "text": [
      "Completed search. Joining!\n",
      "Now searching r/Coronavirus for simvastatin\n"
     ]
    },
    {
     "name": "stderr",
     "output_type": "stream",
     "text": [
      "/var/folders/y1/2907rcw50gq_rm33vwpb806r0000gn/T/ipykernel_71372/533152681.py:22: FutureWarning: Use of **kwargs is deprecated, use engine_kwargs instead.\n",
      "  with pd.ExcelWriter(DATA_FOLDER + 'scraped_posts_full.xlsx', engine='xlsxwriter', options={'strings_to_urls': False}) as writer:\n"
     ]
    },
    {
     "name": "stdout",
     "output_type": "stream",
     "text": [
      "Completed search. Joining!\n",
      "Now searching r/Coronavirus for zocor\n"
     ]
    },
    {
     "name": "stderr",
     "output_type": "stream",
     "text": [
      "/var/folders/y1/2907rcw50gq_rm33vwpb806r0000gn/T/ipykernel_71372/533152681.py:22: FutureWarning: Use of **kwargs is deprecated, use engine_kwargs instead.\n",
      "  with pd.ExcelWriter(DATA_FOLDER + 'scraped_posts_full.xlsx', engine='xlsxwriter', options={'strings_to_urls': False}) as writer:\n"
     ]
    },
    {
     "name": "stdout",
     "output_type": "stream",
     "text": [
      "Completed search. Joining!\n",
      "Now searching r/Coronavirus for pravastatin\n"
     ]
    },
    {
     "name": "stderr",
     "output_type": "stream",
     "text": [
      "/var/folders/y1/2907rcw50gq_rm33vwpb806r0000gn/T/ipykernel_71372/533152681.py:22: FutureWarning: Use of **kwargs is deprecated, use engine_kwargs instead.\n",
      "  with pd.ExcelWriter(DATA_FOLDER + 'scraped_posts_full.xlsx', engine='xlsxwriter', options={'strings_to_urls': False}) as writer:\n"
     ]
    },
    {
     "name": "stdout",
     "output_type": "stream",
     "text": [
      "Completed search. Joining!\n",
      "Now searching r/Coronavirus for pravachol\n"
     ]
    },
    {
     "name": "stderr",
     "output_type": "stream",
     "text": [
      "/var/folders/y1/2907rcw50gq_rm33vwpb806r0000gn/T/ipykernel_71372/533152681.py:22: FutureWarning: Use of **kwargs is deprecated, use engine_kwargs instead.\n",
      "  with pd.ExcelWriter(DATA_FOLDER + 'scraped_posts_full.xlsx', engine='xlsxwriter', options={'strings_to_urls': False}) as writer:\n"
     ]
    },
    {
     "name": "stdout",
     "output_type": "stream",
     "text": [
      "Completed search. Joining!\n",
      "Now searching r/Coronavirus for lovastatin\n"
     ]
    },
    {
     "name": "stderr",
     "output_type": "stream",
     "text": [
      "/var/folders/y1/2907rcw50gq_rm33vwpb806r0000gn/T/ipykernel_71372/533152681.py:22: FutureWarning: Use of **kwargs is deprecated, use engine_kwargs instead.\n",
      "  with pd.ExcelWriter(DATA_FOLDER + 'scraped_posts_full.xlsx', engine='xlsxwriter', options={'strings_to_urls': False}) as writer:\n"
     ]
    },
    {
     "name": "stdout",
     "output_type": "stream",
     "text": [
      "Completed search. Joining!\n",
      "Now searching r/Coronavirus for altoprev\n"
     ]
    },
    {
     "name": "stderr",
     "output_type": "stream",
     "text": [
      "/var/folders/y1/2907rcw50gq_rm33vwpb806r0000gn/T/ipykernel_71372/533152681.py:22: FutureWarning: Use of **kwargs is deprecated, use engine_kwargs instead.\n",
      "  with pd.ExcelWriter(DATA_FOLDER + 'scraped_posts_full.xlsx', engine='xlsxwriter', options={'strings_to_urls': False}) as writer:\n"
     ]
    },
    {
     "name": "stdout",
     "output_type": "stream",
     "text": [
      "Completed search. Joining!\n",
      "Now searching r/Coronavirus for fluvastatin\n"
     ]
    },
    {
     "name": "stderr",
     "output_type": "stream",
     "text": [
      "/var/folders/y1/2907rcw50gq_rm33vwpb806r0000gn/T/ipykernel_71372/533152681.py:22: FutureWarning: Use of **kwargs is deprecated, use engine_kwargs instead.\n",
      "  with pd.ExcelWriter(DATA_FOLDER + 'scraped_posts_full.xlsx', engine='xlsxwriter', options={'strings_to_urls': False}) as writer:\n"
     ]
    },
    {
     "name": "stdout",
     "output_type": "stream",
     "text": [
      "Completed search. Joining!\n",
      "Now searching r/Coronavirus for lescol\n"
     ]
    },
    {
     "name": "stderr",
     "output_type": "stream",
     "text": [
      "/var/folders/y1/2907rcw50gq_rm33vwpb806r0000gn/T/ipykernel_71372/533152681.py:22: FutureWarning: Use of **kwargs is deprecated, use engine_kwargs instead.\n",
      "  with pd.ExcelWriter(DATA_FOLDER + 'scraped_posts_full.xlsx', engine='xlsxwriter', options={'strings_to_urls': False}) as writer:\n"
     ]
    },
    {
     "name": "stdout",
     "output_type": "stream",
     "text": [
      "Completed search. Joining!\n",
      "Now searching r/COVID19 for atorvastatin\n"
     ]
    },
    {
     "name": "stderr",
     "output_type": "stream",
     "text": [
      "/var/folders/y1/2907rcw50gq_rm33vwpb806r0000gn/T/ipykernel_71372/533152681.py:22: FutureWarning: Use of **kwargs is deprecated, use engine_kwargs instead.\n",
      "  with pd.ExcelWriter(DATA_FOLDER + 'scraped_posts_full.xlsx', engine='xlsxwriter', options={'strings_to_urls': False}) as writer:\n"
     ]
    },
    {
     "name": "stdout",
     "output_type": "stream",
     "text": [
      "Completed search. Joining!\n",
      "Now searching r/COVID19 for lipitor\n"
     ]
    },
    {
     "name": "stderr",
     "output_type": "stream",
     "text": [
      "/var/folders/y1/2907rcw50gq_rm33vwpb806r0000gn/T/ipykernel_71372/533152681.py:22: FutureWarning: Use of **kwargs is deprecated, use engine_kwargs instead.\n",
      "  with pd.ExcelWriter(DATA_FOLDER + 'scraped_posts_full.xlsx', engine='xlsxwriter', options={'strings_to_urls': False}) as writer:\n"
     ]
    },
    {
     "name": "stdout",
     "output_type": "stream",
     "text": [
      "Completed search. Joining!\n",
      "Now searching r/COVID19 for rosuvastatin\n"
     ]
    },
    {
     "name": "stderr",
     "output_type": "stream",
     "text": [
      "/var/folders/y1/2907rcw50gq_rm33vwpb806r0000gn/T/ipykernel_71372/533152681.py:22: FutureWarning: Use of **kwargs is deprecated, use engine_kwargs instead.\n",
      "  with pd.ExcelWriter(DATA_FOLDER + 'scraped_posts_full.xlsx', engine='xlsxwriter', options={'strings_to_urls': False}) as writer:\n"
     ]
    },
    {
     "name": "stdout",
     "output_type": "stream",
     "text": [
      "Completed search. Joining!\n",
      "Now searching r/COVID19 for crestor\n"
     ]
    },
    {
     "name": "stderr",
     "output_type": "stream",
     "text": [
      "/var/folders/y1/2907rcw50gq_rm33vwpb806r0000gn/T/ipykernel_71372/533152681.py:22: FutureWarning: Use of **kwargs is deprecated, use engine_kwargs instead.\n",
      "  with pd.ExcelWriter(DATA_FOLDER + 'scraped_posts_full.xlsx', engine='xlsxwriter', options={'strings_to_urls': False}) as writer:\n"
     ]
    },
    {
     "name": "stdout",
     "output_type": "stream",
     "text": [
      "Completed search. Joining!\n",
      "Now searching r/COVID19 for pitavastatin\n"
     ]
    },
    {
     "name": "stderr",
     "output_type": "stream",
     "text": [
      "/var/folders/y1/2907rcw50gq_rm33vwpb806r0000gn/T/ipykernel_71372/533152681.py:22: FutureWarning: Use of **kwargs is deprecated, use engine_kwargs instead.\n",
      "  with pd.ExcelWriter(DATA_FOLDER + 'scraped_posts_full.xlsx', engine='xlsxwriter', options={'strings_to_urls': False}) as writer:\n"
     ]
    },
    {
     "name": "stdout",
     "output_type": "stream",
     "text": [
      "Completed search. Joining!\n",
      "Now searching r/COVID19 for livalo\n"
     ]
    },
    {
     "name": "stderr",
     "output_type": "stream",
     "text": [
      "/var/folders/y1/2907rcw50gq_rm33vwpb806r0000gn/T/ipykernel_71372/533152681.py:22: FutureWarning: Use of **kwargs is deprecated, use engine_kwargs instead.\n",
      "  with pd.ExcelWriter(DATA_FOLDER + 'scraped_posts_full.xlsx', engine='xlsxwriter', options={'strings_to_urls': False}) as writer:\n"
     ]
    },
    {
     "name": "stdout",
     "output_type": "stream",
     "text": [
      "Completed search. Joining!\n",
      "Now searching r/COVID19 for zypitamag\n"
     ]
    },
    {
     "name": "stderr",
     "output_type": "stream",
     "text": [
      "/var/folders/y1/2907rcw50gq_rm33vwpb806r0000gn/T/ipykernel_71372/533152681.py:22: FutureWarning: Use of **kwargs is deprecated, use engine_kwargs instead.\n",
      "  with pd.ExcelWriter(DATA_FOLDER + 'scraped_posts_full.xlsx', engine='xlsxwriter', options={'strings_to_urls': False}) as writer:\n"
     ]
    },
    {
     "name": "stdout",
     "output_type": "stream",
     "text": [
      "Completed search. Joining!\n",
      "Now searching r/COVID19 for simvastatin\n"
     ]
    },
    {
     "name": "stderr",
     "output_type": "stream",
     "text": [
      "/var/folders/y1/2907rcw50gq_rm33vwpb806r0000gn/T/ipykernel_71372/533152681.py:22: FutureWarning: Use of **kwargs is deprecated, use engine_kwargs instead.\n",
      "  with pd.ExcelWriter(DATA_FOLDER + 'scraped_posts_full.xlsx', engine='xlsxwriter', options={'strings_to_urls': False}) as writer:\n"
     ]
    },
    {
     "name": "stdout",
     "output_type": "stream",
     "text": [
      "Completed search. Joining!\n",
      "Now searching r/COVID19 for zocor\n"
     ]
    },
    {
     "name": "stderr",
     "output_type": "stream",
     "text": [
      "/var/folders/y1/2907rcw50gq_rm33vwpb806r0000gn/T/ipykernel_71372/533152681.py:22: FutureWarning: Use of **kwargs is deprecated, use engine_kwargs instead.\n",
      "  with pd.ExcelWriter(DATA_FOLDER + 'scraped_posts_full.xlsx', engine='xlsxwriter', options={'strings_to_urls': False}) as writer:\n"
     ]
    },
    {
     "name": "stdout",
     "output_type": "stream",
     "text": [
      "Completed search. Joining!\n",
      "Now searching r/COVID19 for pravastatin\n"
     ]
    },
    {
     "name": "stderr",
     "output_type": "stream",
     "text": [
      "/var/folders/y1/2907rcw50gq_rm33vwpb806r0000gn/T/ipykernel_71372/533152681.py:22: FutureWarning: Use of **kwargs is deprecated, use engine_kwargs instead.\n",
      "  with pd.ExcelWriter(DATA_FOLDER + 'scraped_posts_full.xlsx', engine='xlsxwriter', options={'strings_to_urls': False}) as writer:\n"
     ]
    },
    {
     "name": "stdout",
     "output_type": "stream",
     "text": [
      "Completed search. Joining!\n",
      "Now searching r/COVID19 for pravachol\n"
     ]
    },
    {
     "name": "stderr",
     "output_type": "stream",
     "text": [
      "/var/folders/y1/2907rcw50gq_rm33vwpb806r0000gn/T/ipykernel_71372/533152681.py:22: FutureWarning: Use of **kwargs is deprecated, use engine_kwargs instead.\n",
      "  with pd.ExcelWriter(DATA_FOLDER + 'scraped_posts_full.xlsx', engine='xlsxwriter', options={'strings_to_urls': False}) as writer:\n"
     ]
    },
    {
     "name": "stdout",
     "output_type": "stream",
     "text": [
      "Completed search. Joining!\n",
      "Now searching r/COVID19 for lovastatin\n"
     ]
    },
    {
     "name": "stderr",
     "output_type": "stream",
     "text": [
      "/var/folders/y1/2907rcw50gq_rm33vwpb806r0000gn/T/ipykernel_71372/533152681.py:22: FutureWarning: Use of **kwargs is deprecated, use engine_kwargs instead.\n",
      "  with pd.ExcelWriter(DATA_FOLDER + 'scraped_posts_full.xlsx', engine='xlsxwriter', options={'strings_to_urls': False}) as writer:\n"
     ]
    },
    {
     "name": "stdout",
     "output_type": "stream",
     "text": [
      "Completed search. Joining!\n",
      "Now searching r/COVID19 for altoprev\n"
     ]
    },
    {
     "name": "stderr",
     "output_type": "stream",
     "text": [
      "/var/folders/y1/2907rcw50gq_rm33vwpb806r0000gn/T/ipykernel_71372/533152681.py:22: FutureWarning: Use of **kwargs is deprecated, use engine_kwargs instead.\n",
      "  with pd.ExcelWriter(DATA_FOLDER + 'scraped_posts_full.xlsx', engine='xlsxwriter', options={'strings_to_urls': False}) as writer:\n"
     ]
    },
    {
     "name": "stdout",
     "output_type": "stream",
     "text": [
      "Completed search. Joining!\n",
      "Now searching r/COVID19 for fluvastatin\n"
     ]
    },
    {
     "name": "stderr",
     "output_type": "stream",
     "text": [
      "/var/folders/y1/2907rcw50gq_rm33vwpb806r0000gn/T/ipykernel_71372/533152681.py:22: FutureWarning: Use of **kwargs is deprecated, use engine_kwargs instead.\n",
      "  with pd.ExcelWriter(DATA_FOLDER + 'scraped_posts_full.xlsx', engine='xlsxwriter', options={'strings_to_urls': False}) as writer:\n"
     ]
    },
    {
     "name": "stdout",
     "output_type": "stream",
     "text": [
      "Completed search. Joining!\n",
      "Now searching r/COVID19 for lescol\n"
     ]
    },
    {
     "name": "stderr",
     "output_type": "stream",
     "text": [
      "/var/folders/y1/2907rcw50gq_rm33vwpb806r0000gn/T/ipykernel_71372/533152681.py:22: FutureWarning: Use of **kwargs is deprecated, use engine_kwargs instead.\n",
      "  with pd.ExcelWriter(DATA_FOLDER + 'scraped_posts_full.xlsx', engine='xlsxwriter', options={'strings_to_urls': False}) as writer:\n"
     ]
    },
    {
     "name": "stdout",
     "output_type": "stream",
     "text": [
      "Completed search. Joining!\n",
      "Now searching r/Cholesterol for atorvastatin\n"
     ]
    },
    {
     "name": "stderr",
     "output_type": "stream",
     "text": [
      "/var/folders/y1/2907rcw50gq_rm33vwpb806r0000gn/T/ipykernel_71372/533152681.py:22: FutureWarning: Use of **kwargs is deprecated, use engine_kwargs instead.\n",
      "  with pd.ExcelWriter(DATA_FOLDER + 'scraped_posts_full.xlsx', engine='xlsxwriter', options={'strings_to_urls': False}) as writer:\n"
     ]
    },
    {
     "name": "stdout",
     "output_type": "stream",
     "text": [
      "Completed search. Joining!\n",
      "Now searching r/Cholesterol for lipitor\n"
     ]
    },
    {
     "name": "stderr",
     "output_type": "stream",
     "text": [
      "/var/folders/y1/2907rcw50gq_rm33vwpb806r0000gn/T/ipykernel_71372/533152681.py:22: FutureWarning: Use of **kwargs is deprecated, use engine_kwargs instead.\n",
      "  with pd.ExcelWriter(DATA_FOLDER + 'scraped_posts_full.xlsx', engine='xlsxwriter', options={'strings_to_urls': False}) as writer:\n"
     ]
    },
    {
     "name": "stdout",
     "output_type": "stream",
     "text": [
      "Completed search. Joining!\n",
      "Now searching r/Cholesterol for rosuvastatin\n"
     ]
    },
    {
     "name": "stderr",
     "output_type": "stream",
     "text": [
      "/var/folders/y1/2907rcw50gq_rm33vwpb806r0000gn/T/ipykernel_71372/533152681.py:22: FutureWarning: Use of **kwargs is deprecated, use engine_kwargs instead.\n",
      "  with pd.ExcelWriter(DATA_FOLDER + 'scraped_posts_full.xlsx', engine='xlsxwriter', options={'strings_to_urls': False}) as writer:\n"
     ]
    },
    {
     "name": "stdout",
     "output_type": "stream",
     "text": [
      "Completed search. Joining!\n",
      "Now searching r/Cholesterol for crestor\n"
     ]
    },
    {
     "name": "stderr",
     "output_type": "stream",
     "text": [
      "/var/folders/y1/2907rcw50gq_rm33vwpb806r0000gn/T/ipykernel_71372/533152681.py:22: FutureWarning: Use of **kwargs is deprecated, use engine_kwargs instead.\n",
      "  with pd.ExcelWriter(DATA_FOLDER + 'scraped_posts_full.xlsx', engine='xlsxwriter', options={'strings_to_urls': False}) as writer:\n"
     ]
    },
    {
     "name": "stdout",
     "output_type": "stream",
     "text": [
      "Completed search. Joining!\n",
      "Now searching r/Cholesterol for pitavastatin\n"
     ]
    },
    {
     "name": "stderr",
     "output_type": "stream",
     "text": [
      "/var/folders/y1/2907rcw50gq_rm33vwpb806r0000gn/T/ipykernel_71372/533152681.py:22: FutureWarning: Use of **kwargs is deprecated, use engine_kwargs instead.\n",
      "  with pd.ExcelWriter(DATA_FOLDER + 'scraped_posts_full.xlsx', engine='xlsxwriter', options={'strings_to_urls': False}) as writer:\n"
     ]
    },
    {
     "name": "stdout",
     "output_type": "stream",
     "text": [
      "Completed search. Joining!\n",
      "Now searching r/Cholesterol for livalo\n"
     ]
    },
    {
     "name": "stderr",
     "output_type": "stream",
     "text": [
      "/var/folders/y1/2907rcw50gq_rm33vwpb806r0000gn/T/ipykernel_71372/533152681.py:22: FutureWarning: Use of **kwargs is deprecated, use engine_kwargs instead.\n",
      "  with pd.ExcelWriter(DATA_FOLDER + 'scraped_posts_full.xlsx', engine='xlsxwriter', options={'strings_to_urls': False}) as writer:\n"
     ]
    },
    {
     "name": "stdout",
     "output_type": "stream",
     "text": [
      "Completed search. Joining!\n",
      "Now searching r/Cholesterol for zypitamag\n"
     ]
    },
    {
     "name": "stderr",
     "output_type": "stream",
     "text": [
      "/var/folders/y1/2907rcw50gq_rm33vwpb806r0000gn/T/ipykernel_71372/533152681.py:22: FutureWarning: Use of **kwargs is deprecated, use engine_kwargs instead.\n",
      "  with pd.ExcelWriter(DATA_FOLDER + 'scraped_posts_full.xlsx', engine='xlsxwriter', options={'strings_to_urls': False}) as writer:\n"
     ]
    },
    {
     "name": "stdout",
     "output_type": "stream",
     "text": [
      "Completed search. Joining!\n",
      "Now searching r/Cholesterol for simvastatin\n"
     ]
    },
    {
     "name": "stderr",
     "output_type": "stream",
     "text": [
      "/var/folders/y1/2907rcw50gq_rm33vwpb806r0000gn/T/ipykernel_71372/533152681.py:22: FutureWarning: Use of **kwargs is deprecated, use engine_kwargs instead.\n",
      "  with pd.ExcelWriter(DATA_FOLDER + 'scraped_posts_full.xlsx', engine='xlsxwriter', options={'strings_to_urls': False}) as writer:\n"
     ]
    },
    {
     "name": "stdout",
     "output_type": "stream",
     "text": [
      "Completed search. Joining!\n",
      "Now searching r/Cholesterol for zocor\n"
     ]
    },
    {
     "name": "stderr",
     "output_type": "stream",
     "text": [
      "/var/folders/y1/2907rcw50gq_rm33vwpb806r0000gn/T/ipykernel_71372/533152681.py:22: FutureWarning: Use of **kwargs is deprecated, use engine_kwargs instead.\n",
      "  with pd.ExcelWriter(DATA_FOLDER + 'scraped_posts_full.xlsx', engine='xlsxwriter', options={'strings_to_urls': False}) as writer:\n"
     ]
    },
    {
     "name": "stdout",
     "output_type": "stream",
     "text": [
      "Completed search. Joining!\n",
      "Now searching r/Cholesterol for pravastatin\n"
     ]
    },
    {
     "name": "stderr",
     "output_type": "stream",
     "text": [
      "/var/folders/y1/2907rcw50gq_rm33vwpb806r0000gn/T/ipykernel_71372/533152681.py:22: FutureWarning: Use of **kwargs is deprecated, use engine_kwargs instead.\n",
      "  with pd.ExcelWriter(DATA_FOLDER + 'scraped_posts_full.xlsx', engine='xlsxwriter', options={'strings_to_urls': False}) as writer:\n"
     ]
    },
    {
     "name": "stdout",
     "output_type": "stream",
     "text": [
      "Completed search. Joining!\n",
      "Now searching r/Cholesterol for pravachol\n"
     ]
    },
    {
     "name": "stderr",
     "output_type": "stream",
     "text": [
      "/var/folders/y1/2907rcw50gq_rm33vwpb806r0000gn/T/ipykernel_71372/533152681.py:22: FutureWarning: Use of **kwargs is deprecated, use engine_kwargs instead.\n",
      "  with pd.ExcelWriter(DATA_FOLDER + 'scraped_posts_full.xlsx', engine='xlsxwriter', options={'strings_to_urls': False}) as writer:\n"
     ]
    },
    {
     "name": "stdout",
     "output_type": "stream",
     "text": [
      "Completed search. Joining!\n",
      "Now searching r/Cholesterol for lovastatin\n"
     ]
    },
    {
     "name": "stderr",
     "output_type": "stream",
     "text": [
      "/var/folders/y1/2907rcw50gq_rm33vwpb806r0000gn/T/ipykernel_71372/533152681.py:22: FutureWarning: Use of **kwargs is deprecated, use engine_kwargs instead.\n",
      "  with pd.ExcelWriter(DATA_FOLDER + 'scraped_posts_full.xlsx', engine='xlsxwriter', options={'strings_to_urls': False}) as writer:\n"
     ]
    },
    {
     "name": "stdout",
     "output_type": "stream",
     "text": [
      "Completed search. Joining!\n",
      "Now searching r/Cholesterol for altoprev\n"
     ]
    },
    {
     "name": "stderr",
     "output_type": "stream",
     "text": [
      "/var/folders/y1/2907rcw50gq_rm33vwpb806r0000gn/T/ipykernel_71372/533152681.py:22: FutureWarning: Use of **kwargs is deprecated, use engine_kwargs instead.\n",
      "  with pd.ExcelWriter(DATA_FOLDER + 'scraped_posts_full.xlsx', engine='xlsxwriter', options={'strings_to_urls': False}) as writer:\n"
     ]
    },
    {
     "name": "stdout",
     "output_type": "stream",
     "text": [
      "Completed search. Joining!\n",
      "Now searching r/Cholesterol for fluvastatin\n"
     ]
    },
    {
     "name": "stderr",
     "output_type": "stream",
     "text": [
      "/var/folders/y1/2907rcw50gq_rm33vwpb806r0000gn/T/ipykernel_71372/533152681.py:22: FutureWarning: Use of **kwargs is deprecated, use engine_kwargs instead.\n",
      "  with pd.ExcelWriter(DATA_FOLDER + 'scraped_posts_full.xlsx', engine='xlsxwriter', options={'strings_to_urls': False}) as writer:\n"
     ]
    },
    {
     "name": "stdout",
     "output_type": "stream",
     "text": [
      "Completed search. Joining!\n",
      "Now searching r/Cholesterol for lescol\n"
     ]
    },
    {
     "name": "stderr",
     "output_type": "stream",
     "text": [
      "/var/folders/y1/2907rcw50gq_rm33vwpb806r0000gn/T/ipykernel_71372/533152681.py:22: FutureWarning: Use of **kwargs is deprecated, use engine_kwargs instead.\n",
      "  with pd.ExcelWriter(DATA_FOLDER + 'scraped_posts_full.xlsx', engine='xlsxwriter', options={'strings_to_urls': False}) as writer:\n"
     ]
    },
    {
     "name": "stdout",
     "output_type": "stream",
     "text": [
      "Completed search. Joining!\n",
      "Now searching r/Fitness for atorvastatin\n"
     ]
    },
    {
     "name": "stderr",
     "output_type": "stream",
     "text": [
      "/var/folders/y1/2907rcw50gq_rm33vwpb806r0000gn/T/ipykernel_71372/533152681.py:22: FutureWarning: Use of **kwargs is deprecated, use engine_kwargs instead.\n",
      "  with pd.ExcelWriter(DATA_FOLDER + 'scraped_posts_full.xlsx', engine='xlsxwriter', options={'strings_to_urls': False}) as writer:\n"
     ]
    },
    {
     "name": "stdout",
     "output_type": "stream",
     "text": [
      "Completed search. Joining!\n",
      "Now searching r/Fitness for lipitor\n"
     ]
    },
    {
     "name": "stderr",
     "output_type": "stream",
     "text": [
      "/var/folders/y1/2907rcw50gq_rm33vwpb806r0000gn/T/ipykernel_71372/533152681.py:22: FutureWarning: Use of **kwargs is deprecated, use engine_kwargs instead.\n",
      "  with pd.ExcelWriter(DATA_FOLDER + 'scraped_posts_full.xlsx', engine='xlsxwriter', options={'strings_to_urls': False}) as writer:\n"
     ]
    },
    {
     "name": "stdout",
     "output_type": "stream",
     "text": [
      "Completed search. Joining!\n",
      "Now searching r/Fitness for rosuvastatin\n"
     ]
    },
    {
     "name": "stderr",
     "output_type": "stream",
     "text": [
      "/var/folders/y1/2907rcw50gq_rm33vwpb806r0000gn/T/ipykernel_71372/533152681.py:22: FutureWarning: Use of **kwargs is deprecated, use engine_kwargs instead.\n",
      "  with pd.ExcelWriter(DATA_FOLDER + 'scraped_posts_full.xlsx', engine='xlsxwriter', options={'strings_to_urls': False}) as writer:\n"
     ]
    },
    {
     "name": "stdout",
     "output_type": "stream",
     "text": [
      "Completed search. Joining!\n",
      "Now searching r/Fitness for crestor\n"
     ]
    },
    {
     "name": "stderr",
     "output_type": "stream",
     "text": [
      "/var/folders/y1/2907rcw50gq_rm33vwpb806r0000gn/T/ipykernel_71372/533152681.py:22: FutureWarning: Use of **kwargs is deprecated, use engine_kwargs instead.\n",
      "  with pd.ExcelWriter(DATA_FOLDER + 'scraped_posts_full.xlsx', engine='xlsxwriter', options={'strings_to_urls': False}) as writer:\n"
     ]
    },
    {
     "name": "stdout",
     "output_type": "stream",
     "text": [
      "Completed search. Joining!\n",
      "Now searching r/Fitness for pitavastatin\n"
     ]
    },
    {
     "name": "stderr",
     "output_type": "stream",
     "text": [
      "/var/folders/y1/2907rcw50gq_rm33vwpb806r0000gn/T/ipykernel_71372/533152681.py:22: FutureWarning: Use of **kwargs is deprecated, use engine_kwargs instead.\n",
      "  with pd.ExcelWriter(DATA_FOLDER + 'scraped_posts_full.xlsx', engine='xlsxwriter', options={'strings_to_urls': False}) as writer:\n"
     ]
    },
    {
     "name": "stdout",
     "output_type": "stream",
     "text": [
      "Completed search. Joining!\n",
      "Now searching r/Fitness for livalo\n"
     ]
    },
    {
     "name": "stderr",
     "output_type": "stream",
     "text": [
      "/var/folders/y1/2907rcw50gq_rm33vwpb806r0000gn/T/ipykernel_71372/533152681.py:22: FutureWarning: Use of **kwargs is deprecated, use engine_kwargs instead.\n",
      "  with pd.ExcelWriter(DATA_FOLDER + 'scraped_posts_full.xlsx', engine='xlsxwriter', options={'strings_to_urls': False}) as writer:\n"
     ]
    },
    {
     "name": "stdout",
     "output_type": "stream",
     "text": [
      "Completed search. Joining!\n",
      "Now searching r/Fitness for zypitamag\n"
     ]
    },
    {
     "name": "stderr",
     "output_type": "stream",
     "text": [
      "/var/folders/y1/2907rcw50gq_rm33vwpb806r0000gn/T/ipykernel_71372/533152681.py:22: FutureWarning: Use of **kwargs is deprecated, use engine_kwargs instead.\n",
      "  with pd.ExcelWriter(DATA_FOLDER + 'scraped_posts_full.xlsx', engine='xlsxwriter', options={'strings_to_urls': False}) as writer:\n"
     ]
    },
    {
     "name": "stdout",
     "output_type": "stream",
     "text": [
      "Completed search. Joining!\n",
      "Now searching r/Fitness for simvastatin\n"
     ]
    },
    {
     "name": "stderr",
     "output_type": "stream",
     "text": [
      "/var/folders/y1/2907rcw50gq_rm33vwpb806r0000gn/T/ipykernel_71372/533152681.py:22: FutureWarning: Use of **kwargs is deprecated, use engine_kwargs instead.\n",
      "  with pd.ExcelWriter(DATA_FOLDER + 'scraped_posts_full.xlsx', engine='xlsxwriter', options={'strings_to_urls': False}) as writer:\n"
     ]
    },
    {
     "name": "stdout",
     "output_type": "stream",
     "text": [
      "Completed search. Joining!\n",
      "Now searching r/Fitness for zocor\n"
     ]
    },
    {
     "name": "stderr",
     "output_type": "stream",
     "text": [
      "/var/folders/y1/2907rcw50gq_rm33vwpb806r0000gn/T/ipykernel_71372/533152681.py:22: FutureWarning: Use of **kwargs is deprecated, use engine_kwargs instead.\n",
      "  with pd.ExcelWriter(DATA_FOLDER + 'scraped_posts_full.xlsx', engine='xlsxwriter', options={'strings_to_urls': False}) as writer:\n"
     ]
    },
    {
     "name": "stdout",
     "output_type": "stream",
     "text": [
      "Completed search. Joining!\n",
      "Now searching r/Fitness for pravastatin\n"
     ]
    },
    {
     "name": "stderr",
     "output_type": "stream",
     "text": [
      "/var/folders/y1/2907rcw50gq_rm33vwpb806r0000gn/T/ipykernel_71372/533152681.py:22: FutureWarning: Use of **kwargs is deprecated, use engine_kwargs instead.\n",
      "  with pd.ExcelWriter(DATA_FOLDER + 'scraped_posts_full.xlsx', engine='xlsxwriter', options={'strings_to_urls': False}) as writer:\n"
     ]
    },
    {
     "name": "stdout",
     "output_type": "stream",
     "text": [
      "Completed search. Joining!\n",
      "Now searching r/Fitness for pravachol\n"
     ]
    },
    {
     "name": "stderr",
     "output_type": "stream",
     "text": [
      "/var/folders/y1/2907rcw50gq_rm33vwpb806r0000gn/T/ipykernel_71372/533152681.py:22: FutureWarning: Use of **kwargs is deprecated, use engine_kwargs instead.\n",
      "  with pd.ExcelWriter(DATA_FOLDER + 'scraped_posts_full.xlsx', engine='xlsxwriter', options={'strings_to_urls': False}) as writer:\n"
     ]
    },
    {
     "name": "stdout",
     "output_type": "stream",
     "text": [
      "Completed search. Joining!\n",
      "Now searching r/Fitness for lovastatin\n"
     ]
    },
    {
     "name": "stderr",
     "output_type": "stream",
     "text": [
      "/var/folders/y1/2907rcw50gq_rm33vwpb806r0000gn/T/ipykernel_71372/533152681.py:22: FutureWarning: Use of **kwargs is deprecated, use engine_kwargs instead.\n",
      "  with pd.ExcelWriter(DATA_FOLDER + 'scraped_posts_full.xlsx', engine='xlsxwriter', options={'strings_to_urls': False}) as writer:\n"
     ]
    },
    {
     "name": "stdout",
     "output_type": "stream",
     "text": [
      "Completed search. Joining!\n",
      "Now searching r/Fitness for altoprev\n"
     ]
    },
    {
     "name": "stderr",
     "output_type": "stream",
     "text": [
      "/var/folders/y1/2907rcw50gq_rm33vwpb806r0000gn/T/ipykernel_71372/533152681.py:22: FutureWarning: Use of **kwargs is deprecated, use engine_kwargs instead.\n",
      "  with pd.ExcelWriter(DATA_FOLDER + 'scraped_posts_full.xlsx', engine='xlsxwriter', options={'strings_to_urls': False}) as writer:\n"
     ]
    },
    {
     "name": "stdout",
     "output_type": "stream",
     "text": [
      "Completed search. Joining!\n",
      "Now searching r/Fitness for fluvastatin\n"
     ]
    },
    {
     "name": "stderr",
     "output_type": "stream",
     "text": [
      "/var/folders/y1/2907rcw50gq_rm33vwpb806r0000gn/T/ipykernel_71372/533152681.py:22: FutureWarning: Use of **kwargs is deprecated, use engine_kwargs instead.\n",
      "  with pd.ExcelWriter(DATA_FOLDER + 'scraped_posts_full.xlsx', engine='xlsxwriter', options={'strings_to_urls': False}) as writer:\n"
     ]
    },
    {
     "name": "stdout",
     "output_type": "stream",
     "text": [
      "Completed search. Joining!\n",
      "Now searching r/Fitness for lescol\n"
     ]
    },
    {
     "name": "stderr",
     "output_type": "stream",
     "text": [
      "/var/folders/y1/2907rcw50gq_rm33vwpb806r0000gn/T/ipykernel_71372/533152681.py:22: FutureWarning: Use of **kwargs is deprecated, use engine_kwargs instead.\n",
      "  with pd.ExcelWriter(DATA_FOLDER + 'scraped_posts_full.xlsx', engine='xlsxwriter', options={'strings_to_urls': False}) as writer:\n"
     ]
    },
    {
     "name": "stdout",
     "output_type": "stream",
     "text": [
      "Completed search. Joining!\n"
     ]
    },
    {
     "name": "stderr",
     "output_type": "stream",
     "text": [
      "/var/folders/y1/2907rcw50gq_rm33vwpb806r0000gn/T/ipykernel_71372/533152681.py:22: FutureWarning: Use of **kwargs is deprecated, use engine_kwargs instead.\n",
      "  with pd.ExcelWriter(DATA_FOLDER + 'scraped_posts_full.xlsx', engine='xlsxwriter', options={'strings_to_urls': False}) as writer:\n"
     ]
    }
   ],
   "source": [
    "subreddits = ['ketoscience', 'science', 'keto', 'Health', 'conspiracy', 'todayilearned', 'ScientificNutrition', 'askscience', 'Futurology',\n",
    "    'news', 'PlantBasedDiet', 'nutrition', 'Paleo', 'fasting', 'longevity', 'Supplements', 'Coronavirus', 'COVID19', 'Cholesterol', 'Fitness']\n",
    "search_words = ['atorvastatin', 'lipitor', 'rosuvastatin', 'crestor', 'pitavastatin', 'livalo', 'zypitamag', 'simvastatin', 'zocor', 'pravastatin', \n",
    "                'pravachol', 'lovastatin', 'altoprev', 'fluvastatin', 'lescol']\n",
    "\n",
    "scrape_reddit(subreddits, search_words)"
   ]
  },
  {
   "cell_type": "markdown",
   "id": "2c16c710-f9f9-42e7-b89e-01c270fc50ab",
   "metadata": {
    "tags": []
   },
   "source": [
    "## PushShift.io?"
   ]
  },
  {
   "cell_type": "markdown",
   "id": "a927a029-80ce-4024-92c3-d729dc020e51",
   "metadata": {},
   "source": [
    "Let's try to use PushShift.io as a better way of tabulating this data instead."
   ]
  },
  {
   "cell_type": "code",
   "execution_count": 4,
   "id": "6542c13b-f190-4139-a2ca-f381ed1798dd",
   "metadata": {},
   "outputs": [],
   "source": [
    "from psaw import PushshiftAPI\n",
    "api = PushshiftAPI()"
   ]
  },
  {
   "cell_type": "code",
   "execution_count": 5,
   "id": "31394d8e-5e00-4ba9-9b22-a2af46f8ef2b",
   "metadata": {},
   "outputs": [],
   "source": [
    "POST_DF_MAPPING = {\n",
    "    'id' : 'id',\n",
    "    'author' : 'author',\n",
    "    'title' : 'title',\n",
    "    'date' : 'created_utc',\n",
    "    'body' : 'selftext',\n",
    "    'n_comments' : 'num_comments',\n",
    "    'upvotes' : 'score',\n",
    "}\n",
    "\n",
    "COMM_DF_MAPPING = {\n",
    "    'id' : 'id',\n",
    "    'author' : 'author',\n",
    "    'title' : 'title',    \n",
    "    'body' : 'body',\n",
    "    'date' : 'created_utc',\n",
    "    'link_id' : 'link_id',\n",
    "    'parent_id' : 'parent_id',\n",
    "    'upvotes' : 'score'\n",
    "}\n",
    "\n",
    "PSAW_MAPPINGS = {\n",
    "    'post' : POST_DF_MAPPING,\n",
    "    'comment' : COMM_DF_MAPPING\n",
    "}"
   ]
  },
  {
   "cell_type": "code",
   "execution_count": 6,
   "id": "0c95a730-fa80-4c2d-83a2-e9a020282c39",
   "metadata": {},
   "outputs": [],
   "source": [
    "def api_result_conversion(res, type_of_res):\n",
    "    \"\"\"\n",
    "    Convert the API result from PSAW into a pandas Series.    \n",
    "    \"\"\"\n",
    "    \n",
    "    mapping = PSAW_MAPPINGS[type_of_res]\n",
    "    \n",
    "    out = []\n",
    "    \n",
    "    for col, col_map in mapping.items():\n",
    "        try:\n",
    "            out.append(getattr(res, col_map))\n",
    "        except:\n",
    "            out.append('')\n",
    "        \n",
    "    return out"
   ]
  },
  {
   "cell_type": "code",
   "execution_count": 61,
   "id": "eb802958-4daf-476a-9b69-ee7f2c6f6cb7",
   "metadata": {},
   "outputs": [],
   "source": [
    "def scrape_reddit_posts(subreddits, search_words, save_name):\n",
    "    \"\"\"Scrapes Reddit for posts matching a set of search words in a set of subreddits.\n",
    "    \"\"\"\n",
    "\n",
    "    posts = []\n",
    "    cols = ['subreddit', 'query']\n",
    "    cols.extend(POST_DF_MAPPING.keys())\n",
    "\n",
    "    for subreddit in subreddits:\n",
    "        for search_word in search_words:\n",
    "            print(\"Now searching r/{0} for {1}\".format(subreddit, search_word))\n",
    "            \n",
    "            # Generate the iterator that will scrape over \n",
    "            for post in api.search_submissions(q=search_word, subreddit=subreddit):\n",
    "                \n",
    "                post_ext = [subreddit, search_word]\n",
    "                post_ext.extend(api_result_conversion(post, 'post'))\n",
    "                \n",
    "                posts.append(post_ext)\n",
    "\n",
    "            print(\"Completed search. Total {0} entries!\".format(len(posts)))\n",
    "                             \n",
    "    post_df = pd.DataFrame(posts, columns=cols)\n",
    "    post_df = post_df.drop_duplicates(subset='id')\n",
    "    post_df.set_index('id')\n",
    "    \n",
    "    with pd.ExcelWriter(DATA_FOLDER + save_name, engine='xlsxwriter', options={'strings_to_urls': False}) as writer:\n",
    "        post_df.to_excel(writer)\n",
    "    \n",
    "    return post_df\n",
    "\n",
    "def scrape_reddit_comments(subreddits, search_words, save_name):\n",
    "    \"\"\"Scrapes Reddit for posts matching a set of search words in a set of subreddits.\n",
    "    \"\"\"\n",
    "\n",
    "    comms = []\n",
    "    cols = ['subreddit', 'query']\n",
    "    cols.extend(COMM_DF_MAPPING.keys())\n",
    "\n",
    "    for subreddit in subreddits:\n",
    "        for search_word in search_words:\n",
    "            print(\"Now searching r/{0} for {1}\".format(subreddit, search_word))\n",
    "            \n",
    "            # Generate the iterator that will scrape over \n",
    "            for comm in api.search_comments(q=search_word, subreddit=subreddit):\n",
    "                \n",
    "                comm_ext = [subreddit, search_word]\n",
    "                comm_ext.extend(api_result_conversion(comm, 'comment'))\n",
    "                \n",
    "                comms.append(comm_ext)\n",
    "\n",
    "            print(\"Completed search. Total {0} entries!\".format(len(comms)))\n",
    "                             \n",
    "    comm_df = pd.DataFrame(comms, columns=cols)\n",
    "    comm_df = comm_df.drop_duplicates(subset='id')\n",
    "    comm_df.set_index('id')\n",
    "    \n",
    "    with pd.ExcelWriter(DATA_FOLDER + save_name, engine='xlsxwriter', options={'strings_to_urls': False}) as writer:\n",
    "        comm_df.to_excel(writer)\n",
    "        \n",
    "    return comm_df"
   ]
  },
  {
   "cell_type": "code",
   "execution_count": 8,
   "id": "5c142fd1-c40f-49e1-b1be-342f2c399c51",
   "metadata": {
    "jupyter": {
     "source_hidden": true
    },
    "tags": []
   },
   "outputs": [],
   "source": [
    "def scrape_reddit_comments_in_post(posts, save_name):\n",
    "    \"\"\"Scrapes Reddit for posts matddching a set of search words in a set of subreddits.\n",
    "    \"\"\"\n",
    "    \n",
    "    cols = []\n",
    "    cols.extend(COMM_DF_MAPPING.keys())\n",
    "    \n",
    "    comments = []\n",
    "    post_ids = posts.index.drop_duplicates()\n",
    "    \n",
    "    for post_id in post_ids:\n",
    "        print(\"Now searching post <{0}>\".format(post_id))\n",
    "\n",
    "        for comment in api.search_comments(link_id=post_id):\n",
    "                \n",
    "            comment_row = api_result_conversion(comment, 'comment')\n",
    "            comments.append(comment_row)\n",
    "            \n",
    "        print(\"Completed search. Total {0} entries!\".format(len(comments)))\n",
    "\n",
    "    comm_df = pd.DataFrame(comments, columns=cols)\n",
    "    comm_df.set_index('id')\n",
    "    \n",
    "    with pd.ExcelWriter(DATA_FOLDER + save_name, engine='xlsxwriter', options={'strings_to_urls': False}) as writer:\n",
    "        comm_df.to_excel(writer)\n"
   ]
  },
  {
   "cell_type": "code",
   "execution_count": 44,
   "id": "fd4a5252-1d82-4fc5-82ea-7b010706f52e",
   "metadata": {
    "collapsed": true,
    "jupyter": {
     "outputs_hidden": true,
     "source_hidden": true
    },
    "scrolled": true,
    "tags": []
   },
   "outputs": [
    {
     "name": "stdout",
     "output_type": "stream",
     "text": [
      "Now searching post <tqf3q1>\n",
      "Completed search. Total 0 entries!\n",
      "Now searching post <tqctzk>\n",
      "Completed search. Total 0 entries!\n",
      "Now searching post <t5j2iq>\n",
      "Completed search. Total 0 entries!\n",
      "Now searching post <sdiu8l>\n",
      "Completed search. Total 0 entries!\n",
      "Now searching post <rorrcc>\n",
      "Completed search. Total 0 entries!\n",
      "Now searching post <rnqlnj>\n",
      "Completed search. Total 0 entries!\n",
      "Now searching post <rc7ati>\n",
      "Completed search. Total 0 entries!\n",
      "Now searching post <q20bog>\n",
      "Completed search. Total 47 entries!\n",
      "Now searching post <p1w57r>\n",
      "Completed search. Total 49 entries!\n",
      "Now searching post <p1qo5n>\n",
      "Completed search. Total 49 entries!\n",
      "Now searching post <o2rimg>\n",
      "Completed search. Total 52 entries!\n",
      "Now searching post <nuyvd3>\n",
      "Completed search. Total 56 entries!\n",
      "Now searching post <njgthz>\n",
      "Completed search. Total 64 entries!\n",
      "Now searching post <m0jdr3>\n",
      "Completed search. Total 90 entries!\n",
      "Now searching post <lwzj79>\n",
      "Completed search. Total 97 entries!\n",
      "Now searching post <kv4q31>\n",
      "Completed search. Total 102 entries!\n",
      "Now searching post <k925jp>\n"
     ]
    },
    {
     "ename": "KeyboardInterrupt",
     "evalue": "",
     "output_type": "error",
     "traceback": [
      "\u001b[0;31m---------------------------------------------------------------------------\u001b[0m",
      "\u001b[0;31mKeyboardInterrupt\u001b[0m                         Traceback (most recent call last)",
      "Input \u001b[0;32mIn [44]\u001b[0m, in \u001b[0;36m<cell line: 1>\u001b[0;34m()\u001b[0m\n\u001b[0;32m----> 1\u001b[0m \u001b[43mscrape_reddit_comments_in_post\u001b[49m\u001b[43m(\u001b[49m\u001b[43mposts\u001b[49m\u001b[43m,\u001b[49m\u001b[43m \u001b[49m\u001b[38;5;124;43m'\u001b[39;49m\u001b[38;5;124;43mcomments_from_posts_20220706.xlsx\u001b[39;49m\u001b[38;5;124;43m'\u001b[39;49m\u001b[43m)\u001b[49m\n",
      "Input \u001b[0;32mIn [43]\u001b[0m, in \u001b[0;36mscrape_reddit_comments_in_post\u001b[0;34m(posts, save_name)\u001b[0m\n\u001b[1;32m     11\u001b[0m \u001b[38;5;28;01mfor\u001b[39;00m post_id \u001b[38;5;129;01min\u001b[39;00m post_ids:\n\u001b[1;32m     12\u001b[0m     \u001b[38;5;28mprint\u001b[39m(\u001b[38;5;124m\"\u001b[39m\u001b[38;5;124mNow searching post <\u001b[39m\u001b[38;5;132;01m{0}\u001b[39;00m\u001b[38;5;124m>\u001b[39m\u001b[38;5;124m\"\u001b[39m\u001b[38;5;241m.\u001b[39mformat(post_id))\n\u001b[0;32m---> 14\u001b[0m     \u001b[38;5;28;01mfor\u001b[39;00m comment \u001b[38;5;129;01min\u001b[39;00m api\u001b[38;5;241m.\u001b[39msearch_comments(link_id\u001b[38;5;241m=\u001b[39mpost_id):\n\u001b[1;32m     16\u001b[0m         comment_row \u001b[38;5;241m=\u001b[39m api_result_conversion(comment, \u001b[38;5;124m'\u001b[39m\u001b[38;5;124mcomment\u001b[39m\u001b[38;5;124m'\u001b[39m)\n\u001b[1;32m     17\u001b[0m         comments\u001b[38;5;241m.\u001b[39mappend(comment_row)\n",
      "File \u001b[0;32m~/mambaforge/lib/python3.9/site-packages/psaw/PushshiftAPI.py:238\u001b[0m, in \u001b[0;36mPushshiftAPIMinimal._search\u001b[0;34m(self, kind, stop_condition, return_batch, dataset, **kwargs)\u001b[0m\n\u001b[1;32m    236\u001b[0m endpoint \u001b[38;5;241m=\u001b[39m \u001b[38;5;124m'\u001b[39m\u001b[38;5;132;01m{dataset}\u001b[39;00m\u001b[38;5;124m/\u001b[39m\u001b[38;5;132;01m{kind}\u001b[39;00m\u001b[38;5;124m/search\u001b[39m\u001b[38;5;124m'\u001b[39m\u001b[38;5;241m.\u001b[39mformat(dataset\u001b[38;5;241m=\u001b[39mdataset, kind\u001b[38;5;241m=\u001b[39mkind)\n\u001b[1;32m    237\u001b[0m url \u001b[38;5;241m=\u001b[39m \u001b[38;5;28mself\u001b[39m\u001b[38;5;241m.\u001b[39mbase_url\u001b[38;5;241m.\u001b[39mformat(endpoint\u001b[38;5;241m=\u001b[39mendpoint)\n\u001b[0;32m--> 238\u001b[0m \u001b[38;5;28;01mfor\u001b[39;00m response \u001b[38;5;129;01min\u001b[39;00m \u001b[38;5;28mself\u001b[39m\u001b[38;5;241m.\u001b[39m_handle_paging(url):\n\u001b[1;32m    239\u001b[0m     \u001b[38;5;28;01mif\u001b[39;00m \u001b[38;5;124m'\u001b[39m\u001b[38;5;124maggs\u001b[39m\u001b[38;5;124m'\u001b[39m \u001b[38;5;129;01min\u001b[39;00m response:\n\u001b[1;32m    240\u001b[0m         \u001b[38;5;28;01myield\u001b[39;00m response[\u001b[38;5;124m'\u001b[39m\u001b[38;5;124maggs\u001b[39m\u001b[38;5;124m'\u001b[39m]\n",
      "File \u001b[0;32m~/mambaforge/lib/python3.9/site-packages/psaw/PushshiftAPI.py:215\u001b[0m, in \u001b[0;36mPushshiftAPIMinimal._handle_paging\u001b[0;34m(self, url)\u001b[0m\n\u001b[1;32m    212\u001b[0m         \u001b[38;5;28;01mraise\u001b[39;00m \u001b[38;5;167;01mNotImplementedError\u001b[39;00m(err_msg\u001b[38;5;241m.\u001b[39mformat(\u001b[38;5;28mself\u001b[39m\u001b[38;5;241m.\u001b[39mmax_results_per_request))\n\u001b[1;32m    213\u001b[0m \u001b[38;5;28mself\u001b[39m\u001b[38;5;241m.\u001b[39m_add_nec_args(\u001b[38;5;28mself\u001b[39m\u001b[38;5;241m.\u001b[39mpayload)\n\u001b[0;32m--> 215\u001b[0m data \u001b[38;5;241m=\u001b[39m \u001b[38;5;28;43mself\u001b[39;49m\u001b[38;5;241;43m.\u001b[39;49m\u001b[43m_get\u001b[49m\u001b[43m(\u001b[49m\u001b[43murl\u001b[49m\u001b[43m,\u001b[49m\u001b[43m \u001b[49m\u001b[38;5;28;43mself\u001b[39;49m\u001b[38;5;241;43m.\u001b[39;49m\u001b[43mpayload\u001b[49m\u001b[43m)\u001b[49m\n\u001b[1;32m    216\u001b[0m \u001b[38;5;28;01myield\u001b[39;00m data\n\u001b[1;32m    217\u001b[0m \u001b[38;5;28;01mif\u001b[39;00m limit \u001b[38;5;129;01mis\u001b[39;00m \u001b[38;5;129;01mnot\u001b[39;00m \u001b[38;5;28;01mNone\u001b[39;00m:\n",
      "File \u001b[0;32m~/mambaforge/lib/python3.9/site-packages/psaw/PushshiftAPI.py:184\u001b[0m, in \u001b[0;36mPushshiftAPIMinimal._get\u001b[0;34m(self, url, payload)\u001b[0m\n\u001b[1;32m    182\u001b[0m i\u001b[38;5;241m+\u001b[39m\u001b[38;5;241m=\u001b[39m\u001b[38;5;241m1\u001b[39m\n\u001b[1;32m    183\u001b[0m \u001b[38;5;28;01mtry\u001b[39;00m:\n\u001b[0;32m--> 184\u001b[0m     response \u001b[38;5;241m=\u001b[39m \u001b[43mrequests\u001b[49m\u001b[38;5;241;43m.\u001b[39;49m\u001b[43mget\u001b[49m\u001b[43m(\u001b[49m\u001b[43murl\u001b[49m\u001b[43m,\u001b[49m\u001b[43m \u001b[49m\u001b[43mparams\u001b[49m\u001b[38;5;241;43m=\u001b[39;49m\u001b[43mpayload\u001b[49m\u001b[43m,\u001b[49m\u001b[43m \u001b[49m\u001b[43mproxies\u001b[49m\u001b[38;5;241;43m=\u001b[39;49m\u001b[38;5;28;43mself\u001b[39;49m\u001b[38;5;241;43m.\u001b[39;49m\u001b[43mproxies\u001b[49m\u001b[43m)\u001b[49m\n\u001b[1;32m    185\u001b[0m     log\u001b[38;5;241m.\u001b[39minfo(response\u001b[38;5;241m.\u001b[39murl)\n\u001b[1;32m    186\u001b[0m     log\u001b[38;5;241m.\u001b[39mdebug(\u001b[38;5;124m'\u001b[39m\u001b[38;5;124mResponse status code: \u001b[39m\u001b[38;5;132;01m%s\u001b[39;00m\u001b[38;5;124m'\u001b[39m \u001b[38;5;241m%\u001b[39m response\u001b[38;5;241m.\u001b[39mstatus_code)\n",
      "File \u001b[0;32m~/mambaforge/lib/python3.9/site-packages/requests/api.py:75\u001b[0m, in \u001b[0;36mget\u001b[0;34m(url, params, **kwargs)\u001b[0m\n\u001b[1;32m     64\u001b[0m \u001b[38;5;28;01mdef\u001b[39;00m \u001b[38;5;21mget\u001b[39m(url, params\u001b[38;5;241m=\u001b[39m\u001b[38;5;28;01mNone\u001b[39;00m, \u001b[38;5;241m*\u001b[39m\u001b[38;5;241m*\u001b[39mkwargs):\n\u001b[1;32m     65\u001b[0m     \u001b[38;5;124mr\u001b[39m\u001b[38;5;124;03m\"\"\"Sends a GET request.\u001b[39;00m\n\u001b[1;32m     66\u001b[0m \n\u001b[1;32m     67\u001b[0m \u001b[38;5;124;03m    :param url: URL for the new :class:`Request` object.\u001b[39;00m\n\u001b[0;32m   (...)\u001b[0m\n\u001b[1;32m     72\u001b[0m \u001b[38;5;124;03m    :rtype: requests.Response\u001b[39;00m\n\u001b[1;32m     73\u001b[0m \u001b[38;5;124;03m    \"\"\"\u001b[39;00m\n\u001b[0;32m---> 75\u001b[0m     \u001b[38;5;28;01mreturn\u001b[39;00m \u001b[43mrequest\u001b[49m\u001b[43m(\u001b[49m\u001b[38;5;124;43m'\u001b[39;49m\u001b[38;5;124;43mget\u001b[39;49m\u001b[38;5;124;43m'\u001b[39;49m\u001b[43m,\u001b[49m\u001b[43m \u001b[49m\u001b[43murl\u001b[49m\u001b[43m,\u001b[49m\u001b[43m \u001b[49m\u001b[43mparams\u001b[49m\u001b[38;5;241;43m=\u001b[39;49m\u001b[43mparams\u001b[49m\u001b[43m,\u001b[49m\u001b[43m \u001b[49m\u001b[38;5;241;43m*\u001b[39;49m\u001b[38;5;241;43m*\u001b[39;49m\u001b[43mkwargs\u001b[49m\u001b[43m)\u001b[49m\n",
      "File \u001b[0;32m~/mambaforge/lib/python3.9/site-packages/requests/api.py:61\u001b[0m, in \u001b[0;36mrequest\u001b[0;34m(method, url, **kwargs)\u001b[0m\n\u001b[1;32m     57\u001b[0m \u001b[38;5;66;03m# By using the 'with' statement we are sure the session is closed, thus we\u001b[39;00m\n\u001b[1;32m     58\u001b[0m \u001b[38;5;66;03m# avoid leaving sockets open which can trigger a ResourceWarning in some\u001b[39;00m\n\u001b[1;32m     59\u001b[0m \u001b[38;5;66;03m# cases, and look like a memory leak in others.\u001b[39;00m\n\u001b[1;32m     60\u001b[0m \u001b[38;5;28;01mwith\u001b[39;00m sessions\u001b[38;5;241m.\u001b[39mSession() \u001b[38;5;28;01mas\u001b[39;00m session:\n\u001b[0;32m---> 61\u001b[0m     \u001b[38;5;28;01mreturn\u001b[39;00m \u001b[43msession\u001b[49m\u001b[38;5;241;43m.\u001b[39;49m\u001b[43mrequest\u001b[49m\u001b[43m(\u001b[49m\u001b[43mmethod\u001b[49m\u001b[38;5;241;43m=\u001b[39;49m\u001b[43mmethod\u001b[49m\u001b[43m,\u001b[49m\u001b[43m \u001b[49m\u001b[43murl\u001b[49m\u001b[38;5;241;43m=\u001b[39;49m\u001b[43murl\u001b[49m\u001b[43m,\u001b[49m\u001b[43m \u001b[49m\u001b[38;5;241;43m*\u001b[39;49m\u001b[38;5;241;43m*\u001b[39;49m\u001b[43mkwargs\u001b[49m\u001b[43m)\u001b[49m\n",
      "File \u001b[0;32m~/mambaforge/lib/python3.9/site-packages/requests/sessions.py:529\u001b[0m, in \u001b[0;36mSession.request\u001b[0;34m(self, method, url, params, data, headers, cookies, files, auth, timeout, allow_redirects, proxies, hooks, stream, verify, cert, json)\u001b[0m\n\u001b[1;32m    524\u001b[0m send_kwargs \u001b[38;5;241m=\u001b[39m {\n\u001b[1;32m    525\u001b[0m     \u001b[38;5;124m'\u001b[39m\u001b[38;5;124mtimeout\u001b[39m\u001b[38;5;124m'\u001b[39m: timeout,\n\u001b[1;32m    526\u001b[0m     \u001b[38;5;124m'\u001b[39m\u001b[38;5;124mallow_redirects\u001b[39m\u001b[38;5;124m'\u001b[39m: allow_redirects,\n\u001b[1;32m    527\u001b[0m }\n\u001b[1;32m    528\u001b[0m send_kwargs\u001b[38;5;241m.\u001b[39mupdate(settings)\n\u001b[0;32m--> 529\u001b[0m resp \u001b[38;5;241m=\u001b[39m \u001b[38;5;28;43mself\u001b[39;49m\u001b[38;5;241;43m.\u001b[39;49m\u001b[43msend\u001b[49m\u001b[43m(\u001b[49m\u001b[43mprep\u001b[49m\u001b[43m,\u001b[49m\u001b[43m \u001b[49m\u001b[38;5;241;43m*\u001b[39;49m\u001b[38;5;241;43m*\u001b[39;49m\u001b[43msend_kwargs\u001b[49m\u001b[43m)\u001b[49m\n\u001b[1;32m    531\u001b[0m \u001b[38;5;28;01mreturn\u001b[39;00m resp\n",
      "File \u001b[0;32m~/mambaforge/lib/python3.9/site-packages/requests/sessions.py:645\u001b[0m, in \u001b[0;36mSession.send\u001b[0;34m(self, request, **kwargs)\u001b[0m\n\u001b[1;32m    642\u001b[0m start \u001b[38;5;241m=\u001b[39m preferred_clock()\n\u001b[1;32m    644\u001b[0m \u001b[38;5;66;03m# Send the request\u001b[39;00m\n\u001b[0;32m--> 645\u001b[0m r \u001b[38;5;241m=\u001b[39m \u001b[43madapter\u001b[49m\u001b[38;5;241;43m.\u001b[39;49m\u001b[43msend\u001b[49m\u001b[43m(\u001b[49m\u001b[43mrequest\u001b[49m\u001b[43m,\u001b[49m\u001b[43m \u001b[49m\u001b[38;5;241;43m*\u001b[39;49m\u001b[38;5;241;43m*\u001b[39;49m\u001b[43mkwargs\u001b[49m\u001b[43m)\u001b[49m\n\u001b[1;32m    647\u001b[0m \u001b[38;5;66;03m# Total elapsed time of the request (approximately)\u001b[39;00m\n\u001b[1;32m    648\u001b[0m elapsed \u001b[38;5;241m=\u001b[39m preferred_clock() \u001b[38;5;241m-\u001b[39m start\n",
      "File \u001b[0;32m~/mambaforge/lib/python3.9/site-packages/requests/adapters.py:440\u001b[0m, in \u001b[0;36mHTTPAdapter.send\u001b[0;34m(self, request, stream, timeout, verify, cert, proxies)\u001b[0m\n\u001b[1;32m    438\u001b[0m \u001b[38;5;28;01mtry\u001b[39;00m:\n\u001b[1;32m    439\u001b[0m     \u001b[38;5;28;01mif\u001b[39;00m \u001b[38;5;129;01mnot\u001b[39;00m chunked:\n\u001b[0;32m--> 440\u001b[0m         resp \u001b[38;5;241m=\u001b[39m \u001b[43mconn\u001b[49m\u001b[38;5;241;43m.\u001b[39;49m\u001b[43murlopen\u001b[49m\u001b[43m(\u001b[49m\n\u001b[1;32m    441\u001b[0m \u001b[43m            \u001b[49m\u001b[43mmethod\u001b[49m\u001b[38;5;241;43m=\u001b[39;49m\u001b[43mrequest\u001b[49m\u001b[38;5;241;43m.\u001b[39;49m\u001b[43mmethod\u001b[49m\u001b[43m,\u001b[49m\n\u001b[1;32m    442\u001b[0m \u001b[43m            \u001b[49m\u001b[43murl\u001b[49m\u001b[38;5;241;43m=\u001b[39;49m\u001b[43murl\u001b[49m\u001b[43m,\u001b[49m\n\u001b[1;32m    443\u001b[0m \u001b[43m            \u001b[49m\u001b[43mbody\u001b[49m\u001b[38;5;241;43m=\u001b[39;49m\u001b[43mrequest\u001b[49m\u001b[38;5;241;43m.\u001b[39;49m\u001b[43mbody\u001b[49m\u001b[43m,\u001b[49m\n\u001b[1;32m    444\u001b[0m \u001b[43m            \u001b[49m\u001b[43mheaders\u001b[49m\u001b[38;5;241;43m=\u001b[39;49m\u001b[43mrequest\u001b[49m\u001b[38;5;241;43m.\u001b[39;49m\u001b[43mheaders\u001b[49m\u001b[43m,\u001b[49m\n\u001b[1;32m    445\u001b[0m \u001b[43m            \u001b[49m\u001b[43mredirect\u001b[49m\u001b[38;5;241;43m=\u001b[39;49m\u001b[38;5;28;43;01mFalse\u001b[39;49;00m\u001b[43m,\u001b[49m\n\u001b[1;32m    446\u001b[0m \u001b[43m            \u001b[49m\u001b[43massert_same_host\u001b[49m\u001b[38;5;241;43m=\u001b[39;49m\u001b[38;5;28;43;01mFalse\u001b[39;49;00m\u001b[43m,\u001b[49m\n\u001b[1;32m    447\u001b[0m \u001b[43m            \u001b[49m\u001b[43mpreload_content\u001b[49m\u001b[38;5;241;43m=\u001b[39;49m\u001b[38;5;28;43;01mFalse\u001b[39;49;00m\u001b[43m,\u001b[49m\n\u001b[1;32m    448\u001b[0m \u001b[43m            \u001b[49m\u001b[43mdecode_content\u001b[49m\u001b[38;5;241;43m=\u001b[39;49m\u001b[38;5;28;43;01mFalse\u001b[39;49;00m\u001b[43m,\u001b[49m\n\u001b[1;32m    449\u001b[0m \u001b[43m            \u001b[49m\u001b[43mretries\u001b[49m\u001b[38;5;241;43m=\u001b[39;49m\u001b[38;5;28;43mself\u001b[39;49m\u001b[38;5;241;43m.\u001b[39;49m\u001b[43mmax_retries\u001b[49m\u001b[43m,\u001b[49m\n\u001b[1;32m    450\u001b[0m \u001b[43m            \u001b[49m\u001b[43mtimeout\u001b[49m\u001b[38;5;241;43m=\u001b[39;49m\u001b[43mtimeout\u001b[49m\n\u001b[1;32m    451\u001b[0m \u001b[43m        \u001b[49m\u001b[43m)\u001b[49m\n\u001b[1;32m    453\u001b[0m     \u001b[38;5;66;03m# Send the request.\u001b[39;00m\n\u001b[1;32m    454\u001b[0m     \u001b[38;5;28;01melse\u001b[39;00m:\n\u001b[1;32m    455\u001b[0m         \u001b[38;5;28;01mif\u001b[39;00m \u001b[38;5;28mhasattr\u001b[39m(conn, \u001b[38;5;124m'\u001b[39m\u001b[38;5;124mproxy_pool\u001b[39m\u001b[38;5;124m'\u001b[39m):\n",
      "File \u001b[0;32m~/mambaforge/lib/python3.9/site-packages/urllib3/connectionpool.py:703\u001b[0m, in \u001b[0;36mHTTPConnectionPool.urlopen\u001b[0;34m(self, method, url, body, headers, retries, redirect, assert_same_host, timeout, pool_timeout, release_conn, chunked, body_pos, **response_kw)\u001b[0m\n\u001b[1;32m    700\u001b[0m     \u001b[38;5;28mself\u001b[39m\u001b[38;5;241m.\u001b[39m_prepare_proxy(conn)\n\u001b[1;32m    702\u001b[0m \u001b[38;5;66;03m# Make the request on the httplib connection object.\u001b[39;00m\n\u001b[0;32m--> 703\u001b[0m httplib_response \u001b[38;5;241m=\u001b[39m \u001b[38;5;28;43mself\u001b[39;49m\u001b[38;5;241;43m.\u001b[39;49m\u001b[43m_make_request\u001b[49m\u001b[43m(\u001b[49m\n\u001b[1;32m    704\u001b[0m \u001b[43m    \u001b[49m\u001b[43mconn\u001b[49m\u001b[43m,\u001b[49m\n\u001b[1;32m    705\u001b[0m \u001b[43m    \u001b[49m\u001b[43mmethod\u001b[49m\u001b[43m,\u001b[49m\n\u001b[1;32m    706\u001b[0m \u001b[43m    \u001b[49m\u001b[43murl\u001b[49m\u001b[43m,\u001b[49m\n\u001b[1;32m    707\u001b[0m \u001b[43m    \u001b[49m\u001b[43mtimeout\u001b[49m\u001b[38;5;241;43m=\u001b[39;49m\u001b[43mtimeout_obj\u001b[49m\u001b[43m,\u001b[49m\n\u001b[1;32m    708\u001b[0m \u001b[43m    \u001b[49m\u001b[43mbody\u001b[49m\u001b[38;5;241;43m=\u001b[39;49m\u001b[43mbody\u001b[49m\u001b[43m,\u001b[49m\n\u001b[1;32m    709\u001b[0m \u001b[43m    \u001b[49m\u001b[43mheaders\u001b[49m\u001b[38;5;241;43m=\u001b[39;49m\u001b[43mheaders\u001b[49m\u001b[43m,\u001b[49m\n\u001b[1;32m    710\u001b[0m \u001b[43m    \u001b[49m\u001b[43mchunked\u001b[49m\u001b[38;5;241;43m=\u001b[39;49m\u001b[43mchunked\u001b[49m\u001b[43m,\u001b[49m\n\u001b[1;32m    711\u001b[0m \u001b[43m\u001b[49m\u001b[43m)\u001b[49m\n\u001b[1;32m    713\u001b[0m \u001b[38;5;66;03m# If we're going to release the connection in ``finally:``, then\u001b[39;00m\n\u001b[1;32m    714\u001b[0m \u001b[38;5;66;03m# the response doesn't need to know about the connection. Otherwise\u001b[39;00m\n\u001b[1;32m    715\u001b[0m \u001b[38;5;66;03m# it will also try to release it and we'll have a double-release\u001b[39;00m\n\u001b[1;32m    716\u001b[0m \u001b[38;5;66;03m# mess.\u001b[39;00m\n\u001b[1;32m    717\u001b[0m response_conn \u001b[38;5;241m=\u001b[39m conn \u001b[38;5;28;01mif\u001b[39;00m \u001b[38;5;129;01mnot\u001b[39;00m release_conn \u001b[38;5;28;01melse\u001b[39;00m \u001b[38;5;28;01mNone\u001b[39;00m\n",
      "File \u001b[0;32m~/mambaforge/lib/python3.9/site-packages/urllib3/connectionpool.py:449\u001b[0m, in \u001b[0;36mHTTPConnectionPool._make_request\u001b[0;34m(self, conn, method, url, timeout, chunked, **httplib_request_kw)\u001b[0m\n\u001b[1;32m    444\u001b[0m             httplib_response \u001b[38;5;241m=\u001b[39m conn\u001b[38;5;241m.\u001b[39mgetresponse()\n\u001b[1;32m    445\u001b[0m         \u001b[38;5;28;01mexcept\u001b[39;00m \u001b[38;5;167;01mBaseException\u001b[39;00m \u001b[38;5;28;01mas\u001b[39;00m e:\n\u001b[1;32m    446\u001b[0m             \u001b[38;5;66;03m# Remove the TypeError from the exception chain in\u001b[39;00m\n\u001b[1;32m    447\u001b[0m             \u001b[38;5;66;03m# Python 3 (including for exceptions like SystemExit).\u001b[39;00m\n\u001b[1;32m    448\u001b[0m             \u001b[38;5;66;03m# Otherwise it looks like a bug in the code.\u001b[39;00m\n\u001b[0;32m--> 449\u001b[0m             \u001b[43msix\u001b[49m\u001b[38;5;241;43m.\u001b[39;49m\u001b[43mraise_from\u001b[49m\u001b[43m(\u001b[49m\u001b[43me\u001b[49m\u001b[43m,\u001b[49m\u001b[43m \u001b[49m\u001b[38;5;28;43;01mNone\u001b[39;49;00m\u001b[43m)\u001b[49m\n\u001b[1;32m    450\u001b[0m \u001b[38;5;28;01mexcept\u001b[39;00m (SocketTimeout, BaseSSLError, SocketError) \u001b[38;5;28;01mas\u001b[39;00m e:\n\u001b[1;32m    451\u001b[0m     \u001b[38;5;28mself\u001b[39m\u001b[38;5;241m.\u001b[39m_raise_timeout(err\u001b[38;5;241m=\u001b[39me, url\u001b[38;5;241m=\u001b[39murl, timeout_value\u001b[38;5;241m=\u001b[39mread_timeout)\n",
      "File \u001b[0;32m<string>:3\u001b[0m, in \u001b[0;36mraise_from\u001b[0;34m(value, from_value)\u001b[0m\n",
      "File \u001b[0;32m~/mambaforge/lib/python3.9/site-packages/urllib3/connectionpool.py:444\u001b[0m, in \u001b[0;36mHTTPConnectionPool._make_request\u001b[0;34m(self, conn, method, url, timeout, chunked, **httplib_request_kw)\u001b[0m\n\u001b[1;32m    441\u001b[0m \u001b[38;5;28;01mexcept\u001b[39;00m \u001b[38;5;167;01mTypeError\u001b[39;00m:\n\u001b[1;32m    442\u001b[0m     \u001b[38;5;66;03m# Python 3\u001b[39;00m\n\u001b[1;32m    443\u001b[0m     \u001b[38;5;28;01mtry\u001b[39;00m:\n\u001b[0;32m--> 444\u001b[0m         httplib_response \u001b[38;5;241m=\u001b[39m \u001b[43mconn\u001b[49m\u001b[38;5;241;43m.\u001b[39;49m\u001b[43mgetresponse\u001b[49m\u001b[43m(\u001b[49m\u001b[43m)\u001b[49m\n\u001b[1;32m    445\u001b[0m     \u001b[38;5;28;01mexcept\u001b[39;00m \u001b[38;5;167;01mBaseException\u001b[39;00m \u001b[38;5;28;01mas\u001b[39;00m e:\n\u001b[1;32m    446\u001b[0m         \u001b[38;5;66;03m# Remove the TypeError from the exception chain in\u001b[39;00m\n\u001b[1;32m    447\u001b[0m         \u001b[38;5;66;03m# Python 3 (including for exceptions like SystemExit).\u001b[39;00m\n\u001b[1;32m    448\u001b[0m         \u001b[38;5;66;03m# Otherwise it looks like a bug in the code.\u001b[39;00m\n\u001b[1;32m    449\u001b[0m         six\u001b[38;5;241m.\u001b[39mraise_from(e, \u001b[38;5;28;01mNone\u001b[39;00m)\n",
      "File \u001b[0;32m~/mambaforge/lib/python3.9/http/client.py:1377\u001b[0m, in \u001b[0;36mHTTPConnection.getresponse\u001b[0;34m(self)\u001b[0m\n\u001b[1;32m   1375\u001b[0m \u001b[38;5;28;01mtry\u001b[39;00m:\n\u001b[1;32m   1376\u001b[0m     \u001b[38;5;28;01mtry\u001b[39;00m:\n\u001b[0;32m-> 1377\u001b[0m         \u001b[43mresponse\u001b[49m\u001b[38;5;241;43m.\u001b[39;49m\u001b[43mbegin\u001b[49m\u001b[43m(\u001b[49m\u001b[43m)\u001b[49m\n\u001b[1;32m   1378\u001b[0m     \u001b[38;5;28;01mexcept\u001b[39;00m \u001b[38;5;167;01mConnectionError\u001b[39;00m:\n\u001b[1;32m   1379\u001b[0m         \u001b[38;5;28mself\u001b[39m\u001b[38;5;241m.\u001b[39mclose()\n",
      "File \u001b[0;32m~/mambaforge/lib/python3.9/http/client.py:320\u001b[0m, in \u001b[0;36mHTTPResponse.begin\u001b[0;34m(self)\u001b[0m\n\u001b[1;32m    318\u001b[0m \u001b[38;5;66;03m# read until we get a non-100 response\u001b[39;00m\n\u001b[1;32m    319\u001b[0m \u001b[38;5;28;01mwhile\u001b[39;00m \u001b[38;5;28;01mTrue\u001b[39;00m:\n\u001b[0;32m--> 320\u001b[0m     version, status, reason \u001b[38;5;241m=\u001b[39m \u001b[38;5;28;43mself\u001b[39;49m\u001b[38;5;241;43m.\u001b[39;49m\u001b[43m_read_status\u001b[49m\u001b[43m(\u001b[49m\u001b[43m)\u001b[49m\n\u001b[1;32m    321\u001b[0m     \u001b[38;5;28;01mif\u001b[39;00m status \u001b[38;5;241m!=\u001b[39m CONTINUE:\n\u001b[1;32m    322\u001b[0m         \u001b[38;5;28;01mbreak\u001b[39;00m\n",
      "File \u001b[0;32m~/mambaforge/lib/python3.9/http/client.py:281\u001b[0m, in \u001b[0;36mHTTPResponse._read_status\u001b[0;34m(self)\u001b[0m\n\u001b[1;32m    280\u001b[0m \u001b[38;5;28;01mdef\u001b[39;00m \u001b[38;5;21m_read_status\u001b[39m(\u001b[38;5;28mself\u001b[39m):\n\u001b[0;32m--> 281\u001b[0m     line \u001b[38;5;241m=\u001b[39m \u001b[38;5;28mstr\u001b[39m(\u001b[38;5;28;43mself\u001b[39;49m\u001b[38;5;241;43m.\u001b[39;49m\u001b[43mfp\u001b[49m\u001b[38;5;241;43m.\u001b[39;49m\u001b[43mreadline\u001b[49m\u001b[43m(\u001b[49m\u001b[43m_MAXLINE\u001b[49m\u001b[43m \u001b[49m\u001b[38;5;241;43m+\u001b[39;49m\u001b[43m \u001b[49m\u001b[38;5;241;43m1\u001b[39;49m\u001b[43m)\u001b[49m, \u001b[38;5;124m\"\u001b[39m\u001b[38;5;124miso-8859-1\u001b[39m\u001b[38;5;124m\"\u001b[39m)\n\u001b[1;32m    282\u001b[0m     \u001b[38;5;28;01mif\u001b[39;00m \u001b[38;5;28mlen\u001b[39m(line) \u001b[38;5;241m>\u001b[39m _MAXLINE:\n\u001b[1;32m    283\u001b[0m         \u001b[38;5;28;01mraise\u001b[39;00m LineTooLong(\u001b[38;5;124m\"\u001b[39m\u001b[38;5;124mstatus line\u001b[39m\u001b[38;5;124m\"\u001b[39m)\n",
      "File \u001b[0;32m~/mambaforge/lib/python3.9/socket.py:704\u001b[0m, in \u001b[0;36mSocketIO.readinto\u001b[0;34m(self, b)\u001b[0m\n\u001b[1;32m    702\u001b[0m \u001b[38;5;28;01mwhile\u001b[39;00m \u001b[38;5;28;01mTrue\u001b[39;00m:\n\u001b[1;32m    703\u001b[0m     \u001b[38;5;28;01mtry\u001b[39;00m:\n\u001b[0;32m--> 704\u001b[0m         \u001b[38;5;28;01mreturn\u001b[39;00m \u001b[38;5;28;43mself\u001b[39;49m\u001b[38;5;241;43m.\u001b[39;49m\u001b[43m_sock\u001b[49m\u001b[38;5;241;43m.\u001b[39;49m\u001b[43mrecv_into\u001b[49m\u001b[43m(\u001b[49m\u001b[43mb\u001b[49m\u001b[43m)\u001b[49m\n\u001b[1;32m    705\u001b[0m     \u001b[38;5;28;01mexcept\u001b[39;00m timeout:\n\u001b[1;32m    706\u001b[0m         \u001b[38;5;28mself\u001b[39m\u001b[38;5;241m.\u001b[39m_timeout_occurred \u001b[38;5;241m=\u001b[39m \u001b[38;5;28;01mTrue\u001b[39;00m\n",
      "File \u001b[0;32m~/mambaforge/lib/python3.9/ssl.py:1242\u001b[0m, in \u001b[0;36mSSLSocket.recv_into\u001b[0;34m(self, buffer, nbytes, flags)\u001b[0m\n\u001b[1;32m   1238\u001b[0m     \u001b[38;5;28;01mif\u001b[39;00m flags \u001b[38;5;241m!=\u001b[39m \u001b[38;5;241m0\u001b[39m:\n\u001b[1;32m   1239\u001b[0m         \u001b[38;5;28;01mraise\u001b[39;00m \u001b[38;5;167;01mValueError\u001b[39;00m(\n\u001b[1;32m   1240\u001b[0m           \u001b[38;5;124m\"\u001b[39m\u001b[38;5;124mnon-zero flags not allowed in calls to recv_into() on \u001b[39m\u001b[38;5;132;01m%s\u001b[39;00m\u001b[38;5;124m\"\u001b[39m \u001b[38;5;241m%\u001b[39m\n\u001b[1;32m   1241\u001b[0m           \u001b[38;5;28mself\u001b[39m\u001b[38;5;241m.\u001b[39m\u001b[38;5;18m__class__\u001b[39m)\n\u001b[0;32m-> 1242\u001b[0m     \u001b[38;5;28;01mreturn\u001b[39;00m \u001b[38;5;28;43mself\u001b[39;49m\u001b[38;5;241;43m.\u001b[39;49m\u001b[43mread\u001b[49m\u001b[43m(\u001b[49m\u001b[43mnbytes\u001b[49m\u001b[43m,\u001b[49m\u001b[43m \u001b[49m\u001b[43mbuffer\u001b[49m\u001b[43m)\u001b[49m\n\u001b[1;32m   1243\u001b[0m \u001b[38;5;28;01melse\u001b[39;00m:\n\u001b[1;32m   1244\u001b[0m     \u001b[38;5;28;01mreturn\u001b[39;00m \u001b[38;5;28msuper\u001b[39m()\u001b[38;5;241m.\u001b[39mrecv_into(buffer, nbytes, flags)\n",
      "File \u001b[0;32m~/mambaforge/lib/python3.9/ssl.py:1100\u001b[0m, in \u001b[0;36mSSLSocket.read\u001b[0;34m(self, len, buffer)\u001b[0m\n\u001b[1;32m   1098\u001b[0m \u001b[38;5;28;01mtry\u001b[39;00m:\n\u001b[1;32m   1099\u001b[0m     \u001b[38;5;28;01mif\u001b[39;00m buffer \u001b[38;5;129;01mis\u001b[39;00m \u001b[38;5;129;01mnot\u001b[39;00m \u001b[38;5;28;01mNone\u001b[39;00m:\n\u001b[0;32m-> 1100\u001b[0m         \u001b[38;5;28;01mreturn\u001b[39;00m \u001b[38;5;28;43mself\u001b[39;49m\u001b[38;5;241;43m.\u001b[39;49m\u001b[43m_sslobj\u001b[49m\u001b[38;5;241;43m.\u001b[39;49m\u001b[43mread\u001b[49m\u001b[43m(\u001b[49m\u001b[38;5;28;43mlen\u001b[39;49m\u001b[43m,\u001b[49m\u001b[43m \u001b[49m\u001b[43mbuffer\u001b[49m\u001b[43m)\u001b[49m\n\u001b[1;32m   1101\u001b[0m     \u001b[38;5;28;01melse\u001b[39;00m:\n\u001b[1;32m   1102\u001b[0m         \u001b[38;5;28;01mreturn\u001b[39;00m \u001b[38;5;28mself\u001b[39m\u001b[38;5;241m.\u001b[39m_sslobj\u001b[38;5;241m.\u001b[39mread(\u001b[38;5;28mlen\u001b[39m)\n",
      "\u001b[0;31mKeyboardInterrupt\u001b[0m: "
     ]
    }
   ],
   "source": [
    "scrape_reddit_comments_in_post(posts, 'comments_from_posts_20220706.xlsx')"
   ]
  },
  {
   "cell_type": "code",
   "execution_count": 14,
   "id": "68c3d6a7-2a61-4188-8fb5-9e6c31509fe1",
   "metadata": {
    "scrolled": true,
    "tags": []
   },
   "outputs": [],
   "source": [
    "subreddits = ['ketoscience', 'science', 'keto', 'Health', 'conspiracy', 'todayilearned', 'ScientificNutrition', 'askscience',\n",
    "    'news', 'PlantBasedDiet', 'nutrition', 'Paleo', 'longevity', 'Supplements', 'COVID19', 'Cholesterol', 'skeptic', 'diabetes', 'stopusingstatins']\n",
    "search_words = ['statin', 'atorvastatin', 'lipitor', 'rosuvastatin', 'crestor', 'pitavastatin', 'livalo', 'zypitamag', 'simvastatin', 'zocor', 'pravastatin', \n",
    "                'pravachol', 'lovastatin', 'altoprev', 'fluvastatin', 'lescol']\n",
    "\n",
    "comms = scrape_reddit_comments(subreddits, search_words, 'comments_20220712.xlsx')\n",
    "posts = scrape_reddit_posts(subreddits, search_words, 'posts_20220712.xlsx')"
   ]
  },
  {
   "cell_type": "code",
   "execution_count": 24,
   "id": "4000d775-8710-4a01-9c5b-9f5f06936053",
   "metadata": {},
   "outputs": [],
   "source": [
    "comms = pd.read_excel(DATA_FOLDER + 'comments_20220712.xlsx', index_col='id')\n",
    "posts = pd.read_excel(DATA_FOLDER + 'posts_20220712.xlsx', index_col='id')\n",
    "\n",
    "posts['date'] = posts['date'].apply(lambda x: dt.fromtimestamp(x))\n",
    "comms['date'] = comms['date'].apply(lambda x: dt.fromtimestamp(x))"
   ]
  },
  {
   "cell_type": "code",
   "execution_count": 25,
   "id": "64b90f61-2223-4080-b723-05eda24d653c",
   "metadata": {},
   "outputs": [],
   "source": [
    "search_words_regex = re.compile(\"|\".join(search_words))\n",
    "\n",
    "matching_rows = posts['body'].map(lambda x: True if search_words_regex.search(str(x)) else False) + \\\n",
    "    posts['title'].map(lambda x: True if search_words_regex.search(x) else False)\n",
    "\n",
    "posts = posts.loc[matching_rows, :].sort_values(by='upvotes')"
   ]
  },
  {
   "cell_type": "code",
   "execution_count": 26,
   "id": "b2d520af-d82c-4822-ac59-bb70d904ead6",
   "metadata": {},
   "outputs": [],
   "source": [
    "posts['content'] = posts['title'] + '. ' + posts['body']\n",
    "comms['content'] = comms['body']\n",
    "\n",
    "posts['type'] = 'post'\n",
    "comms['type'] = 'comment'"
   ]
  },
  {
   "cell_type": "code",
   "execution_count": 30,
   "id": "23434662-059d-444f-a411-b07b6ba62c6b",
   "metadata": {},
   "outputs": [],
   "source": [
    "cols_to_keep = ['query', 'subreddit', 'type', 'author', 'content', 'date', 'upvotes']\n",
    "pc = pd.concat((posts[cols_to_keep], comms[cols_to_keep]))"
   ]
  },
  {
   "cell_type": "code",
   "execution_count": 64,
   "id": "46acec71-4f86-4303-bc58-79ecb1e31732",
   "metadata": {},
   "outputs": [],
   "source": [
    "len_text = pc['content'].apply(lambda x : len(str(x).split()))"
   ]
  },
  {
   "cell_type": "code",
   "execution_count": 74,
   "id": "1af140b0-ff78-4bfb-96a8-247fe81fad01",
   "metadata": {},
   "outputs": [
    {
     "data": {
      "text/plain": [
       "<AxesSubplot:xlabel='content', ylabel='Count'>"
      ]
     },
     "execution_count": 74,
     "metadata": {},
     "output_type": "execute_result"
    },
    {
     "data": {
      "image/png": "[encoded data removed]",
      "text/plain": [
       "<Figure size 720x720 with 1 Axes>"
      ]
     },
     "metadata": {
      "needs_background": "light"
     },
     "output_type": "display_data"
    }
   ],
   "source": [
    "# Visualize distribution of words\n",
    "\n",
    "plt.figure(figsize=(10, 10))\n",
    "sns.histplot(len_text, kde=True)"
   ]
  },
  {
   "cell_type": "code",
   "execution_count": 76,
   "id": "e0767a22-749a-4cbf-bb5a-01b0e48ad263",
   "metadata": {},
   "outputs": [],
   "source": [
    "# Only keep posts or comments with more than 5 words.\n",
    "pc = pc.loc[len_text > 5, :]"
   ]
  },
  {
   "cell_type": "code",
   "execution_count": 79,
   "id": "1fd8210e-770e-4c01-aacb-e02a80cfeefe",
   "metadata": {},
   "outputs": [],
   "source": [
    "pc.columns = ['subreddit', 'query', 'type', 'author', 'content', 'date', 'upvotes']"
   ]
  },
  {
   "cell_type": "code",
   "execution_count": 80,
   "id": "203635b2-bea0-4d5d-91cc-f02d8e393701",
   "metadata": {
    "tags": []
   },
   "outputs": [],
   "source": [
    "with pd.ExcelWriter(DATA_FOLDER + 'posts_comms_20220712.xlsx', engine='xlsxwriter', options={'strings_to_urls': False}) as writer:\n",
    "    pc.to_excel(writer)"
   ]
  },
  {
   "cell_type": "markdown",
   "id": "3c91bcd8-e313-48f1-83c1-9db784fe148c",
   "metadata": {
    "jp-MarkdownHeadingCollapsed": true,
    "tags": []
   },
   "source": [
    "## PRAW"
   ]
  },
  {
   "cell_type": "markdown",
   "id": "16a1ce5e-9da4-40eb-807c-4c01d60dd1de",
   "metadata": {},
   "source": [
    "Load login information for PRAW to begin scraping :) "
   ]
  },
  {
   "cell_type": "markdown",
   "id": "8242ca79-ca02-41d0-818b-ed9b34f431df",
   "metadata": {
    "jp-MarkdownHeadingCollapsed": true,
    "tags": []
   },
   "source": [
    "## Failed Experiments"
   ]
  },
  {
   "cell_type": "code",
   "execution_count": 156,
   "id": "f44d9628-1140-49ac-b0a7-294a7a0b2303",
   "metadata": {
    "tags": []
   },
   "outputs": [],
   "source": [
    "class PushShift:\n",
    "    \"\"\"\n",
    "    \n",
    "    The PushShift iterator combs through data available via pushshift.io by effectively \\\n",
    "    paginating the search query.\n",
    "    \n",
    "    \"\"\"\n",
    "    \n",
    "    def __init__(self, subreddit, search_phrase, start_time, end_time):\n",
    "        \"\"\"Initialize our PushShift iterator.\n",
    "        \n",
    "        ARGS\n",
    "        ----\n",
    "        @TODO\n",
    "        \n",
    "        \"\"\"\n",
    "        \n",
    "        self.sr = subreddit\n",
    "        self.q = search_phrase\n",
    "        self.st = start_time\n",
    "        self.et = end_time\n",
    "    \n",
    "    def __iter__(self):\n",
    "        self.time = self.et\n",
    "        return self\n",
    "    \n",
    "    def __next__(self):\n",
    "        count = 0\n",
    "        \n",
    "        if self.time > self.st:\n",
    "            \n",
    "            p = {\n",
    "                'q' : self.q,\n",
    "                'subreddit' : self.sr,\n",
    "                'before' : self.time,\n",
    "            }\n",
    "            \n",
    "            url = BASE_POSTS_URL + \"?q={0}&subreddit={1}&before={2}\".format(self.q, self.sr, self.time)\n",
    "            \n",
    "            # posts = requests.get(base_url, params=p).json()['data']\n",
    "            posts = requests.get(base_url)\n",
    "            posts = posts.json()\n",
    "            posts = posts['data']\n",
    "            \n",
    "            import pdb; pdb.set_trace(); \n",
    "            \n",
    "            self.time = posts[-1]['created_utc']\n",
    "            posts = self.convert_to_output(posts)\n",
    "            \n",
    "        return posts\n",
    "            \n",
    "    def convert_to_output(self, posts):\n",
    "        \"\"\" Convert the GET query into a Pandas dataframe that can be concatenated by the \\\n",
    "            parent function calling the iterator.\n",
    "        \"\"\"\n",
    "        \n",
    "        post_info = pd.DataFrame()\n",
    "        post_info.index.name = 'id'\n",
    "\n",
    "        for post in posts:\n",
    "        \n",
    "            post_info.loc[post.id, 'query'] = self.q\n",
    "            post_info.loc[post.id, 'subreddit'] = self.sr\n",
    "            post_info.loc[post.id, 'author'] = post['author']\n",
    "            post_info.loc[post.id, 'title'] = post['title']\n",
    "            post_info.loc[post.id, 'body'] = post['selftext']\n",
    "            post_info.loc[post.id, 'number_of_comments'] = post['num_comments']\n",
    "            post_info.loc[post.id, 'upvotes'] = post['score']\n",
    "            post_info.loc[post.id, 'upvote_ratio'] = post['upvote_ratio']\n",
    "            \n",
    "        return post_info"
   ]
  },
  {
   "cell_type": "code",
   "execution_count": 121,
   "id": "03b96d4c-05e4-4010-b5b1-878b0d179ef0",
   "metadata": {
    "tags": []
   },
   "outputs": [],
   "source": [
    "def scrape_posts(subreddit_name, search_word):\n",
    "    \"\"\" Search for all posts matching a search word in a subreddit.\n",
    "    \"\"\"\n",
    "        \n",
    "    # Create empty objects to store post information.\n",
    "    POST_COLS = ['query', 'subreddit', 'author', 'title', 'body', 'number_of_comments', 'upvotes', 'upvote_ratio']\n",
    "    \n",
    "    post_info = pd.DataFrame(columns=POST_COLS)\n",
    "    post_info.index.name = 'id'\n",
    "    \n",
    "    posts = {}\n",
    "    \n",
    "    # Generate the iterator that will scrape over \n",
    "    for post in PushShift(subreddit_name, search_word, start_time, end_time):\n",
    "\n",
    "        post_info = pd.concat([post_info, post])\n",
    "        \n",
    "    return post_info"
   ]
  },
  {
   "cell_type": "code",
   "execution_count": 46,
   "id": "895f6c24-5de4-47ef-8954-dbee8ba717bf",
   "metadata": {
    "tags": []
   },
   "outputs": [],
   "source": [
    "def scrape_reddit(subreddits, search_words):\n",
    "    \"\"\"Scrapes Reddit for posts matching a set of search words in a set of subreddits.\n",
    "    \"\"\"\n",
    "\n",
    "    POST_INFO = ['query', 'subreddit', 'author', 'title', 'body', 'number_of_comments', 'upvotes', 'upvote_ratio']\n",
    "\n",
    "    all_posts_df = pd.DataFrame(columns=POST_INFO)\n",
    "    all_posts_df.index.name = 'id'\n",
    "\n",
    "    for subreddit in subreddits:\n",
    "        for search_word in search_words:\n",
    "            print(\"Now searching r/{0} for {1}\".format(subreddit, search_word))\n",
    "\n",
    "            post_df_ij = scrape_posts(subreddit, search_word)\n",
    "\n",
    "            print(\"Completed search. Joining!\")\n",
    "            all_posts_df = pd.concat([all_posts_df, post_df_ij])\n",
    "\n",
    "            with pd.ExcelWriter(DATA_FOLDER + 'scraped_posts_full.xlsx', engine='xlsxwriter', options={'strings_to_urls': False}) as writer:\n",
    "                all_posts_df.to_excel(writer)"
   ]
  },
  {
   "cell_type": "code",
   "execution_count": null,
   "id": "e48cfa77-7bcb-4f81-9992-b8d3cac2d629",
   "metadata": {},
   "outputs": [],
   "source": [
    "def scrape_reddit_cmnts(subreddits, search_words):\n",
    "    \"\"\"Scrapes Reddit for posts matching a set of search words in a set of subreddits.\n",
    "    \"\"\"\n",
    "\n",
    "    POST_INFO = ['query', 'subreddit', 'author', 'body', 'link_id', 'parent_id', 'upvotes']\n",
    "\n",
    "    all_posts = {}\n",
    "    all_posts_df = pd.DataFrame(columns=POST_INFO)\n",
    "    all_posts_df.index.name = 'id'\n",
    "\n",
    "    for subreddit in subreddits:\n",
    "        for search_word in search_words:\n",
    "            print(\"Now searching r/{0} for {1}\".format(subreddit, search_word))\n",
    "\n",
    "            # Create empty objects to store post information.\n",
    "            post_info = pd.DataFrame()\n",
    "            post_info.index.name = 'id'\n",
    "\n",
    "            posts = {}\n",
    "\n",
    "            # Generate the iterator that will scrape over \n",
    "            for post in api.search_comments(q=search_word, subreddit=subreddit):\n",
    "\n",
    "                # Save this post as k:v pair.\n",
    "                posts[post.id] = post\n",
    "\n",
    "                # Store this post's metadata in our dataframe.\n",
    "                post_info.loc[post.id, 'query'] = search_word\n",
    "                post_info.loc[post.id, 'subreddit'] = subreddit\n",
    "                post_info.loc[post.id, 'author'] = post.author\n",
    "\n",
    "                try:\n",
    "                    post_info.loc[post.id, 'body'] = post.body\n",
    "                except:\n",
    "                    pass\n",
    "\n",
    "                post_info.loc[post.id, 'link_id'] = post.link_id\n",
    "                post_info.loc[post.id, 'parent_id'] = post.parent_id\n",
    "                post_info.loc[post.id, 'upvotes'] = post.score\n",
    "                # post_info.loc[post.id, 'upvote_ratio'] = post.upvote_ratio\n",
    "\n",
    "            print(\"Completed search. Found {0} entries. Joining!\".format(post_info.shape[0]))\n",
    "\n",
    "            all_posts.update(posts)\n",
    "            all_posts_df = pd.concat([all_posts_df, post_info])\n",
    "\n",
    "            with pd.ExcelWriter(DATA_FOLDER + 'scraped_comments_full_psaw.xlsx', engine='xlsxwriter', options={'strings_to_urls': False}) as writer:\n",
    "                all_posts_df.to_excel(writer)"
   ]
  },
  {
   "cell_type": "code",
   "execution_count": 313,
   "id": "78c29a15-a396-40a7-936f-aca535f845f6",
   "metadata": {
    "scrolled": true,
    "tags": []
   },
   "outputs": [
    {
     "name": "stdout",
     "output_type": "stream",
     "text": [
      "Now searching r/ketoscience for statin\n",
      "Completed search. Found 464 entries. Joining!\n",
      "Now searching r/ketoscience for atorvastatin\n",
      "Completed search. Found 12 entries. Joining!\n",
      "Now searching r/ketoscience for lipitor\n",
      "Completed search. Found 23 entries. Joining!\n",
      "Now searching r/ketoscience for rosuvastatin\n",
      "Completed search. Found 11 entries. Joining!\n",
      "Now searching r/ketoscience for crestor\n",
      "Completed search. Found 15 entries. Joining!\n",
      "Now searching r/ketoscience for pitavastatin\n",
      "Completed search. Found 2 entries. Joining!\n",
      "Now searching r/ketoscience for livalo\n",
      "Completed search. Found 0 entries. Joining!\n",
      "Now searching r/ketoscience for zypitamag\n",
      "Completed search. Found 0 entries. Joining!\n",
      "Now searching r/ketoscience for simvastatin\n",
      "Completed search. Found 8 entries. Joining!\n",
      "Now searching r/ketoscience for zocor\n",
      "Completed search. Found 0 entries. Joining!\n",
      "Now searching r/ketoscience for pravastatin\n",
      "Completed search. Found 4 entries. Joining!\n",
      "Now searching r/ketoscience for pravachol\n",
      "Completed search. Found 0 entries. Joining!\n",
      "Now searching r/ketoscience for lovastatin\n",
      "Completed search. Found 3 entries. Joining!\n",
      "Now searching r/ketoscience for altoprev\n",
      "Completed search. Found 0 entries. Joining!\n",
      "Now searching r/ketoscience for fluvastatin\n",
      "Completed search. Found 1 entries. Joining!\n",
      "Now searching r/ketoscience for lescol\n",
      "Completed search. Found 0 entries. Joining!\n",
      "Now searching r/science for statin\n",
      "Completed search. Found 470 entries. Joining!\n",
      "Now searching r/science for atorvastatin\n",
      "Completed search. Found 66 entries. Joining!\n",
      "Now searching r/science for lipitor\n",
      "Completed search. Found 137 entries. Joining!\n",
      "Now searching r/science for rosuvastatin\n",
      "Completed search. Found 21 entries. Joining!\n",
      "Now searching r/science for crestor\n",
      "Completed search. Found 26 entries. Joining!\n",
      "Now searching r/science for pitavastatin\n",
      "Completed search. Found 8 entries. Joining!\n",
      "Now searching r/science for livalo\n",
      "Completed search. Found 1 entries. Joining!\n",
      "Now searching r/science for zypitamag\n",
      "Completed search. Found 0 entries. Joining!\n",
      "Now searching r/science for simvastatin\n",
      "Completed search. Found 41 entries. Joining!\n",
      "Now searching r/science for zocor\n",
      "Completed search. Found 10 entries. Joining!\n",
      "Now searching r/science for pravastatin\n",
      "Completed search. Found 14 entries. Joining!\n",
      "Now searching r/science for pravachol\n",
      "Completed search. Found 4 entries. Joining!\n",
      "Now searching r/science for lovastatin\n",
      "Completed search. Found 18 entries. Joining!\n",
      "Now searching r/science for altoprev\n",
      "Completed search. Found 1 entries. Joining!\n",
      "Now searching r/science for fluvastatin\n",
      "Completed search. Found 3 entries. Joining!\n",
      "Now searching r/science for lescol\n",
      "Completed search. Found 1 entries. Joining!\n",
      "Now searching r/keto for statin\n",
      "Completed search. Found 1685 entries. Joining!\n",
      "Now searching r/keto for atorvastatin\n",
      "Completed search. Found 39 entries. Joining!\n",
      "Now searching r/keto for lipitor\n",
      "Completed search. Found 236 entries. Joining!\n",
      "Now searching r/keto for rosuvastatin\n",
      "Completed search. Found 14 entries. Joining!\n",
      "Now searching r/keto for crestor\n",
      "Completed search. Found 100 entries. Joining!\n",
      "Now searching r/keto for pitavastatin\n",
      "Completed search. Found 4 entries. Joining!\n",
      "Now searching r/keto for livalo\n",
      "Completed search. Found 2 entries. Joining!\n",
      "Now searching r/keto for zypitamag\n",
      "Completed search. Found 0 entries. Joining!\n",
      "Now searching r/keto for simvastatin\n",
      "Completed search. Found 24 entries. Joining!\n",
      "Now searching r/keto for zocor\n",
      "Completed search. Found 9 entries. Joining!\n",
      "Now searching r/keto for pravastatin\n",
      "Completed search. Found 6 entries. Joining!\n",
      "Now searching r/keto for pravachol\n",
      "Completed search. Found 1 entries. Joining!\n",
      "Now searching r/keto for lovastatin\n",
      "Completed search. Found 3 entries. Joining!\n",
      "Now searching r/keto for altoprev\n",
      "Completed search. Found 0 entries. Joining!\n",
      "Now searching r/keto for fluvastatin\n",
      "Completed search. Found 0 entries. Joining!\n",
      "Now searching r/keto for lescol\n",
      "Completed search. Found 1 entries. Joining!\n",
      "Now searching r/Health for statin\n",
      "Completed search. Found 148 entries. Joining!\n",
      "Now searching r/Health for atorvastatin\n",
      "Completed search. Found 19 entries. Joining!\n",
      "Now searching r/Health for lipitor\n",
      "Completed search. Found 66 entries. Joining!\n",
      "Now searching r/Health for rosuvastatin\n",
      "Completed search. Found 4 entries. Joining!\n",
      "Now searching r/Health for crestor\n",
      "Completed search. Found 9 entries. Joining!\n",
      "Now searching r/Health for pitavastatin\n",
      "Completed search. Found 1 entries. Joining!\n",
      "Now searching r/Health for livalo\n",
      "Completed search. Found 0 entries. Joining!\n",
      "Now searching r/Health for zypitamag\n",
      "Completed search. Found 0 entries. Joining!\n",
      "Now searching r/Health for simvastatin\n",
      "Completed search. Found 9 entries. Joining!\n",
      "Now searching r/Health for zocor\n",
      "Completed search. Found 6 entries. Joining!\n",
      "Now searching r/Health for pravastatin\n",
      "Completed search. Found 2 entries. Joining!\n",
      "Now searching r/Health for pravachol\n",
      "Completed search. Found 1 entries. Joining!\n",
      "Now searching r/Health for lovastatin\n",
      "Completed search. Found 7 entries. Joining!\n",
      "Now searching r/Health for altoprev\n",
      "Completed search. Found 0 entries. Joining!\n",
      "Now searching r/Health for fluvastatin\n",
      "Completed search. Found 2 entries. Joining!\n",
      "Now searching r/Health for lescol\n",
      "Completed search. Found 1 entries. Joining!\n",
      "Now searching r/conspiracy for statin\n",
      "Completed search. Found 195 entries. Joining!\n",
      "Now searching r/conspiracy for atorvastatin\n",
      "Completed search. Found 30 entries. Joining!\n",
      "Now searching r/conspiracy for lipitor\n",
      "Completed search. Found 129 entries. Joining!\n",
      "Now searching r/conspiracy for rosuvastatin\n",
      "Completed search. Found 3 entries. Joining!\n",
      "Now searching r/conspiracy for crestor\n",
      "Completed search. Found 24 entries. Joining!\n",
      "Now searching r/conspiracy for pitavastatin\n",
      "Completed search. Found 0 entries. Joining!\n",
      "Now searching r/conspiracy for livalo\n",
      "Completed search. Found 1 entries. Joining!\n",
      "Now searching r/conspiracy for zypitamag\n",
      "Completed search. Found 0 entries. Joining!\n",
      "Now searching r/conspiracy for simvastatin\n",
      "Completed search. Found 5 entries. Joining!\n",
      "Now searching r/conspiracy for zocor\n",
      "Completed search. Found 4 entries. Joining!\n",
      "Now searching r/conspiracy for pravastatin\n",
      "Completed search. Found 2 entries. Joining!\n",
      "Now searching r/conspiracy for pravachol\n",
      "Completed search. Found 0 entries. Joining!\n",
      "Now searching r/conspiracy for lovastatin\n",
      "Completed search. Found 4 entries. Joining!\n",
      "Now searching r/conspiracy for altoprev\n",
      "Completed search. Found 0 entries. Joining!\n",
      "Now searching r/conspiracy for fluvastatin\n",
      "Completed search. Found 0 entries. Joining!\n",
      "Now searching r/conspiracy for lescol\n",
      "Completed search. Found 0 entries. Joining!\n",
      "Now searching r/todayilearned for statin\n",
      "Completed search. Found 170 entries. Joining!\n",
      "Now searching r/todayilearned for atorvastatin\n",
      "Completed search. Found 31 entries. Joining!\n",
      "Now searching r/todayilearned for lipitor\n",
      "Completed search. Found 173 entries. Joining!\n",
      "Now searching r/todayilearned for rosuvastatin\n",
      "Completed search. Found 5 entries. Joining!\n",
      "Now searching r/todayilearned for crestor\n",
      "Completed search. Found 31 entries. Joining!\n",
      "Now searching r/todayilearned for pitavastatin\n",
      "Completed search. Found 1 entries. Joining!\n",
      "Now searching r/todayilearned for livalo\n",
      "Completed search. Found 1 entries. Joining!\n",
      "Now searching r/todayilearned for zypitamag\n",
      "Completed search. Found 0 entries. Joining!\n",
      "Now searching r/todayilearned for simvastatin\n",
      "Completed search. Found 27 entries. Joining!\n",
      "Now searching r/todayilearned for zocor\n",
      "Completed search. Found 14 entries. Joining!\n",
      "Now searching r/todayilearned for pravastatin\n",
      "Completed search. Found 4 entries. Joining!\n",
      "Now searching r/todayilearned for pravachol\n",
      "Completed search. Found 2 entries. Joining!\n",
      "Now searching r/todayilearned for lovastatin\n",
      "Completed search. Found 15 entries. Joining!\n",
      "Now searching r/todayilearned for altoprev\n",
      "Completed search. Found 0 entries. Joining!\n",
      "Now searching r/todayilearned for fluvastatin\n",
      "Completed search. Found 1 entries. Joining!\n",
      "Now searching r/todayilearned for lescol\n",
      "Completed search. Found 1 entries. Joining!\n",
      "Now searching r/ScientificNutrition for statin\n",
      "Completed search. Found 396 entries. Joining!\n",
      "Now searching r/ScientificNutrition for atorvastatin\n",
      "Completed search. Found 23 entries. Joining!\n",
      "Now searching r/ScientificNutrition for lipitor\n",
      "Completed search. Found 7 entries. Joining!\n",
      "Now searching r/ScientificNutrition for rosuvastatin\n",
      "Completed search. Found 18 entries. Joining!\n",
      "Now searching r/ScientificNutrition for crestor\n",
      "Completed search. Found 3 entries. Joining!\n",
      "Now searching r/ScientificNutrition for pitavastatin\n",
      "Completed search. Found 0 entries. Joining!\n",
      "Now searching r/ScientificNutrition for livalo\n",
      "Completed search. Found 0 entries. Joining!\n",
      "Now searching r/ScientificNutrition for zypitamag\n",
      "Completed search. Found 0 entries. Joining!\n",
      "Now searching r/ScientificNutrition for simvastatin\n",
      "Completed search. Found 23 entries. Joining!\n",
      "Now searching r/ScientificNutrition for zocor\n",
      "Completed search. Found 0 entries. Joining!\n",
      "Now searching r/ScientificNutrition for pravastatin\n",
      "Completed search. Found 17 entries. Joining!\n",
      "Now searching r/ScientificNutrition for pravachol\n",
      "Completed search. Found 0 entries. Joining!\n",
      "Now searching r/ScientificNutrition for lovastatin\n",
      "Completed search. Found 5 entries. Joining!\n",
      "Now searching r/ScientificNutrition for altoprev\n",
      "Completed search. Found 0 entries. Joining!\n",
      "Now searching r/ScientificNutrition for fluvastatin\n",
      "Completed search. Found 3 entries. Joining!\n",
      "Now searching r/ScientificNutrition for lescol\n",
      "Completed search. Found 0 entries. Joining!\n",
      "Now searching r/askscience for statin\n",
      "Completed search. Found 99 entries. Joining!\n",
      "Now searching r/askscience for atorvastatin\n",
      "Completed search. Found 25 entries. Joining!\n",
      "Now searching r/askscience for lipitor\n",
      "Completed search. Found 40 entries. Joining!\n",
      "Now searching r/askscience for rosuvastatin\n",
      "Completed search. Found 5 entries. Joining!\n",
      "Now searching r/askscience for crestor\n",
      "Completed search. Found 10 entries. Joining!\n",
      "Now searching r/askscience for pitavastatin\n",
      "Completed search. Found 0 entries. Joining!\n",
      "Now searching r/askscience for livalo\n",
      "Completed search. Found 0 entries. Joining!\n",
      "Now searching r/askscience for zypitamag\n",
      "Completed search. Found 0 entries. Joining!\n",
      "Now searching r/askscience for simvastatin\n",
      "Completed search. Found 12 entries. Joining!\n",
      "Now searching r/askscience for zocor\n",
      "Completed search. Found 4 entries. Joining!\n",
      "Now searching r/askscience for pravastatin\n",
      "Completed search. Found 0 entries. Joining!\n",
      "Now searching r/askscience for pravachol\n",
      "Completed search. Found 0 entries. Joining!\n",
      "Now searching r/askscience for lovastatin\n",
      "Completed search. Found 2 entries. Joining!\n",
      "Now searching r/askscience for altoprev\n",
      "Completed search. Found 0 entries. Joining!\n",
      "Now searching r/askscience for fluvastatin\n",
      "Completed search. Found 0 entries. Joining!\n",
      "Now searching r/askscience for lescol\n",
      "Completed search. Found 0 entries. Joining!\n",
      "Now searching r/Futurology for statin\n",
      "Completed search. Found 49 entries. Joining!\n",
      "Now searching r/Futurology for atorvastatin\n",
      "Completed search. Found 3 entries. Joining!\n",
      "Now searching r/Futurology for lipitor\n",
      "Completed search. Found 20 entries. Joining!\n",
      "Now searching r/Futurology for rosuvastatin\n",
      "Completed search. Found 1 entries. Joining!\n",
      "Now searching r/Futurology for crestor\n",
      "Completed search. Found 0 entries. Joining!\n",
      "Now searching r/Futurology for pitavastatin\n",
      "Completed search. Found 0 entries. Joining!\n",
      "Now searching r/Futurology for livalo\n",
      "Completed search. Found 0 entries. Joining!\n",
      "Now searching r/Futurology for zypitamag\n",
      "Completed search. Found 0 entries. Joining!\n",
      "Now searching r/Futurology for simvastatin\n",
      "Completed search. Found 1 entries. Joining!\n",
      "Now searching r/Futurology for zocor\n",
      "Completed search. Found 0 entries. Joining!\n",
      "Now searching r/Futurology for pravastatin\n",
      "Completed search. Found 0 entries. Joining!\n",
      "Now searching r/Futurology for pravachol\n",
      "Completed search. Found 0 entries. Joining!\n",
      "Now searching r/Futurology for lovastatin\n",
      "Completed search. Found 2 entries. Joining!\n",
      "Now searching r/Futurology for altoprev\n",
      "Completed search. Found 0 entries. Joining!\n",
      "Now searching r/Futurology for fluvastatin\n",
      "Completed search. Found 0 entries. Joining!\n",
      "Now searching r/Futurology for lescol\n",
      "Completed search. Found 0 entries. Joining!\n",
      "Now searching r/news for statin\n",
      "Completed search. Found 153 entries. Joining!\n",
      "Now searching r/news for atorvastatin\n",
      "Completed search. Found 31 entries. Joining!\n",
      "Now searching r/news for lipitor\n",
      "Completed search. Found 242 entries. Joining!\n",
      "Now searching r/news for rosuvastatin\n",
      "Completed search. Found 9 entries. Joining!\n",
      "Now searching r/news for crestor\n",
      "Completed search. Found 40 entries. Joining!\n",
      "Now searching r/news for pitavastatin\n",
      "Completed search. Found 3 entries. Joining!\n",
      "Now searching r/news for livalo\n",
      "Completed search. Found 3 entries. Joining!\n",
      "Now searching r/news for zypitamag\n",
      "Completed search. Found 0 entries. Joining!\n",
      "Now searching r/news for simvastatin\n",
      "Completed search. Found 21 entries. Joining!\n",
      "Now searching r/news for zocor\n",
      "Completed search. Found 11 entries. Joining!\n",
      "Now searching r/news for pravastatin\n",
      "Completed search. Found 5 entries. Joining!\n",
      "Now searching r/news for pravachol\n",
      "Completed search. Found 4 entries. Joining!\n",
      "Now searching r/news for lovastatin\n",
      "Completed search. Found 11 entries. Joining!\n",
      "Now searching r/news for altoprev\n",
      "Completed search. Found 1 entries. Joining!\n",
      "Now searching r/news for fluvastatin\n",
      "Completed search. Found 3 entries. Joining!\n",
      "Now searching r/news for lescol\n",
      "Completed search. Found 2 entries. Joining!\n",
      "Now searching r/PlantBasedDiet for statin\n",
      "Completed search. Found 184 entries. Joining!\n",
      "Now searching r/PlantBasedDiet for atorvastatin\n",
      "Completed search. Found 4 entries. Joining!\n",
      "Now searching r/PlantBasedDiet for lipitor\n",
      "Completed search. Found 6 entries. Joining!\n",
      "Now searching r/PlantBasedDiet for rosuvastatin\n",
      "Completed search. Found 4 entries. Joining!\n",
      "Now searching r/PlantBasedDiet for crestor\n",
      "Completed search. Found 13 entries. Joining!\n",
      "Now searching r/PlantBasedDiet for pitavastatin\n",
      "Completed search. Found 0 entries. Joining!\n",
      "Now searching r/PlantBasedDiet for livalo\n",
      "Completed search. Found 0 entries. Joining!\n",
      "Now searching r/PlantBasedDiet for zypitamag\n",
      "Completed search. Found 0 entries. Joining!\n",
      "Now searching r/PlantBasedDiet for simvastatin\n",
      "Completed search. Found 2 entries. Joining!\n",
      "Now searching r/PlantBasedDiet for zocor\n",
      "Completed search. Found 0 entries. Joining!\n",
      "Now searching r/PlantBasedDiet for pravastatin\n",
      "Completed search. Found 4 entries. Joining!\n",
      "Now searching r/PlantBasedDiet for pravachol\n",
      "Completed search. Found 1 entries. Joining!\n",
      "Now searching r/PlantBasedDiet for lovastatin\n",
      "Completed search. Found 3 entries. Joining!\n",
      "Now searching r/PlantBasedDiet for altoprev\n",
      "Completed search. Found 0 entries. Joining!\n",
      "Now searching r/PlantBasedDiet for fluvastatin\n",
      "Completed search. Found 0 entries. Joining!\n",
      "Now searching r/PlantBasedDiet for lescol\n",
      "Completed search. Found 0 entries. Joining!\n",
      "Now searching r/nutrition for statin\n",
      "Completed search. Found 446 entries. Joining!\n",
      "Now searching r/nutrition for atorvastatin\n",
      "Completed search. Found 17 entries. Joining!\n",
      "Now searching r/nutrition for lipitor\n",
      "Completed search. Found 19 entries. Joining!\n",
      "Now searching r/nutrition for rosuvastatin\n",
      "Completed search. Found 9 entries. Joining!\n",
      "Now searching r/nutrition for crestor\n",
      "Completed search. Found 5 entries. Joining!\n",
      "Now searching r/nutrition for pitavastatin\n",
      "Completed search. Found 2 entries. Joining!\n",
      "Now searching r/nutrition for livalo\n",
      "Completed search. Found 0 entries. Joining!\n",
      "Now searching r/nutrition for zypitamag\n",
      "Completed search. Found 0 entries. Joining!\n",
      "Now searching r/nutrition for simvastatin\n",
      "Completed search. Found 12 entries. Joining!\n",
      "Now searching r/nutrition for zocor\n",
      "Completed search. Found 1 entries. Joining!\n",
      "Now searching r/nutrition for pravastatin\n",
      "Completed search. Found 4 entries. Joining!\n",
      "Now searching r/nutrition for pravachol\n",
      "Completed search. Found 0 entries. Joining!\n",
      "Now searching r/nutrition for lovastatin\n",
      "Completed search. Found 12 entries. Joining!\n",
      "Now searching r/nutrition for altoprev\n",
      "Completed search. Found 0 entries. Joining!\n",
      "Now searching r/nutrition for fluvastatin\n",
      "Completed search. Found 3 entries. Joining!\n",
      "Now searching r/nutrition for lescol\n",
      "Completed search. Found 0 entries. Joining!\n",
      "Now searching r/Paleo for statin\n",
      "Completed search. Found 73 entries. Joining!\n",
      "Now searching r/Paleo for atorvastatin\n",
      "Completed search. Found 1 entries. Joining!\n",
      "Now searching r/Paleo for lipitor\n",
      "Completed search. Found 25 entries. Joining!\n",
      "Now searching r/Paleo for rosuvastatin\n",
      "Completed search. Found 0 entries. Joining!\n",
      "Now searching r/Paleo for crestor\n",
      "Completed search. Found 9 entries. Joining!\n",
      "Now searching r/Paleo for pitavastatin\n",
      "Completed search. Found 0 entries. Joining!\n",
      "Now searching r/Paleo for livalo\n",
      "Completed search. Found 0 entries. Joining!\n",
      "Now searching r/Paleo for zypitamag\n",
      "Completed search. Found 0 entries. Joining!\n",
      "Now searching r/Paleo for simvastatin\n",
      "Completed search. Found 3 entries. Joining!\n",
      "Now searching r/Paleo for zocor\n",
      "Completed search. Found 0 entries. Joining!\n",
      "Now searching r/Paleo for pravastatin\n",
      "Completed search. Found 2 entries. Joining!\n",
      "Now searching r/Paleo for pravachol\n",
      "Completed search. Found 0 entries. Joining!\n",
      "Now searching r/Paleo for lovastatin\n",
      "Completed search. Found 2 entries. Joining!\n",
      "Now searching r/Paleo for altoprev\n",
      "Completed search. Found 0 entries. Joining!\n",
      "Now searching r/Paleo for fluvastatin\n",
      "Completed search. Found 0 entries. Joining!\n",
      "Now searching r/Paleo for lescol\n",
      "Completed search. Found 0 entries. Joining!\n",
      "Now searching r/fasting for statin\n",
      "Completed search. Found 56 entries. Joining!\n",
      "Now searching r/fasting for atorvastatin\n",
      "Completed search. Found 1 entries. Joining!\n",
      "Now searching r/fasting for lipitor\n",
      "Completed search. Found 4 entries. Joining!\n",
      "Now searching r/fasting for rosuvastatin\n",
      "Completed search. Found 1 entries. Joining!\n",
      "Now searching r/fasting for crestor\n",
      "Completed search. Found 0 entries. Joining!\n",
      "Now searching r/fasting for pitavastatin\n",
      "Completed search. Found 0 entries. Joining!\n",
      "Now searching r/fasting for livalo\n",
      "Completed search. Found 0 entries. Joining!\n",
      "Now searching r/fasting for zypitamag\n",
      "Completed search. Found 0 entries. Joining!\n",
      "Now searching r/fasting for simvastatin\n",
      "Completed search. Found 1 entries. Joining!\n",
      "Now searching r/fasting for zocor\n",
      "Completed search. Found 0 entries. Joining!\n",
      "Now searching r/fasting for pravastatin\n",
      "Completed search. Found 0 entries. Joining!\n",
      "Now searching r/fasting for pravachol\n",
      "Completed search. Found 0 entries. Joining!\n",
      "Now searching r/fasting for lovastatin\n",
      "Completed search. Found 0 entries. Joining!\n",
      "Now searching r/fasting for altoprev\n",
      "Completed search. Found 0 entries. Joining!\n",
      "Now searching r/fasting for fluvastatin\n",
      "Completed search. Found 0 entries. Joining!\n",
      "Now searching r/fasting for lescol\n",
      "Completed search. Found 0 entries. Joining!\n",
      "Now searching r/longevity for statin\n",
      "Completed search. Found 56 entries. Joining!\n",
      "Now searching r/longevity for atorvastatin\n",
      "Completed search. Found 4 entries. Joining!\n",
      "Now searching r/longevity for lipitor\n",
      "Completed search. Found 6 entries. Joining!\n",
      "Now searching r/longevity for rosuvastatin\n",
      "Completed search. Found 2 entries. Joining!\n",
      "Now searching r/longevity for crestor\n",
      "Completed search. Found 3 entries. Joining!\n",
      "Now searching r/longevity for pitavastatin\n",
      "Completed search. Found 2 entries. Joining!\n",
      "Now searching r/longevity for livalo\n",
      "Completed search. Found 0 entries. Joining!\n",
      "Now searching r/longevity for zypitamag\n",
      "Completed search. Found 0 entries. Joining!\n",
      "Now searching r/longevity for simvastatin\n",
      "Completed search. Found 2 entries. Joining!\n",
      "Now searching r/longevity for zocor\n",
      "Completed search. Found 0 entries. Joining!\n",
      "Now searching r/longevity for pravastatin\n",
      "Completed search. Found 1 entries. Joining!\n",
      "Now searching r/longevity for pravachol\n",
      "Completed search. Found 1 entries. Joining!\n",
      "Now searching r/longevity for lovastatin\n",
      "Completed search. Found 1 entries. Joining!\n",
      "Now searching r/longevity for altoprev\n",
      "Completed search. Found 0 entries. Joining!\n",
      "Now searching r/longevity for fluvastatin\n",
      "Completed search. Found 1 entries. Joining!\n",
      "Now searching r/longevity for lescol\n",
      "Completed search. Found 0 entries. Joining!\n",
      "Now searching r/Supplements for statin\n",
      "Completed search. Found 253 entries. Joining!\n",
      "Now searching r/Supplements for atorvastatin\n",
      "Completed search. Found 8 entries. Joining!\n",
      "Now searching r/Supplements for lipitor\n",
      "Completed search. Found 33 entries. Joining!\n",
      "Now searching r/Supplements for rosuvastatin\n",
      "Completed search. Found 9 entries. Joining!\n",
      "Now searching r/Supplements for crestor\n",
      "Completed search. Found 8 entries. Joining!\n",
      "Now searching r/Supplements for pitavastatin\n",
      "Completed search. Found 1 entries. Joining!\n",
      "Now searching r/Supplements for livalo\n",
      "Completed search. Found 0 entries. Joining!\n",
      "Now searching r/Supplements for zypitamag\n",
      "Completed search. Found 0 entries. Joining!\n",
      "Now searching r/Supplements for simvastatin\n",
      "Completed search. Found 4 entries. Joining!\n",
      "Now searching r/Supplements for zocor\n",
      "Completed search. Found 1 entries. Joining!\n",
      "Now searching r/Supplements for pravastatin\n",
      "Completed search. Found 7 entries. Joining!\n",
      "Now searching r/Supplements for pravachol\n",
      "Completed search. Found 0 entries. Joining!\n",
      "Now searching r/Supplements for lovastatin\n",
      "Completed search. Found 25 entries. Joining!\n",
      "Now searching r/Supplements for altoprev\n",
      "Completed search. Found 0 entries. Joining!\n",
      "Now searching r/Supplements for fluvastatin\n",
      "Completed search. Found 1 entries. Joining!\n",
      "Now searching r/Supplements for lescol\n",
      "Completed search. Found 0 entries. Joining!\n",
      "Now searching r/Coronavirus for statin\n",
      "Completed search. Found 67 entries. Joining!\n",
      "Now searching r/Coronavirus for atorvastatin\n",
      "Completed search. Found 13 entries. Joining!\n",
      "Now searching r/Coronavirus for lipitor\n",
      "Completed search. Found 46 entries. Joining!\n",
      "Now searching r/Coronavirus for rosuvastatin\n",
      "Completed search. Found 3 entries. Joining!\n",
      "Now searching r/Coronavirus for crestor\n",
      "Completed search. Found 8 entries. Joining!\n",
      "Now searching r/Coronavirus for pitavastatin\n",
      "Completed search. Found 0 entries. Joining!\n",
      "Now searching r/Coronavirus for livalo\n",
      "Completed search. Found 0 entries. Joining!\n",
      "Now searching r/Coronavirus for zypitamag\n",
      "Completed search. Found 0 entries. Joining!\n",
      "Now searching r/Coronavirus for simvastatin\n",
      "Completed search. Found 4 entries. Joining!\n",
      "Now searching r/Coronavirus for zocor\n",
      "Completed search. Found 2 entries. Joining!\n",
      "Now searching r/Coronavirus for pravastatin\n",
      "Completed search. Found 0 entries. Joining!\n",
      "Now searching r/Coronavirus for pravachol\n",
      "Completed search. Found 0 entries. Joining!\n",
      "Now searching r/Coronavirus for lovastatin\n",
      "Completed search. Found 4 entries. Joining!\n",
      "Now searching r/Coronavirus for altoprev\n",
      "Completed search. Found 0 entries. Joining!\n",
      "Now searching r/Coronavirus for fluvastatin\n",
      "Completed search. Found 0 entries. Joining!\n",
      "Now searching r/Coronavirus for lescol\n",
      "Completed search. Found 0 entries. Joining!\n",
      "Now searching r/COVID19 for statin\n",
      "Completed search. Found 95 entries. Joining!\n",
      "Now searching r/COVID19 for atorvastatin\n",
      "Completed search. Found 30 entries. Joining!\n",
      "Now searching r/COVID19 for lipitor\n",
      "Completed search. Found 8 entries. Joining!\n",
      "Now searching r/COVID19 for rosuvastatin\n",
      "Completed search. Found 16 entries. Joining!\n",
      "Now searching r/COVID19 for crestor\n",
      "Completed search. Found 4 entries. Joining!\n",
      "Now searching r/COVID19 for pitavastatin\n",
      "Completed search. Found 1 entries. Joining!\n",
      "Now searching r/COVID19 for livalo\n",
      "Completed search. Found 0 entries. Joining!\n",
      "Now searching r/COVID19 for zypitamag\n",
      "Completed search. Found 0 entries. Joining!\n",
      "Now searching r/COVID19 for simvastatin\n",
      "Completed search. Found 6 entries. Joining!\n",
      "Now searching r/COVID19 for zocor\n",
      "Completed search. Found 1 entries. Joining!\n",
      "Now searching r/COVID19 for pravastatin\n",
      "Completed search. Found 1 entries. Joining!\n",
      "Now searching r/COVID19 for pravachol\n",
      "Completed search. Found 0 entries. Joining!\n",
      "Now searching r/COVID19 for lovastatin\n",
      "Completed search. Found 1 entries. Joining!\n",
      "Now searching r/COVID19 for altoprev\n",
      "Completed search. Found 0 entries. Joining!\n",
      "Now searching r/COVID19 for fluvastatin\n",
      "Completed search. Found 3 entries. Joining!\n",
      "Now searching r/COVID19 for lescol\n",
      "Completed search. Found 0 entries. Joining!\n",
      "Now searching r/Cholesterol for statin\n",
      "Completed search. Found 1393 entries. Joining!\n",
      "Now searching r/Cholesterol for atorvastatin\n",
      "Completed search. Found 105 entries. Joining!\n",
      "Now searching r/Cholesterol for lipitor\n",
      "Completed search. Found 200 entries. Joining!\n",
      "Now searching r/Cholesterol for rosuvastatin\n",
      "Completed search. Found 109 entries. Joining!\n",
      "Now searching r/Cholesterol for crestor\n",
      "Completed search. Found 223 entries. Joining!\n",
      "Now searching r/Cholesterol for pitavastatin\n",
      "Completed search. Found 4 entries. Joining!\n",
      "Now searching r/Cholesterol for livalo\n",
      "Completed search. Found 6 entries. Joining!\n",
      "Now searching r/Cholesterol for zypitamag\n",
      "Completed search. Found 0 entries. Joining!\n",
      "Now searching r/Cholesterol for simvastatin\n",
      "Completed search. Found 25 entries. Joining!\n",
      "Now searching r/Cholesterol for zocor\n",
      "Completed search. Found 8 entries. Joining!\n",
      "Now searching r/Cholesterol for pravastatin\n",
      "Completed search. Found 34 entries. Joining!\n",
      "Now searching r/Cholesterol for pravachol\n",
      "Completed search. Found 0 entries. Joining!\n",
      "Now searching r/Cholesterol for lovastatin\n",
      "Completed search. Found 16 entries. Joining!\n",
      "Now searching r/Cholesterol for altoprev\n",
      "Completed search. Found 0 entries. Joining!\n",
      "Now searching r/Cholesterol for fluvastatin\n",
      "Completed search. Found 8 entries. Joining!\n",
      "Now searching r/Cholesterol for lescol\n",
      "Completed search. Found 1 entries. Joining!\n",
      "Now searching r/Fitness for statin\n",
      "Completed search. Found 157 entries. Joining!\n",
      "Now searching r/Fitness for atorvastatin\n",
      "Completed search. Found 5 entries. Joining!\n",
      "Now searching r/Fitness for lipitor\n",
      "Completed search. Found 66 entries. Joining!\n",
      "Now searching r/Fitness for rosuvastatin\n",
      "Completed search. Found 0 entries. Joining!\n",
      "Now searching r/Fitness for crestor\n",
      "Completed search. Found 8 entries. Joining!\n",
      "Now searching r/Fitness for pitavastatin\n",
      "Completed search. Found 0 entries. Joining!\n",
      "Now searching r/Fitness for livalo\n",
      "Completed search. Found 0 entries. Joining!\n",
      "Now searching r/Fitness for zypitamag\n",
      "Completed search. Found 0 entries. Joining!\n",
      "Now searching r/Fitness for simvastatin\n",
      "Completed search. Found 5 entries. Joining!\n",
      "Now searching r/Fitness for zocor\n",
      "Completed search. Found 6 entries. Joining!\n",
      "Now searching r/Fitness for pravastatin\n",
      "Completed search. Found 2 entries. Joining!\n",
      "Now searching r/Fitness for pravachol\n",
      "Completed search. Found 1 entries. Joining!\n",
      "Now searching r/Fitness for lovastatin\n",
      "Completed search. Found 10 entries. Joining!\n",
      "Now searching r/Fitness for altoprev\n",
      "Completed search. Found 0 entries. Joining!\n",
      "Now searching r/Fitness for fluvastatin\n",
      "Completed search. Found 0 entries. Joining!\n",
      "Now searching r/Fitness for lescol\n",
      "Completed search. Found 0 entries. Joining!\n"
     ]
    }
   ],
   "source": [
    "subreddits = ['ketoscience', 'science', 'keto', 'Health', 'conspiracy', 'todayilearned', 'ScientificNutrition', 'askscience', 'Futurology',\n",
    "    'news', 'PlantBasedDiet', 'nutrition', 'Paleo', 'fasting', 'longevity', 'Supplements', 'Coronavirus', 'COVID19', 'Cholesterol', 'Fitness']\n",
    "search_words = ['statin', 'atorvastatin', 'lipitor', 'rosuvastatin', 'crestor', 'pitavastatin', 'livalo', 'zypitamag', 'simvastatin', 'zocor', 'pravastatin', \n",
    "                'pravachol', 'lovastatin', 'altoprev', 'fluvastatin', 'lescol']\n",
    "\n",
    "scrape_reddit_cmnts(subreddits, search_words)"
   ]
  },
  {
   "cell_type": "code",
   "execution_count": 303,
   "id": "d45138fb-95e7-4670-801e-29768cf03a98",
   "metadata": {},
   "outputs": [
    {
     "data": {
      "text/plain": [
       "Unnamed: 0                                              icnalcx\n",
       "query                                                    statin\n",
       "subreddit                                           ketoscience\n",
       "author                                            dirtyloophole\n",
       "body          I completely agree that there is a lot of BS Y...\n",
       "parent_id                                            t1_i9t0ktq\n",
       "upvotes                                                       1\n",
       "Name: t3_rnqlnj, dtype: object"
      ]
     },
     "execution_count": 303,
     "metadata": {},
     "output_type": "execute_result"
    }
   ],
   "source": [
    "def scrape_author_posts(authors):\n",
    "    \"\"\"Scrapes Reddit for posts matching a set of search words in a set of subreddits.\n",
    "    \"\"\"\n",
    "\n",
    "    POST_INFO = ['query', 'subreddit', 'author', 'title', 'body', 'number_of_comments', 'upvotes', 'upvote_ratio']\n",
    "\n",
    "    all_posts = {}\n",
    "    all_posts_df = pd.DataFrame(columns=POST_INFO)\n",
    "    all_posts_df.index.name = 'id'\n",
    "\n",
    "    for author in authors:\n",
    "        print(\"Now searching r/{0} for {1}\".format(subreddit, search_word))\n",
    "\n",
    "        # Create empty objects to store post information.\n",
    "        post_info = pd.DataFrame()\n",
    "        post_info.index.name = 'id'\n",
    "\n",
    "        posts = {}\n",
    "\n",
    "        # Generate the iterator that will scrape over \n",
    "        for post in api.search_comments(q=search_word, subreddit=subreddit):\n",
    "\n",
    "            # Save this post as k:v pair.\n",
    "            posts[post.id] = post\n",
    "\n",
    "            # Store this post's metadata in our dataframe.\n",
    "            post_info.loc[post.id, 'query'] = search_word\n",
    "            post_info.loc[post.id, 'subreddit'] = subreddit\n",
    "            post_info.loc[post.id, 'author'] = post.author\n",
    "\n",
    "            try:\n",
    "                post_info.loc[post.id, 'body'] = post.body\n",
    "            except:\n",
    "                pass\n",
    "\n",
    "            post_info.loc[post.id, 'link_id'] = post.link_id\n",
    "            post_info.loc[post.id, 'parent_id'] = post.parent_id\n",
    "            post_info.loc[post.id, 'upvotes'] = post.score\n",
    "            # post_info.loc[post.id, 'upvote_ratio'] = post.upvote_ratio\n",
    "\n",
    "            print(\"Completed search. Found {0} entries. Joining!\".format(post_info.shape[0]))\n",
    "\n",
    "            all_posts.update(posts)\n",
    "            all_posts_df = pd.concat([all_posts_df, post_info])\n",
    "\n",
    "            with pd.ExcelWriter(DATA_FOLDER + 'scraped_comments_full_psaw.xlsx', engine='xlsxwriter', options={'strings_to_urls': False}) as writer:\n",
    "                all_posts_df.to_excel(writer)"
   ]
  }
 ],
 "metadata": {
  "kernelspec": {
   "display_name": "Python 3 (ipykernel)",
   "language": "python",
   "name": "python3"
  },
  "language_info": {
   "codemirror_mode": {
    "name": "ipython",
    "version": 3
   },
   "file_extension": ".py",
   "mimetype": "text/x-python",
   "name": "python",
   "nbconvert_exporter": "python",
   "pygments_lexer": "ipython3",
   "version": "3.9.13"
  }
 },
 "nbformat": 4,
 "nbformat_minor": 5
}
