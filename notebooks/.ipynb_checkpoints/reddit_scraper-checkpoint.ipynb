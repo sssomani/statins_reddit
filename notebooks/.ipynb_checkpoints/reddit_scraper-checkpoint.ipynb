{
 "cells": [
  {
   "cell_type": "markdown",
   "id": "2bcb6575-f21e-4e83-9407-97f920b0d75b",
   "metadata": {},
   "source": [
    "# Data Scraper"
   ]
  },
  {
   "cell_type": "markdown",
   "id": "ad38c092-c9fa-45fe-be69-a742b8a24cb4",
   "metadata": {},
   "source": [
    "This notebook will be responsible for scraping all submissions, posts, and user data from Reddit. It is predominantly demonstrative and ultimately will need to be translated into executable Python code that will permit outside parties to run scripts based on the underlying functions here. "
   ]
  },
  {
   "cell_type": "markdown",
   "id": "a1bf1227-3835-4750-b9b4-56ae3320bdf5",
   "metadata": {
    "tags": []
   },
   "source": [
    "### Starters\n",
    "\n",
    "First, let's begin importing our relevant libraries and establishing our root project directory."
   ]
  },
  {
   "cell_type": "code",
   "execution_count": 1,
   "id": "8bf5bd15-6b97-422d-af4e-b459014e355d",
   "metadata": {},
   "outputs": [],
   "source": [
    "import warnings\n",
    "warnings.filterwarnings('ignore')"
   ]
  },
  {
   "cell_type": "code",
   "execution_count": 2,
   "id": "c02c346c-fde0-48c0-be2f-5832511d7101",
   "metadata": {},
   "outputs": [],
   "source": [
    "import pandas as pd\n",
    "import praw\n",
    "import json\n",
    "import re"
   ]
  },
  {
   "cell_type": "code",
   "execution_count": 3,
   "id": "87d40bd2-3b95-4354-8aa4-df365b13eac2",
   "metadata": {},
   "outputs": [],
   "source": [
    "from datetime import datetime as dt, timedelta as td\n",
    "import requests"
   ]
  },
  {
   "cell_type": "code",
   "execution_count": 12,
   "id": "48ff46ee-4c2e-4425-9c39-f8ecba6ce8b7",
   "metadata": {},
   "outputs": [],
   "source": [
    "DATA_FOLDER = '/Users/ssomani/research/heartlab/statins_reddit/data/'\n",
    "API_LOGIN_FN = '/Users/ssomani/research/heartlab/statins_reddit/data/reddit_auth.json'"
   ]
  },
  {
   "cell_type": "code",
   "execution_count": 13,
   "id": "bbe7aedb-fcda-46f4-9c8c-66436a6e982d",
   "metadata": {},
   "outputs": [],
   "source": [
    "date_time = {\n",
    "    'start' : {\n",
    "        'year' : 2010,\n",
    "        'month' : 1,\n",
    "        'day' : 1\n",
    "    },\n",
    "    \n",
    "    'end' : {\n",
    "        'year' : 2022,\n",
    "        'month' : 5,\n",
    "        'day' : 1\n",
    "    }\n",
    "}\n",
    "\n",
    "start_time = int(dt(date_time['start']['year'], date_time['start']['month'], date_time['start']['day']).timestamp())\n",
    "end_time = int(dt(date_time['end']['year'], date_time['end']['month'], date_time['end']['day']).timestamp())"
   ]
  },
  {
   "cell_type": "code",
   "execution_count": 14,
   "id": "ba6693ed-dc67-4e9d-abd8-5ddeca8f6854",
   "metadata": {},
   "outputs": [],
   "source": [
    "with open(API_LOGIN_FN, 'r') as f:\n",
    "    login_info = json.load(f)\n",
    "    \n",
    "# Check to ensure that login_info contains the necessary information.\n",
    "assert('client_id' in login_info.keys())\n",
    "assert('client_secret' in login_info.keys())\n",
    "assert('user_agent' in login_info.keys())"
   ]
  },
  {
   "cell_type": "markdown",
   "id": "0865acb7-3889-4820-bf8a-af6113261c48",
   "metadata": {
    "jp-MarkdownHeadingCollapsed": true,
    "tags": []
   },
   "source": [
    "### PRAW"
   ]
  },
  {
   "cell_type": "code",
   "execution_count": 77,
   "id": "c9dcaa21-f1b1-48a3-98f4-c56e24067a06",
   "metadata": {},
   "outputs": [],
   "source": [
    "reddit = praw.Reddit(**login_info)"
   ]
  },
  {
   "cell_type": "code",
   "execution_count": 78,
   "id": "859f9591-8e34-4dec-8071-eedb6c1926f4",
   "metadata": {},
   "outputs": [],
   "source": [
    "tc = reddit.comment('cholesterol')"
   ]
  },
  {
   "cell_type": "markdown",
   "id": "c692264f-9986-4dba-bf1c-f5db1f69a8c4",
   "metadata": {
    "tags": []
   },
   "source": [
    "#### Scrape!"
   ]
  },
  {
   "cell_type": "code",
   "execution_count": 151,
   "id": "96ca4f38-c779-473c-ac72-f06ca7235669",
   "metadata": {},
   "outputs": [],
   "source": [
    "def scrape_posts(subreddit_name, search_word):\n",
    "    \"\"\" Search for all posts matching a search word in a subreddit.\n",
    "    \"\"\"\n",
    "    \n",
    "    # Create the Subreddit object that matches the subreddit name.\n",
    "    subreddit = reddit.subreddit(subreddit_name)\n",
    "    \n",
    "    # Create empty objects to store post information.\n",
    "    post_info = pd.DataFrame()\n",
    "    post_info.index.name = 'id'\n",
    "    \n",
    "    posts = {}\n",
    "    \n",
    "    # Generate the iterator that will scrape over \n",
    "    for post in subreddit.search(search_word, limit=None):\n",
    "        \n",
    "        # Save this post as k:v pair.\n",
    "        posts[post.id] = post\n",
    "        \n",
    "        # Store this post's metadata in our dataframe.\n",
    "        post_info.loc[post.id, 'query'] = search_word\n",
    "        post_info.loc[post.id, 'subreddit'] = subreddit_name\n",
    "        post_info.loc[post.id, 'author'] = post.author\n",
    "        post_info.loc[post.id, 'title'] = post.title\n",
    "        post_info.loc[post.id, 'body'] = post.selftext\n",
    "        post_info.loc[post.id, 'number_of_comments'] = post.num_comments\n",
    "        post_info.loc[post.id, 'upvotes'] = post.score\n",
    "        post_info.loc[post.id, 'upvote_ratio'] = post.upvote_ratio\n",
    "        \n",
    "    return posts, post_info"
   ]
  },
  {
   "cell_type": "code",
   "execution_count": 9,
   "id": "919b4e90-d314-4ee5-9a62-f29ace2266b6",
   "metadata": {},
   "outputs": [],
   "source": [
    "def scrape_reddit(subreddits, search_words):\n",
    "    \"\"\"Scrapes Reddit for posts matching a set of search words in a set of subreddits.\n",
    "    \"\"\"\n",
    "\n",
    "    POST_INFO = ['query', 'subreddit', 'author', 'title', 'body', 'number_of_comments', 'upvotes', 'upvote_ratio']\n",
    "\n",
    "    all_posts = {}\n",
    "    all_posts_df = pd.DataFrame(columns=POST_INFO)\n",
    "    all_posts_df.index.name = 'id'\n",
    "\n",
    "    for subreddit in subreddits:\n",
    "        for search_word in search_words:\n",
    "            print(\"Now searching r/{0} for {1}\".format(subreddit, search_word))\n",
    "\n",
    "            post_ij, post_df_ij = scrape_posts(subreddit, search_word)\n",
    "\n",
    "            print(\"Completed search. Joining!\")\n",
    "\n",
    "            all_posts.update(post_ij)\n",
    "            all_posts_df = pd.concat([all_posts_df, post_df_ij])\n",
    "\n",
    "            with pd.ExcelWriter(DATA_FOLDER + 'scraped_posts.xlsx', engine='xlsxwriter', options={'strings_to_urls': False}) as writer:\n",
    "                all_posts_df.to_excel(writer)"
   ]
  },
  {
   "cell_type": "code",
   "execution_count": 175,
   "id": "d7d10a18-1eb3-43e5-96a6-6bc506316e02",
   "metadata": {
    "collapsed": true,
    "jupyter": {
     "outputs_hidden": true
    },
    "scrolled": true,
    "tags": []
   },
   "outputs": [
    {
     "name": "stdout",
     "output_type": "stream",
     "text": [
      "Now searching r/ketoscience for atorvastatin\n",
      "Completed search. Joining!\n",
      "Now searching r/ketoscience for lipitor\n"
     ]
    },
    {
     "name": "stderr",
     "output_type": "stream",
     "text": [
      "/var/folders/y1/2907rcw50gq_rm33vwpb806r0000gn/T/ipykernel_71372/533152681.py:22: FutureWarning: Use of **kwargs is deprecated, use engine_kwargs instead.\n",
      "  with pd.ExcelWriter(DATA_FOLDER + 'scraped_posts_full.xlsx', engine='xlsxwriter', options={'strings_to_urls': False}) as writer:\n"
     ]
    },
    {
     "name": "stdout",
     "output_type": "stream",
     "text": [
      "Completed search. Joining!\n",
      "Now searching r/ketoscience for rosuvastatin\n"
     ]
    },
    {
     "name": "stderr",
     "output_type": "stream",
     "text": [
      "/var/folders/y1/2907rcw50gq_rm33vwpb806r0000gn/T/ipykernel_71372/533152681.py:22: FutureWarning: Use of **kwargs is deprecated, use engine_kwargs instead.\n",
      "  with pd.ExcelWriter(DATA_FOLDER + 'scraped_posts_full.xlsx', engine='xlsxwriter', options={'strings_to_urls': False}) as writer:\n"
     ]
    },
    {
     "name": "stdout",
     "output_type": "stream",
     "text": [
      "Completed search. Joining!\n",
      "Now searching r/ketoscience for crestor\n"
     ]
    },
    {
     "name": "stderr",
     "output_type": "stream",
     "text": [
      "/var/folders/y1/2907rcw50gq_rm33vwpb806r0000gn/T/ipykernel_71372/533152681.py:22: FutureWarning: Use of **kwargs is deprecated, use engine_kwargs instead.\n",
      "  with pd.ExcelWriter(DATA_FOLDER + 'scraped_posts_full.xlsx', engine='xlsxwriter', options={'strings_to_urls': False}) as writer:\n"
     ]
    },
    {
     "name": "stdout",
     "output_type": "stream",
     "text": [
      "Completed search. Joining!\n",
      "Now searching r/ketoscience for pitavastatin\n",
      "Completed search. Joining!\n"
     ]
    },
    {
     "name": "stderr",
     "output_type": "stream",
     "text": [
      "/var/folders/y1/2907rcw50gq_rm33vwpb806r0000gn/T/ipykernel_71372/533152681.py:22: FutureWarning: Use of **kwargs is deprecated, use engine_kwargs instead.\n",
      "  with pd.ExcelWriter(DATA_FOLDER + 'scraped_posts_full.xlsx', engine='xlsxwriter', options={'strings_to_urls': False}) as writer:\n",
      "/var/folders/y1/2907rcw50gq_rm33vwpb806r0000gn/T/ipykernel_71372/533152681.py:22: FutureWarning: Use of **kwargs is deprecated, use engine_kwargs instead.\n",
      "  with pd.ExcelWriter(DATA_FOLDER + 'scraped_posts_full.xlsx', engine='xlsxwriter', options={'strings_to_urls': False}) as writer:\n"
     ]
    },
    {
     "name": "stdout",
     "output_type": "stream",
     "text": [
      "Now searching r/ketoscience for livalo\n",
      "Completed search. Joining!\n",
      "Now searching r/ketoscience for zypitamag\n"
     ]
    },
    {
     "name": "stderr",
     "output_type": "stream",
     "text": [
      "/var/folders/y1/2907rcw50gq_rm33vwpb806r0000gn/T/ipykernel_71372/533152681.py:22: FutureWarning: Use of **kwargs is deprecated, use engine_kwargs instead.\n",
      "  with pd.ExcelWriter(DATA_FOLDER + 'scraped_posts_full.xlsx', engine='xlsxwriter', options={'strings_to_urls': False}) as writer:\n"
     ]
    },
    {
     "name": "stdout",
     "output_type": "stream",
     "text": [
      "Completed search. Joining!\n",
      "Now searching r/ketoscience for simvastatin\n"
     ]
    },
    {
     "name": "stderr",
     "output_type": "stream",
     "text": [
      "/var/folders/y1/2907rcw50gq_rm33vwpb806r0000gn/T/ipykernel_71372/533152681.py:22: FutureWarning: Use of **kwargs is deprecated, use engine_kwargs instead.\n",
      "  with pd.ExcelWriter(DATA_FOLDER + 'scraped_posts_full.xlsx', engine='xlsxwriter', options={'strings_to_urls': False}) as writer:\n"
     ]
    },
    {
     "name": "stdout",
     "output_type": "stream",
     "text": [
      "Completed search. Joining!\n",
      "Now searching r/ketoscience for zocor\n"
     ]
    },
    {
     "name": "stderr",
     "output_type": "stream",
     "text": [
      "/var/folders/y1/2907rcw50gq_rm33vwpb806r0000gn/T/ipykernel_71372/533152681.py:22: FutureWarning: Use of **kwargs is deprecated, use engine_kwargs instead.\n",
      "  with pd.ExcelWriter(DATA_FOLDER + 'scraped_posts_full.xlsx', engine='xlsxwriter', options={'strings_to_urls': False}) as writer:\n"
     ]
    },
    {
     "name": "stdout",
     "output_type": "stream",
     "text": [
      "Completed search. Joining!\n",
      "Now searching r/ketoscience for pravastatin\n"
     ]
    },
    {
     "name": "stderr",
     "output_type": "stream",
     "text": [
      "/var/folders/y1/2907rcw50gq_rm33vwpb806r0000gn/T/ipykernel_71372/533152681.py:22: FutureWarning: Use of **kwargs is deprecated, use engine_kwargs instead.\n",
      "  with pd.ExcelWriter(DATA_FOLDER + 'scraped_posts_full.xlsx', engine='xlsxwriter', options={'strings_to_urls': False}) as writer:\n"
     ]
    },
    {
     "name": "stdout",
     "output_type": "stream",
     "text": [
      "Completed search. Joining!\n",
      "Now searching r/ketoscience for pravachol\n"
     ]
    },
    {
     "name": "stderr",
     "output_type": "stream",
     "text": [
      "/var/folders/y1/2907rcw50gq_rm33vwpb806r0000gn/T/ipykernel_71372/533152681.py:22: FutureWarning: Use of **kwargs is deprecated, use engine_kwargs instead.\n",
      "  with pd.ExcelWriter(DATA_FOLDER + 'scraped_posts_full.xlsx', engine='xlsxwriter', options={'strings_to_urls': False}) as writer:\n"
     ]
    },
    {
     "name": "stdout",
     "output_type": "stream",
     "text": [
      "Completed search. Joining!\n",
      "Now searching r/ketoscience for lovastatin\n"
     ]
    },
    {
     "name": "stderr",
     "output_type": "stream",
     "text": [
      "/var/folders/y1/2907rcw50gq_rm33vwpb806r0000gn/T/ipykernel_71372/533152681.py:22: FutureWarning: Use of **kwargs is deprecated, use engine_kwargs instead.\n",
      "  with pd.ExcelWriter(DATA_FOLDER + 'scraped_posts_full.xlsx', engine='xlsxwriter', options={'strings_to_urls': False}) as writer:\n"
     ]
    },
    {
     "name": "stdout",
     "output_type": "stream",
     "text": [
      "Completed search. Joining!\n",
      "Now searching r/ketoscience for altoprev\n"
     ]
    },
    {
     "name": "stderr",
     "output_type": "stream",
     "text": [
      "/var/folders/y1/2907rcw50gq_rm33vwpb806r0000gn/T/ipykernel_71372/533152681.py:22: FutureWarning: Use of **kwargs is deprecated, use engine_kwargs instead.\n",
      "  with pd.ExcelWriter(DATA_FOLDER + 'scraped_posts_full.xlsx', engine='xlsxwriter', options={'strings_to_urls': False}) as writer:\n"
     ]
    },
    {
     "name": "stdout",
     "output_type": "stream",
     "text": [
      "Completed search. Joining!\n",
      "Now searching r/ketoscience for fluvastatin\n"
     ]
    },
    {
     "name": "stderr",
     "output_type": "stream",
     "text": [
      "/var/folders/y1/2907rcw50gq_rm33vwpb806r0000gn/T/ipykernel_71372/533152681.py:22: FutureWarning: Use of **kwargs is deprecated, use engine_kwargs instead.\n",
      "  with pd.ExcelWriter(DATA_FOLDER + 'scraped_posts_full.xlsx', engine='xlsxwriter', options={'strings_to_urls': False}) as writer:\n"
     ]
    },
    {
     "name": "stdout",
     "output_type": "stream",
     "text": [
      "Completed search. Joining!\n",
      "Now searching r/ketoscience for lescol\n"
     ]
    },
    {
     "name": "stderr",
     "output_type": "stream",
     "text": [
      "/var/folders/y1/2907rcw50gq_rm33vwpb806r0000gn/T/ipykernel_71372/533152681.py:22: FutureWarning: Use of **kwargs is deprecated, use engine_kwargs instead.\n",
      "  with pd.ExcelWriter(DATA_FOLDER + 'scraped_posts_full.xlsx', engine='xlsxwriter', options={'strings_to_urls': False}) as writer:\n"
     ]
    },
    {
     "name": "stdout",
     "output_type": "stream",
     "text": [
      "Completed search. Joining!\n",
      "Now searching r/science for atorvastatin\n"
     ]
    },
    {
     "name": "stderr",
     "output_type": "stream",
     "text": [
      "/var/folders/y1/2907rcw50gq_rm33vwpb806r0000gn/T/ipykernel_71372/533152681.py:22: FutureWarning: Use of **kwargs is deprecated, use engine_kwargs instead.\n",
      "  with pd.ExcelWriter(DATA_FOLDER + 'scraped_posts_full.xlsx', engine='xlsxwriter', options={'strings_to_urls': False}) as writer:\n"
     ]
    },
    {
     "name": "stdout",
     "output_type": "stream",
     "text": [
      "Completed search. Joining!\n",
      "Now searching r/science for lipitor\n"
     ]
    },
    {
     "name": "stderr",
     "output_type": "stream",
     "text": [
      "/var/folders/y1/2907rcw50gq_rm33vwpb806r0000gn/T/ipykernel_71372/533152681.py:22: FutureWarning: Use of **kwargs is deprecated, use engine_kwargs instead.\n",
      "  with pd.ExcelWriter(DATA_FOLDER + 'scraped_posts_full.xlsx', engine='xlsxwriter', options={'strings_to_urls': False}) as writer:\n"
     ]
    },
    {
     "name": "stdout",
     "output_type": "stream",
     "text": [
      "Completed search. Joining!\n",
      "Now searching r/science for rosuvastatin\n"
     ]
    },
    {
     "name": "stderr",
     "output_type": "stream",
     "text": [
      "/var/folders/y1/2907rcw50gq_rm33vwpb806r0000gn/T/ipykernel_71372/533152681.py:22: FutureWarning: Use of **kwargs is deprecated, use engine_kwargs instead.\n",
      "  with pd.ExcelWriter(DATA_FOLDER + 'scraped_posts_full.xlsx', engine='xlsxwriter', options={'strings_to_urls': False}) as writer:\n"
     ]
    },
    {
     "name": "stdout",
     "output_type": "stream",
     "text": [
      "Completed search. Joining!\n",
      "Now searching r/science for crestor\n"
     ]
    },
    {
     "name": "stderr",
     "output_type": "stream",
     "text": [
      "/var/folders/y1/2907rcw50gq_rm33vwpb806r0000gn/T/ipykernel_71372/533152681.py:22: FutureWarning: Use of **kwargs is deprecated, use engine_kwargs instead.\n",
      "  with pd.ExcelWriter(DATA_FOLDER + 'scraped_posts_full.xlsx', engine='xlsxwriter', options={'strings_to_urls': False}) as writer:\n"
     ]
    },
    {
     "name": "stdout",
     "output_type": "stream",
     "text": [
      "Completed search. Joining!\n",
      "Now searching r/science for pitavastatin\n"
     ]
    },
    {
     "name": "stderr",
     "output_type": "stream",
     "text": [
      "/var/folders/y1/2907rcw50gq_rm33vwpb806r0000gn/T/ipykernel_71372/533152681.py:22: FutureWarning: Use of **kwargs is deprecated, use engine_kwargs instead.\n",
      "  with pd.ExcelWriter(DATA_FOLDER + 'scraped_posts_full.xlsx', engine='xlsxwriter', options={'strings_to_urls': False}) as writer:\n"
     ]
    },
    {
     "name": "stdout",
     "output_type": "stream",
     "text": [
      "Completed search. Joining!\n",
      "Now searching r/science for livalo\n"
     ]
    },
    {
     "name": "stderr",
     "output_type": "stream",
     "text": [
      "/var/folders/y1/2907rcw50gq_rm33vwpb806r0000gn/T/ipykernel_71372/533152681.py:22: FutureWarning: Use of **kwargs is deprecated, use engine_kwargs instead.\n",
      "  with pd.ExcelWriter(DATA_FOLDER + 'scraped_posts_full.xlsx', engine='xlsxwriter', options={'strings_to_urls': False}) as writer:\n"
     ]
    },
    {
     "name": "stdout",
     "output_type": "stream",
     "text": [
      "Completed search. Joining!\n",
      "Now searching r/science for zypitamag\n",
      "Completed search. Joining!\n"
     ]
    },
    {
     "name": "stderr",
     "output_type": "stream",
     "text": [
      "/var/folders/y1/2907rcw50gq_rm33vwpb806r0000gn/T/ipykernel_71372/533152681.py:22: FutureWarning: Use of **kwargs is deprecated, use engine_kwargs instead.\n",
      "  with pd.ExcelWriter(DATA_FOLDER + 'scraped_posts_full.xlsx', engine='xlsxwriter', options={'strings_to_urls': False}) as writer:\n",
      "/var/folders/y1/2907rcw50gq_rm33vwpb806r0000gn/T/ipykernel_71372/533152681.py:22: FutureWarning: Use of **kwargs is deprecated, use engine_kwargs instead.\n",
      "  with pd.ExcelWriter(DATA_FOLDER + 'scraped_posts_full.xlsx', engine='xlsxwriter', options={'strings_to_urls': False}) as writer:\n"
     ]
    },
    {
     "name": "stdout",
     "output_type": "stream",
     "text": [
      "Now searching r/science for simvastatin\n",
      "Completed search. Joining!\n",
      "Now searching r/science for zocor\n"
     ]
    },
    {
     "name": "stderr",
     "output_type": "stream",
     "text": [
      "/var/folders/y1/2907rcw50gq_rm33vwpb806r0000gn/T/ipykernel_71372/533152681.py:22: FutureWarning: Use of **kwargs is deprecated, use engine_kwargs instead.\n",
      "  with pd.ExcelWriter(DATA_FOLDER + 'scraped_posts_full.xlsx', engine='xlsxwriter', options={'strings_to_urls': False}) as writer:\n"
     ]
    },
    {
     "name": "stdout",
     "output_type": "stream",
     "text": [
      "Completed search. Joining!\n",
      "Now searching r/science for pravastatin\n"
     ]
    },
    {
     "name": "stderr",
     "output_type": "stream",
     "text": [
      "/var/folders/y1/2907rcw50gq_rm33vwpb806r0000gn/T/ipykernel_71372/533152681.py:22: FutureWarning: Use of **kwargs is deprecated, use engine_kwargs instead.\n",
      "  with pd.ExcelWriter(DATA_FOLDER + 'scraped_posts_full.xlsx', engine='xlsxwriter', options={'strings_to_urls': False}) as writer:\n"
     ]
    },
    {
     "name": "stdout",
     "output_type": "stream",
     "text": [
      "Completed search. Joining!\n",
      "Now searching r/science for pravachol\n"
     ]
    },
    {
     "name": "stderr",
     "output_type": "stream",
     "text": [
      "/var/folders/y1/2907rcw50gq_rm33vwpb806r0000gn/T/ipykernel_71372/533152681.py:22: FutureWarning: Use of **kwargs is deprecated, use engine_kwargs instead.\n",
      "  with pd.ExcelWriter(DATA_FOLDER + 'scraped_posts_full.xlsx', engine='xlsxwriter', options={'strings_to_urls': False}) as writer:\n"
     ]
    },
    {
     "name": "stdout",
     "output_type": "stream",
     "text": [
      "Completed search. Joining!\n",
      "Now searching r/science for lovastatin\n"
     ]
    },
    {
     "name": "stderr",
     "output_type": "stream",
     "text": [
      "/var/folders/y1/2907rcw50gq_rm33vwpb806r0000gn/T/ipykernel_71372/533152681.py:22: FutureWarning: Use of **kwargs is deprecated, use engine_kwargs instead.\n",
      "  with pd.ExcelWriter(DATA_FOLDER + 'scraped_posts_full.xlsx', engine='xlsxwriter', options={'strings_to_urls': False}) as writer:\n"
     ]
    },
    {
     "name": "stdout",
     "output_type": "stream",
     "text": [
      "Completed search. Joining!\n",
      "Now searching r/science for altoprev\n"
     ]
    },
    {
     "name": "stderr",
     "output_type": "stream",
     "text": [
      "/var/folders/y1/2907rcw50gq_rm33vwpb806r0000gn/T/ipykernel_71372/533152681.py:22: FutureWarning: Use of **kwargs is deprecated, use engine_kwargs instead.\n",
      "  with pd.ExcelWriter(DATA_FOLDER + 'scraped_posts_full.xlsx', engine='xlsxwriter', options={'strings_to_urls': False}) as writer:\n"
     ]
    },
    {
     "name": "stdout",
     "output_type": "stream",
     "text": [
      "Completed search. Joining!\n",
      "Now searching r/science for fluvastatin\n"
     ]
    },
    {
     "name": "stderr",
     "output_type": "stream",
     "text": [
      "/var/folders/y1/2907rcw50gq_rm33vwpb806r0000gn/T/ipykernel_71372/533152681.py:22: FutureWarning: Use of **kwargs is deprecated, use engine_kwargs instead.\n",
      "  with pd.ExcelWriter(DATA_FOLDER + 'scraped_posts_full.xlsx', engine='xlsxwriter', options={'strings_to_urls': False}) as writer:\n"
     ]
    },
    {
     "name": "stdout",
     "output_type": "stream",
     "text": [
      "Completed search. Joining!\n",
      "Now searching r/science for lescol\n"
     ]
    },
    {
     "name": "stderr",
     "output_type": "stream",
     "text": [
      "/var/folders/y1/2907rcw50gq_rm33vwpb806r0000gn/T/ipykernel_71372/533152681.py:22: FutureWarning: Use of **kwargs is deprecated, use engine_kwargs instead.\n",
      "  with pd.ExcelWriter(DATA_FOLDER + 'scraped_posts_full.xlsx', engine='xlsxwriter', options={'strings_to_urls': False}) as writer:\n"
     ]
    },
    {
     "name": "stdout",
     "output_type": "stream",
     "text": [
      "Completed search. Joining!\n",
      "Now searching r/keto for atorvastatin\n"
     ]
    },
    {
     "name": "stderr",
     "output_type": "stream",
     "text": [
      "/var/folders/y1/2907rcw50gq_rm33vwpb806r0000gn/T/ipykernel_71372/533152681.py:22: FutureWarning: Use of **kwargs is deprecated, use engine_kwargs instead.\n",
      "  with pd.ExcelWriter(DATA_FOLDER + 'scraped_posts_full.xlsx', engine='xlsxwriter', options={'strings_to_urls': False}) as writer:\n"
     ]
    },
    {
     "name": "stdout",
     "output_type": "stream",
     "text": [
      "Completed search. Joining!\n",
      "Now searching r/keto for lipitor\n"
     ]
    },
    {
     "name": "stderr",
     "output_type": "stream",
     "text": [
      "/var/folders/y1/2907rcw50gq_rm33vwpb806r0000gn/T/ipykernel_71372/533152681.py:22: FutureWarning: Use of **kwargs is deprecated, use engine_kwargs instead.\n",
      "  with pd.ExcelWriter(DATA_FOLDER + 'scraped_posts_full.xlsx', engine='xlsxwriter', options={'strings_to_urls': False}) as writer:\n"
     ]
    },
    {
     "name": "stdout",
     "output_type": "stream",
     "text": [
      "Completed search. Joining!\n",
      "Now searching r/keto for rosuvastatin\n"
     ]
    },
    {
     "name": "stderr",
     "output_type": "stream",
     "text": [
      "/var/folders/y1/2907rcw50gq_rm33vwpb806r0000gn/T/ipykernel_71372/533152681.py:22: FutureWarning: Use of **kwargs is deprecated, use engine_kwargs instead.\n",
      "  with pd.ExcelWriter(DATA_FOLDER + 'scraped_posts_full.xlsx', engine='xlsxwriter', options={'strings_to_urls': False}) as writer:\n"
     ]
    },
    {
     "name": "stdout",
     "output_type": "stream",
     "text": [
      "Completed search. Joining!\n",
      "Now searching r/keto for crestor\n"
     ]
    },
    {
     "name": "stderr",
     "output_type": "stream",
     "text": [
      "/var/folders/y1/2907rcw50gq_rm33vwpb806r0000gn/T/ipykernel_71372/533152681.py:22: FutureWarning: Use of **kwargs is deprecated, use engine_kwargs instead.\n",
      "  with pd.ExcelWriter(DATA_FOLDER + 'scraped_posts_full.xlsx', engine='xlsxwriter', options={'strings_to_urls': False}) as writer:\n"
     ]
    },
    {
     "name": "stdout",
     "output_type": "stream",
     "text": [
      "Completed search. Joining!\n",
      "Now searching r/keto for pitavastatin\n"
     ]
    },
    {
     "name": "stderr",
     "output_type": "stream",
     "text": [
      "/var/folders/y1/2907rcw50gq_rm33vwpb806r0000gn/T/ipykernel_71372/533152681.py:22: FutureWarning: Use of **kwargs is deprecated, use engine_kwargs instead.\n",
      "  with pd.ExcelWriter(DATA_FOLDER + 'scraped_posts_full.xlsx', engine='xlsxwriter', options={'strings_to_urls': False}) as writer:\n"
     ]
    },
    {
     "name": "stdout",
     "output_type": "stream",
     "text": [
      "Completed search. Joining!\n",
      "Now searching r/keto for livalo\n"
     ]
    },
    {
     "name": "stderr",
     "output_type": "stream",
     "text": [
      "/var/folders/y1/2907rcw50gq_rm33vwpb806r0000gn/T/ipykernel_71372/533152681.py:22: FutureWarning: Use of **kwargs is deprecated, use engine_kwargs instead.\n",
      "  with pd.ExcelWriter(DATA_FOLDER + 'scraped_posts_full.xlsx', engine='xlsxwriter', options={'strings_to_urls': False}) as writer:\n"
     ]
    },
    {
     "name": "stdout",
     "output_type": "stream",
     "text": [
      "Completed search. Joining!\n",
      "Now searching r/keto for zypitamag\n"
     ]
    },
    {
     "name": "stderr",
     "output_type": "stream",
     "text": [
      "/var/folders/y1/2907rcw50gq_rm33vwpb806r0000gn/T/ipykernel_71372/533152681.py:22: FutureWarning: Use of **kwargs is deprecated, use engine_kwargs instead.\n",
      "  with pd.ExcelWriter(DATA_FOLDER + 'scraped_posts_full.xlsx', engine='xlsxwriter', options={'strings_to_urls': False}) as writer:\n"
     ]
    },
    {
     "name": "stdout",
     "output_type": "stream",
     "text": [
      "Completed search. Joining!\n",
      "Now searching r/keto for simvastatin\n"
     ]
    },
    {
     "name": "stderr",
     "output_type": "stream",
     "text": [
      "/var/folders/y1/2907rcw50gq_rm33vwpb806r0000gn/T/ipykernel_71372/533152681.py:22: FutureWarning: Use of **kwargs is deprecated, use engine_kwargs instead.\n",
      "  with pd.ExcelWriter(DATA_FOLDER + 'scraped_posts_full.xlsx', engine='xlsxwriter', options={'strings_to_urls': False}) as writer:\n"
     ]
    },
    {
     "name": "stdout",
     "output_type": "stream",
     "text": [
      "Completed search. Joining!\n",
      "Now searching r/keto for zocor\n"
     ]
    },
    {
     "name": "stderr",
     "output_type": "stream",
     "text": [
      "/var/folders/y1/2907rcw50gq_rm33vwpb806r0000gn/T/ipykernel_71372/533152681.py:22: FutureWarning: Use of **kwargs is deprecated, use engine_kwargs instead.\n",
      "  with pd.ExcelWriter(DATA_FOLDER + 'scraped_posts_full.xlsx', engine='xlsxwriter', options={'strings_to_urls': False}) as writer:\n"
     ]
    },
    {
     "name": "stdout",
     "output_type": "stream",
     "text": [
      "Completed search. Joining!\n",
      "Now searching r/keto for pravastatin\n"
     ]
    },
    {
     "name": "stderr",
     "output_type": "stream",
     "text": [
      "/var/folders/y1/2907rcw50gq_rm33vwpb806r0000gn/T/ipykernel_71372/533152681.py:22: FutureWarning: Use of **kwargs is deprecated, use engine_kwargs instead.\n",
      "  with pd.ExcelWriter(DATA_FOLDER + 'scraped_posts_full.xlsx', engine='xlsxwriter', options={'strings_to_urls': False}) as writer:\n"
     ]
    },
    {
     "name": "stdout",
     "output_type": "stream",
     "text": [
      "Completed search. Joining!\n",
      "Now searching r/keto for pravachol\n"
     ]
    },
    {
     "name": "stderr",
     "output_type": "stream",
     "text": [
      "/var/folders/y1/2907rcw50gq_rm33vwpb806r0000gn/T/ipykernel_71372/533152681.py:22: FutureWarning: Use of **kwargs is deprecated, use engine_kwargs instead.\n",
      "  with pd.ExcelWriter(DATA_FOLDER + 'scraped_posts_full.xlsx', engine='xlsxwriter', options={'strings_to_urls': False}) as writer:\n"
     ]
    },
    {
     "name": "stdout",
     "output_type": "stream",
     "text": [
      "Completed search. Joining!\n",
      "Now searching r/keto for lovastatin\n"
     ]
    },
    {
     "name": "stderr",
     "output_type": "stream",
     "text": [
      "/var/folders/y1/2907rcw50gq_rm33vwpb806r0000gn/T/ipykernel_71372/533152681.py:22: FutureWarning: Use of **kwargs is deprecated, use engine_kwargs instead.\n",
      "  with pd.ExcelWriter(DATA_FOLDER + 'scraped_posts_full.xlsx', engine='xlsxwriter', options={'strings_to_urls': False}) as writer:\n"
     ]
    },
    {
     "name": "stdout",
     "output_type": "stream",
     "text": [
      "Completed search. Joining!\n",
      "Now searching r/keto for altoprev\n"
     ]
    },
    {
     "name": "stderr",
     "output_type": "stream",
     "text": [
      "/var/folders/y1/2907rcw50gq_rm33vwpb806r0000gn/T/ipykernel_71372/533152681.py:22: FutureWarning: Use of **kwargs is deprecated, use engine_kwargs instead.\n",
      "  with pd.ExcelWriter(DATA_FOLDER + 'scraped_posts_full.xlsx', engine='xlsxwriter', options={'strings_to_urls': False}) as writer:\n"
     ]
    },
    {
     "name": "stdout",
     "output_type": "stream",
     "text": [
      "Completed search. Joining!\n",
      "Now searching r/keto for fluvastatin\n"
     ]
    },
    {
     "name": "stderr",
     "output_type": "stream",
     "text": [
      "/var/folders/y1/2907rcw50gq_rm33vwpb806r0000gn/T/ipykernel_71372/533152681.py:22: FutureWarning: Use of **kwargs is deprecated, use engine_kwargs instead.\n",
      "  with pd.ExcelWriter(DATA_FOLDER + 'scraped_posts_full.xlsx', engine='xlsxwriter', options={'strings_to_urls': False}) as writer:\n"
     ]
    },
    {
     "name": "stdout",
     "output_type": "stream",
     "text": [
      "Completed search. Joining!\n",
      "Now searching r/keto for lescol\n"
     ]
    },
    {
     "name": "stderr",
     "output_type": "stream",
     "text": [
      "/var/folders/y1/2907rcw50gq_rm33vwpb806r0000gn/T/ipykernel_71372/533152681.py:22: FutureWarning: Use of **kwargs is deprecated, use engine_kwargs instead.\n",
      "  with pd.ExcelWriter(DATA_FOLDER + 'scraped_posts_full.xlsx', engine='xlsxwriter', options={'strings_to_urls': False}) as writer:\n"
     ]
    },
    {
     "name": "stdout",
     "output_type": "stream",
     "text": [
      "Completed search. Joining!\n",
      "Now searching r/Health for atorvastatin\n"
     ]
    },
    {
     "name": "stderr",
     "output_type": "stream",
     "text": [
      "/var/folders/y1/2907rcw50gq_rm33vwpb806r0000gn/T/ipykernel_71372/533152681.py:22: FutureWarning: Use of **kwargs is deprecated, use engine_kwargs instead.\n",
      "  with pd.ExcelWriter(DATA_FOLDER + 'scraped_posts_full.xlsx', engine='xlsxwriter', options={'strings_to_urls': False}) as writer:\n"
     ]
    },
    {
     "name": "stdout",
     "output_type": "stream",
     "text": [
      "Completed search. Joining!\n",
      "Now searching r/Health for lipitor\n"
     ]
    },
    {
     "name": "stderr",
     "output_type": "stream",
     "text": [
      "/var/folders/y1/2907rcw50gq_rm33vwpb806r0000gn/T/ipykernel_71372/533152681.py:22: FutureWarning: Use of **kwargs is deprecated, use engine_kwargs instead.\n",
      "  with pd.ExcelWriter(DATA_FOLDER + 'scraped_posts_full.xlsx', engine='xlsxwriter', options={'strings_to_urls': False}) as writer:\n"
     ]
    },
    {
     "name": "stdout",
     "output_type": "stream",
     "text": [
      "Completed search. Joining!\n",
      "Now searching r/Health for rosuvastatin\n"
     ]
    },
    {
     "name": "stderr",
     "output_type": "stream",
     "text": [
      "/var/folders/y1/2907rcw50gq_rm33vwpb806r0000gn/T/ipykernel_71372/533152681.py:22: FutureWarning: Use of **kwargs is deprecated, use engine_kwargs instead.\n",
      "  with pd.ExcelWriter(DATA_FOLDER + 'scraped_posts_full.xlsx', engine='xlsxwriter', options={'strings_to_urls': False}) as writer:\n"
     ]
    },
    {
     "name": "stdout",
     "output_type": "stream",
     "text": [
      "Completed search. Joining!\n",
      "Now searching r/Health for crestor\n"
     ]
    },
    {
     "name": "stderr",
     "output_type": "stream",
     "text": [
      "/var/folders/y1/2907rcw50gq_rm33vwpb806r0000gn/T/ipykernel_71372/533152681.py:22: FutureWarning: Use of **kwargs is deprecated, use engine_kwargs instead.\n",
      "  with pd.ExcelWriter(DATA_FOLDER + 'scraped_posts_full.xlsx', engine='xlsxwriter', options={'strings_to_urls': False}) as writer:\n"
     ]
    },
    {
     "name": "stdout",
     "output_type": "stream",
     "text": [
      "Completed search. Joining!\n",
      "Now searching r/Health for pitavastatin\n"
     ]
    },
    {
     "name": "stderr",
     "output_type": "stream",
     "text": [
      "/var/folders/y1/2907rcw50gq_rm33vwpb806r0000gn/T/ipykernel_71372/533152681.py:22: FutureWarning: Use of **kwargs is deprecated, use engine_kwargs instead.\n",
      "  with pd.ExcelWriter(DATA_FOLDER + 'scraped_posts_full.xlsx', engine='xlsxwriter', options={'strings_to_urls': False}) as writer:\n"
     ]
    },
    {
     "name": "stdout",
     "output_type": "stream",
     "text": [
      "Completed search. Joining!\n",
      "Now searching r/Health for livalo\n"
     ]
    },
    {
     "name": "stderr",
     "output_type": "stream",
     "text": [
      "/var/folders/y1/2907rcw50gq_rm33vwpb806r0000gn/T/ipykernel_71372/533152681.py:22: FutureWarning: Use of **kwargs is deprecated, use engine_kwargs instead.\n",
      "  with pd.ExcelWriter(DATA_FOLDER + 'scraped_posts_full.xlsx', engine='xlsxwriter', options={'strings_to_urls': False}) as writer:\n"
     ]
    },
    {
     "name": "stdout",
     "output_type": "stream",
     "text": [
      "Completed search. Joining!\n",
      "Now searching r/Health for zypitamag\n"
     ]
    },
    {
     "name": "stderr",
     "output_type": "stream",
     "text": [
      "/var/folders/y1/2907rcw50gq_rm33vwpb806r0000gn/T/ipykernel_71372/533152681.py:22: FutureWarning: Use of **kwargs is deprecated, use engine_kwargs instead.\n",
      "  with pd.ExcelWriter(DATA_FOLDER + 'scraped_posts_full.xlsx', engine='xlsxwriter', options={'strings_to_urls': False}) as writer:\n"
     ]
    },
    {
     "name": "stdout",
     "output_type": "stream",
     "text": [
      "Completed search. Joining!\n",
      "Now searching r/Health for simvastatin\n"
     ]
    },
    {
     "name": "stderr",
     "output_type": "stream",
     "text": [
      "/var/folders/y1/2907rcw50gq_rm33vwpb806r0000gn/T/ipykernel_71372/533152681.py:22: FutureWarning: Use of **kwargs is deprecated, use engine_kwargs instead.\n",
      "  with pd.ExcelWriter(DATA_FOLDER + 'scraped_posts_full.xlsx', engine='xlsxwriter', options={'strings_to_urls': False}) as writer:\n"
     ]
    },
    {
     "name": "stdout",
     "output_type": "stream",
     "text": [
      "Completed search. Joining!\n",
      "Now searching r/Health for zocor\n"
     ]
    },
    {
     "name": "stderr",
     "output_type": "stream",
     "text": [
      "/var/folders/y1/2907rcw50gq_rm33vwpb806r0000gn/T/ipykernel_71372/533152681.py:22: FutureWarning: Use of **kwargs is deprecated, use engine_kwargs instead.\n",
      "  with pd.ExcelWriter(DATA_FOLDER + 'scraped_posts_full.xlsx', engine='xlsxwriter', options={'strings_to_urls': False}) as writer:\n"
     ]
    },
    {
     "name": "stdout",
     "output_type": "stream",
     "text": [
      "Completed search. Joining!\n",
      "Now searching r/Health for pravastatin\n"
     ]
    },
    {
     "name": "stderr",
     "output_type": "stream",
     "text": [
      "/var/folders/y1/2907rcw50gq_rm33vwpb806r0000gn/T/ipykernel_71372/533152681.py:22: FutureWarning: Use of **kwargs is deprecated, use engine_kwargs instead.\n",
      "  with pd.ExcelWriter(DATA_FOLDER + 'scraped_posts_full.xlsx', engine='xlsxwriter', options={'strings_to_urls': False}) as writer:\n"
     ]
    },
    {
     "name": "stdout",
     "output_type": "stream",
     "text": [
      "Completed search. Joining!\n",
      "Now searching r/Health for pravachol\n"
     ]
    },
    {
     "name": "stderr",
     "output_type": "stream",
     "text": [
      "/var/folders/y1/2907rcw50gq_rm33vwpb806r0000gn/T/ipykernel_71372/533152681.py:22: FutureWarning: Use of **kwargs is deprecated, use engine_kwargs instead.\n",
      "  with pd.ExcelWriter(DATA_FOLDER + 'scraped_posts_full.xlsx', engine='xlsxwriter', options={'strings_to_urls': False}) as writer:\n"
     ]
    },
    {
     "name": "stdout",
     "output_type": "stream",
     "text": [
      "Completed search. Joining!\n",
      "Now searching r/Health for lovastatin\n"
     ]
    },
    {
     "name": "stderr",
     "output_type": "stream",
     "text": [
      "/var/folders/y1/2907rcw50gq_rm33vwpb806r0000gn/T/ipykernel_71372/533152681.py:22: FutureWarning: Use of **kwargs is deprecated, use engine_kwargs instead.\n",
      "  with pd.ExcelWriter(DATA_FOLDER + 'scraped_posts_full.xlsx', engine='xlsxwriter', options={'strings_to_urls': False}) as writer:\n"
     ]
    },
    {
     "name": "stdout",
     "output_type": "stream",
     "text": [
      "Completed search. Joining!\n",
      "Now searching r/Health for altoprev\n"
     ]
    },
    {
     "name": "stderr",
     "output_type": "stream",
     "text": [
      "/var/folders/y1/2907rcw50gq_rm33vwpb806r0000gn/T/ipykernel_71372/533152681.py:22: FutureWarning: Use of **kwargs is deprecated, use engine_kwargs instead.\n",
      "  with pd.ExcelWriter(DATA_FOLDER + 'scraped_posts_full.xlsx', engine='xlsxwriter', options={'strings_to_urls': False}) as writer:\n"
     ]
    },
    {
     "name": "stdout",
     "output_type": "stream",
     "text": [
      "Completed search. Joining!\n",
      "Now searching r/Health for fluvastatin\n"
     ]
    },
    {
     "name": "stderr",
     "output_type": "stream",
     "text": [
      "/var/folders/y1/2907rcw50gq_rm33vwpb806r0000gn/T/ipykernel_71372/533152681.py:22: FutureWarning: Use of **kwargs is deprecated, use engine_kwargs instead.\n",
      "  with pd.ExcelWriter(DATA_FOLDER + 'scraped_posts_full.xlsx', engine='xlsxwriter', options={'strings_to_urls': False}) as writer:\n"
     ]
    },
    {
     "name": "stdout",
     "output_type": "stream",
     "text": [
      "Completed search. Joining!\n",
      "Now searching r/Health for lescol\n"
     ]
    },
    {
     "name": "stderr",
     "output_type": "stream",
     "text": [
      "/var/folders/y1/2907rcw50gq_rm33vwpb806r0000gn/T/ipykernel_71372/533152681.py:22: FutureWarning: Use of **kwargs is deprecated, use engine_kwargs instead.\n",
      "  with pd.ExcelWriter(DATA_FOLDER + 'scraped_posts_full.xlsx', engine='xlsxwriter', options={'strings_to_urls': False}) as writer:\n"
     ]
    },
    {
     "name": "stdout",
     "output_type": "stream",
     "text": [
      "Completed search. Joining!\n",
      "Now searching r/conspiracy for atorvastatin\n"
     ]
    },
    {
     "name": "stderr",
     "output_type": "stream",
     "text": [
      "/var/folders/y1/2907rcw50gq_rm33vwpb806r0000gn/T/ipykernel_71372/533152681.py:22: FutureWarning: Use of **kwargs is deprecated, use engine_kwargs instead.\n",
      "  with pd.ExcelWriter(DATA_FOLDER + 'scraped_posts_full.xlsx', engine='xlsxwriter', options={'strings_to_urls': False}) as writer:\n"
     ]
    },
    {
     "name": "stdout",
     "output_type": "stream",
     "text": [
      "Completed search. Joining!\n",
      "Now searching r/conspiracy for lipitor\n"
     ]
    },
    {
     "name": "stderr",
     "output_type": "stream",
     "text": [
      "/var/folders/y1/2907rcw50gq_rm33vwpb806r0000gn/T/ipykernel_71372/533152681.py:22: FutureWarning: Use of **kwargs is deprecated, use engine_kwargs instead.\n",
      "  with pd.ExcelWriter(DATA_FOLDER + 'scraped_posts_full.xlsx', engine='xlsxwriter', options={'strings_to_urls': False}) as writer:\n"
     ]
    },
    {
     "name": "stdout",
     "output_type": "stream",
     "text": [
      "Completed search. Joining!\n",
      "Now searching r/conspiracy for rosuvastatin\n"
     ]
    },
    {
     "name": "stderr",
     "output_type": "stream",
     "text": [
      "/var/folders/y1/2907rcw50gq_rm33vwpb806r0000gn/T/ipykernel_71372/533152681.py:22: FutureWarning: Use of **kwargs is deprecated, use engine_kwargs instead.\n",
      "  with pd.ExcelWriter(DATA_FOLDER + 'scraped_posts_full.xlsx', engine='xlsxwriter', options={'strings_to_urls': False}) as writer:\n"
     ]
    },
    {
     "name": "stdout",
     "output_type": "stream",
     "text": [
      "Completed search. Joining!\n",
      "Now searching r/conspiracy for crestor\n"
     ]
    },
    {
     "name": "stderr",
     "output_type": "stream",
     "text": [
      "/var/folders/y1/2907rcw50gq_rm33vwpb806r0000gn/T/ipykernel_71372/533152681.py:22: FutureWarning: Use of **kwargs is deprecated, use engine_kwargs instead.\n",
      "  with pd.ExcelWriter(DATA_FOLDER + 'scraped_posts_full.xlsx', engine='xlsxwriter', options={'strings_to_urls': False}) as writer:\n"
     ]
    },
    {
     "name": "stdout",
     "output_type": "stream",
     "text": [
      "Completed search. Joining!\n",
      "Now searching r/conspiracy for pitavastatin\n"
     ]
    },
    {
     "name": "stderr",
     "output_type": "stream",
     "text": [
      "/var/folders/y1/2907rcw50gq_rm33vwpb806r0000gn/T/ipykernel_71372/533152681.py:22: FutureWarning: Use of **kwargs is deprecated, use engine_kwargs instead.\n",
      "  with pd.ExcelWriter(DATA_FOLDER + 'scraped_posts_full.xlsx', engine='xlsxwriter', options={'strings_to_urls': False}) as writer:\n"
     ]
    },
    {
     "name": "stdout",
     "output_type": "stream",
     "text": [
      "Completed search. Joining!\n",
      "Now searching r/conspiracy for livalo\n"
     ]
    },
    {
     "name": "stderr",
     "output_type": "stream",
     "text": [
      "/var/folders/y1/2907rcw50gq_rm33vwpb806r0000gn/T/ipykernel_71372/533152681.py:22: FutureWarning: Use of **kwargs is deprecated, use engine_kwargs instead.\n",
      "  with pd.ExcelWriter(DATA_FOLDER + 'scraped_posts_full.xlsx', engine='xlsxwriter', options={'strings_to_urls': False}) as writer:\n"
     ]
    },
    {
     "name": "stdout",
     "output_type": "stream",
     "text": [
      "Completed search. Joining!\n",
      "Now searching r/conspiracy for zypitamag\n"
     ]
    },
    {
     "name": "stderr",
     "output_type": "stream",
     "text": [
      "/var/folders/y1/2907rcw50gq_rm33vwpb806r0000gn/T/ipykernel_71372/533152681.py:22: FutureWarning: Use of **kwargs is deprecated, use engine_kwargs instead.\n",
      "  with pd.ExcelWriter(DATA_FOLDER + 'scraped_posts_full.xlsx', engine='xlsxwriter', options={'strings_to_urls': False}) as writer:\n"
     ]
    },
    {
     "name": "stdout",
     "output_type": "stream",
     "text": [
      "Completed search. Joining!\n",
      "Now searching r/conspiracy for simvastatin\n"
     ]
    },
    {
     "name": "stderr",
     "output_type": "stream",
     "text": [
      "/var/folders/y1/2907rcw50gq_rm33vwpb806r0000gn/T/ipykernel_71372/533152681.py:22: FutureWarning: Use of **kwargs is deprecated, use engine_kwargs instead.\n",
      "  with pd.ExcelWriter(DATA_FOLDER + 'scraped_posts_full.xlsx', engine='xlsxwriter', options={'strings_to_urls': False}) as writer:\n"
     ]
    },
    {
     "name": "stdout",
     "output_type": "stream",
     "text": [
      "Completed search. Joining!\n",
      "Now searching r/conspiracy for zocor\n"
     ]
    },
    {
     "name": "stderr",
     "output_type": "stream",
     "text": [
      "/var/folders/y1/2907rcw50gq_rm33vwpb806r0000gn/T/ipykernel_71372/533152681.py:22: FutureWarning: Use of **kwargs is deprecated, use engine_kwargs instead.\n",
      "  with pd.ExcelWriter(DATA_FOLDER + 'scraped_posts_full.xlsx', engine='xlsxwriter', options={'strings_to_urls': False}) as writer:\n"
     ]
    },
    {
     "name": "stdout",
     "output_type": "stream",
     "text": [
      "Completed search. Joining!\n",
      "Now searching r/conspiracy for pravastatin\n"
     ]
    },
    {
     "name": "stderr",
     "output_type": "stream",
     "text": [
      "/var/folders/y1/2907rcw50gq_rm33vwpb806r0000gn/T/ipykernel_71372/533152681.py:22: FutureWarning: Use of **kwargs is deprecated, use engine_kwargs instead.\n",
      "  with pd.ExcelWriter(DATA_FOLDER + 'scraped_posts_full.xlsx', engine='xlsxwriter', options={'strings_to_urls': False}) as writer:\n"
     ]
    },
    {
     "name": "stdout",
     "output_type": "stream",
     "text": [
      "Completed search. Joining!\n",
      "Now searching r/conspiracy for pravachol\n"
     ]
    },
    {
     "name": "stderr",
     "output_type": "stream",
     "text": [
      "/var/folders/y1/2907rcw50gq_rm33vwpb806r0000gn/T/ipykernel_71372/533152681.py:22: FutureWarning: Use of **kwargs is deprecated, use engine_kwargs instead.\n",
      "  with pd.ExcelWriter(DATA_FOLDER + 'scraped_posts_full.xlsx', engine='xlsxwriter', options={'strings_to_urls': False}) as writer:\n"
     ]
    },
    {
     "name": "stdout",
     "output_type": "stream",
     "text": [
      "Completed search. Joining!\n",
      "Now searching r/conspiracy for lovastatin\n"
     ]
    },
    {
     "name": "stderr",
     "output_type": "stream",
     "text": [
      "/var/folders/y1/2907rcw50gq_rm33vwpb806r0000gn/T/ipykernel_71372/533152681.py:22: FutureWarning: Use of **kwargs is deprecated, use engine_kwargs instead.\n",
      "  with pd.ExcelWriter(DATA_FOLDER + 'scraped_posts_full.xlsx', engine='xlsxwriter', options={'strings_to_urls': False}) as writer:\n"
     ]
    },
    {
     "name": "stdout",
     "output_type": "stream",
     "text": [
      "Completed search. Joining!\n",
      "Now searching r/conspiracy for altoprev\n"
     ]
    },
    {
     "name": "stderr",
     "output_type": "stream",
     "text": [
      "/var/folders/y1/2907rcw50gq_rm33vwpb806r0000gn/T/ipykernel_71372/533152681.py:22: FutureWarning: Use of **kwargs is deprecated, use engine_kwargs instead.\n",
      "  with pd.ExcelWriter(DATA_FOLDER + 'scraped_posts_full.xlsx', engine='xlsxwriter', options={'strings_to_urls': False}) as writer:\n"
     ]
    },
    {
     "name": "stdout",
     "output_type": "stream",
     "text": [
      "Completed search. Joining!\n",
      "Now searching r/conspiracy for fluvastatin\n"
     ]
    },
    {
     "name": "stderr",
     "output_type": "stream",
     "text": [
      "/var/folders/y1/2907rcw50gq_rm33vwpb806r0000gn/T/ipykernel_71372/533152681.py:22: FutureWarning: Use of **kwargs is deprecated, use engine_kwargs instead.\n",
      "  with pd.ExcelWriter(DATA_FOLDER + 'scraped_posts_full.xlsx', engine='xlsxwriter', options={'strings_to_urls': False}) as writer:\n"
     ]
    },
    {
     "name": "stdout",
     "output_type": "stream",
     "text": [
      "Completed search. Joining!\n",
      "Now searching r/conspiracy for lescol\n"
     ]
    },
    {
     "name": "stderr",
     "output_type": "stream",
     "text": [
      "/var/folders/y1/2907rcw50gq_rm33vwpb806r0000gn/T/ipykernel_71372/533152681.py:22: FutureWarning: Use of **kwargs is deprecated, use engine_kwargs instead.\n",
      "  with pd.ExcelWriter(DATA_FOLDER + 'scraped_posts_full.xlsx', engine='xlsxwriter', options={'strings_to_urls': False}) as writer:\n"
     ]
    },
    {
     "name": "stdout",
     "output_type": "stream",
     "text": [
      "Completed search. Joining!\n",
      "Now searching r/todayilearned for atorvastatin\n"
     ]
    },
    {
     "name": "stderr",
     "output_type": "stream",
     "text": [
      "/var/folders/y1/2907rcw50gq_rm33vwpb806r0000gn/T/ipykernel_71372/533152681.py:22: FutureWarning: Use of **kwargs is deprecated, use engine_kwargs instead.\n",
      "  with pd.ExcelWriter(DATA_FOLDER + 'scraped_posts_full.xlsx', engine='xlsxwriter', options={'strings_to_urls': False}) as writer:\n"
     ]
    },
    {
     "name": "stdout",
     "output_type": "stream",
     "text": [
      "Completed search. Joining!\n",
      "Now searching r/todayilearned for lipitor\n"
     ]
    },
    {
     "name": "stderr",
     "output_type": "stream",
     "text": [
      "/var/folders/y1/2907rcw50gq_rm33vwpb806r0000gn/T/ipykernel_71372/533152681.py:22: FutureWarning: Use of **kwargs is deprecated, use engine_kwargs instead.\n",
      "  with pd.ExcelWriter(DATA_FOLDER + 'scraped_posts_full.xlsx', engine='xlsxwriter', options={'strings_to_urls': False}) as writer:\n"
     ]
    },
    {
     "name": "stdout",
     "output_type": "stream",
     "text": [
      "Completed search. Joining!\n",
      "Now searching r/todayilearned for rosuvastatin\n"
     ]
    },
    {
     "name": "stderr",
     "output_type": "stream",
     "text": [
      "/var/folders/y1/2907rcw50gq_rm33vwpb806r0000gn/T/ipykernel_71372/533152681.py:22: FutureWarning: Use of **kwargs is deprecated, use engine_kwargs instead.\n",
      "  with pd.ExcelWriter(DATA_FOLDER + 'scraped_posts_full.xlsx', engine='xlsxwriter', options={'strings_to_urls': False}) as writer:\n"
     ]
    },
    {
     "name": "stdout",
     "output_type": "stream",
     "text": [
      "Completed search. Joining!\n",
      "Now searching r/todayilearned for crestor\n"
     ]
    },
    {
     "name": "stderr",
     "output_type": "stream",
     "text": [
      "/var/folders/y1/2907rcw50gq_rm33vwpb806r0000gn/T/ipykernel_71372/533152681.py:22: FutureWarning: Use of **kwargs is deprecated, use engine_kwargs instead.\n",
      "  with pd.ExcelWriter(DATA_FOLDER + 'scraped_posts_full.xlsx', engine='xlsxwriter', options={'strings_to_urls': False}) as writer:\n"
     ]
    },
    {
     "name": "stdout",
     "output_type": "stream",
     "text": [
      "Completed search. Joining!\n",
      "Now searching r/todayilearned for pitavastatin\n"
     ]
    },
    {
     "name": "stderr",
     "output_type": "stream",
     "text": [
      "/var/folders/y1/2907rcw50gq_rm33vwpb806r0000gn/T/ipykernel_71372/533152681.py:22: FutureWarning: Use of **kwargs is deprecated, use engine_kwargs instead.\n",
      "  with pd.ExcelWriter(DATA_FOLDER + 'scraped_posts_full.xlsx', engine='xlsxwriter', options={'strings_to_urls': False}) as writer:\n"
     ]
    },
    {
     "name": "stdout",
     "output_type": "stream",
     "text": [
      "Completed search. Joining!\n",
      "Now searching r/todayilearned for livalo\n"
     ]
    },
    {
     "name": "stderr",
     "output_type": "stream",
     "text": [
      "/var/folders/y1/2907rcw50gq_rm33vwpb806r0000gn/T/ipykernel_71372/533152681.py:22: FutureWarning: Use of **kwargs is deprecated, use engine_kwargs instead.\n",
      "  with pd.ExcelWriter(DATA_FOLDER + 'scraped_posts_full.xlsx', engine='xlsxwriter', options={'strings_to_urls': False}) as writer:\n"
     ]
    },
    {
     "name": "stdout",
     "output_type": "stream",
     "text": [
      "Completed search. Joining!\n",
      "Now searching r/todayilearned for zypitamag\n"
     ]
    },
    {
     "name": "stderr",
     "output_type": "stream",
     "text": [
      "/var/folders/y1/2907rcw50gq_rm33vwpb806r0000gn/T/ipykernel_71372/533152681.py:22: FutureWarning: Use of **kwargs is deprecated, use engine_kwargs instead.\n",
      "  with pd.ExcelWriter(DATA_FOLDER + 'scraped_posts_full.xlsx', engine='xlsxwriter', options={'strings_to_urls': False}) as writer:\n"
     ]
    },
    {
     "name": "stdout",
     "output_type": "stream",
     "text": [
      "Completed search. Joining!\n",
      "Now searching r/todayilearned for simvastatin\n"
     ]
    },
    {
     "name": "stderr",
     "output_type": "stream",
     "text": [
      "/var/folders/y1/2907rcw50gq_rm33vwpb806r0000gn/T/ipykernel_71372/533152681.py:22: FutureWarning: Use of **kwargs is deprecated, use engine_kwargs instead.\n",
      "  with pd.ExcelWriter(DATA_FOLDER + 'scraped_posts_full.xlsx', engine='xlsxwriter', options={'strings_to_urls': False}) as writer:\n"
     ]
    },
    {
     "name": "stdout",
     "output_type": "stream",
     "text": [
      "Completed search. Joining!\n",
      "Now searching r/todayilearned for zocor\n"
     ]
    },
    {
     "name": "stderr",
     "output_type": "stream",
     "text": [
      "/var/folders/y1/2907rcw50gq_rm33vwpb806r0000gn/T/ipykernel_71372/533152681.py:22: FutureWarning: Use of **kwargs is deprecated, use engine_kwargs instead.\n",
      "  with pd.ExcelWriter(DATA_FOLDER + 'scraped_posts_full.xlsx', engine='xlsxwriter', options={'strings_to_urls': False}) as writer:\n"
     ]
    },
    {
     "name": "stdout",
     "output_type": "stream",
     "text": [
      "Completed search. Joining!\n",
      "Now searching r/todayilearned for pravastatin\n"
     ]
    },
    {
     "name": "stderr",
     "output_type": "stream",
     "text": [
      "/var/folders/y1/2907rcw50gq_rm33vwpb806r0000gn/T/ipykernel_71372/533152681.py:22: FutureWarning: Use of **kwargs is deprecated, use engine_kwargs instead.\n",
      "  with pd.ExcelWriter(DATA_FOLDER + 'scraped_posts_full.xlsx', engine='xlsxwriter', options={'strings_to_urls': False}) as writer:\n"
     ]
    },
    {
     "name": "stdout",
     "output_type": "stream",
     "text": [
      "Completed search. Joining!\n",
      "Now searching r/todayilearned for pravachol\n"
     ]
    },
    {
     "name": "stderr",
     "output_type": "stream",
     "text": [
      "/var/folders/y1/2907rcw50gq_rm33vwpb806r0000gn/T/ipykernel_71372/533152681.py:22: FutureWarning: Use of **kwargs is deprecated, use engine_kwargs instead.\n",
      "  with pd.ExcelWriter(DATA_FOLDER + 'scraped_posts_full.xlsx', engine='xlsxwriter', options={'strings_to_urls': False}) as writer:\n"
     ]
    },
    {
     "name": "stdout",
     "output_type": "stream",
     "text": [
      "Completed search. Joining!\n",
      "Now searching r/todayilearned for lovastatin\n"
     ]
    },
    {
     "name": "stderr",
     "output_type": "stream",
     "text": [
      "/var/folders/y1/2907rcw50gq_rm33vwpb806r0000gn/T/ipykernel_71372/533152681.py:22: FutureWarning: Use of **kwargs is deprecated, use engine_kwargs instead.\n",
      "  with pd.ExcelWriter(DATA_FOLDER + 'scraped_posts_full.xlsx', engine='xlsxwriter', options={'strings_to_urls': False}) as writer:\n"
     ]
    },
    {
     "name": "stdout",
     "output_type": "stream",
     "text": [
      "Completed search. Joining!\n",
      "Now searching r/todayilearned for altoprev\n"
     ]
    },
    {
     "name": "stderr",
     "output_type": "stream",
     "text": [
      "/var/folders/y1/2907rcw50gq_rm33vwpb806r0000gn/T/ipykernel_71372/533152681.py:22: FutureWarning: Use of **kwargs is deprecated, use engine_kwargs instead.\n",
      "  with pd.ExcelWriter(DATA_FOLDER + 'scraped_posts_full.xlsx', engine='xlsxwriter', options={'strings_to_urls': False}) as writer:\n"
     ]
    },
    {
     "name": "stdout",
     "output_type": "stream",
     "text": [
      "Completed search. Joining!\n",
      "Now searching r/todayilearned for fluvastatin\n"
     ]
    },
    {
     "name": "stderr",
     "output_type": "stream",
     "text": [
      "/var/folders/y1/2907rcw50gq_rm33vwpb806r0000gn/T/ipykernel_71372/533152681.py:22: FutureWarning: Use of **kwargs is deprecated, use engine_kwargs instead.\n",
      "  with pd.ExcelWriter(DATA_FOLDER + 'scraped_posts_full.xlsx', engine='xlsxwriter', options={'strings_to_urls': False}) as writer:\n"
     ]
    },
    {
     "name": "stdout",
     "output_type": "stream",
     "text": [
      "Completed search. Joining!\n",
      "Now searching r/todayilearned for lescol\n"
     ]
    },
    {
     "name": "stderr",
     "output_type": "stream",
     "text": [
      "/var/folders/y1/2907rcw50gq_rm33vwpb806r0000gn/T/ipykernel_71372/533152681.py:22: FutureWarning: Use of **kwargs is deprecated, use engine_kwargs instead.\n",
      "  with pd.ExcelWriter(DATA_FOLDER + 'scraped_posts_full.xlsx', engine='xlsxwriter', options={'strings_to_urls': False}) as writer:\n"
     ]
    },
    {
     "name": "stdout",
     "output_type": "stream",
     "text": [
      "Completed search. Joining!\n",
      "Now searching r/ScientificNutrition for atorvastatin\n"
     ]
    },
    {
     "name": "stderr",
     "output_type": "stream",
     "text": [
      "/var/folders/y1/2907rcw50gq_rm33vwpb806r0000gn/T/ipykernel_71372/533152681.py:22: FutureWarning: Use of **kwargs is deprecated, use engine_kwargs instead.\n",
      "  with pd.ExcelWriter(DATA_FOLDER + 'scraped_posts_full.xlsx', engine='xlsxwriter', options={'strings_to_urls': False}) as writer:\n"
     ]
    },
    {
     "name": "stdout",
     "output_type": "stream",
     "text": [
      "Completed search. Joining!\n",
      "Now searching r/ScientificNutrition for lipitor\n"
     ]
    },
    {
     "name": "stderr",
     "output_type": "stream",
     "text": [
      "/var/folders/y1/2907rcw50gq_rm33vwpb806r0000gn/T/ipykernel_71372/533152681.py:22: FutureWarning: Use of **kwargs is deprecated, use engine_kwargs instead.\n",
      "  with pd.ExcelWriter(DATA_FOLDER + 'scraped_posts_full.xlsx', engine='xlsxwriter', options={'strings_to_urls': False}) as writer:\n"
     ]
    },
    {
     "name": "stdout",
     "output_type": "stream",
     "text": [
      "Completed search. Joining!\n",
      "Now searching r/ScientificNutrition for rosuvastatin\n"
     ]
    },
    {
     "name": "stderr",
     "output_type": "stream",
     "text": [
      "/var/folders/y1/2907rcw50gq_rm33vwpb806r0000gn/T/ipykernel_71372/533152681.py:22: FutureWarning: Use of **kwargs is deprecated, use engine_kwargs instead.\n",
      "  with pd.ExcelWriter(DATA_FOLDER + 'scraped_posts_full.xlsx', engine='xlsxwriter', options={'strings_to_urls': False}) as writer:\n"
     ]
    },
    {
     "name": "stdout",
     "output_type": "stream",
     "text": [
      "Completed search. Joining!\n",
      "Now searching r/ScientificNutrition for crestor\n"
     ]
    },
    {
     "name": "stderr",
     "output_type": "stream",
     "text": [
      "/var/folders/y1/2907rcw50gq_rm33vwpb806r0000gn/T/ipykernel_71372/533152681.py:22: FutureWarning: Use of **kwargs is deprecated, use engine_kwargs instead.\n",
      "  with pd.ExcelWriter(DATA_FOLDER + 'scraped_posts_full.xlsx', engine='xlsxwriter', options={'strings_to_urls': False}) as writer:\n"
     ]
    },
    {
     "name": "stdout",
     "output_type": "stream",
     "text": [
      "Completed search. Joining!\n",
      "Now searching r/ScientificNutrition for pitavastatin\n"
     ]
    },
    {
     "name": "stderr",
     "output_type": "stream",
     "text": [
      "/var/folders/y1/2907rcw50gq_rm33vwpb806r0000gn/T/ipykernel_71372/533152681.py:22: FutureWarning: Use of **kwargs is deprecated, use engine_kwargs instead.\n",
      "  with pd.ExcelWriter(DATA_FOLDER + 'scraped_posts_full.xlsx', engine='xlsxwriter', options={'strings_to_urls': False}) as writer:\n"
     ]
    },
    {
     "name": "stdout",
     "output_type": "stream",
     "text": [
      "Completed search. Joining!\n",
      "Now searching r/ScientificNutrition for livalo\n"
     ]
    },
    {
     "name": "stderr",
     "output_type": "stream",
     "text": [
      "/var/folders/y1/2907rcw50gq_rm33vwpb806r0000gn/T/ipykernel_71372/533152681.py:22: FutureWarning: Use of **kwargs is deprecated, use engine_kwargs instead.\n",
      "  with pd.ExcelWriter(DATA_FOLDER + 'scraped_posts_full.xlsx', engine='xlsxwriter', options={'strings_to_urls': False}) as writer:\n"
     ]
    },
    {
     "name": "stdout",
     "output_type": "stream",
     "text": [
      "Completed search. Joining!\n",
      "Now searching r/ScientificNutrition for zypitamag\n"
     ]
    },
    {
     "name": "stderr",
     "output_type": "stream",
     "text": [
      "/var/folders/y1/2907rcw50gq_rm33vwpb806r0000gn/T/ipykernel_71372/533152681.py:22: FutureWarning: Use of **kwargs is deprecated, use engine_kwargs instead.\n",
      "  with pd.ExcelWriter(DATA_FOLDER + 'scraped_posts_full.xlsx', engine='xlsxwriter', options={'strings_to_urls': False}) as writer:\n"
     ]
    },
    {
     "name": "stdout",
     "output_type": "stream",
     "text": [
      "Completed search. Joining!\n",
      "Now searching r/ScientificNutrition for simvastatin\n"
     ]
    },
    {
     "name": "stderr",
     "output_type": "stream",
     "text": [
      "/var/folders/y1/2907rcw50gq_rm33vwpb806r0000gn/T/ipykernel_71372/533152681.py:22: FutureWarning: Use of **kwargs is deprecated, use engine_kwargs instead.\n",
      "  with pd.ExcelWriter(DATA_FOLDER + 'scraped_posts_full.xlsx', engine='xlsxwriter', options={'strings_to_urls': False}) as writer:\n"
     ]
    },
    {
     "name": "stdout",
     "output_type": "stream",
     "text": [
      "Completed search. Joining!\n",
      "Now searching r/ScientificNutrition for zocor\n"
     ]
    },
    {
     "name": "stderr",
     "output_type": "stream",
     "text": [
      "/var/folders/y1/2907rcw50gq_rm33vwpb806r0000gn/T/ipykernel_71372/533152681.py:22: FutureWarning: Use of **kwargs is deprecated, use engine_kwargs instead.\n",
      "  with pd.ExcelWriter(DATA_FOLDER + 'scraped_posts_full.xlsx', engine='xlsxwriter', options={'strings_to_urls': False}) as writer:\n"
     ]
    },
    {
     "name": "stdout",
     "output_type": "stream",
     "text": [
      "Completed search. Joining!\n",
      "Now searching r/ScientificNutrition for pravastatin\n"
     ]
    },
    {
     "name": "stderr",
     "output_type": "stream",
     "text": [
      "/var/folders/y1/2907rcw50gq_rm33vwpb806r0000gn/T/ipykernel_71372/533152681.py:22: FutureWarning: Use of **kwargs is deprecated, use engine_kwargs instead.\n",
      "  with pd.ExcelWriter(DATA_FOLDER + 'scraped_posts_full.xlsx', engine='xlsxwriter', options={'strings_to_urls': False}) as writer:\n"
     ]
    },
    {
     "name": "stdout",
     "output_type": "stream",
     "text": [
      "Completed search. Joining!\n",
      "Now searching r/ScientificNutrition for pravachol\n"
     ]
    },
    {
     "name": "stderr",
     "output_type": "stream",
     "text": [
      "/var/folders/y1/2907rcw50gq_rm33vwpb806r0000gn/T/ipykernel_71372/533152681.py:22: FutureWarning: Use of **kwargs is deprecated, use engine_kwargs instead.\n",
      "  with pd.ExcelWriter(DATA_FOLDER + 'scraped_posts_full.xlsx', engine='xlsxwriter', options={'strings_to_urls': False}) as writer:\n"
     ]
    },
    {
     "name": "stdout",
     "output_type": "stream",
     "text": [
      "Completed search. Joining!\n",
      "Now searching r/ScientificNutrition for lovastatin\n"
     ]
    },
    {
     "name": "stderr",
     "output_type": "stream",
     "text": [
      "/var/folders/y1/2907rcw50gq_rm33vwpb806r0000gn/T/ipykernel_71372/533152681.py:22: FutureWarning: Use of **kwargs is deprecated, use engine_kwargs instead.\n",
      "  with pd.ExcelWriter(DATA_FOLDER + 'scraped_posts_full.xlsx', engine='xlsxwriter', options={'strings_to_urls': False}) as writer:\n"
     ]
    },
    {
     "name": "stdout",
     "output_type": "stream",
     "text": [
      "Completed search. Joining!\n",
      "Now searching r/ScientificNutrition for altoprev\n"
     ]
    },
    {
     "name": "stderr",
     "output_type": "stream",
     "text": [
      "/var/folders/y1/2907rcw50gq_rm33vwpb806r0000gn/T/ipykernel_71372/533152681.py:22: FutureWarning: Use of **kwargs is deprecated, use engine_kwargs instead.\n",
      "  with pd.ExcelWriter(DATA_FOLDER + 'scraped_posts_full.xlsx', engine='xlsxwriter', options={'strings_to_urls': False}) as writer:\n"
     ]
    },
    {
     "name": "stdout",
     "output_type": "stream",
     "text": [
      "Completed search. Joining!\n",
      "Now searching r/ScientificNutrition for fluvastatin\n"
     ]
    },
    {
     "name": "stderr",
     "output_type": "stream",
     "text": [
      "/var/folders/y1/2907rcw50gq_rm33vwpb806r0000gn/T/ipykernel_71372/533152681.py:22: FutureWarning: Use of **kwargs is deprecated, use engine_kwargs instead.\n",
      "  with pd.ExcelWriter(DATA_FOLDER + 'scraped_posts_full.xlsx', engine='xlsxwriter', options={'strings_to_urls': False}) as writer:\n"
     ]
    },
    {
     "name": "stdout",
     "output_type": "stream",
     "text": [
      "Completed search. Joining!\n",
      "Now searching r/ScientificNutrition for lescol\n"
     ]
    },
    {
     "name": "stderr",
     "output_type": "stream",
     "text": [
      "/var/folders/y1/2907rcw50gq_rm33vwpb806r0000gn/T/ipykernel_71372/533152681.py:22: FutureWarning: Use of **kwargs is deprecated, use engine_kwargs instead.\n",
      "  with pd.ExcelWriter(DATA_FOLDER + 'scraped_posts_full.xlsx', engine='xlsxwriter', options={'strings_to_urls': False}) as writer:\n"
     ]
    },
    {
     "name": "stdout",
     "output_type": "stream",
     "text": [
      "Completed search. Joining!\n",
      "Now searching r/askscience for atorvastatin\n"
     ]
    },
    {
     "name": "stderr",
     "output_type": "stream",
     "text": [
      "/var/folders/y1/2907rcw50gq_rm33vwpb806r0000gn/T/ipykernel_71372/533152681.py:22: FutureWarning: Use of **kwargs is deprecated, use engine_kwargs instead.\n",
      "  with pd.ExcelWriter(DATA_FOLDER + 'scraped_posts_full.xlsx', engine='xlsxwriter', options={'strings_to_urls': False}) as writer:\n"
     ]
    },
    {
     "name": "stdout",
     "output_type": "stream",
     "text": [
      "Completed search. Joining!\n",
      "Now searching r/askscience for lipitor\n"
     ]
    },
    {
     "name": "stderr",
     "output_type": "stream",
     "text": [
      "/var/folders/y1/2907rcw50gq_rm33vwpb806r0000gn/T/ipykernel_71372/533152681.py:22: FutureWarning: Use of **kwargs is deprecated, use engine_kwargs instead.\n",
      "  with pd.ExcelWriter(DATA_FOLDER + 'scraped_posts_full.xlsx', engine='xlsxwriter', options={'strings_to_urls': False}) as writer:\n"
     ]
    },
    {
     "name": "stdout",
     "output_type": "stream",
     "text": [
      "Completed search. Joining!\n",
      "Now searching r/askscience for rosuvastatin\n"
     ]
    },
    {
     "name": "stderr",
     "output_type": "stream",
     "text": [
      "/var/folders/y1/2907rcw50gq_rm33vwpb806r0000gn/T/ipykernel_71372/533152681.py:22: FutureWarning: Use of **kwargs is deprecated, use engine_kwargs instead.\n",
      "  with pd.ExcelWriter(DATA_FOLDER + 'scraped_posts_full.xlsx', engine='xlsxwriter', options={'strings_to_urls': False}) as writer:\n"
     ]
    },
    {
     "name": "stdout",
     "output_type": "stream",
     "text": [
      "Completed search. Joining!\n",
      "Now searching r/askscience for crestor\n"
     ]
    },
    {
     "name": "stderr",
     "output_type": "stream",
     "text": [
      "/var/folders/y1/2907rcw50gq_rm33vwpb806r0000gn/T/ipykernel_71372/533152681.py:22: FutureWarning: Use of **kwargs is deprecated, use engine_kwargs instead.\n",
      "  with pd.ExcelWriter(DATA_FOLDER + 'scraped_posts_full.xlsx', engine='xlsxwriter', options={'strings_to_urls': False}) as writer:\n"
     ]
    },
    {
     "name": "stdout",
     "output_type": "stream",
     "text": [
      "Completed search. Joining!\n",
      "Now searching r/askscience for pitavastatin\n"
     ]
    },
    {
     "name": "stderr",
     "output_type": "stream",
     "text": [
      "/var/folders/y1/2907rcw50gq_rm33vwpb806r0000gn/T/ipykernel_71372/533152681.py:22: FutureWarning: Use of **kwargs is deprecated, use engine_kwargs instead.\n",
      "  with pd.ExcelWriter(DATA_FOLDER + 'scraped_posts_full.xlsx', engine='xlsxwriter', options={'strings_to_urls': False}) as writer:\n"
     ]
    },
    {
     "name": "stdout",
     "output_type": "stream",
     "text": [
      "Completed search. Joining!\n",
      "Now searching r/askscience for livalo\n"
     ]
    },
    {
     "name": "stderr",
     "output_type": "stream",
     "text": [
      "/var/folders/y1/2907rcw50gq_rm33vwpb806r0000gn/T/ipykernel_71372/533152681.py:22: FutureWarning: Use of **kwargs is deprecated, use engine_kwargs instead.\n",
      "  with pd.ExcelWriter(DATA_FOLDER + 'scraped_posts_full.xlsx', engine='xlsxwriter', options={'strings_to_urls': False}) as writer:\n"
     ]
    },
    {
     "name": "stdout",
     "output_type": "stream",
     "text": [
      "Completed search. Joining!\n",
      "Now searching r/askscience for zypitamag\n"
     ]
    },
    {
     "name": "stderr",
     "output_type": "stream",
     "text": [
      "/var/folders/y1/2907rcw50gq_rm33vwpb806r0000gn/T/ipykernel_71372/533152681.py:22: FutureWarning: Use of **kwargs is deprecated, use engine_kwargs instead.\n",
      "  with pd.ExcelWriter(DATA_FOLDER + 'scraped_posts_full.xlsx', engine='xlsxwriter', options={'strings_to_urls': False}) as writer:\n"
     ]
    },
    {
     "name": "stdout",
     "output_type": "stream",
     "text": [
      "Completed search. Joining!\n",
      "Now searching r/askscience for simvastatin\n"
     ]
    },
    {
     "name": "stderr",
     "output_type": "stream",
     "text": [
      "/var/folders/y1/2907rcw50gq_rm33vwpb806r0000gn/T/ipykernel_71372/533152681.py:22: FutureWarning: Use of **kwargs is deprecated, use engine_kwargs instead.\n",
      "  with pd.ExcelWriter(DATA_FOLDER + 'scraped_posts_full.xlsx', engine='xlsxwriter', options={'strings_to_urls': False}) as writer:\n"
     ]
    },
    {
     "name": "stdout",
     "output_type": "stream",
     "text": [
      "Completed search. Joining!\n",
      "Now searching r/askscience for zocor\n"
     ]
    },
    {
     "name": "stderr",
     "output_type": "stream",
     "text": [
      "/var/folders/y1/2907rcw50gq_rm33vwpb806r0000gn/T/ipykernel_71372/533152681.py:22: FutureWarning: Use of **kwargs is deprecated, use engine_kwargs instead.\n",
      "  with pd.ExcelWriter(DATA_FOLDER + 'scraped_posts_full.xlsx', engine='xlsxwriter', options={'strings_to_urls': False}) as writer:\n"
     ]
    },
    {
     "name": "stdout",
     "output_type": "stream",
     "text": [
      "Completed search. Joining!\n",
      "Now searching r/askscience for pravastatin\n"
     ]
    },
    {
     "name": "stderr",
     "output_type": "stream",
     "text": [
      "/var/folders/y1/2907rcw50gq_rm33vwpb806r0000gn/T/ipykernel_71372/533152681.py:22: FutureWarning: Use of **kwargs is deprecated, use engine_kwargs instead.\n",
      "  with pd.ExcelWriter(DATA_FOLDER + 'scraped_posts_full.xlsx', engine='xlsxwriter', options={'strings_to_urls': False}) as writer:\n"
     ]
    },
    {
     "name": "stdout",
     "output_type": "stream",
     "text": [
      "Completed search. Joining!\n",
      "Now searching r/askscience for pravachol\n"
     ]
    },
    {
     "name": "stderr",
     "output_type": "stream",
     "text": [
      "/var/folders/y1/2907rcw50gq_rm33vwpb806r0000gn/T/ipykernel_71372/533152681.py:22: FutureWarning: Use of **kwargs is deprecated, use engine_kwargs instead.\n",
      "  with pd.ExcelWriter(DATA_FOLDER + 'scraped_posts_full.xlsx', engine='xlsxwriter', options={'strings_to_urls': False}) as writer:\n"
     ]
    },
    {
     "name": "stdout",
     "output_type": "stream",
     "text": [
      "Completed search. Joining!\n",
      "Now searching r/askscience for lovastatin\n"
     ]
    },
    {
     "name": "stderr",
     "output_type": "stream",
     "text": [
      "/var/folders/y1/2907rcw50gq_rm33vwpb806r0000gn/T/ipykernel_71372/533152681.py:22: FutureWarning: Use of **kwargs is deprecated, use engine_kwargs instead.\n",
      "  with pd.ExcelWriter(DATA_FOLDER + 'scraped_posts_full.xlsx', engine='xlsxwriter', options={'strings_to_urls': False}) as writer:\n"
     ]
    },
    {
     "name": "stdout",
     "output_type": "stream",
     "text": [
      "Completed search. Joining!\n",
      "Now searching r/askscience for altoprev\n"
     ]
    },
    {
     "name": "stderr",
     "output_type": "stream",
     "text": [
      "/var/folders/y1/2907rcw50gq_rm33vwpb806r0000gn/T/ipykernel_71372/533152681.py:22: FutureWarning: Use of **kwargs is deprecated, use engine_kwargs instead.\n",
      "  with pd.ExcelWriter(DATA_FOLDER + 'scraped_posts_full.xlsx', engine='xlsxwriter', options={'strings_to_urls': False}) as writer:\n"
     ]
    },
    {
     "name": "stdout",
     "output_type": "stream",
     "text": [
      "Completed search. Joining!\n",
      "Now searching r/askscience for fluvastatin\n"
     ]
    },
    {
     "name": "stderr",
     "output_type": "stream",
     "text": [
      "/var/folders/y1/2907rcw50gq_rm33vwpb806r0000gn/T/ipykernel_71372/533152681.py:22: FutureWarning: Use of **kwargs is deprecated, use engine_kwargs instead.\n",
      "  with pd.ExcelWriter(DATA_FOLDER + 'scraped_posts_full.xlsx', engine='xlsxwriter', options={'strings_to_urls': False}) as writer:\n"
     ]
    },
    {
     "name": "stdout",
     "output_type": "stream",
     "text": [
      "Completed search. Joining!\n",
      "Now searching r/askscience for lescol\n"
     ]
    },
    {
     "name": "stderr",
     "output_type": "stream",
     "text": [
      "/var/folders/y1/2907rcw50gq_rm33vwpb806r0000gn/T/ipykernel_71372/533152681.py:22: FutureWarning: Use of **kwargs is deprecated, use engine_kwargs instead.\n",
      "  with pd.ExcelWriter(DATA_FOLDER + 'scraped_posts_full.xlsx', engine='xlsxwriter', options={'strings_to_urls': False}) as writer:\n"
     ]
    },
    {
     "name": "stdout",
     "output_type": "stream",
     "text": [
      "Completed search. Joining!\n",
      "Now searching r/Futurology for atorvastatin\n"
     ]
    },
    {
     "name": "stderr",
     "output_type": "stream",
     "text": [
      "/var/folders/y1/2907rcw50gq_rm33vwpb806r0000gn/T/ipykernel_71372/533152681.py:22: FutureWarning: Use of **kwargs is deprecated, use engine_kwargs instead.\n",
      "  with pd.ExcelWriter(DATA_FOLDER + 'scraped_posts_full.xlsx', engine='xlsxwriter', options={'strings_to_urls': False}) as writer:\n"
     ]
    },
    {
     "name": "stdout",
     "output_type": "stream",
     "text": [
      "Completed search. Joining!\n",
      "Now searching r/Futurology for lipitor\n"
     ]
    },
    {
     "name": "stderr",
     "output_type": "stream",
     "text": [
      "/var/folders/y1/2907rcw50gq_rm33vwpb806r0000gn/T/ipykernel_71372/533152681.py:22: FutureWarning: Use of **kwargs is deprecated, use engine_kwargs instead.\n",
      "  with pd.ExcelWriter(DATA_FOLDER + 'scraped_posts_full.xlsx', engine='xlsxwriter', options={'strings_to_urls': False}) as writer:\n"
     ]
    },
    {
     "name": "stdout",
     "output_type": "stream",
     "text": [
      "Completed search. Joining!\n",
      "Now searching r/Futurology for rosuvastatin\n"
     ]
    },
    {
     "name": "stderr",
     "output_type": "stream",
     "text": [
      "/var/folders/y1/2907rcw50gq_rm33vwpb806r0000gn/T/ipykernel_71372/533152681.py:22: FutureWarning: Use of **kwargs is deprecated, use engine_kwargs instead.\n",
      "  with pd.ExcelWriter(DATA_FOLDER + 'scraped_posts_full.xlsx', engine='xlsxwriter', options={'strings_to_urls': False}) as writer:\n"
     ]
    },
    {
     "name": "stdout",
     "output_type": "stream",
     "text": [
      "Completed search. Joining!\n",
      "Now searching r/Futurology for crestor\n"
     ]
    },
    {
     "name": "stderr",
     "output_type": "stream",
     "text": [
      "/var/folders/y1/2907rcw50gq_rm33vwpb806r0000gn/T/ipykernel_71372/533152681.py:22: FutureWarning: Use of **kwargs is deprecated, use engine_kwargs instead.\n",
      "  with pd.ExcelWriter(DATA_FOLDER + 'scraped_posts_full.xlsx', engine='xlsxwriter', options={'strings_to_urls': False}) as writer:\n"
     ]
    },
    {
     "name": "stdout",
     "output_type": "stream",
     "text": [
      "Completed search. Joining!\n",
      "Now searching r/Futurology for pitavastatin\n"
     ]
    },
    {
     "name": "stderr",
     "output_type": "stream",
     "text": [
      "/var/folders/y1/2907rcw50gq_rm33vwpb806r0000gn/T/ipykernel_71372/533152681.py:22: FutureWarning: Use of **kwargs is deprecated, use engine_kwargs instead.\n",
      "  with pd.ExcelWriter(DATA_FOLDER + 'scraped_posts_full.xlsx', engine='xlsxwriter', options={'strings_to_urls': False}) as writer:\n"
     ]
    },
    {
     "name": "stdout",
     "output_type": "stream",
     "text": [
      "Completed search. Joining!\n",
      "Now searching r/Futurology for livalo\n"
     ]
    },
    {
     "name": "stderr",
     "output_type": "stream",
     "text": [
      "/var/folders/y1/2907rcw50gq_rm33vwpb806r0000gn/T/ipykernel_71372/533152681.py:22: FutureWarning: Use of **kwargs is deprecated, use engine_kwargs instead.\n",
      "  with pd.ExcelWriter(DATA_FOLDER + 'scraped_posts_full.xlsx', engine='xlsxwriter', options={'strings_to_urls': False}) as writer:\n"
     ]
    },
    {
     "name": "stdout",
     "output_type": "stream",
     "text": [
      "Completed search. Joining!\n",
      "Now searching r/Futurology for zypitamag\n"
     ]
    },
    {
     "name": "stderr",
     "output_type": "stream",
     "text": [
      "/var/folders/y1/2907rcw50gq_rm33vwpb806r0000gn/T/ipykernel_71372/533152681.py:22: FutureWarning: Use of **kwargs is deprecated, use engine_kwargs instead.\n",
      "  with pd.ExcelWriter(DATA_FOLDER + 'scraped_posts_full.xlsx', engine='xlsxwriter', options={'strings_to_urls': False}) as writer:\n"
     ]
    },
    {
     "name": "stdout",
     "output_type": "stream",
     "text": [
      "Completed search. Joining!\n",
      "Now searching r/Futurology for simvastatin\n"
     ]
    },
    {
     "name": "stderr",
     "output_type": "stream",
     "text": [
      "/var/folders/y1/2907rcw50gq_rm33vwpb806r0000gn/T/ipykernel_71372/533152681.py:22: FutureWarning: Use of **kwargs is deprecated, use engine_kwargs instead.\n",
      "  with pd.ExcelWriter(DATA_FOLDER + 'scraped_posts_full.xlsx', engine='xlsxwriter', options={'strings_to_urls': False}) as writer:\n"
     ]
    },
    {
     "name": "stdout",
     "output_type": "stream",
     "text": [
      "Completed search. Joining!\n",
      "Now searching r/Futurology for zocor\n"
     ]
    },
    {
     "name": "stderr",
     "output_type": "stream",
     "text": [
      "/var/folders/y1/2907rcw50gq_rm33vwpb806r0000gn/T/ipykernel_71372/533152681.py:22: FutureWarning: Use of **kwargs is deprecated, use engine_kwargs instead.\n",
      "  with pd.ExcelWriter(DATA_FOLDER + 'scraped_posts_full.xlsx', engine='xlsxwriter', options={'strings_to_urls': False}) as writer:\n"
     ]
    },
    {
     "name": "stdout",
     "output_type": "stream",
     "text": [
      "Completed search. Joining!\n",
      "Now searching r/Futurology for pravastatin\n"
     ]
    },
    {
     "name": "stderr",
     "output_type": "stream",
     "text": [
      "/var/folders/y1/2907rcw50gq_rm33vwpb806r0000gn/T/ipykernel_71372/533152681.py:22: FutureWarning: Use of **kwargs is deprecated, use engine_kwargs instead.\n",
      "  with pd.ExcelWriter(DATA_FOLDER + 'scraped_posts_full.xlsx', engine='xlsxwriter', options={'strings_to_urls': False}) as writer:\n"
     ]
    },
    {
     "name": "stdout",
     "output_type": "stream",
     "text": [
      "Completed search. Joining!\n",
      "Now searching r/Futurology for pravachol\n"
     ]
    },
    {
     "name": "stderr",
     "output_type": "stream",
     "text": [
      "/var/folders/y1/2907rcw50gq_rm33vwpb806r0000gn/T/ipykernel_71372/533152681.py:22: FutureWarning: Use of **kwargs is deprecated, use engine_kwargs instead.\n",
      "  with pd.ExcelWriter(DATA_FOLDER + 'scraped_posts_full.xlsx', engine='xlsxwriter', options={'strings_to_urls': False}) as writer:\n"
     ]
    },
    {
     "name": "stdout",
     "output_type": "stream",
     "text": [
      "Completed search. Joining!\n",
      "Now searching r/Futurology for lovastatin\n"
     ]
    },
    {
     "name": "stderr",
     "output_type": "stream",
     "text": [
      "/var/folders/y1/2907rcw50gq_rm33vwpb806r0000gn/T/ipykernel_71372/533152681.py:22: FutureWarning: Use of **kwargs is deprecated, use engine_kwargs instead.\n",
      "  with pd.ExcelWriter(DATA_FOLDER + 'scraped_posts_full.xlsx', engine='xlsxwriter', options={'strings_to_urls': False}) as writer:\n"
     ]
    },
    {
     "name": "stdout",
     "output_type": "stream",
     "text": [
      "Completed search. Joining!\n",
      "Now searching r/Futurology for altoprev\n"
     ]
    },
    {
     "name": "stderr",
     "output_type": "stream",
     "text": [
      "/var/folders/y1/2907rcw50gq_rm33vwpb806r0000gn/T/ipykernel_71372/533152681.py:22: FutureWarning: Use of **kwargs is deprecated, use engine_kwargs instead.\n",
      "  with pd.ExcelWriter(DATA_FOLDER + 'scraped_posts_full.xlsx', engine='xlsxwriter', options={'strings_to_urls': False}) as writer:\n"
     ]
    },
    {
     "name": "stdout",
     "output_type": "stream",
     "text": [
      "Completed search. Joining!\n",
      "Now searching r/Futurology for fluvastatin\n"
     ]
    },
    {
     "name": "stderr",
     "output_type": "stream",
     "text": [
      "/var/folders/y1/2907rcw50gq_rm33vwpb806r0000gn/T/ipykernel_71372/533152681.py:22: FutureWarning: Use of **kwargs is deprecated, use engine_kwargs instead.\n",
      "  with pd.ExcelWriter(DATA_FOLDER + 'scraped_posts_full.xlsx', engine='xlsxwriter', options={'strings_to_urls': False}) as writer:\n"
     ]
    },
    {
     "name": "stdout",
     "output_type": "stream",
     "text": [
      "Completed search. Joining!\n",
      "Now searching r/Futurology for lescol\n"
     ]
    },
    {
     "name": "stderr",
     "output_type": "stream",
     "text": [
      "/var/folders/y1/2907rcw50gq_rm33vwpb806r0000gn/T/ipykernel_71372/533152681.py:22: FutureWarning: Use of **kwargs is deprecated, use engine_kwargs instead.\n",
      "  with pd.ExcelWriter(DATA_FOLDER + 'scraped_posts_full.xlsx', engine='xlsxwriter', options={'strings_to_urls': False}) as writer:\n"
     ]
    },
    {
     "name": "stdout",
     "output_type": "stream",
     "text": [
      "Completed search. Joining!\n",
      "Now searching r/news for atorvastatin\n"
     ]
    },
    {
     "name": "stderr",
     "output_type": "stream",
     "text": [
      "/var/folders/y1/2907rcw50gq_rm33vwpb806r0000gn/T/ipykernel_71372/533152681.py:22: FutureWarning: Use of **kwargs is deprecated, use engine_kwargs instead.\n",
      "  with pd.ExcelWriter(DATA_FOLDER + 'scraped_posts_full.xlsx', engine='xlsxwriter', options={'strings_to_urls': False}) as writer:\n"
     ]
    },
    {
     "name": "stdout",
     "output_type": "stream",
     "text": [
      "Completed search. Joining!\n",
      "Now searching r/news for lipitor\n"
     ]
    },
    {
     "name": "stderr",
     "output_type": "stream",
     "text": [
      "/var/folders/y1/2907rcw50gq_rm33vwpb806r0000gn/T/ipykernel_71372/533152681.py:22: FutureWarning: Use of **kwargs is deprecated, use engine_kwargs instead.\n",
      "  with pd.ExcelWriter(DATA_FOLDER + 'scraped_posts_full.xlsx', engine='xlsxwriter', options={'strings_to_urls': False}) as writer:\n"
     ]
    },
    {
     "name": "stdout",
     "output_type": "stream",
     "text": [
      "Completed search. Joining!\n",
      "Now searching r/news for rosuvastatin\n"
     ]
    },
    {
     "name": "stderr",
     "output_type": "stream",
     "text": [
      "/var/folders/y1/2907rcw50gq_rm33vwpb806r0000gn/T/ipykernel_71372/533152681.py:22: FutureWarning: Use of **kwargs is deprecated, use engine_kwargs instead.\n",
      "  with pd.ExcelWriter(DATA_FOLDER + 'scraped_posts_full.xlsx', engine='xlsxwriter', options={'strings_to_urls': False}) as writer:\n"
     ]
    },
    {
     "name": "stdout",
     "output_type": "stream",
     "text": [
      "Completed search. Joining!\n",
      "Now searching r/news for crestor\n"
     ]
    },
    {
     "name": "stderr",
     "output_type": "stream",
     "text": [
      "/var/folders/y1/2907rcw50gq_rm33vwpb806r0000gn/T/ipykernel_71372/533152681.py:22: FutureWarning: Use of **kwargs is deprecated, use engine_kwargs instead.\n",
      "  with pd.ExcelWriter(DATA_FOLDER + 'scraped_posts_full.xlsx', engine='xlsxwriter', options={'strings_to_urls': False}) as writer:\n"
     ]
    },
    {
     "name": "stdout",
     "output_type": "stream",
     "text": [
      "Completed search. Joining!\n",
      "Now searching r/news for pitavastatin\n"
     ]
    },
    {
     "name": "stderr",
     "output_type": "stream",
     "text": [
      "/var/folders/y1/2907rcw50gq_rm33vwpb806r0000gn/T/ipykernel_71372/533152681.py:22: FutureWarning: Use of **kwargs is deprecated, use engine_kwargs instead.\n",
      "  with pd.ExcelWriter(DATA_FOLDER + 'scraped_posts_full.xlsx', engine='xlsxwriter', options={'strings_to_urls': False}) as writer:\n"
     ]
    },
    {
     "name": "stdout",
     "output_type": "stream",
     "text": [
      "Completed search. Joining!\n",
      "Now searching r/news for livalo\n"
     ]
    },
    {
     "name": "stderr",
     "output_type": "stream",
     "text": [
      "/var/folders/y1/2907rcw50gq_rm33vwpb806r0000gn/T/ipykernel_71372/533152681.py:22: FutureWarning: Use of **kwargs is deprecated, use engine_kwargs instead.\n",
      "  with pd.ExcelWriter(DATA_FOLDER + 'scraped_posts_full.xlsx', engine='xlsxwriter', options={'strings_to_urls': False}) as writer:\n"
     ]
    },
    {
     "name": "stdout",
     "output_type": "stream",
     "text": [
      "Completed search. Joining!\n",
      "Now searching r/news for zypitamag\n"
     ]
    },
    {
     "name": "stderr",
     "output_type": "stream",
     "text": [
      "/var/folders/y1/2907rcw50gq_rm33vwpb806r0000gn/T/ipykernel_71372/533152681.py:22: FutureWarning: Use of **kwargs is deprecated, use engine_kwargs instead.\n",
      "  with pd.ExcelWriter(DATA_FOLDER + 'scraped_posts_full.xlsx', engine='xlsxwriter', options={'strings_to_urls': False}) as writer:\n"
     ]
    },
    {
     "name": "stdout",
     "output_type": "stream",
     "text": [
      "Completed search. Joining!\n",
      "Now searching r/news for simvastatin\n"
     ]
    },
    {
     "name": "stderr",
     "output_type": "stream",
     "text": [
      "/var/folders/y1/2907rcw50gq_rm33vwpb806r0000gn/T/ipykernel_71372/533152681.py:22: FutureWarning: Use of **kwargs is deprecated, use engine_kwargs instead.\n",
      "  with pd.ExcelWriter(DATA_FOLDER + 'scraped_posts_full.xlsx', engine='xlsxwriter', options={'strings_to_urls': False}) as writer:\n"
     ]
    },
    {
     "name": "stdout",
     "output_type": "stream",
     "text": [
      "Completed search. Joining!\n",
      "Now searching r/news for zocor\n"
     ]
    },
    {
     "name": "stderr",
     "output_type": "stream",
     "text": [
      "/var/folders/y1/2907rcw50gq_rm33vwpb806r0000gn/T/ipykernel_71372/533152681.py:22: FutureWarning: Use of **kwargs is deprecated, use engine_kwargs instead.\n",
      "  with pd.ExcelWriter(DATA_FOLDER + 'scraped_posts_full.xlsx', engine='xlsxwriter', options={'strings_to_urls': False}) as writer:\n"
     ]
    },
    {
     "name": "stdout",
     "output_type": "stream",
     "text": [
      "Completed search. Joining!\n",
      "Now searching r/news for pravastatin\n"
     ]
    },
    {
     "name": "stderr",
     "output_type": "stream",
     "text": [
      "/var/folders/y1/2907rcw50gq_rm33vwpb806r0000gn/T/ipykernel_71372/533152681.py:22: FutureWarning: Use of **kwargs is deprecated, use engine_kwargs instead.\n",
      "  with pd.ExcelWriter(DATA_FOLDER + 'scraped_posts_full.xlsx', engine='xlsxwriter', options={'strings_to_urls': False}) as writer:\n"
     ]
    },
    {
     "name": "stdout",
     "output_type": "stream",
     "text": [
      "Completed search. Joining!\n",
      "Now searching r/news for pravachol\n"
     ]
    },
    {
     "name": "stderr",
     "output_type": "stream",
     "text": [
      "/var/folders/y1/2907rcw50gq_rm33vwpb806r0000gn/T/ipykernel_71372/533152681.py:22: FutureWarning: Use of **kwargs is deprecated, use engine_kwargs instead.\n",
      "  with pd.ExcelWriter(DATA_FOLDER + 'scraped_posts_full.xlsx', engine='xlsxwriter', options={'strings_to_urls': False}) as writer:\n"
     ]
    },
    {
     "name": "stdout",
     "output_type": "stream",
     "text": [
      "Completed search. Joining!\n",
      "Now searching r/news for lovastatin\n"
     ]
    },
    {
     "name": "stderr",
     "output_type": "stream",
     "text": [
      "/var/folders/y1/2907rcw50gq_rm33vwpb806r0000gn/T/ipykernel_71372/533152681.py:22: FutureWarning: Use of **kwargs is deprecated, use engine_kwargs instead.\n",
      "  with pd.ExcelWriter(DATA_FOLDER + 'scraped_posts_full.xlsx', engine='xlsxwriter', options={'strings_to_urls': False}) as writer:\n"
     ]
    },
    {
     "name": "stdout",
     "output_type": "stream",
     "text": [
      "Completed search. Joining!\n",
      "Now searching r/news for altoprev\n"
     ]
    },
    {
     "name": "stderr",
     "output_type": "stream",
     "text": [
      "/var/folders/y1/2907rcw50gq_rm33vwpb806r0000gn/T/ipykernel_71372/533152681.py:22: FutureWarning: Use of **kwargs is deprecated, use engine_kwargs instead.\n",
      "  with pd.ExcelWriter(DATA_FOLDER + 'scraped_posts_full.xlsx', engine='xlsxwriter', options={'strings_to_urls': False}) as writer:\n"
     ]
    },
    {
     "name": "stdout",
     "output_type": "stream",
     "text": [
      "Completed search. Joining!\n",
      "Now searching r/news for fluvastatin\n"
     ]
    },
    {
     "name": "stderr",
     "output_type": "stream",
     "text": [
      "/var/folders/y1/2907rcw50gq_rm33vwpb806r0000gn/T/ipykernel_71372/533152681.py:22: FutureWarning: Use of **kwargs is deprecated, use engine_kwargs instead.\n",
      "  with pd.ExcelWriter(DATA_FOLDER + 'scraped_posts_full.xlsx', engine='xlsxwriter', options={'strings_to_urls': False}) as writer:\n"
     ]
    },
    {
     "name": "stdout",
     "output_type": "stream",
     "text": [
      "Completed search. Joining!\n",
      "Now searching r/news for lescol\n"
     ]
    },
    {
     "name": "stderr",
     "output_type": "stream",
     "text": [
      "/var/folders/y1/2907rcw50gq_rm33vwpb806r0000gn/T/ipykernel_71372/533152681.py:22: FutureWarning: Use of **kwargs is deprecated, use engine_kwargs instead.\n",
      "  with pd.ExcelWriter(DATA_FOLDER + 'scraped_posts_full.xlsx', engine='xlsxwriter', options={'strings_to_urls': False}) as writer:\n"
     ]
    },
    {
     "name": "stdout",
     "output_type": "stream",
     "text": [
      "Completed search. Joining!\n",
      "Now searching r/PlantBasedDiet for atorvastatin\n"
     ]
    },
    {
     "name": "stderr",
     "output_type": "stream",
     "text": [
      "/var/folders/y1/2907rcw50gq_rm33vwpb806r0000gn/T/ipykernel_71372/533152681.py:22: FutureWarning: Use of **kwargs is deprecated, use engine_kwargs instead.\n",
      "  with pd.ExcelWriter(DATA_FOLDER + 'scraped_posts_full.xlsx', engine='xlsxwriter', options={'strings_to_urls': False}) as writer:\n"
     ]
    },
    {
     "name": "stdout",
     "output_type": "stream",
     "text": [
      "Completed search. Joining!\n",
      "Now searching r/PlantBasedDiet for lipitor\n"
     ]
    },
    {
     "name": "stderr",
     "output_type": "stream",
     "text": [
      "/var/folders/y1/2907rcw50gq_rm33vwpb806r0000gn/T/ipykernel_71372/533152681.py:22: FutureWarning: Use of **kwargs is deprecated, use engine_kwargs instead.\n",
      "  with pd.ExcelWriter(DATA_FOLDER + 'scraped_posts_full.xlsx', engine='xlsxwriter', options={'strings_to_urls': False}) as writer:\n"
     ]
    },
    {
     "name": "stdout",
     "output_type": "stream",
     "text": [
      "Completed search. Joining!\n",
      "Now searching r/PlantBasedDiet for rosuvastatin\n"
     ]
    },
    {
     "name": "stderr",
     "output_type": "stream",
     "text": [
      "/var/folders/y1/2907rcw50gq_rm33vwpb806r0000gn/T/ipykernel_71372/533152681.py:22: FutureWarning: Use of **kwargs is deprecated, use engine_kwargs instead.\n",
      "  with pd.ExcelWriter(DATA_FOLDER + 'scraped_posts_full.xlsx', engine='xlsxwriter', options={'strings_to_urls': False}) as writer:\n"
     ]
    },
    {
     "name": "stdout",
     "output_type": "stream",
     "text": [
      "Completed search. Joining!\n",
      "Now searching r/PlantBasedDiet for crestor\n"
     ]
    },
    {
     "name": "stderr",
     "output_type": "stream",
     "text": [
      "/var/folders/y1/2907rcw50gq_rm33vwpb806r0000gn/T/ipykernel_71372/533152681.py:22: FutureWarning: Use of **kwargs is deprecated, use engine_kwargs instead.\n",
      "  with pd.ExcelWriter(DATA_FOLDER + 'scraped_posts_full.xlsx', engine='xlsxwriter', options={'strings_to_urls': False}) as writer:\n"
     ]
    },
    {
     "name": "stdout",
     "output_type": "stream",
     "text": [
      "Completed search. Joining!\n",
      "Now searching r/PlantBasedDiet for pitavastatin\n"
     ]
    },
    {
     "name": "stderr",
     "output_type": "stream",
     "text": [
      "/var/folders/y1/2907rcw50gq_rm33vwpb806r0000gn/T/ipykernel_71372/533152681.py:22: FutureWarning: Use of **kwargs is deprecated, use engine_kwargs instead.\n",
      "  with pd.ExcelWriter(DATA_FOLDER + 'scraped_posts_full.xlsx', engine='xlsxwriter', options={'strings_to_urls': False}) as writer:\n"
     ]
    },
    {
     "name": "stdout",
     "output_type": "stream",
     "text": [
      "Completed search. Joining!\n",
      "Now searching r/PlantBasedDiet for livalo\n"
     ]
    },
    {
     "name": "stderr",
     "output_type": "stream",
     "text": [
      "/var/folders/y1/2907rcw50gq_rm33vwpb806r0000gn/T/ipykernel_71372/533152681.py:22: FutureWarning: Use of **kwargs is deprecated, use engine_kwargs instead.\n",
      "  with pd.ExcelWriter(DATA_FOLDER + 'scraped_posts_full.xlsx', engine='xlsxwriter', options={'strings_to_urls': False}) as writer:\n"
     ]
    },
    {
     "name": "stdout",
     "output_type": "stream",
     "text": [
      "Completed search. Joining!\n",
      "Now searching r/PlantBasedDiet for zypitamag\n"
     ]
    },
    {
     "name": "stderr",
     "output_type": "stream",
     "text": [
      "/var/folders/y1/2907rcw50gq_rm33vwpb806r0000gn/T/ipykernel_71372/533152681.py:22: FutureWarning: Use of **kwargs is deprecated, use engine_kwargs instead.\n",
      "  with pd.ExcelWriter(DATA_FOLDER + 'scraped_posts_full.xlsx', engine='xlsxwriter', options={'strings_to_urls': False}) as writer:\n"
     ]
    },
    {
     "name": "stdout",
     "output_type": "stream",
     "text": [
      "Completed search. Joining!\n",
      "Now searching r/PlantBasedDiet for simvastatin\n"
     ]
    },
    {
     "name": "stderr",
     "output_type": "stream",
     "text": [
      "/var/folders/y1/2907rcw50gq_rm33vwpb806r0000gn/T/ipykernel_71372/533152681.py:22: FutureWarning: Use of **kwargs is deprecated, use engine_kwargs instead.\n",
      "  with pd.ExcelWriter(DATA_FOLDER + 'scraped_posts_full.xlsx', engine='xlsxwriter', options={'strings_to_urls': False}) as writer:\n"
     ]
    },
    {
     "name": "stdout",
     "output_type": "stream",
     "text": [
      "Completed search. Joining!\n",
      "Now searching r/PlantBasedDiet for zocor\n"
     ]
    },
    {
     "name": "stderr",
     "output_type": "stream",
     "text": [
      "/var/folders/y1/2907rcw50gq_rm33vwpb806r0000gn/T/ipykernel_71372/533152681.py:22: FutureWarning: Use of **kwargs is deprecated, use engine_kwargs instead.\n",
      "  with pd.ExcelWriter(DATA_FOLDER + 'scraped_posts_full.xlsx', engine='xlsxwriter', options={'strings_to_urls': False}) as writer:\n"
     ]
    },
    {
     "name": "stdout",
     "output_type": "stream",
     "text": [
      "Completed search. Joining!\n",
      "Now searching r/PlantBasedDiet for pravastatin\n"
     ]
    },
    {
     "name": "stderr",
     "output_type": "stream",
     "text": [
      "/var/folders/y1/2907rcw50gq_rm33vwpb806r0000gn/T/ipykernel_71372/533152681.py:22: FutureWarning: Use of **kwargs is deprecated, use engine_kwargs instead.\n",
      "  with pd.ExcelWriter(DATA_FOLDER + 'scraped_posts_full.xlsx', engine='xlsxwriter', options={'strings_to_urls': False}) as writer:\n"
     ]
    },
    {
     "name": "stdout",
     "output_type": "stream",
     "text": [
      "Completed search. Joining!\n",
      "Now searching r/PlantBasedDiet for pravachol\n"
     ]
    },
    {
     "name": "stderr",
     "output_type": "stream",
     "text": [
      "/var/folders/y1/2907rcw50gq_rm33vwpb806r0000gn/T/ipykernel_71372/533152681.py:22: FutureWarning: Use of **kwargs is deprecated, use engine_kwargs instead.\n",
      "  with pd.ExcelWriter(DATA_FOLDER + 'scraped_posts_full.xlsx', engine='xlsxwriter', options={'strings_to_urls': False}) as writer:\n"
     ]
    },
    {
     "name": "stdout",
     "output_type": "stream",
     "text": [
      "Completed search. Joining!\n",
      "Now searching r/PlantBasedDiet for lovastatin\n"
     ]
    },
    {
     "name": "stderr",
     "output_type": "stream",
     "text": [
      "/var/folders/y1/2907rcw50gq_rm33vwpb806r0000gn/T/ipykernel_71372/533152681.py:22: FutureWarning: Use of **kwargs is deprecated, use engine_kwargs instead.\n",
      "  with pd.ExcelWriter(DATA_FOLDER + 'scraped_posts_full.xlsx', engine='xlsxwriter', options={'strings_to_urls': False}) as writer:\n"
     ]
    },
    {
     "name": "stdout",
     "output_type": "stream",
     "text": [
      "Completed search. Joining!\n",
      "Now searching r/PlantBasedDiet for altoprev\n"
     ]
    },
    {
     "name": "stderr",
     "output_type": "stream",
     "text": [
      "/var/folders/y1/2907rcw50gq_rm33vwpb806r0000gn/T/ipykernel_71372/533152681.py:22: FutureWarning: Use of **kwargs is deprecated, use engine_kwargs instead.\n",
      "  with pd.ExcelWriter(DATA_FOLDER + 'scraped_posts_full.xlsx', engine='xlsxwriter', options={'strings_to_urls': False}) as writer:\n"
     ]
    },
    {
     "name": "stdout",
     "output_type": "stream",
     "text": [
      "Completed search. Joining!\n",
      "Now searching r/PlantBasedDiet for fluvastatin\n"
     ]
    },
    {
     "name": "stderr",
     "output_type": "stream",
     "text": [
      "/var/folders/y1/2907rcw50gq_rm33vwpb806r0000gn/T/ipykernel_71372/533152681.py:22: FutureWarning: Use of **kwargs is deprecated, use engine_kwargs instead.\n",
      "  with pd.ExcelWriter(DATA_FOLDER + 'scraped_posts_full.xlsx', engine='xlsxwriter', options={'strings_to_urls': False}) as writer:\n"
     ]
    },
    {
     "name": "stdout",
     "output_type": "stream",
     "text": [
      "Completed search. Joining!\n",
      "Now searching r/PlantBasedDiet for lescol\n"
     ]
    },
    {
     "name": "stderr",
     "output_type": "stream",
     "text": [
      "/var/folders/y1/2907rcw50gq_rm33vwpb806r0000gn/T/ipykernel_71372/533152681.py:22: FutureWarning: Use of **kwargs is deprecated, use engine_kwargs instead.\n",
      "  with pd.ExcelWriter(DATA_FOLDER + 'scraped_posts_full.xlsx', engine='xlsxwriter', options={'strings_to_urls': False}) as writer:\n"
     ]
    },
    {
     "name": "stdout",
     "output_type": "stream",
     "text": [
      "Completed search. Joining!\n",
      "Now searching r/nutrition for atorvastatin\n"
     ]
    },
    {
     "name": "stderr",
     "output_type": "stream",
     "text": [
      "/var/folders/y1/2907rcw50gq_rm33vwpb806r0000gn/T/ipykernel_71372/533152681.py:22: FutureWarning: Use of **kwargs is deprecated, use engine_kwargs instead.\n",
      "  with pd.ExcelWriter(DATA_FOLDER + 'scraped_posts_full.xlsx', engine='xlsxwriter', options={'strings_to_urls': False}) as writer:\n"
     ]
    },
    {
     "name": "stdout",
     "output_type": "stream",
     "text": [
      "Completed search. Joining!\n",
      "Now searching r/nutrition for lipitor\n"
     ]
    },
    {
     "name": "stderr",
     "output_type": "stream",
     "text": [
      "/var/folders/y1/2907rcw50gq_rm33vwpb806r0000gn/T/ipykernel_71372/533152681.py:22: FutureWarning: Use of **kwargs is deprecated, use engine_kwargs instead.\n",
      "  with pd.ExcelWriter(DATA_FOLDER + 'scraped_posts_full.xlsx', engine='xlsxwriter', options={'strings_to_urls': False}) as writer:\n"
     ]
    },
    {
     "name": "stdout",
     "output_type": "stream",
     "text": [
      "Completed search. Joining!\n",
      "Now searching r/nutrition for rosuvastatin\n"
     ]
    },
    {
     "name": "stderr",
     "output_type": "stream",
     "text": [
      "/var/folders/y1/2907rcw50gq_rm33vwpb806r0000gn/T/ipykernel_71372/533152681.py:22: FutureWarning: Use of **kwargs is deprecated, use engine_kwargs instead.\n",
      "  with pd.ExcelWriter(DATA_FOLDER + 'scraped_posts_full.xlsx', engine='xlsxwriter', options={'strings_to_urls': False}) as writer:\n"
     ]
    },
    {
     "name": "stdout",
     "output_type": "stream",
     "text": [
      "Completed search. Joining!\n",
      "Now searching r/nutrition for crestor\n"
     ]
    },
    {
     "name": "stderr",
     "output_type": "stream",
     "text": [
      "/var/folders/y1/2907rcw50gq_rm33vwpb806r0000gn/T/ipykernel_71372/533152681.py:22: FutureWarning: Use of **kwargs is deprecated, use engine_kwargs instead.\n",
      "  with pd.ExcelWriter(DATA_FOLDER + 'scraped_posts_full.xlsx', engine='xlsxwriter', options={'strings_to_urls': False}) as writer:\n"
     ]
    },
    {
     "name": "stdout",
     "output_type": "stream",
     "text": [
      "Completed search. Joining!\n",
      "Now searching r/nutrition for pitavastatin\n"
     ]
    },
    {
     "name": "stderr",
     "output_type": "stream",
     "text": [
      "/var/folders/y1/2907rcw50gq_rm33vwpb806r0000gn/T/ipykernel_71372/533152681.py:22: FutureWarning: Use of **kwargs is deprecated, use engine_kwargs instead.\n",
      "  with pd.ExcelWriter(DATA_FOLDER + 'scraped_posts_full.xlsx', engine='xlsxwriter', options={'strings_to_urls': False}) as writer:\n"
     ]
    },
    {
     "name": "stdout",
     "output_type": "stream",
     "text": [
      "Completed search. Joining!\n",
      "Now searching r/nutrition for livalo\n"
     ]
    },
    {
     "name": "stderr",
     "output_type": "stream",
     "text": [
      "/var/folders/y1/2907rcw50gq_rm33vwpb806r0000gn/T/ipykernel_71372/533152681.py:22: FutureWarning: Use of **kwargs is deprecated, use engine_kwargs instead.\n",
      "  with pd.ExcelWriter(DATA_FOLDER + 'scraped_posts_full.xlsx', engine='xlsxwriter', options={'strings_to_urls': False}) as writer:\n"
     ]
    },
    {
     "name": "stdout",
     "output_type": "stream",
     "text": [
      "Completed search. Joining!\n",
      "Now searching r/nutrition for zypitamag\n"
     ]
    },
    {
     "name": "stderr",
     "output_type": "stream",
     "text": [
      "/var/folders/y1/2907rcw50gq_rm33vwpb806r0000gn/T/ipykernel_71372/533152681.py:22: FutureWarning: Use of **kwargs is deprecated, use engine_kwargs instead.\n",
      "  with pd.ExcelWriter(DATA_FOLDER + 'scraped_posts_full.xlsx', engine='xlsxwriter', options={'strings_to_urls': False}) as writer:\n"
     ]
    },
    {
     "name": "stdout",
     "output_type": "stream",
     "text": [
      "Completed search. Joining!\n",
      "Now searching r/nutrition for simvastatin\n"
     ]
    },
    {
     "name": "stderr",
     "output_type": "stream",
     "text": [
      "/var/folders/y1/2907rcw50gq_rm33vwpb806r0000gn/T/ipykernel_71372/533152681.py:22: FutureWarning: Use of **kwargs is deprecated, use engine_kwargs instead.\n",
      "  with pd.ExcelWriter(DATA_FOLDER + 'scraped_posts_full.xlsx', engine='xlsxwriter', options={'strings_to_urls': False}) as writer:\n"
     ]
    },
    {
     "name": "stdout",
     "output_type": "stream",
     "text": [
      "Completed search. Joining!\n",
      "Now searching r/nutrition for zocor\n"
     ]
    },
    {
     "name": "stderr",
     "output_type": "stream",
     "text": [
      "/var/folders/y1/2907rcw50gq_rm33vwpb806r0000gn/T/ipykernel_71372/533152681.py:22: FutureWarning: Use of **kwargs is deprecated, use engine_kwargs instead.\n",
      "  with pd.ExcelWriter(DATA_FOLDER + 'scraped_posts_full.xlsx', engine='xlsxwriter', options={'strings_to_urls': False}) as writer:\n"
     ]
    },
    {
     "name": "stdout",
     "output_type": "stream",
     "text": [
      "Completed search. Joining!\n",
      "Now searching r/nutrition for pravastatin\n"
     ]
    },
    {
     "name": "stderr",
     "output_type": "stream",
     "text": [
      "/var/folders/y1/2907rcw50gq_rm33vwpb806r0000gn/T/ipykernel_71372/533152681.py:22: FutureWarning: Use of **kwargs is deprecated, use engine_kwargs instead.\n",
      "  with pd.ExcelWriter(DATA_FOLDER + 'scraped_posts_full.xlsx', engine='xlsxwriter', options={'strings_to_urls': False}) as writer:\n"
     ]
    },
    {
     "name": "stdout",
     "output_type": "stream",
     "text": [
      "Completed search. Joining!\n",
      "Now searching r/nutrition for pravachol\n"
     ]
    },
    {
     "name": "stderr",
     "output_type": "stream",
     "text": [
      "/var/folders/y1/2907rcw50gq_rm33vwpb806r0000gn/T/ipykernel_71372/533152681.py:22: FutureWarning: Use of **kwargs is deprecated, use engine_kwargs instead.\n",
      "  with pd.ExcelWriter(DATA_FOLDER + 'scraped_posts_full.xlsx', engine='xlsxwriter', options={'strings_to_urls': False}) as writer:\n"
     ]
    },
    {
     "name": "stdout",
     "output_type": "stream",
     "text": [
      "Completed search. Joining!\n",
      "Now searching r/nutrition for lovastatin\n"
     ]
    },
    {
     "name": "stderr",
     "output_type": "stream",
     "text": [
      "/var/folders/y1/2907rcw50gq_rm33vwpb806r0000gn/T/ipykernel_71372/533152681.py:22: FutureWarning: Use of **kwargs is deprecated, use engine_kwargs instead.\n",
      "  with pd.ExcelWriter(DATA_FOLDER + 'scraped_posts_full.xlsx', engine='xlsxwriter', options={'strings_to_urls': False}) as writer:\n"
     ]
    },
    {
     "name": "stdout",
     "output_type": "stream",
     "text": [
      "Completed search. Joining!\n",
      "Now searching r/nutrition for altoprev\n"
     ]
    },
    {
     "name": "stderr",
     "output_type": "stream",
     "text": [
      "/var/folders/y1/2907rcw50gq_rm33vwpb806r0000gn/T/ipykernel_71372/533152681.py:22: FutureWarning: Use of **kwargs is deprecated, use engine_kwargs instead.\n",
      "  with pd.ExcelWriter(DATA_FOLDER + 'scraped_posts_full.xlsx', engine='xlsxwriter', options={'strings_to_urls': False}) as writer:\n"
     ]
    },
    {
     "name": "stdout",
     "output_type": "stream",
     "text": [
      "Completed search. Joining!\n",
      "Now searching r/nutrition for fluvastatin\n"
     ]
    },
    {
     "name": "stderr",
     "output_type": "stream",
     "text": [
      "/var/folders/y1/2907rcw50gq_rm33vwpb806r0000gn/T/ipykernel_71372/533152681.py:22: FutureWarning: Use of **kwargs is deprecated, use engine_kwargs instead.\n",
      "  with pd.ExcelWriter(DATA_FOLDER + 'scraped_posts_full.xlsx', engine='xlsxwriter', options={'strings_to_urls': False}) as writer:\n"
     ]
    },
    {
     "name": "stdout",
     "output_type": "stream",
     "text": [
      "Completed search. Joining!\n",
      "Now searching r/nutrition for lescol\n"
     ]
    },
    {
     "name": "stderr",
     "output_type": "stream",
     "text": [
      "/var/folders/y1/2907rcw50gq_rm33vwpb806r0000gn/T/ipykernel_71372/533152681.py:22: FutureWarning: Use of **kwargs is deprecated, use engine_kwargs instead.\n",
      "  with pd.ExcelWriter(DATA_FOLDER + 'scraped_posts_full.xlsx', engine='xlsxwriter', options={'strings_to_urls': False}) as writer:\n"
     ]
    },
    {
     "name": "stdout",
     "output_type": "stream",
     "text": [
      "Completed search. Joining!\n",
      "Now searching r/Paleo for atorvastatin\n"
     ]
    },
    {
     "name": "stderr",
     "output_type": "stream",
     "text": [
      "/var/folders/y1/2907rcw50gq_rm33vwpb806r0000gn/T/ipykernel_71372/533152681.py:22: FutureWarning: Use of **kwargs is deprecated, use engine_kwargs instead.\n",
      "  with pd.ExcelWriter(DATA_FOLDER + 'scraped_posts_full.xlsx', engine='xlsxwriter', options={'strings_to_urls': False}) as writer:\n"
     ]
    },
    {
     "name": "stdout",
     "output_type": "stream",
     "text": [
      "Completed search. Joining!\n",
      "Now searching r/Paleo for lipitor\n"
     ]
    },
    {
     "name": "stderr",
     "output_type": "stream",
     "text": [
      "/var/folders/y1/2907rcw50gq_rm33vwpb806r0000gn/T/ipykernel_71372/533152681.py:22: FutureWarning: Use of **kwargs is deprecated, use engine_kwargs instead.\n",
      "  with pd.ExcelWriter(DATA_FOLDER + 'scraped_posts_full.xlsx', engine='xlsxwriter', options={'strings_to_urls': False}) as writer:\n"
     ]
    },
    {
     "name": "stdout",
     "output_type": "stream",
     "text": [
      "Completed search. Joining!\n",
      "Now searching r/Paleo for rosuvastatin\n"
     ]
    },
    {
     "name": "stderr",
     "output_type": "stream",
     "text": [
      "/var/folders/y1/2907rcw50gq_rm33vwpb806r0000gn/T/ipykernel_71372/533152681.py:22: FutureWarning: Use of **kwargs is deprecated, use engine_kwargs instead.\n",
      "  with pd.ExcelWriter(DATA_FOLDER + 'scraped_posts_full.xlsx', engine='xlsxwriter', options={'strings_to_urls': False}) as writer:\n"
     ]
    },
    {
     "name": "stdout",
     "output_type": "stream",
     "text": [
      "Completed search. Joining!\n",
      "Now searching r/Paleo for crestor\n"
     ]
    },
    {
     "name": "stderr",
     "output_type": "stream",
     "text": [
      "/var/folders/y1/2907rcw50gq_rm33vwpb806r0000gn/T/ipykernel_71372/533152681.py:22: FutureWarning: Use of **kwargs is deprecated, use engine_kwargs instead.\n",
      "  with pd.ExcelWriter(DATA_FOLDER + 'scraped_posts_full.xlsx', engine='xlsxwriter', options={'strings_to_urls': False}) as writer:\n"
     ]
    },
    {
     "name": "stdout",
     "output_type": "stream",
     "text": [
      "Completed search. Joining!\n",
      "Now searching r/Paleo for pitavastatin\n"
     ]
    },
    {
     "name": "stderr",
     "output_type": "stream",
     "text": [
      "/var/folders/y1/2907rcw50gq_rm33vwpb806r0000gn/T/ipykernel_71372/533152681.py:22: FutureWarning: Use of **kwargs is deprecated, use engine_kwargs instead.\n",
      "  with pd.ExcelWriter(DATA_FOLDER + 'scraped_posts_full.xlsx', engine='xlsxwriter', options={'strings_to_urls': False}) as writer:\n"
     ]
    },
    {
     "name": "stdout",
     "output_type": "stream",
     "text": [
      "Completed search. Joining!\n",
      "Now searching r/Paleo for livalo\n"
     ]
    },
    {
     "name": "stderr",
     "output_type": "stream",
     "text": [
      "/var/folders/y1/2907rcw50gq_rm33vwpb806r0000gn/T/ipykernel_71372/533152681.py:22: FutureWarning: Use of **kwargs is deprecated, use engine_kwargs instead.\n",
      "  with pd.ExcelWriter(DATA_FOLDER + 'scraped_posts_full.xlsx', engine='xlsxwriter', options={'strings_to_urls': False}) as writer:\n"
     ]
    },
    {
     "name": "stdout",
     "output_type": "stream",
     "text": [
      "Completed search. Joining!\n",
      "Now searching r/Paleo for zypitamag\n"
     ]
    },
    {
     "name": "stderr",
     "output_type": "stream",
     "text": [
      "/var/folders/y1/2907rcw50gq_rm33vwpb806r0000gn/T/ipykernel_71372/533152681.py:22: FutureWarning: Use of **kwargs is deprecated, use engine_kwargs instead.\n",
      "  with pd.ExcelWriter(DATA_FOLDER + 'scraped_posts_full.xlsx', engine='xlsxwriter', options={'strings_to_urls': False}) as writer:\n"
     ]
    },
    {
     "name": "stdout",
     "output_type": "stream",
     "text": [
      "Completed search. Joining!\n",
      "Now searching r/Paleo for simvastatin\n"
     ]
    },
    {
     "name": "stderr",
     "output_type": "stream",
     "text": [
      "/var/folders/y1/2907rcw50gq_rm33vwpb806r0000gn/T/ipykernel_71372/533152681.py:22: FutureWarning: Use of **kwargs is deprecated, use engine_kwargs instead.\n",
      "  with pd.ExcelWriter(DATA_FOLDER + 'scraped_posts_full.xlsx', engine='xlsxwriter', options={'strings_to_urls': False}) as writer:\n"
     ]
    },
    {
     "name": "stdout",
     "output_type": "stream",
     "text": [
      "Completed search. Joining!\n",
      "Now searching r/Paleo for zocor\n"
     ]
    },
    {
     "name": "stderr",
     "output_type": "stream",
     "text": [
      "/var/folders/y1/2907rcw50gq_rm33vwpb806r0000gn/T/ipykernel_71372/533152681.py:22: FutureWarning: Use of **kwargs is deprecated, use engine_kwargs instead.\n",
      "  with pd.ExcelWriter(DATA_FOLDER + 'scraped_posts_full.xlsx', engine='xlsxwriter', options={'strings_to_urls': False}) as writer:\n"
     ]
    },
    {
     "name": "stdout",
     "output_type": "stream",
     "text": [
      "Completed search. Joining!\n",
      "Now searching r/Paleo for pravastatin\n"
     ]
    },
    {
     "name": "stderr",
     "output_type": "stream",
     "text": [
      "/var/folders/y1/2907rcw50gq_rm33vwpb806r0000gn/T/ipykernel_71372/533152681.py:22: FutureWarning: Use of **kwargs is deprecated, use engine_kwargs instead.\n",
      "  with pd.ExcelWriter(DATA_FOLDER + 'scraped_posts_full.xlsx', engine='xlsxwriter', options={'strings_to_urls': False}) as writer:\n"
     ]
    },
    {
     "name": "stdout",
     "output_type": "stream",
     "text": [
      "Completed search. Joining!\n",
      "Now searching r/Paleo for pravachol\n"
     ]
    },
    {
     "name": "stderr",
     "output_type": "stream",
     "text": [
      "/var/folders/y1/2907rcw50gq_rm33vwpb806r0000gn/T/ipykernel_71372/533152681.py:22: FutureWarning: Use of **kwargs is deprecated, use engine_kwargs instead.\n",
      "  with pd.ExcelWriter(DATA_FOLDER + 'scraped_posts_full.xlsx', engine='xlsxwriter', options={'strings_to_urls': False}) as writer:\n"
     ]
    },
    {
     "name": "stdout",
     "output_type": "stream",
     "text": [
      "Completed search. Joining!\n",
      "Now searching r/Paleo for lovastatin\n"
     ]
    },
    {
     "name": "stderr",
     "output_type": "stream",
     "text": [
      "/var/folders/y1/2907rcw50gq_rm33vwpb806r0000gn/T/ipykernel_71372/533152681.py:22: FutureWarning: Use of **kwargs is deprecated, use engine_kwargs instead.\n",
      "  with pd.ExcelWriter(DATA_FOLDER + 'scraped_posts_full.xlsx', engine='xlsxwriter', options={'strings_to_urls': False}) as writer:\n"
     ]
    },
    {
     "name": "stdout",
     "output_type": "stream",
     "text": [
      "Completed search. Joining!\n",
      "Now searching r/Paleo for altoprev\n"
     ]
    },
    {
     "name": "stderr",
     "output_type": "stream",
     "text": [
      "/var/folders/y1/2907rcw50gq_rm33vwpb806r0000gn/T/ipykernel_71372/533152681.py:22: FutureWarning: Use of **kwargs is deprecated, use engine_kwargs instead.\n",
      "  with pd.ExcelWriter(DATA_FOLDER + 'scraped_posts_full.xlsx', engine='xlsxwriter', options={'strings_to_urls': False}) as writer:\n"
     ]
    },
    {
     "name": "stdout",
     "output_type": "stream",
     "text": [
      "Completed search. Joining!\n",
      "Now searching r/Paleo for fluvastatin\n"
     ]
    },
    {
     "name": "stderr",
     "output_type": "stream",
     "text": [
      "/var/folders/y1/2907rcw50gq_rm33vwpb806r0000gn/T/ipykernel_71372/533152681.py:22: FutureWarning: Use of **kwargs is deprecated, use engine_kwargs instead.\n",
      "  with pd.ExcelWriter(DATA_FOLDER + 'scraped_posts_full.xlsx', engine='xlsxwriter', options={'strings_to_urls': False}) as writer:\n"
     ]
    },
    {
     "name": "stdout",
     "output_type": "stream",
     "text": [
      "Completed search. Joining!\n",
      "Now searching r/Paleo for lescol\n"
     ]
    },
    {
     "name": "stderr",
     "output_type": "stream",
     "text": [
      "/var/folders/y1/2907rcw50gq_rm33vwpb806r0000gn/T/ipykernel_71372/533152681.py:22: FutureWarning: Use of **kwargs is deprecated, use engine_kwargs instead.\n",
      "  with pd.ExcelWriter(DATA_FOLDER + 'scraped_posts_full.xlsx', engine='xlsxwriter', options={'strings_to_urls': False}) as writer:\n"
     ]
    },
    {
     "name": "stdout",
     "output_type": "stream",
     "text": [
      "Completed search. Joining!\n",
      "Now searching r/fasting for atorvastatin\n"
     ]
    },
    {
     "name": "stderr",
     "output_type": "stream",
     "text": [
      "/var/folders/y1/2907rcw50gq_rm33vwpb806r0000gn/T/ipykernel_71372/533152681.py:22: FutureWarning: Use of **kwargs is deprecated, use engine_kwargs instead.\n",
      "  with pd.ExcelWriter(DATA_FOLDER + 'scraped_posts_full.xlsx', engine='xlsxwriter', options={'strings_to_urls': False}) as writer:\n"
     ]
    },
    {
     "name": "stdout",
     "output_type": "stream",
     "text": [
      "Completed search. Joining!\n",
      "Now searching r/fasting for lipitor\n"
     ]
    },
    {
     "name": "stderr",
     "output_type": "stream",
     "text": [
      "/var/folders/y1/2907rcw50gq_rm33vwpb806r0000gn/T/ipykernel_71372/533152681.py:22: FutureWarning: Use of **kwargs is deprecated, use engine_kwargs instead.\n",
      "  with pd.ExcelWriter(DATA_FOLDER + 'scraped_posts_full.xlsx', engine='xlsxwriter', options={'strings_to_urls': False}) as writer:\n"
     ]
    },
    {
     "name": "stdout",
     "output_type": "stream",
     "text": [
      "Completed search. Joining!\n",
      "Now searching r/fasting for rosuvastatin\n"
     ]
    },
    {
     "name": "stderr",
     "output_type": "stream",
     "text": [
      "/var/folders/y1/2907rcw50gq_rm33vwpb806r0000gn/T/ipykernel_71372/533152681.py:22: FutureWarning: Use of **kwargs is deprecated, use engine_kwargs instead.\n",
      "  with pd.ExcelWriter(DATA_FOLDER + 'scraped_posts_full.xlsx', engine='xlsxwriter', options={'strings_to_urls': False}) as writer:\n"
     ]
    },
    {
     "name": "stdout",
     "output_type": "stream",
     "text": [
      "Completed search. Joining!\n",
      "Now searching r/fasting for crestor\n"
     ]
    },
    {
     "name": "stderr",
     "output_type": "stream",
     "text": [
      "/var/folders/y1/2907rcw50gq_rm33vwpb806r0000gn/T/ipykernel_71372/533152681.py:22: FutureWarning: Use of **kwargs is deprecated, use engine_kwargs instead.\n",
      "  with pd.ExcelWriter(DATA_FOLDER + 'scraped_posts_full.xlsx', engine='xlsxwriter', options={'strings_to_urls': False}) as writer:\n"
     ]
    },
    {
     "name": "stdout",
     "output_type": "stream",
     "text": [
      "Completed search. Joining!\n",
      "Now searching r/fasting for pitavastatin\n"
     ]
    },
    {
     "name": "stderr",
     "output_type": "stream",
     "text": [
      "/var/folders/y1/2907rcw50gq_rm33vwpb806r0000gn/T/ipykernel_71372/533152681.py:22: FutureWarning: Use of **kwargs is deprecated, use engine_kwargs instead.\n",
      "  with pd.ExcelWriter(DATA_FOLDER + 'scraped_posts_full.xlsx', engine='xlsxwriter', options={'strings_to_urls': False}) as writer:\n"
     ]
    },
    {
     "name": "stdout",
     "output_type": "stream",
     "text": [
      "Completed search. Joining!\n",
      "Now searching r/fasting for livalo\n"
     ]
    },
    {
     "name": "stderr",
     "output_type": "stream",
     "text": [
      "/var/folders/y1/2907rcw50gq_rm33vwpb806r0000gn/T/ipykernel_71372/533152681.py:22: FutureWarning: Use of **kwargs is deprecated, use engine_kwargs instead.\n",
      "  with pd.ExcelWriter(DATA_FOLDER + 'scraped_posts_full.xlsx', engine='xlsxwriter', options={'strings_to_urls': False}) as writer:\n"
     ]
    },
    {
     "name": "stdout",
     "output_type": "stream",
     "text": [
      "Completed search. Joining!\n",
      "Now searching r/fasting for zypitamag\n"
     ]
    },
    {
     "name": "stderr",
     "output_type": "stream",
     "text": [
      "/var/folders/y1/2907rcw50gq_rm33vwpb806r0000gn/T/ipykernel_71372/533152681.py:22: FutureWarning: Use of **kwargs is deprecated, use engine_kwargs instead.\n",
      "  with pd.ExcelWriter(DATA_FOLDER + 'scraped_posts_full.xlsx', engine='xlsxwriter', options={'strings_to_urls': False}) as writer:\n"
     ]
    },
    {
     "name": "stdout",
     "output_type": "stream",
     "text": [
      "Completed search. Joining!\n",
      "Now searching r/fasting for simvastatin\n"
     ]
    },
    {
     "name": "stderr",
     "output_type": "stream",
     "text": [
      "/var/folders/y1/2907rcw50gq_rm33vwpb806r0000gn/T/ipykernel_71372/533152681.py:22: FutureWarning: Use of **kwargs is deprecated, use engine_kwargs instead.\n",
      "  with pd.ExcelWriter(DATA_FOLDER + 'scraped_posts_full.xlsx', engine='xlsxwriter', options={'strings_to_urls': False}) as writer:\n"
     ]
    },
    {
     "name": "stdout",
     "output_type": "stream",
     "text": [
      "Completed search. Joining!\n",
      "Now searching r/fasting for zocor\n"
     ]
    },
    {
     "name": "stderr",
     "output_type": "stream",
     "text": [
      "/var/folders/y1/2907rcw50gq_rm33vwpb806r0000gn/T/ipykernel_71372/533152681.py:22: FutureWarning: Use of **kwargs is deprecated, use engine_kwargs instead.\n",
      "  with pd.ExcelWriter(DATA_FOLDER + 'scraped_posts_full.xlsx', engine='xlsxwriter', options={'strings_to_urls': False}) as writer:\n"
     ]
    },
    {
     "name": "stdout",
     "output_type": "stream",
     "text": [
      "Completed search. Joining!\n",
      "Now searching r/fasting for pravastatin\n"
     ]
    },
    {
     "name": "stderr",
     "output_type": "stream",
     "text": [
      "/var/folders/y1/2907rcw50gq_rm33vwpb806r0000gn/T/ipykernel_71372/533152681.py:22: FutureWarning: Use of **kwargs is deprecated, use engine_kwargs instead.\n",
      "  with pd.ExcelWriter(DATA_FOLDER + 'scraped_posts_full.xlsx', engine='xlsxwriter', options={'strings_to_urls': False}) as writer:\n"
     ]
    },
    {
     "name": "stdout",
     "output_type": "stream",
     "text": [
      "Completed search. Joining!\n",
      "Now searching r/fasting for pravachol\n"
     ]
    },
    {
     "name": "stderr",
     "output_type": "stream",
     "text": [
      "/var/folders/y1/2907rcw50gq_rm33vwpb806r0000gn/T/ipykernel_71372/533152681.py:22: FutureWarning: Use of **kwargs is deprecated, use engine_kwargs instead.\n",
      "  with pd.ExcelWriter(DATA_FOLDER + 'scraped_posts_full.xlsx', engine='xlsxwriter', options={'strings_to_urls': False}) as writer:\n"
     ]
    },
    {
     "name": "stdout",
     "output_type": "stream",
     "text": [
      "Completed search. Joining!\n",
      "Now searching r/fasting for lovastatin\n"
     ]
    },
    {
     "name": "stderr",
     "output_type": "stream",
     "text": [
      "/var/folders/y1/2907rcw50gq_rm33vwpb806r0000gn/T/ipykernel_71372/533152681.py:22: FutureWarning: Use of **kwargs is deprecated, use engine_kwargs instead.\n",
      "  with pd.ExcelWriter(DATA_FOLDER + 'scraped_posts_full.xlsx', engine='xlsxwriter', options={'strings_to_urls': False}) as writer:\n"
     ]
    },
    {
     "name": "stdout",
     "output_type": "stream",
     "text": [
      "Completed search. Joining!\n",
      "Now searching r/fasting for altoprev\n"
     ]
    },
    {
     "name": "stderr",
     "output_type": "stream",
     "text": [
      "/var/folders/y1/2907rcw50gq_rm33vwpb806r0000gn/T/ipykernel_71372/533152681.py:22: FutureWarning: Use of **kwargs is deprecated, use engine_kwargs instead.\n",
      "  with pd.ExcelWriter(DATA_FOLDER + 'scraped_posts_full.xlsx', engine='xlsxwriter', options={'strings_to_urls': False}) as writer:\n"
     ]
    },
    {
     "name": "stdout",
     "output_type": "stream",
     "text": [
      "Completed search. Joining!\n",
      "Now searching r/fasting for fluvastatin\n"
     ]
    },
    {
     "name": "stderr",
     "output_type": "stream",
     "text": [
      "/var/folders/y1/2907rcw50gq_rm33vwpb806r0000gn/T/ipykernel_71372/533152681.py:22: FutureWarning: Use of **kwargs is deprecated, use engine_kwargs instead.\n",
      "  with pd.ExcelWriter(DATA_FOLDER + 'scraped_posts_full.xlsx', engine='xlsxwriter', options={'strings_to_urls': False}) as writer:\n"
     ]
    },
    {
     "name": "stdout",
     "output_type": "stream",
     "text": [
      "Completed search. Joining!\n",
      "Now searching r/fasting for lescol\n"
     ]
    },
    {
     "name": "stderr",
     "output_type": "stream",
     "text": [
      "/var/folders/y1/2907rcw50gq_rm33vwpb806r0000gn/T/ipykernel_71372/533152681.py:22: FutureWarning: Use of **kwargs is deprecated, use engine_kwargs instead.\n",
      "  with pd.ExcelWriter(DATA_FOLDER + 'scraped_posts_full.xlsx', engine='xlsxwriter', options={'strings_to_urls': False}) as writer:\n"
     ]
    },
    {
     "name": "stdout",
     "output_type": "stream",
     "text": [
      "Completed search. Joining!\n",
      "Now searching r/longevity for atorvastatin\n"
     ]
    },
    {
     "name": "stderr",
     "output_type": "stream",
     "text": [
      "/var/folders/y1/2907rcw50gq_rm33vwpb806r0000gn/T/ipykernel_71372/533152681.py:22: FutureWarning: Use of **kwargs is deprecated, use engine_kwargs instead.\n",
      "  with pd.ExcelWriter(DATA_FOLDER + 'scraped_posts_full.xlsx', engine='xlsxwriter', options={'strings_to_urls': False}) as writer:\n"
     ]
    },
    {
     "name": "stdout",
     "output_type": "stream",
     "text": [
      "Completed search. Joining!\n",
      "Now searching r/longevity for lipitor\n"
     ]
    },
    {
     "name": "stderr",
     "output_type": "stream",
     "text": [
      "/var/folders/y1/2907rcw50gq_rm33vwpb806r0000gn/T/ipykernel_71372/533152681.py:22: FutureWarning: Use of **kwargs is deprecated, use engine_kwargs instead.\n",
      "  with pd.ExcelWriter(DATA_FOLDER + 'scraped_posts_full.xlsx', engine='xlsxwriter', options={'strings_to_urls': False}) as writer:\n"
     ]
    },
    {
     "name": "stdout",
     "output_type": "stream",
     "text": [
      "Completed search. Joining!\n",
      "Now searching r/longevity for rosuvastatin\n"
     ]
    },
    {
     "name": "stderr",
     "output_type": "stream",
     "text": [
      "/var/folders/y1/2907rcw50gq_rm33vwpb806r0000gn/T/ipykernel_71372/533152681.py:22: FutureWarning: Use of **kwargs is deprecated, use engine_kwargs instead.\n",
      "  with pd.ExcelWriter(DATA_FOLDER + 'scraped_posts_full.xlsx', engine='xlsxwriter', options={'strings_to_urls': False}) as writer:\n"
     ]
    },
    {
     "name": "stdout",
     "output_type": "stream",
     "text": [
      "Completed search. Joining!\n",
      "Now searching r/longevity for crestor\n"
     ]
    },
    {
     "name": "stderr",
     "output_type": "stream",
     "text": [
      "/var/folders/y1/2907rcw50gq_rm33vwpb806r0000gn/T/ipykernel_71372/533152681.py:22: FutureWarning: Use of **kwargs is deprecated, use engine_kwargs instead.\n",
      "  with pd.ExcelWriter(DATA_FOLDER + 'scraped_posts_full.xlsx', engine='xlsxwriter', options={'strings_to_urls': False}) as writer:\n"
     ]
    },
    {
     "name": "stdout",
     "output_type": "stream",
     "text": [
      "Completed search. Joining!\n",
      "Now searching r/longevity for pitavastatin\n"
     ]
    },
    {
     "name": "stderr",
     "output_type": "stream",
     "text": [
      "/var/folders/y1/2907rcw50gq_rm33vwpb806r0000gn/T/ipykernel_71372/533152681.py:22: FutureWarning: Use of **kwargs is deprecated, use engine_kwargs instead.\n",
      "  with pd.ExcelWriter(DATA_FOLDER + 'scraped_posts_full.xlsx', engine='xlsxwriter', options={'strings_to_urls': False}) as writer:\n"
     ]
    },
    {
     "name": "stdout",
     "output_type": "stream",
     "text": [
      "Completed search. Joining!\n",
      "Now searching r/longevity for livalo\n"
     ]
    },
    {
     "name": "stderr",
     "output_type": "stream",
     "text": [
      "/var/folders/y1/2907rcw50gq_rm33vwpb806r0000gn/T/ipykernel_71372/533152681.py:22: FutureWarning: Use of **kwargs is deprecated, use engine_kwargs instead.\n",
      "  with pd.ExcelWriter(DATA_FOLDER + 'scraped_posts_full.xlsx', engine='xlsxwriter', options={'strings_to_urls': False}) as writer:\n"
     ]
    },
    {
     "name": "stdout",
     "output_type": "stream",
     "text": [
      "Completed search. Joining!\n",
      "Now searching r/longevity for zypitamag\n"
     ]
    },
    {
     "name": "stderr",
     "output_type": "stream",
     "text": [
      "/var/folders/y1/2907rcw50gq_rm33vwpb806r0000gn/T/ipykernel_71372/533152681.py:22: FutureWarning: Use of **kwargs is deprecated, use engine_kwargs instead.\n",
      "  with pd.ExcelWriter(DATA_FOLDER + 'scraped_posts_full.xlsx', engine='xlsxwriter', options={'strings_to_urls': False}) as writer:\n"
     ]
    },
    {
     "name": "stdout",
     "output_type": "stream",
     "text": [
      "Completed search. Joining!\n",
      "Now searching r/longevity for simvastatin\n"
     ]
    },
    {
     "name": "stderr",
     "output_type": "stream",
     "text": [
      "/var/folders/y1/2907rcw50gq_rm33vwpb806r0000gn/T/ipykernel_71372/533152681.py:22: FutureWarning: Use of **kwargs is deprecated, use engine_kwargs instead.\n",
      "  with pd.ExcelWriter(DATA_FOLDER + 'scraped_posts_full.xlsx', engine='xlsxwriter', options={'strings_to_urls': False}) as writer:\n"
     ]
    },
    {
     "name": "stdout",
     "output_type": "stream",
     "text": [
      "Completed search. Joining!\n",
      "Now searching r/longevity for zocor\n"
     ]
    },
    {
     "name": "stderr",
     "output_type": "stream",
     "text": [
      "/var/folders/y1/2907rcw50gq_rm33vwpb806r0000gn/T/ipykernel_71372/533152681.py:22: FutureWarning: Use of **kwargs is deprecated, use engine_kwargs instead.\n",
      "  with pd.ExcelWriter(DATA_FOLDER + 'scraped_posts_full.xlsx', engine='xlsxwriter', options={'strings_to_urls': False}) as writer:\n"
     ]
    },
    {
     "name": "stdout",
     "output_type": "stream",
     "text": [
      "Completed search. Joining!\n",
      "Now searching r/longevity for pravastatin\n"
     ]
    },
    {
     "name": "stderr",
     "output_type": "stream",
     "text": [
      "/var/folders/y1/2907rcw50gq_rm33vwpb806r0000gn/T/ipykernel_71372/533152681.py:22: FutureWarning: Use of **kwargs is deprecated, use engine_kwargs instead.\n",
      "  with pd.ExcelWriter(DATA_FOLDER + 'scraped_posts_full.xlsx', engine='xlsxwriter', options={'strings_to_urls': False}) as writer:\n"
     ]
    },
    {
     "name": "stdout",
     "output_type": "stream",
     "text": [
      "Completed search. Joining!\n",
      "Now searching r/longevity for pravachol\n"
     ]
    },
    {
     "name": "stderr",
     "output_type": "stream",
     "text": [
      "/var/folders/y1/2907rcw50gq_rm33vwpb806r0000gn/T/ipykernel_71372/533152681.py:22: FutureWarning: Use of **kwargs is deprecated, use engine_kwargs instead.\n",
      "  with pd.ExcelWriter(DATA_FOLDER + 'scraped_posts_full.xlsx', engine='xlsxwriter', options={'strings_to_urls': False}) as writer:\n"
     ]
    },
    {
     "name": "stdout",
     "output_type": "stream",
     "text": [
      "Completed search. Joining!\n",
      "Now searching r/longevity for lovastatin\n"
     ]
    },
    {
     "name": "stderr",
     "output_type": "stream",
     "text": [
      "/var/folders/y1/2907rcw50gq_rm33vwpb806r0000gn/T/ipykernel_71372/533152681.py:22: FutureWarning: Use of **kwargs is deprecated, use engine_kwargs instead.\n",
      "  with pd.ExcelWriter(DATA_FOLDER + 'scraped_posts_full.xlsx', engine='xlsxwriter', options={'strings_to_urls': False}) as writer:\n"
     ]
    },
    {
     "name": "stdout",
     "output_type": "stream",
     "text": [
      "Completed search. Joining!\n",
      "Now searching r/longevity for altoprev\n"
     ]
    },
    {
     "name": "stderr",
     "output_type": "stream",
     "text": [
      "/var/folders/y1/2907rcw50gq_rm33vwpb806r0000gn/T/ipykernel_71372/533152681.py:22: FutureWarning: Use of **kwargs is deprecated, use engine_kwargs instead.\n",
      "  with pd.ExcelWriter(DATA_FOLDER + 'scraped_posts_full.xlsx', engine='xlsxwriter', options={'strings_to_urls': False}) as writer:\n"
     ]
    },
    {
     "name": "stdout",
     "output_type": "stream",
     "text": [
      "Completed search. Joining!\n",
      "Now searching r/longevity for fluvastatin\n"
     ]
    },
    {
     "name": "stderr",
     "output_type": "stream",
     "text": [
      "/var/folders/y1/2907rcw50gq_rm33vwpb806r0000gn/T/ipykernel_71372/533152681.py:22: FutureWarning: Use of **kwargs is deprecated, use engine_kwargs instead.\n",
      "  with pd.ExcelWriter(DATA_FOLDER + 'scraped_posts_full.xlsx', engine='xlsxwriter', options={'strings_to_urls': False}) as writer:\n"
     ]
    },
    {
     "name": "stdout",
     "output_type": "stream",
     "text": [
      "Completed search. Joining!\n",
      "Now searching r/longevity for lescol\n"
     ]
    },
    {
     "name": "stderr",
     "output_type": "stream",
     "text": [
      "/var/folders/y1/2907rcw50gq_rm33vwpb806r0000gn/T/ipykernel_71372/533152681.py:22: FutureWarning: Use of **kwargs is deprecated, use engine_kwargs instead.\n",
      "  with pd.ExcelWriter(DATA_FOLDER + 'scraped_posts_full.xlsx', engine='xlsxwriter', options={'strings_to_urls': False}) as writer:\n"
     ]
    },
    {
     "name": "stdout",
     "output_type": "stream",
     "text": [
      "Completed search. Joining!\n",
      "Now searching r/Supplements for atorvastatin\n"
     ]
    },
    {
     "name": "stderr",
     "output_type": "stream",
     "text": [
      "/var/folders/y1/2907rcw50gq_rm33vwpb806r0000gn/T/ipykernel_71372/533152681.py:22: FutureWarning: Use of **kwargs is deprecated, use engine_kwargs instead.\n",
      "  with pd.ExcelWriter(DATA_FOLDER + 'scraped_posts_full.xlsx', engine='xlsxwriter', options={'strings_to_urls': False}) as writer:\n"
     ]
    },
    {
     "name": "stdout",
     "output_type": "stream",
     "text": [
      "Completed search. Joining!\n",
      "Now searching r/Supplements for lipitor\n"
     ]
    },
    {
     "name": "stderr",
     "output_type": "stream",
     "text": [
      "/var/folders/y1/2907rcw50gq_rm33vwpb806r0000gn/T/ipykernel_71372/533152681.py:22: FutureWarning: Use of **kwargs is deprecated, use engine_kwargs instead.\n",
      "  with pd.ExcelWriter(DATA_FOLDER + 'scraped_posts_full.xlsx', engine='xlsxwriter', options={'strings_to_urls': False}) as writer:\n"
     ]
    },
    {
     "name": "stdout",
     "output_type": "stream",
     "text": [
      "Completed search. Joining!\n",
      "Now searching r/Supplements for rosuvastatin\n"
     ]
    },
    {
     "name": "stderr",
     "output_type": "stream",
     "text": [
      "/var/folders/y1/2907rcw50gq_rm33vwpb806r0000gn/T/ipykernel_71372/533152681.py:22: FutureWarning: Use of **kwargs is deprecated, use engine_kwargs instead.\n",
      "  with pd.ExcelWriter(DATA_FOLDER + 'scraped_posts_full.xlsx', engine='xlsxwriter', options={'strings_to_urls': False}) as writer:\n"
     ]
    },
    {
     "name": "stdout",
     "output_type": "stream",
     "text": [
      "Completed search. Joining!\n",
      "Now searching r/Supplements for crestor\n"
     ]
    },
    {
     "name": "stderr",
     "output_type": "stream",
     "text": [
      "/var/folders/y1/2907rcw50gq_rm33vwpb806r0000gn/T/ipykernel_71372/533152681.py:22: FutureWarning: Use of **kwargs is deprecated, use engine_kwargs instead.\n",
      "  with pd.ExcelWriter(DATA_FOLDER + 'scraped_posts_full.xlsx', engine='xlsxwriter', options={'strings_to_urls': False}) as writer:\n"
     ]
    },
    {
     "name": "stdout",
     "output_type": "stream",
     "text": [
      "Completed search. Joining!\n",
      "Now searching r/Supplements for pitavastatin\n"
     ]
    },
    {
     "name": "stderr",
     "output_type": "stream",
     "text": [
      "/var/folders/y1/2907rcw50gq_rm33vwpb806r0000gn/T/ipykernel_71372/533152681.py:22: FutureWarning: Use of **kwargs is deprecated, use engine_kwargs instead.\n",
      "  with pd.ExcelWriter(DATA_FOLDER + 'scraped_posts_full.xlsx', engine='xlsxwriter', options={'strings_to_urls': False}) as writer:\n"
     ]
    },
    {
     "name": "stdout",
     "output_type": "stream",
     "text": [
      "Completed search. Joining!\n",
      "Now searching r/Supplements for livalo\n"
     ]
    },
    {
     "name": "stderr",
     "output_type": "stream",
     "text": [
      "/var/folders/y1/2907rcw50gq_rm33vwpb806r0000gn/T/ipykernel_71372/533152681.py:22: FutureWarning: Use of **kwargs is deprecated, use engine_kwargs instead.\n",
      "  with pd.ExcelWriter(DATA_FOLDER + 'scraped_posts_full.xlsx', engine='xlsxwriter', options={'strings_to_urls': False}) as writer:\n"
     ]
    },
    {
     "name": "stdout",
     "output_type": "stream",
     "text": [
      "Completed search. Joining!\n",
      "Now searching r/Supplements for zypitamag\n"
     ]
    },
    {
     "name": "stderr",
     "output_type": "stream",
     "text": [
      "/var/folders/y1/2907rcw50gq_rm33vwpb806r0000gn/T/ipykernel_71372/533152681.py:22: FutureWarning: Use of **kwargs is deprecated, use engine_kwargs instead.\n",
      "  with pd.ExcelWriter(DATA_FOLDER + 'scraped_posts_full.xlsx', engine='xlsxwriter', options={'strings_to_urls': False}) as writer:\n"
     ]
    },
    {
     "name": "stdout",
     "output_type": "stream",
     "text": [
      "Completed search. Joining!\n",
      "Now searching r/Supplements for simvastatin\n"
     ]
    },
    {
     "name": "stderr",
     "output_type": "stream",
     "text": [
      "/var/folders/y1/2907rcw50gq_rm33vwpb806r0000gn/T/ipykernel_71372/533152681.py:22: FutureWarning: Use of **kwargs is deprecated, use engine_kwargs instead.\n",
      "  with pd.ExcelWriter(DATA_FOLDER + 'scraped_posts_full.xlsx', engine='xlsxwriter', options={'strings_to_urls': False}) as writer:\n"
     ]
    },
    {
     "name": "stdout",
     "output_type": "stream",
     "text": [
      "Completed search. Joining!\n",
      "Now searching r/Supplements for zocor\n"
     ]
    },
    {
     "name": "stderr",
     "output_type": "stream",
     "text": [
      "/var/folders/y1/2907rcw50gq_rm33vwpb806r0000gn/T/ipykernel_71372/533152681.py:22: FutureWarning: Use of **kwargs is deprecated, use engine_kwargs instead.\n",
      "  with pd.ExcelWriter(DATA_FOLDER + 'scraped_posts_full.xlsx', engine='xlsxwriter', options={'strings_to_urls': False}) as writer:\n"
     ]
    },
    {
     "name": "stdout",
     "output_type": "stream",
     "text": [
      "Completed search. Joining!\n",
      "Now searching r/Supplements for pravastatin\n"
     ]
    },
    {
     "name": "stderr",
     "output_type": "stream",
     "text": [
      "/var/folders/y1/2907rcw50gq_rm33vwpb806r0000gn/T/ipykernel_71372/533152681.py:22: FutureWarning: Use of **kwargs is deprecated, use engine_kwargs instead.\n",
      "  with pd.ExcelWriter(DATA_FOLDER + 'scraped_posts_full.xlsx', engine='xlsxwriter', options={'strings_to_urls': False}) as writer:\n"
     ]
    },
    {
     "name": "stdout",
     "output_type": "stream",
     "text": [
      "Completed search. Joining!\n",
      "Now searching r/Supplements for pravachol\n"
     ]
    },
    {
     "name": "stderr",
     "output_type": "stream",
     "text": [
      "/var/folders/y1/2907rcw50gq_rm33vwpb806r0000gn/T/ipykernel_71372/533152681.py:22: FutureWarning: Use of **kwargs is deprecated, use engine_kwargs instead.\n",
      "  with pd.ExcelWriter(DATA_FOLDER + 'scraped_posts_full.xlsx', engine='xlsxwriter', options={'strings_to_urls': False}) as writer:\n"
     ]
    },
    {
     "name": "stdout",
     "output_type": "stream",
     "text": [
      "Completed search. Joining!\n",
      "Now searching r/Supplements for lovastatin\n"
     ]
    },
    {
     "name": "stderr",
     "output_type": "stream",
     "text": [
      "/var/folders/y1/2907rcw50gq_rm33vwpb806r0000gn/T/ipykernel_71372/533152681.py:22: FutureWarning: Use of **kwargs is deprecated, use engine_kwargs instead.\n",
      "  with pd.ExcelWriter(DATA_FOLDER + 'scraped_posts_full.xlsx', engine='xlsxwriter', options={'strings_to_urls': False}) as writer:\n"
     ]
    },
    {
     "name": "stdout",
     "output_type": "stream",
     "text": [
      "Completed search. Joining!\n",
      "Now searching r/Supplements for altoprev\n"
     ]
    },
    {
     "name": "stderr",
     "output_type": "stream",
     "text": [
      "/var/folders/y1/2907rcw50gq_rm33vwpb806r0000gn/T/ipykernel_71372/533152681.py:22: FutureWarning: Use of **kwargs is deprecated, use engine_kwargs instead.\n",
      "  with pd.ExcelWriter(DATA_FOLDER + 'scraped_posts_full.xlsx', engine='xlsxwriter', options={'strings_to_urls': False}) as writer:\n"
     ]
    },
    {
     "name": "stdout",
     "output_type": "stream",
     "text": [
      "Completed search. Joining!\n",
      "Now searching r/Supplements for fluvastatin\n"
     ]
    },
    {
     "name": "stderr",
     "output_type": "stream",
     "text": [
      "/var/folders/y1/2907rcw50gq_rm33vwpb806r0000gn/T/ipykernel_71372/533152681.py:22: FutureWarning: Use of **kwargs is deprecated, use engine_kwargs instead.\n",
      "  with pd.ExcelWriter(DATA_FOLDER + 'scraped_posts_full.xlsx', engine='xlsxwriter', options={'strings_to_urls': False}) as writer:\n"
     ]
    },
    {
     "name": "stdout",
     "output_type": "stream",
     "text": [
      "Completed search. Joining!\n",
      "Now searching r/Supplements for lescol\n"
     ]
    },
    {
     "name": "stderr",
     "output_type": "stream",
     "text": [
      "/var/folders/y1/2907rcw50gq_rm33vwpb806r0000gn/T/ipykernel_71372/533152681.py:22: FutureWarning: Use of **kwargs is deprecated, use engine_kwargs instead.\n",
      "  with pd.ExcelWriter(DATA_FOLDER + 'scraped_posts_full.xlsx', engine='xlsxwriter', options={'strings_to_urls': False}) as writer:\n"
     ]
    },
    {
     "name": "stdout",
     "output_type": "stream",
     "text": [
      "Completed search. Joining!\n",
      "Now searching r/Coronavirus for atorvastatin\n"
     ]
    },
    {
     "name": "stderr",
     "output_type": "stream",
     "text": [
      "/var/folders/y1/2907rcw50gq_rm33vwpb806r0000gn/T/ipykernel_71372/533152681.py:22: FutureWarning: Use of **kwargs is deprecated, use engine_kwargs instead.\n",
      "  with pd.ExcelWriter(DATA_FOLDER + 'scraped_posts_full.xlsx', engine='xlsxwriter', options={'strings_to_urls': False}) as writer:\n"
     ]
    },
    {
     "name": "stdout",
     "output_type": "stream",
     "text": [
      "Completed search. Joining!\n",
      "Now searching r/Coronavirus for lipitor\n"
     ]
    },
    {
     "name": "stderr",
     "output_type": "stream",
     "text": [
      "/var/folders/y1/2907rcw50gq_rm33vwpb806r0000gn/T/ipykernel_71372/533152681.py:22: FutureWarning: Use of **kwargs is deprecated, use engine_kwargs instead.\n",
      "  with pd.ExcelWriter(DATA_FOLDER + 'scraped_posts_full.xlsx', engine='xlsxwriter', options={'strings_to_urls': False}) as writer:\n"
     ]
    },
    {
     "name": "stdout",
     "output_type": "stream",
     "text": [
      "Completed search. Joining!\n",
      "Now searching r/Coronavirus for rosuvastatin\n"
     ]
    },
    {
     "name": "stderr",
     "output_type": "stream",
     "text": [
      "/var/folders/y1/2907rcw50gq_rm33vwpb806r0000gn/T/ipykernel_71372/533152681.py:22: FutureWarning: Use of **kwargs is deprecated, use engine_kwargs instead.\n",
      "  with pd.ExcelWriter(DATA_FOLDER + 'scraped_posts_full.xlsx', engine='xlsxwriter', options={'strings_to_urls': False}) as writer:\n"
     ]
    },
    {
     "name": "stdout",
     "output_type": "stream",
     "text": [
      "Completed search. Joining!\n",
      "Now searching r/Coronavirus for crestor\n"
     ]
    },
    {
     "name": "stderr",
     "output_type": "stream",
     "text": [
      "/var/folders/y1/2907rcw50gq_rm33vwpb806r0000gn/T/ipykernel_71372/533152681.py:22: FutureWarning: Use of **kwargs is deprecated, use engine_kwargs instead.\n",
      "  with pd.ExcelWriter(DATA_FOLDER + 'scraped_posts_full.xlsx', engine='xlsxwriter', options={'strings_to_urls': False}) as writer:\n"
     ]
    },
    {
     "name": "stdout",
     "output_type": "stream",
     "text": [
      "Completed search. Joining!\n",
      "Now searching r/Coronavirus for pitavastatin\n"
     ]
    },
    {
     "name": "stderr",
     "output_type": "stream",
     "text": [
      "/var/folders/y1/2907rcw50gq_rm33vwpb806r0000gn/T/ipykernel_71372/533152681.py:22: FutureWarning: Use of **kwargs is deprecated, use engine_kwargs instead.\n",
      "  with pd.ExcelWriter(DATA_FOLDER + 'scraped_posts_full.xlsx', engine='xlsxwriter', options={'strings_to_urls': False}) as writer:\n"
     ]
    },
    {
     "name": "stdout",
     "output_type": "stream",
     "text": [
      "Completed search. Joining!\n",
      "Now searching r/Coronavirus for livalo\n"
     ]
    },
    {
     "name": "stderr",
     "output_type": "stream",
     "text": [
      "/var/folders/y1/2907rcw50gq_rm33vwpb806r0000gn/T/ipykernel_71372/533152681.py:22: FutureWarning: Use of **kwargs is deprecated, use engine_kwargs instead.\n",
      "  with pd.ExcelWriter(DATA_FOLDER + 'scraped_posts_full.xlsx', engine='xlsxwriter', options={'strings_to_urls': False}) as writer:\n"
     ]
    },
    {
     "name": "stdout",
     "output_type": "stream",
     "text": [
      "Completed search. Joining!\n",
      "Now searching r/Coronavirus for zypitamag\n"
     ]
    },
    {
     "name": "stderr",
     "output_type": "stream",
     "text": [
      "/var/folders/y1/2907rcw50gq_rm33vwpb806r0000gn/T/ipykernel_71372/533152681.py:22: FutureWarning: Use of **kwargs is deprecated, use engine_kwargs instead.\n",
      "  with pd.ExcelWriter(DATA_FOLDER + 'scraped_posts_full.xlsx', engine='xlsxwriter', options={'strings_to_urls': False}) as writer:\n"
     ]
    },
    {
     "name": "stdout",
     "output_type": "stream",
     "text": [
      "Completed search. Joining!\n",
      "Now searching r/Coronavirus for simvastatin\n"
     ]
    },
    {
     "name": "stderr",
     "output_type": "stream",
     "text": [
      "/var/folders/y1/2907rcw50gq_rm33vwpb806r0000gn/T/ipykernel_71372/533152681.py:22: FutureWarning: Use of **kwargs is deprecated, use engine_kwargs instead.\n",
      "  with pd.ExcelWriter(DATA_FOLDER + 'scraped_posts_full.xlsx', engine='xlsxwriter', options={'strings_to_urls': False}) as writer:\n"
     ]
    },
    {
     "name": "stdout",
     "output_type": "stream",
     "text": [
      "Completed search. Joining!\n",
      "Now searching r/Coronavirus for zocor\n"
     ]
    },
    {
     "name": "stderr",
     "output_type": "stream",
     "text": [
      "/var/folders/y1/2907rcw50gq_rm33vwpb806r0000gn/T/ipykernel_71372/533152681.py:22: FutureWarning: Use of **kwargs is deprecated, use engine_kwargs instead.\n",
      "  with pd.ExcelWriter(DATA_FOLDER + 'scraped_posts_full.xlsx', engine='xlsxwriter', options={'strings_to_urls': False}) as writer:\n"
     ]
    },
    {
     "name": "stdout",
     "output_type": "stream",
     "text": [
      "Completed search. Joining!\n",
      "Now searching r/Coronavirus for pravastatin\n"
     ]
    },
    {
     "name": "stderr",
     "output_type": "stream",
     "text": [
      "/var/folders/y1/2907rcw50gq_rm33vwpb806r0000gn/T/ipykernel_71372/533152681.py:22: FutureWarning: Use of **kwargs is deprecated, use engine_kwargs instead.\n",
      "  with pd.ExcelWriter(DATA_FOLDER + 'scraped_posts_full.xlsx', engine='xlsxwriter', options={'strings_to_urls': False}) as writer:\n"
     ]
    },
    {
     "name": "stdout",
     "output_type": "stream",
     "text": [
      "Completed search. Joining!\n",
      "Now searching r/Coronavirus for pravachol\n"
     ]
    },
    {
     "name": "stderr",
     "output_type": "stream",
     "text": [
      "/var/folders/y1/2907rcw50gq_rm33vwpb806r0000gn/T/ipykernel_71372/533152681.py:22: FutureWarning: Use of **kwargs is deprecated, use engine_kwargs instead.\n",
      "  with pd.ExcelWriter(DATA_FOLDER + 'scraped_posts_full.xlsx', engine='xlsxwriter', options={'strings_to_urls': False}) as writer:\n"
     ]
    },
    {
     "name": "stdout",
     "output_type": "stream",
     "text": [
      "Completed search. Joining!\n",
      "Now searching r/Coronavirus for lovastatin\n"
     ]
    },
    {
     "name": "stderr",
     "output_type": "stream",
     "text": [
      "/var/folders/y1/2907rcw50gq_rm33vwpb806r0000gn/T/ipykernel_71372/533152681.py:22: FutureWarning: Use of **kwargs is deprecated, use engine_kwargs instead.\n",
      "  with pd.ExcelWriter(DATA_FOLDER + 'scraped_posts_full.xlsx', engine='xlsxwriter', options={'strings_to_urls': False}) as writer:\n"
     ]
    },
    {
     "name": "stdout",
     "output_type": "stream",
     "text": [
      "Completed search. Joining!\n",
      "Now searching r/Coronavirus for altoprev\n"
     ]
    },
    {
     "name": "stderr",
     "output_type": "stream",
     "text": [
      "/var/folders/y1/2907rcw50gq_rm33vwpb806r0000gn/T/ipykernel_71372/533152681.py:22: FutureWarning: Use of **kwargs is deprecated, use engine_kwargs instead.\n",
      "  with pd.ExcelWriter(DATA_FOLDER + 'scraped_posts_full.xlsx', engine='xlsxwriter', options={'strings_to_urls': False}) as writer:\n"
     ]
    },
    {
     "name": "stdout",
     "output_type": "stream",
     "text": [
      "Completed search. Joining!\n",
      "Now searching r/Coronavirus for fluvastatin\n"
     ]
    },
    {
     "name": "stderr",
     "output_type": "stream",
     "text": [
      "/var/folders/y1/2907rcw50gq_rm33vwpb806r0000gn/T/ipykernel_71372/533152681.py:22: FutureWarning: Use of **kwargs is deprecated, use engine_kwargs instead.\n",
      "  with pd.ExcelWriter(DATA_FOLDER + 'scraped_posts_full.xlsx', engine='xlsxwriter', options={'strings_to_urls': False}) as writer:\n"
     ]
    },
    {
     "name": "stdout",
     "output_type": "stream",
     "text": [
      "Completed search. Joining!\n",
      "Now searching r/Coronavirus for lescol\n"
     ]
    },
    {
     "name": "stderr",
     "output_type": "stream",
     "text": [
      "/var/folders/y1/2907rcw50gq_rm33vwpb806r0000gn/T/ipykernel_71372/533152681.py:22: FutureWarning: Use of **kwargs is deprecated, use engine_kwargs instead.\n",
      "  with pd.ExcelWriter(DATA_FOLDER + 'scraped_posts_full.xlsx', engine='xlsxwriter', options={'strings_to_urls': False}) as writer:\n"
     ]
    },
    {
     "name": "stdout",
     "output_type": "stream",
     "text": [
      "Completed search. Joining!\n",
      "Now searching r/COVID19 for atorvastatin\n"
     ]
    },
    {
     "name": "stderr",
     "output_type": "stream",
     "text": [
      "/var/folders/y1/2907rcw50gq_rm33vwpb806r0000gn/T/ipykernel_71372/533152681.py:22: FutureWarning: Use of **kwargs is deprecated, use engine_kwargs instead.\n",
      "  with pd.ExcelWriter(DATA_FOLDER + 'scraped_posts_full.xlsx', engine='xlsxwriter', options={'strings_to_urls': False}) as writer:\n"
     ]
    },
    {
     "name": "stdout",
     "output_type": "stream",
     "text": [
      "Completed search. Joining!\n",
      "Now searching r/COVID19 for lipitor\n"
     ]
    },
    {
     "name": "stderr",
     "output_type": "stream",
     "text": [
      "/var/folders/y1/2907rcw50gq_rm33vwpb806r0000gn/T/ipykernel_71372/533152681.py:22: FutureWarning: Use of **kwargs is deprecated, use engine_kwargs instead.\n",
      "  with pd.ExcelWriter(DATA_FOLDER + 'scraped_posts_full.xlsx', engine='xlsxwriter', options={'strings_to_urls': False}) as writer:\n"
     ]
    },
    {
     "name": "stdout",
     "output_type": "stream",
     "text": [
      "Completed search. Joining!\n",
      "Now searching r/COVID19 for rosuvastatin\n"
     ]
    },
    {
     "name": "stderr",
     "output_type": "stream",
     "text": [
      "/var/folders/y1/2907rcw50gq_rm33vwpb806r0000gn/T/ipykernel_71372/533152681.py:22: FutureWarning: Use of **kwargs is deprecated, use engine_kwargs instead.\n",
      "  with pd.ExcelWriter(DATA_FOLDER + 'scraped_posts_full.xlsx', engine='xlsxwriter', options={'strings_to_urls': False}) as writer:\n"
     ]
    },
    {
     "name": "stdout",
     "output_type": "stream",
     "text": [
      "Completed search. Joining!\n",
      "Now searching r/COVID19 for crestor\n"
     ]
    },
    {
     "name": "stderr",
     "output_type": "stream",
     "text": [
      "/var/folders/y1/2907rcw50gq_rm33vwpb806r0000gn/T/ipykernel_71372/533152681.py:22: FutureWarning: Use of **kwargs is deprecated, use engine_kwargs instead.\n",
      "  with pd.ExcelWriter(DATA_FOLDER + 'scraped_posts_full.xlsx', engine='xlsxwriter', options={'strings_to_urls': False}) as writer:\n"
     ]
    },
    {
     "name": "stdout",
     "output_type": "stream",
     "text": [
      "Completed search. Joining!\n",
      "Now searching r/COVID19 for pitavastatin\n"
     ]
    },
    {
     "name": "stderr",
     "output_type": "stream",
     "text": [
      "/var/folders/y1/2907rcw50gq_rm33vwpb806r0000gn/T/ipykernel_71372/533152681.py:22: FutureWarning: Use of **kwargs is deprecated, use engine_kwargs instead.\n",
      "  with pd.ExcelWriter(DATA_FOLDER + 'scraped_posts_full.xlsx', engine='xlsxwriter', options={'strings_to_urls': False}) as writer:\n"
     ]
    },
    {
     "name": "stdout",
     "output_type": "stream",
     "text": [
      "Completed search. Joining!\n",
      "Now searching r/COVID19 for livalo\n"
     ]
    },
    {
     "name": "stderr",
     "output_type": "stream",
     "text": [
      "/var/folders/y1/2907rcw50gq_rm33vwpb806r0000gn/T/ipykernel_71372/533152681.py:22: FutureWarning: Use of **kwargs is deprecated, use engine_kwargs instead.\n",
      "  with pd.ExcelWriter(DATA_FOLDER + 'scraped_posts_full.xlsx', engine='xlsxwriter', options={'strings_to_urls': False}) as writer:\n"
     ]
    },
    {
     "name": "stdout",
     "output_type": "stream",
     "text": [
      "Completed search. Joining!\n",
      "Now searching r/COVID19 for zypitamag\n"
     ]
    },
    {
     "name": "stderr",
     "output_type": "stream",
     "text": [
      "/var/folders/y1/2907rcw50gq_rm33vwpb806r0000gn/T/ipykernel_71372/533152681.py:22: FutureWarning: Use of **kwargs is deprecated, use engine_kwargs instead.\n",
      "  with pd.ExcelWriter(DATA_FOLDER + 'scraped_posts_full.xlsx', engine='xlsxwriter', options={'strings_to_urls': False}) as writer:\n"
     ]
    },
    {
     "name": "stdout",
     "output_type": "stream",
     "text": [
      "Completed search. Joining!\n",
      "Now searching r/COVID19 for simvastatin\n"
     ]
    },
    {
     "name": "stderr",
     "output_type": "stream",
     "text": [
      "/var/folders/y1/2907rcw50gq_rm33vwpb806r0000gn/T/ipykernel_71372/533152681.py:22: FutureWarning: Use of **kwargs is deprecated, use engine_kwargs instead.\n",
      "  with pd.ExcelWriter(DATA_FOLDER + 'scraped_posts_full.xlsx', engine='xlsxwriter', options={'strings_to_urls': False}) as writer:\n"
     ]
    },
    {
     "name": "stdout",
     "output_type": "stream",
     "text": [
      "Completed search. Joining!\n",
      "Now searching r/COVID19 for zocor\n"
     ]
    },
    {
     "name": "stderr",
     "output_type": "stream",
     "text": [
      "/var/folders/y1/2907rcw50gq_rm33vwpb806r0000gn/T/ipykernel_71372/533152681.py:22: FutureWarning: Use of **kwargs is deprecated, use engine_kwargs instead.\n",
      "  with pd.ExcelWriter(DATA_FOLDER + 'scraped_posts_full.xlsx', engine='xlsxwriter', options={'strings_to_urls': False}) as writer:\n"
     ]
    },
    {
     "name": "stdout",
     "output_type": "stream",
     "text": [
      "Completed search. Joining!\n",
      "Now searching r/COVID19 for pravastatin\n"
     ]
    },
    {
     "name": "stderr",
     "output_type": "stream",
     "text": [
      "/var/folders/y1/2907rcw50gq_rm33vwpb806r0000gn/T/ipykernel_71372/533152681.py:22: FutureWarning: Use of **kwargs is deprecated, use engine_kwargs instead.\n",
      "  with pd.ExcelWriter(DATA_FOLDER + 'scraped_posts_full.xlsx', engine='xlsxwriter', options={'strings_to_urls': False}) as writer:\n"
     ]
    },
    {
     "name": "stdout",
     "output_type": "stream",
     "text": [
      "Completed search. Joining!\n",
      "Now searching r/COVID19 for pravachol\n"
     ]
    },
    {
     "name": "stderr",
     "output_type": "stream",
     "text": [
      "/var/folders/y1/2907rcw50gq_rm33vwpb806r0000gn/T/ipykernel_71372/533152681.py:22: FutureWarning: Use of **kwargs is deprecated, use engine_kwargs instead.\n",
      "  with pd.ExcelWriter(DATA_FOLDER + 'scraped_posts_full.xlsx', engine='xlsxwriter', options={'strings_to_urls': False}) as writer:\n"
     ]
    },
    {
     "name": "stdout",
     "output_type": "stream",
     "text": [
      "Completed search. Joining!\n",
      "Now searching r/COVID19 for lovastatin\n"
     ]
    },
    {
     "name": "stderr",
     "output_type": "stream",
     "text": [
      "/var/folders/y1/2907rcw50gq_rm33vwpb806r0000gn/T/ipykernel_71372/533152681.py:22: FutureWarning: Use of **kwargs is deprecated, use engine_kwargs instead.\n",
      "  with pd.ExcelWriter(DATA_FOLDER + 'scraped_posts_full.xlsx', engine='xlsxwriter', options={'strings_to_urls': False}) as writer:\n"
     ]
    },
    {
     "name": "stdout",
     "output_type": "stream",
     "text": [
      "Completed search. Joining!\n",
      "Now searching r/COVID19 for altoprev\n"
     ]
    },
    {
     "name": "stderr",
     "output_type": "stream",
     "text": [
      "/var/folders/y1/2907rcw50gq_rm33vwpb806r0000gn/T/ipykernel_71372/533152681.py:22: FutureWarning: Use of **kwargs is deprecated, use engine_kwargs instead.\n",
      "  with pd.ExcelWriter(DATA_FOLDER + 'scraped_posts_full.xlsx', engine='xlsxwriter', options={'strings_to_urls': False}) as writer:\n"
     ]
    },
    {
     "name": "stdout",
     "output_type": "stream",
     "text": [
      "Completed search. Joining!\n",
      "Now searching r/COVID19 for fluvastatin\n"
     ]
    },
    {
     "name": "stderr",
     "output_type": "stream",
     "text": [
      "/var/folders/y1/2907rcw50gq_rm33vwpb806r0000gn/T/ipykernel_71372/533152681.py:22: FutureWarning: Use of **kwargs is deprecated, use engine_kwargs instead.\n",
      "  with pd.ExcelWriter(DATA_FOLDER + 'scraped_posts_full.xlsx', engine='xlsxwriter', options={'strings_to_urls': False}) as writer:\n"
     ]
    },
    {
     "name": "stdout",
     "output_type": "stream",
     "text": [
      "Completed search. Joining!\n",
      "Now searching r/COVID19 for lescol\n"
     ]
    },
    {
     "name": "stderr",
     "output_type": "stream",
     "text": [
      "/var/folders/y1/2907rcw50gq_rm33vwpb806r0000gn/T/ipykernel_71372/533152681.py:22: FutureWarning: Use of **kwargs is deprecated, use engine_kwargs instead.\n",
      "  with pd.ExcelWriter(DATA_FOLDER + 'scraped_posts_full.xlsx', engine='xlsxwriter', options={'strings_to_urls': False}) as writer:\n"
     ]
    },
    {
     "name": "stdout",
     "output_type": "stream",
     "text": [
      "Completed search. Joining!\n",
      "Now searching r/Cholesterol for atorvastatin\n"
     ]
    },
    {
     "name": "stderr",
     "output_type": "stream",
     "text": [
      "/var/folders/y1/2907rcw50gq_rm33vwpb806r0000gn/T/ipykernel_71372/533152681.py:22: FutureWarning: Use of **kwargs is deprecated, use engine_kwargs instead.\n",
      "  with pd.ExcelWriter(DATA_FOLDER + 'scraped_posts_full.xlsx', engine='xlsxwriter', options={'strings_to_urls': False}) as writer:\n"
     ]
    },
    {
     "name": "stdout",
     "output_type": "stream",
     "text": [
      "Completed search. Joining!\n",
      "Now searching r/Cholesterol for lipitor\n"
     ]
    },
    {
     "name": "stderr",
     "output_type": "stream",
     "text": [
      "/var/folders/y1/2907rcw50gq_rm33vwpb806r0000gn/T/ipykernel_71372/533152681.py:22: FutureWarning: Use of **kwargs is deprecated, use engine_kwargs instead.\n",
      "  with pd.ExcelWriter(DATA_FOLDER + 'scraped_posts_full.xlsx', engine='xlsxwriter', options={'strings_to_urls': False}) as writer:\n"
     ]
    },
    {
     "name": "stdout",
     "output_type": "stream",
     "text": [
      "Completed search. Joining!\n",
      "Now searching r/Cholesterol for rosuvastatin\n"
     ]
    },
    {
     "name": "stderr",
     "output_type": "stream",
     "text": [
      "/var/folders/y1/2907rcw50gq_rm33vwpb806r0000gn/T/ipykernel_71372/533152681.py:22: FutureWarning: Use of **kwargs is deprecated, use engine_kwargs instead.\n",
      "  with pd.ExcelWriter(DATA_FOLDER + 'scraped_posts_full.xlsx', engine='xlsxwriter', options={'strings_to_urls': False}) as writer:\n"
     ]
    },
    {
     "name": "stdout",
     "output_type": "stream",
     "text": [
      "Completed search. Joining!\n",
      "Now searching r/Cholesterol for crestor\n"
     ]
    },
    {
     "name": "stderr",
     "output_type": "stream",
     "text": [
      "/var/folders/y1/2907rcw50gq_rm33vwpb806r0000gn/T/ipykernel_71372/533152681.py:22: FutureWarning: Use of **kwargs is deprecated, use engine_kwargs instead.\n",
      "  with pd.ExcelWriter(DATA_FOLDER + 'scraped_posts_full.xlsx', engine='xlsxwriter', options={'strings_to_urls': False}) as writer:\n"
     ]
    },
    {
     "name": "stdout",
     "output_type": "stream",
     "text": [
      "Completed search. Joining!\n",
      "Now searching r/Cholesterol for pitavastatin\n"
     ]
    },
    {
     "name": "stderr",
     "output_type": "stream",
     "text": [
      "/var/folders/y1/2907rcw50gq_rm33vwpb806r0000gn/T/ipykernel_71372/533152681.py:22: FutureWarning: Use of **kwargs is deprecated, use engine_kwargs instead.\n",
      "  with pd.ExcelWriter(DATA_FOLDER + 'scraped_posts_full.xlsx', engine='xlsxwriter', options={'strings_to_urls': False}) as writer:\n"
     ]
    },
    {
     "name": "stdout",
     "output_type": "stream",
     "text": [
      "Completed search. Joining!\n",
      "Now searching r/Cholesterol for livalo\n"
     ]
    },
    {
     "name": "stderr",
     "output_type": "stream",
     "text": [
      "/var/folders/y1/2907rcw50gq_rm33vwpb806r0000gn/T/ipykernel_71372/533152681.py:22: FutureWarning: Use of **kwargs is deprecated, use engine_kwargs instead.\n",
      "  with pd.ExcelWriter(DATA_FOLDER + 'scraped_posts_full.xlsx', engine='xlsxwriter', options={'strings_to_urls': False}) as writer:\n"
     ]
    },
    {
     "name": "stdout",
     "output_type": "stream",
     "text": [
      "Completed search. Joining!\n",
      "Now searching r/Cholesterol for zypitamag\n"
     ]
    },
    {
     "name": "stderr",
     "output_type": "stream",
     "text": [
      "/var/folders/y1/2907rcw50gq_rm33vwpb806r0000gn/T/ipykernel_71372/533152681.py:22: FutureWarning: Use of **kwargs is deprecated, use engine_kwargs instead.\n",
      "  with pd.ExcelWriter(DATA_FOLDER + 'scraped_posts_full.xlsx', engine='xlsxwriter', options={'strings_to_urls': False}) as writer:\n"
     ]
    },
    {
     "name": "stdout",
     "output_type": "stream",
     "text": [
      "Completed search. Joining!\n",
      "Now searching r/Cholesterol for simvastatin\n"
     ]
    },
    {
     "name": "stderr",
     "output_type": "stream",
     "text": [
      "/var/folders/y1/2907rcw50gq_rm33vwpb806r0000gn/T/ipykernel_71372/533152681.py:22: FutureWarning: Use of **kwargs is deprecated, use engine_kwargs instead.\n",
      "  with pd.ExcelWriter(DATA_FOLDER + 'scraped_posts_full.xlsx', engine='xlsxwriter', options={'strings_to_urls': False}) as writer:\n"
     ]
    },
    {
     "name": "stdout",
     "output_type": "stream",
     "text": [
      "Completed search. Joining!\n",
      "Now searching r/Cholesterol for zocor\n"
     ]
    },
    {
     "name": "stderr",
     "output_type": "stream",
     "text": [
      "/var/folders/y1/2907rcw50gq_rm33vwpb806r0000gn/T/ipykernel_71372/533152681.py:22: FutureWarning: Use of **kwargs is deprecated, use engine_kwargs instead.\n",
      "  with pd.ExcelWriter(DATA_FOLDER + 'scraped_posts_full.xlsx', engine='xlsxwriter', options={'strings_to_urls': False}) as writer:\n"
     ]
    },
    {
     "name": "stdout",
     "output_type": "stream",
     "text": [
      "Completed search. Joining!\n",
      "Now searching r/Cholesterol for pravastatin\n"
     ]
    },
    {
     "name": "stderr",
     "output_type": "stream",
     "text": [
      "/var/folders/y1/2907rcw50gq_rm33vwpb806r0000gn/T/ipykernel_71372/533152681.py:22: FutureWarning: Use of **kwargs is deprecated, use engine_kwargs instead.\n",
      "  with pd.ExcelWriter(DATA_FOLDER + 'scraped_posts_full.xlsx', engine='xlsxwriter', options={'strings_to_urls': False}) as writer:\n"
     ]
    },
    {
     "name": "stdout",
     "output_type": "stream",
     "text": [
      "Completed search. Joining!\n",
      "Now searching r/Cholesterol for pravachol\n"
     ]
    },
    {
     "name": "stderr",
     "output_type": "stream",
     "text": [
      "/var/folders/y1/2907rcw50gq_rm33vwpb806r0000gn/T/ipykernel_71372/533152681.py:22: FutureWarning: Use of **kwargs is deprecated, use engine_kwargs instead.\n",
      "  with pd.ExcelWriter(DATA_FOLDER + 'scraped_posts_full.xlsx', engine='xlsxwriter', options={'strings_to_urls': False}) as writer:\n"
     ]
    },
    {
     "name": "stdout",
     "output_type": "stream",
     "text": [
      "Completed search. Joining!\n",
      "Now searching r/Cholesterol for lovastatin\n"
     ]
    },
    {
     "name": "stderr",
     "output_type": "stream",
     "text": [
      "/var/folders/y1/2907rcw50gq_rm33vwpb806r0000gn/T/ipykernel_71372/533152681.py:22: FutureWarning: Use of **kwargs is deprecated, use engine_kwargs instead.\n",
      "  with pd.ExcelWriter(DATA_FOLDER + 'scraped_posts_full.xlsx', engine='xlsxwriter', options={'strings_to_urls': False}) as writer:\n"
     ]
    },
    {
     "name": "stdout",
     "output_type": "stream",
     "text": [
      "Completed search. Joining!\n",
      "Now searching r/Cholesterol for altoprev\n"
     ]
    },
    {
     "name": "stderr",
     "output_type": "stream",
     "text": [
      "/var/folders/y1/2907rcw50gq_rm33vwpb806r0000gn/T/ipykernel_71372/533152681.py:22: FutureWarning: Use of **kwargs is deprecated, use engine_kwargs instead.\n",
      "  with pd.ExcelWriter(DATA_FOLDER + 'scraped_posts_full.xlsx', engine='xlsxwriter', options={'strings_to_urls': False}) as writer:\n"
     ]
    },
    {
     "name": "stdout",
     "output_type": "stream",
     "text": [
      "Completed search. Joining!\n",
      "Now searching r/Cholesterol for fluvastatin\n"
     ]
    },
    {
     "name": "stderr",
     "output_type": "stream",
     "text": [
      "/var/folders/y1/2907rcw50gq_rm33vwpb806r0000gn/T/ipykernel_71372/533152681.py:22: FutureWarning: Use of **kwargs is deprecated, use engine_kwargs instead.\n",
      "  with pd.ExcelWriter(DATA_FOLDER + 'scraped_posts_full.xlsx', engine='xlsxwriter', options={'strings_to_urls': False}) as writer:\n"
     ]
    },
    {
     "name": "stdout",
     "output_type": "stream",
     "text": [
      "Completed search. Joining!\n",
      "Now searching r/Cholesterol for lescol\n"
     ]
    },
    {
     "name": "stderr",
     "output_type": "stream",
     "text": [
      "/var/folders/y1/2907rcw50gq_rm33vwpb806r0000gn/T/ipykernel_71372/533152681.py:22: FutureWarning: Use of **kwargs is deprecated, use engine_kwargs instead.\n",
      "  with pd.ExcelWriter(DATA_FOLDER + 'scraped_posts_full.xlsx', engine='xlsxwriter', options={'strings_to_urls': False}) as writer:\n"
     ]
    },
    {
     "name": "stdout",
     "output_type": "stream",
     "text": [
      "Completed search. Joining!\n",
      "Now searching r/Fitness for atorvastatin\n"
     ]
    },
    {
     "name": "stderr",
     "output_type": "stream",
     "text": [
      "/var/folders/y1/2907rcw50gq_rm33vwpb806r0000gn/T/ipykernel_71372/533152681.py:22: FutureWarning: Use of **kwargs is deprecated, use engine_kwargs instead.\n",
      "  with pd.ExcelWriter(DATA_FOLDER + 'scraped_posts_full.xlsx', engine='xlsxwriter', options={'strings_to_urls': False}) as writer:\n"
     ]
    },
    {
     "name": "stdout",
     "output_type": "stream",
     "text": [
      "Completed search. Joining!\n",
      "Now searching r/Fitness for lipitor\n"
     ]
    },
    {
     "name": "stderr",
     "output_type": "stream",
     "text": [
      "/var/folders/y1/2907rcw50gq_rm33vwpb806r0000gn/T/ipykernel_71372/533152681.py:22: FutureWarning: Use of **kwargs is deprecated, use engine_kwargs instead.\n",
      "  with pd.ExcelWriter(DATA_FOLDER + 'scraped_posts_full.xlsx', engine='xlsxwriter', options={'strings_to_urls': False}) as writer:\n"
     ]
    },
    {
     "name": "stdout",
     "output_type": "stream",
     "text": [
      "Completed search. Joining!\n",
      "Now searching r/Fitness for rosuvastatin\n"
     ]
    },
    {
     "name": "stderr",
     "output_type": "stream",
     "text": [
      "/var/folders/y1/2907rcw50gq_rm33vwpb806r0000gn/T/ipykernel_71372/533152681.py:22: FutureWarning: Use of **kwargs is deprecated, use engine_kwargs instead.\n",
      "  with pd.ExcelWriter(DATA_FOLDER + 'scraped_posts_full.xlsx', engine='xlsxwriter', options={'strings_to_urls': False}) as writer:\n"
     ]
    },
    {
     "name": "stdout",
     "output_type": "stream",
     "text": [
      "Completed search. Joining!\n",
      "Now searching r/Fitness for crestor\n"
     ]
    },
    {
     "name": "stderr",
     "output_type": "stream",
     "text": [
      "/var/folders/y1/2907rcw50gq_rm33vwpb806r0000gn/T/ipykernel_71372/533152681.py:22: FutureWarning: Use of **kwargs is deprecated, use engine_kwargs instead.\n",
      "  with pd.ExcelWriter(DATA_FOLDER + 'scraped_posts_full.xlsx', engine='xlsxwriter', options={'strings_to_urls': False}) as writer:\n"
     ]
    },
    {
     "name": "stdout",
     "output_type": "stream",
     "text": [
      "Completed search. Joining!\n",
      "Now searching r/Fitness for pitavastatin\n"
     ]
    },
    {
     "name": "stderr",
     "output_type": "stream",
     "text": [
      "/var/folders/y1/2907rcw50gq_rm33vwpb806r0000gn/T/ipykernel_71372/533152681.py:22: FutureWarning: Use of **kwargs is deprecated, use engine_kwargs instead.\n",
      "  with pd.ExcelWriter(DATA_FOLDER + 'scraped_posts_full.xlsx', engine='xlsxwriter', options={'strings_to_urls': False}) as writer:\n"
     ]
    },
    {
     "name": "stdout",
     "output_type": "stream",
     "text": [
      "Completed search. Joining!\n",
      "Now searching r/Fitness for livalo\n"
     ]
    },
    {
     "name": "stderr",
     "output_type": "stream",
     "text": [
      "/var/folders/y1/2907rcw50gq_rm33vwpb806r0000gn/T/ipykernel_71372/533152681.py:22: FutureWarning: Use of **kwargs is deprecated, use engine_kwargs instead.\n",
      "  with pd.ExcelWriter(DATA_FOLDER + 'scraped_posts_full.xlsx', engine='xlsxwriter', options={'strings_to_urls': False}) as writer:\n"
     ]
    },
    {
     "name": "stdout",
     "output_type": "stream",
     "text": [
      "Completed search. Joining!\n",
      "Now searching r/Fitness for zypitamag\n"
     ]
    },
    {
     "name": "stderr",
     "output_type": "stream",
     "text": [
      "/var/folders/y1/2907rcw50gq_rm33vwpb806r0000gn/T/ipykernel_71372/533152681.py:22: FutureWarning: Use of **kwargs is deprecated, use engine_kwargs instead.\n",
      "  with pd.ExcelWriter(DATA_FOLDER + 'scraped_posts_full.xlsx', engine='xlsxwriter', options={'strings_to_urls': False}) as writer:\n"
     ]
    },
    {
     "name": "stdout",
     "output_type": "stream",
     "text": [
      "Completed search. Joining!\n",
      "Now searching r/Fitness for simvastatin\n"
     ]
    },
    {
     "name": "stderr",
     "output_type": "stream",
     "text": [
      "/var/folders/y1/2907rcw50gq_rm33vwpb806r0000gn/T/ipykernel_71372/533152681.py:22: FutureWarning: Use of **kwargs is deprecated, use engine_kwargs instead.\n",
      "  with pd.ExcelWriter(DATA_FOLDER + 'scraped_posts_full.xlsx', engine='xlsxwriter', options={'strings_to_urls': False}) as writer:\n"
     ]
    },
    {
     "name": "stdout",
     "output_type": "stream",
     "text": [
      "Completed search. Joining!\n",
      "Now searching r/Fitness for zocor\n"
     ]
    },
    {
     "name": "stderr",
     "output_type": "stream",
     "text": [
      "/var/folders/y1/2907rcw50gq_rm33vwpb806r0000gn/T/ipykernel_71372/533152681.py:22: FutureWarning: Use of **kwargs is deprecated, use engine_kwargs instead.\n",
      "  with pd.ExcelWriter(DATA_FOLDER + 'scraped_posts_full.xlsx', engine='xlsxwriter', options={'strings_to_urls': False}) as writer:\n"
     ]
    },
    {
     "name": "stdout",
     "output_type": "stream",
     "text": [
      "Completed search. Joining!\n",
      "Now searching r/Fitness for pravastatin\n"
     ]
    },
    {
     "name": "stderr",
     "output_type": "stream",
     "text": [
      "/var/folders/y1/2907rcw50gq_rm33vwpb806r0000gn/T/ipykernel_71372/533152681.py:22: FutureWarning: Use of **kwargs is deprecated, use engine_kwargs instead.\n",
      "  with pd.ExcelWriter(DATA_FOLDER + 'scraped_posts_full.xlsx', engine='xlsxwriter', options={'strings_to_urls': False}) as writer:\n"
     ]
    },
    {
     "name": "stdout",
     "output_type": "stream",
     "text": [
      "Completed search. Joining!\n",
      "Now searching r/Fitness for pravachol\n"
     ]
    },
    {
     "name": "stderr",
     "output_type": "stream",
     "text": [
      "/var/folders/y1/2907rcw50gq_rm33vwpb806r0000gn/T/ipykernel_71372/533152681.py:22: FutureWarning: Use of **kwargs is deprecated, use engine_kwargs instead.\n",
      "  with pd.ExcelWriter(DATA_FOLDER + 'scraped_posts_full.xlsx', engine='xlsxwriter', options={'strings_to_urls': False}) as writer:\n"
     ]
    },
    {
     "name": "stdout",
     "output_type": "stream",
     "text": [
      "Completed search. Joining!\n",
      "Now searching r/Fitness for lovastatin\n"
     ]
    },
    {
     "name": "stderr",
     "output_type": "stream",
     "text": [
      "/var/folders/y1/2907rcw50gq_rm33vwpb806r0000gn/T/ipykernel_71372/533152681.py:22: FutureWarning: Use of **kwargs is deprecated, use engine_kwargs instead.\n",
      "  with pd.ExcelWriter(DATA_FOLDER + 'scraped_posts_full.xlsx', engine='xlsxwriter', options={'strings_to_urls': False}) as writer:\n"
     ]
    },
    {
     "name": "stdout",
     "output_type": "stream",
     "text": [
      "Completed search. Joining!\n",
      "Now searching r/Fitness for altoprev\n"
     ]
    },
    {
     "name": "stderr",
     "output_type": "stream",
     "text": [
      "/var/folders/y1/2907rcw50gq_rm33vwpb806r0000gn/T/ipykernel_71372/533152681.py:22: FutureWarning: Use of **kwargs is deprecated, use engine_kwargs instead.\n",
      "  with pd.ExcelWriter(DATA_FOLDER + 'scraped_posts_full.xlsx', engine='xlsxwriter', options={'strings_to_urls': False}) as writer:\n"
     ]
    },
    {
     "name": "stdout",
     "output_type": "stream",
     "text": [
      "Completed search. Joining!\n",
      "Now searching r/Fitness for fluvastatin\n"
     ]
    },
    {
     "name": "stderr",
     "output_type": "stream",
     "text": [
      "/var/folders/y1/2907rcw50gq_rm33vwpb806r0000gn/T/ipykernel_71372/533152681.py:22: FutureWarning: Use of **kwargs is deprecated, use engine_kwargs instead.\n",
      "  with pd.ExcelWriter(DATA_FOLDER + 'scraped_posts_full.xlsx', engine='xlsxwriter', options={'strings_to_urls': False}) as writer:\n"
     ]
    },
    {
     "name": "stdout",
     "output_type": "stream",
     "text": [
      "Completed search. Joining!\n",
      "Now searching r/Fitness for lescol\n"
     ]
    },
    {
     "name": "stderr",
     "output_type": "stream",
     "text": [
      "/var/folders/y1/2907rcw50gq_rm33vwpb806r0000gn/T/ipykernel_71372/533152681.py:22: FutureWarning: Use of **kwargs is deprecated, use engine_kwargs instead.\n",
      "  with pd.ExcelWriter(DATA_FOLDER + 'scraped_posts_full.xlsx', engine='xlsxwriter', options={'strings_to_urls': False}) as writer:\n"
     ]
    },
    {
     "name": "stdout",
     "output_type": "stream",
     "text": [
      "Completed search. Joining!\n"
     ]
    },
    {
     "name": "stderr",
     "output_type": "stream",
     "text": [
      "/var/folders/y1/2907rcw50gq_rm33vwpb806r0000gn/T/ipykernel_71372/533152681.py:22: FutureWarning: Use of **kwargs is deprecated, use engine_kwargs instead.\n",
      "  with pd.ExcelWriter(DATA_FOLDER + 'scraped_posts_full.xlsx', engine='xlsxwriter', options={'strings_to_urls': False}) as writer:\n"
     ]
    }
   ],
   "source": [
    "subreddits = ['ketoscience', 'science', 'keto', 'Health', 'conspiracy', 'todayilearned', 'ScientificNutrition', 'askscience', 'Futurology',\n",
    "    'news', 'PlantBasedDiet', 'nutrition', 'Paleo', 'fasting', 'longevity', 'Supplements', 'Coronavirus', 'COVID19', 'Cholesterol', 'Fitness']\n",
    "search_words = ['atorvastatin', 'lipitor', 'rosuvastatin', 'crestor', 'pitavastatin', 'livalo', 'zypitamag', 'simvastatin', 'zocor', 'pravastatin', \n",
    "                'pravachol', 'lovastatin', 'altoprev', 'fluvastatin', 'lescol']\n",
    "\n",
    "scrape_reddit(subreddits, search_words)"
   ]
  },
  {
   "cell_type": "markdown",
   "id": "2c16c710-f9f9-42e7-b89e-01c270fc50ab",
   "metadata": {
    "tags": []
   },
   "source": [
    "## PushShift.io?"
   ]
  },
  {
   "cell_type": "markdown",
   "id": "a927a029-80ce-4024-92c3-d729dc020e51",
   "metadata": {},
   "source": [
    "Let's try to use PushShift.io as a better way of tabulating this data instead."
   ]
  },
  {
   "cell_type": "code",
   "execution_count": 4,
   "id": "6542c13b-f190-4139-a2ca-f381ed1798dd",
   "metadata": {},
   "outputs": [],
   "source": [
    "from psaw import PushshiftAPI\n",
    "api = PushshiftAPI()"
   ]
  },
  {
   "cell_type": "code",
   "execution_count": 5,
   "id": "31394d8e-5e00-4ba9-9b22-a2af46f8ef2b",
   "metadata": {},
   "outputs": [],
   "source": [
    "POST_DF_MAPPING = {\n",
    "    'id' : 'id',\n",
    "    'author' : 'author',\n",
    "    'title' : 'title',\n",
    "    'date' : 'created_utc',\n",
    "    'body' : 'selftext',\n",
    "    'n_comments' : 'num_comments',\n",
    "    'upvotes' : 'score',\n",
    "}\n",
    "\n",
    "COMM_DF_MAPPING = {\n",
    "    'id' : 'id',\n",
    "    'author' : 'author',\n",
    "    'title' : 'title',    \n",
    "    'body' : 'body',\n",
    "    'date' : 'created_utc',\n",
    "    'link_id' : 'link_id',\n",
    "    'parent_id' : 'parent_id',\n",
    "    'upvotes' : 'score'\n",
    "}\n",
    "\n",
    "PSAW_MAPPINGS = {\n",
    "    'post' : POST_DF_MAPPING,\n",
    "    'comment' : COMM_DF_MAPPING\n",
    "}"
   ]
  },
  {
   "cell_type": "code",
   "execution_count": 6,
   "id": "0c95a730-fa80-4c2d-83a2-e9a020282c39",
   "metadata": {},
   "outputs": [],
   "source": [
    "def api_result_conversion(res, type_of_res):\n",
    "    \"\"\"\n",
    "    Convert the API result from PSAW into a pandas Series.    \n",
    "    \"\"\"\n",
    "    \n",
    "    mapping = PSAW_MAPPINGS[type_of_res]\n",
    "    \n",
    "    out = []\n",
    "    \n",
    "    for col, col_map in mapping.items():\n",
    "        try:\n",
    "            out.append(getattr(res, col_map))\n",
    "        except:\n",
    "            out.append('')\n",
    "        \n",
    "    return out"
   ]
  },
  {
   "cell_type": "code",
   "execution_count": 10,
   "id": "eb802958-4daf-476a-9b69-ee7f2c6f6cb7",
   "metadata": {},
   "outputs": [],
   "source": [
    "def scrape_reddit_posts(subreddits, search_words, save_name):\n",
    "    \"\"\"Scrapes Reddit for posts matching a set of search words in a set of subreddits.\n",
    "    \"\"\"\n",
    "\n",
    "    posts = []\n",
    "    cols = ['query', 'subreddit']\n",
    "    cols.extend(POST_DF_MAPPING.keys())\n",
    "\n",
    "    for subreddit in subreddits:\n",
    "        for search_word in search_words:\n",
    "            print(\"Now searching r/{0} for {1}\".format(subreddit, search_word))\n",
    "            \n",
    "            # Generate the iterator that will scrape over \n",
    "            for post in api.search_submissions(q=search_word, subreddit=subreddit):\n",
    "                \n",
    "                post_ext = [subreddit, search_word]\n",
    "                post_ext.extend(api_result_conversion(post, 'post'))\n",
    "                \n",
    "                posts.append(post_ext)\n",
    "\n",
    "            print(\"Completed search. Total {0} entries!\".format(len(posts)))\n",
    "                             \n",
    "    post_df = pd.DataFrame(posts, columns=cols)\n",
    "    post_df = post_df.drop_duplicates(subset='id')\n",
    "    post_df.set_index('id')\n",
    "    \n",
    "    with pd.ExcelWriter(DATA_FOLDER + save_name, engine='xlsxwriter', options={'strings_to_urls': False}) as writer:\n",
    "        post_df.to_excel(writer)\n",
    "    \n",
    "    return post_df\n",
    "\n",
    "def scrape_reddit_comments(subreddits, search_words, save_name):\n",
    "    \"\"\"Scrapes Reddit for posts matching a set of search words in a set of subreddits.\n",
    "    \"\"\"\n",
    "\n",
    "    comms = []\n",
    "    cols = ['query', 'subreddit']\n",
    "    cols.extend(COMM_DF_MAPPING.keys())\n",
    "\n",
    "    for subreddit in subreddits:\n",
    "        for search_word in search_words:\n",
    "            print(\"Now searching r/{0} for {1}\".format(subreddit, search_word))\n",
    "            \n",
    "            # Generate the iterator that will scrape over \n",
    "            for comm in api.search_comments(q=search_word, subreddit=subreddit):\n",
    "                \n",
    "                comm_ext = [subreddit, search_word]\n",
    "                comm_ext.extend(api_result_conversion(comm, 'comment'))\n",
    "                \n",
    "                comms.append(comm_ext)\n",
    "\n",
    "            print(\"Completed search. Total {0} entries!\".format(len(comms)))\n",
    "                             \n",
    "    comm_df = pd.DataFrame(comms, columns=cols)\n",
    "    comm_df = comm_df.drop_duplicates(subset='id')\n",
    "    comm_df.set_index('id')\n",
    "    \n",
    "    with pd.ExcelWriter(DATA_FOLDER + save_name, engine='xlsxwriter', options={'strings_to_urls': False}) as writer:\n",
    "        comm_df.to_excel(writer)\n",
    "        \n",
    "    return comm_df"
   ]
  },
  {
   "cell_type": "code",
   "execution_count": 8,
   "id": "5c142fd1-c40f-49e1-b1be-342f2c399c51",
   "metadata": {
    "jupyter": {
     "source_hidden": true
    },
    "tags": []
   },
   "outputs": [],
   "source": [
    "def scrape_reddit_comments_in_post(posts, save_name):\n",
    "    \"\"\"Scrapes Reddit for posts matddching a set of search words in a set of subreddits.\n",
    "    \"\"\"\n",
    "    \n",
    "    cols = []\n",
    "    cols.extend(COMM_DF_MAPPING.keys())\n",
    "    \n",
    "    comments = []\n",
    "    post_ids = posts.index.drop_duplicates()\n",
    "    \n",
    "    for post_id in post_ids:\n",
    "        print(\"Now searching post <{0}>\".format(post_id))\n",
    "\n",
    "        for comment in api.search_comments(link_id=post_id):\n",
    "                \n",
    "            comment_row = api_result_conversion(comment, 'comment')\n",
    "            comments.append(comment_row)\n",
    "            \n",
    "        print(\"Completed search. Total {0} entries!\".format(len(comments)))\n",
    "\n",
    "    comm_df = pd.DataFrame(comments, columns=cols)\n",
    "    comm_df.set_index('id')\n",
    "    \n",
    "    with pd.ExcelWriter(DATA_FOLDER + save_name, engine='xlsxwriter', options={'strings_to_urls': False}) as writer:\n",
    "        comm_df.to_excel(writer)\n"
   ]
  },
  {
   "cell_type": "code",
   "execution_count": 44,
   "id": "fd4a5252-1d82-4fc5-82ea-7b010706f52e",
   "metadata": {
    "collapsed": true,
    "jupyter": {
     "outputs_hidden": true,
     "source_hidden": true
    },
    "scrolled": true,
    "tags": []
   },
   "outputs": [
    {
     "name": "stdout",
     "output_type": "stream",
     "text": [
      "Now searching post <tqf3q1>\n",
      "Completed search. Total 0 entries!\n",
      "Now searching post <tqctzk>\n",
      "Completed search. Total 0 entries!\n",
      "Now searching post <t5j2iq>\n",
      "Completed search. Total 0 entries!\n",
      "Now searching post <sdiu8l>\n",
      "Completed search. Total 0 entries!\n",
      "Now searching post <rorrcc>\n",
      "Completed search. Total 0 entries!\n",
      "Now searching post <rnqlnj>\n",
      "Completed search. Total 0 entries!\n",
      "Now searching post <rc7ati>\n",
      "Completed search. Total 0 entries!\n",
      "Now searching post <q20bog>\n",
      "Completed search. Total 47 entries!\n",
      "Now searching post <p1w57r>\n",
      "Completed search. Total 49 entries!\n",
      "Now searching post <p1qo5n>\n",
      "Completed search. Total 49 entries!\n",
      "Now searching post <o2rimg>\n",
      "Completed search. Total 52 entries!\n",
      "Now searching post <nuyvd3>\n",
      "Completed search. Total 56 entries!\n",
      "Now searching post <njgthz>\n",
      "Completed search. Total 64 entries!\n",
      "Now searching post <m0jdr3>\n",
      "Completed search. Total 90 entries!\n",
      "Now searching post <lwzj79>\n",
      "Completed search. Total 97 entries!\n",
      "Now searching post <kv4q31>\n",
      "Completed search. Total 102 entries!\n",
      "Now searching post <k925jp>\n"
     ]
    },
    {
     "ename": "KeyboardInterrupt",
     "evalue": "",
     "output_type": "error",
     "traceback": [
      "\u001b[0;31m---------------------------------------------------------------------------\u001b[0m",
      "\u001b[0;31mKeyboardInterrupt\u001b[0m                         Traceback (most recent call last)",
      "Input \u001b[0;32mIn [44]\u001b[0m, in \u001b[0;36m<cell line: 1>\u001b[0;34m()\u001b[0m\n\u001b[0;32m----> 1\u001b[0m \u001b[43mscrape_reddit_comments_in_post\u001b[49m\u001b[43m(\u001b[49m\u001b[43mposts\u001b[49m\u001b[43m,\u001b[49m\u001b[43m \u001b[49m\u001b[38;5;124;43m'\u001b[39;49m\u001b[38;5;124;43mcomments_from_posts_20220706.xlsx\u001b[39;49m\u001b[38;5;124;43m'\u001b[39;49m\u001b[43m)\u001b[49m\n",
      "Input \u001b[0;32mIn [43]\u001b[0m, in \u001b[0;36mscrape_reddit_comments_in_post\u001b[0;34m(posts, save_name)\u001b[0m\n\u001b[1;32m     11\u001b[0m \u001b[38;5;28;01mfor\u001b[39;00m post_id \u001b[38;5;129;01min\u001b[39;00m post_ids:\n\u001b[1;32m     12\u001b[0m     \u001b[38;5;28mprint\u001b[39m(\u001b[38;5;124m\"\u001b[39m\u001b[38;5;124mNow searching post <\u001b[39m\u001b[38;5;132;01m{0}\u001b[39;00m\u001b[38;5;124m>\u001b[39m\u001b[38;5;124m\"\u001b[39m\u001b[38;5;241m.\u001b[39mformat(post_id))\n\u001b[0;32m---> 14\u001b[0m     \u001b[38;5;28;01mfor\u001b[39;00m comment \u001b[38;5;129;01min\u001b[39;00m api\u001b[38;5;241m.\u001b[39msearch_comments(link_id\u001b[38;5;241m=\u001b[39mpost_id):\n\u001b[1;32m     16\u001b[0m         comment_row \u001b[38;5;241m=\u001b[39m api_result_conversion(comment, \u001b[38;5;124m'\u001b[39m\u001b[38;5;124mcomment\u001b[39m\u001b[38;5;124m'\u001b[39m)\n\u001b[1;32m     17\u001b[0m         comments\u001b[38;5;241m.\u001b[39mappend(comment_row)\n",
      "File \u001b[0;32m~/mambaforge/lib/python3.9/site-packages/psaw/PushshiftAPI.py:238\u001b[0m, in \u001b[0;36mPushshiftAPIMinimal._search\u001b[0;34m(self, kind, stop_condition, return_batch, dataset, **kwargs)\u001b[0m\n\u001b[1;32m    236\u001b[0m endpoint \u001b[38;5;241m=\u001b[39m \u001b[38;5;124m'\u001b[39m\u001b[38;5;132;01m{dataset}\u001b[39;00m\u001b[38;5;124m/\u001b[39m\u001b[38;5;132;01m{kind}\u001b[39;00m\u001b[38;5;124m/search\u001b[39m\u001b[38;5;124m'\u001b[39m\u001b[38;5;241m.\u001b[39mformat(dataset\u001b[38;5;241m=\u001b[39mdataset, kind\u001b[38;5;241m=\u001b[39mkind)\n\u001b[1;32m    237\u001b[0m url \u001b[38;5;241m=\u001b[39m \u001b[38;5;28mself\u001b[39m\u001b[38;5;241m.\u001b[39mbase_url\u001b[38;5;241m.\u001b[39mformat(endpoint\u001b[38;5;241m=\u001b[39mendpoint)\n\u001b[0;32m--> 238\u001b[0m \u001b[38;5;28;01mfor\u001b[39;00m response \u001b[38;5;129;01min\u001b[39;00m \u001b[38;5;28mself\u001b[39m\u001b[38;5;241m.\u001b[39m_handle_paging(url):\n\u001b[1;32m    239\u001b[0m     \u001b[38;5;28;01mif\u001b[39;00m \u001b[38;5;124m'\u001b[39m\u001b[38;5;124maggs\u001b[39m\u001b[38;5;124m'\u001b[39m \u001b[38;5;129;01min\u001b[39;00m response:\n\u001b[1;32m    240\u001b[0m         \u001b[38;5;28;01myield\u001b[39;00m response[\u001b[38;5;124m'\u001b[39m\u001b[38;5;124maggs\u001b[39m\u001b[38;5;124m'\u001b[39m]\n",
      "File \u001b[0;32m~/mambaforge/lib/python3.9/site-packages/psaw/PushshiftAPI.py:215\u001b[0m, in \u001b[0;36mPushshiftAPIMinimal._handle_paging\u001b[0;34m(self, url)\u001b[0m\n\u001b[1;32m    212\u001b[0m         \u001b[38;5;28;01mraise\u001b[39;00m \u001b[38;5;167;01mNotImplementedError\u001b[39;00m(err_msg\u001b[38;5;241m.\u001b[39mformat(\u001b[38;5;28mself\u001b[39m\u001b[38;5;241m.\u001b[39mmax_results_per_request))\n\u001b[1;32m    213\u001b[0m \u001b[38;5;28mself\u001b[39m\u001b[38;5;241m.\u001b[39m_add_nec_args(\u001b[38;5;28mself\u001b[39m\u001b[38;5;241m.\u001b[39mpayload)\n\u001b[0;32m--> 215\u001b[0m data \u001b[38;5;241m=\u001b[39m \u001b[38;5;28;43mself\u001b[39;49m\u001b[38;5;241;43m.\u001b[39;49m\u001b[43m_get\u001b[49m\u001b[43m(\u001b[49m\u001b[43murl\u001b[49m\u001b[43m,\u001b[49m\u001b[43m \u001b[49m\u001b[38;5;28;43mself\u001b[39;49m\u001b[38;5;241;43m.\u001b[39;49m\u001b[43mpayload\u001b[49m\u001b[43m)\u001b[49m\n\u001b[1;32m    216\u001b[0m \u001b[38;5;28;01myield\u001b[39;00m data\n\u001b[1;32m    217\u001b[0m \u001b[38;5;28;01mif\u001b[39;00m limit \u001b[38;5;129;01mis\u001b[39;00m \u001b[38;5;129;01mnot\u001b[39;00m \u001b[38;5;28;01mNone\u001b[39;00m:\n",
      "File \u001b[0;32m~/mambaforge/lib/python3.9/site-packages/psaw/PushshiftAPI.py:184\u001b[0m, in \u001b[0;36mPushshiftAPIMinimal._get\u001b[0;34m(self, url, payload)\u001b[0m\n\u001b[1;32m    182\u001b[0m i\u001b[38;5;241m+\u001b[39m\u001b[38;5;241m=\u001b[39m\u001b[38;5;241m1\u001b[39m\n\u001b[1;32m    183\u001b[0m \u001b[38;5;28;01mtry\u001b[39;00m:\n\u001b[0;32m--> 184\u001b[0m     response \u001b[38;5;241m=\u001b[39m \u001b[43mrequests\u001b[49m\u001b[38;5;241;43m.\u001b[39;49m\u001b[43mget\u001b[49m\u001b[43m(\u001b[49m\u001b[43murl\u001b[49m\u001b[43m,\u001b[49m\u001b[43m \u001b[49m\u001b[43mparams\u001b[49m\u001b[38;5;241;43m=\u001b[39;49m\u001b[43mpayload\u001b[49m\u001b[43m,\u001b[49m\u001b[43m \u001b[49m\u001b[43mproxies\u001b[49m\u001b[38;5;241;43m=\u001b[39;49m\u001b[38;5;28;43mself\u001b[39;49m\u001b[38;5;241;43m.\u001b[39;49m\u001b[43mproxies\u001b[49m\u001b[43m)\u001b[49m\n\u001b[1;32m    185\u001b[0m     log\u001b[38;5;241m.\u001b[39minfo(response\u001b[38;5;241m.\u001b[39murl)\n\u001b[1;32m    186\u001b[0m     log\u001b[38;5;241m.\u001b[39mdebug(\u001b[38;5;124m'\u001b[39m\u001b[38;5;124mResponse status code: \u001b[39m\u001b[38;5;132;01m%s\u001b[39;00m\u001b[38;5;124m'\u001b[39m \u001b[38;5;241m%\u001b[39m response\u001b[38;5;241m.\u001b[39mstatus_code)\n",
      "File \u001b[0;32m~/mambaforge/lib/python3.9/site-packages/requests/api.py:75\u001b[0m, in \u001b[0;36mget\u001b[0;34m(url, params, **kwargs)\u001b[0m\n\u001b[1;32m     64\u001b[0m \u001b[38;5;28;01mdef\u001b[39;00m \u001b[38;5;21mget\u001b[39m(url, params\u001b[38;5;241m=\u001b[39m\u001b[38;5;28;01mNone\u001b[39;00m, \u001b[38;5;241m*\u001b[39m\u001b[38;5;241m*\u001b[39mkwargs):\n\u001b[1;32m     65\u001b[0m     \u001b[38;5;124mr\u001b[39m\u001b[38;5;124;03m\"\"\"Sends a GET request.\u001b[39;00m\n\u001b[1;32m     66\u001b[0m \n\u001b[1;32m     67\u001b[0m \u001b[38;5;124;03m    :param url: URL for the new :class:`Request` object.\u001b[39;00m\n\u001b[0;32m   (...)\u001b[0m\n\u001b[1;32m     72\u001b[0m \u001b[38;5;124;03m    :rtype: requests.Response\u001b[39;00m\n\u001b[1;32m     73\u001b[0m \u001b[38;5;124;03m    \"\"\"\u001b[39;00m\n\u001b[0;32m---> 75\u001b[0m     \u001b[38;5;28;01mreturn\u001b[39;00m \u001b[43mrequest\u001b[49m\u001b[43m(\u001b[49m\u001b[38;5;124;43m'\u001b[39;49m\u001b[38;5;124;43mget\u001b[39;49m\u001b[38;5;124;43m'\u001b[39;49m\u001b[43m,\u001b[49m\u001b[43m \u001b[49m\u001b[43murl\u001b[49m\u001b[43m,\u001b[49m\u001b[43m \u001b[49m\u001b[43mparams\u001b[49m\u001b[38;5;241;43m=\u001b[39;49m\u001b[43mparams\u001b[49m\u001b[43m,\u001b[49m\u001b[43m \u001b[49m\u001b[38;5;241;43m*\u001b[39;49m\u001b[38;5;241;43m*\u001b[39;49m\u001b[43mkwargs\u001b[49m\u001b[43m)\u001b[49m\n",
      "File \u001b[0;32m~/mambaforge/lib/python3.9/site-packages/requests/api.py:61\u001b[0m, in \u001b[0;36mrequest\u001b[0;34m(method, url, **kwargs)\u001b[0m\n\u001b[1;32m     57\u001b[0m \u001b[38;5;66;03m# By using the 'with' statement we are sure the session is closed, thus we\u001b[39;00m\n\u001b[1;32m     58\u001b[0m \u001b[38;5;66;03m# avoid leaving sockets open which can trigger a ResourceWarning in some\u001b[39;00m\n\u001b[1;32m     59\u001b[0m \u001b[38;5;66;03m# cases, and look like a memory leak in others.\u001b[39;00m\n\u001b[1;32m     60\u001b[0m \u001b[38;5;28;01mwith\u001b[39;00m sessions\u001b[38;5;241m.\u001b[39mSession() \u001b[38;5;28;01mas\u001b[39;00m session:\n\u001b[0;32m---> 61\u001b[0m     \u001b[38;5;28;01mreturn\u001b[39;00m \u001b[43msession\u001b[49m\u001b[38;5;241;43m.\u001b[39;49m\u001b[43mrequest\u001b[49m\u001b[43m(\u001b[49m\u001b[43mmethod\u001b[49m\u001b[38;5;241;43m=\u001b[39;49m\u001b[43mmethod\u001b[49m\u001b[43m,\u001b[49m\u001b[43m \u001b[49m\u001b[43murl\u001b[49m\u001b[38;5;241;43m=\u001b[39;49m\u001b[43murl\u001b[49m\u001b[43m,\u001b[49m\u001b[43m \u001b[49m\u001b[38;5;241;43m*\u001b[39;49m\u001b[38;5;241;43m*\u001b[39;49m\u001b[43mkwargs\u001b[49m\u001b[43m)\u001b[49m\n",
      "File \u001b[0;32m~/mambaforge/lib/python3.9/site-packages/requests/sessions.py:529\u001b[0m, in \u001b[0;36mSession.request\u001b[0;34m(self, method, url, params, data, headers, cookies, files, auth, timeout, allow_redirects, proxies, hooks, stream, verify, cert, json)\u001b[0m\n\u001b[1;32m    524\u001b[0m send_kwargs \u001b[38;5;241m=\u001b[39m {\n\u001b[1;32m    525\u001b[0m     \u001b[38;5;124m'\u001b[39m\u001b[38;5;124mtimeout\u001b[39m\u001b[38;5;124m'\u001b[39m: timeout,\n\u001b[1;32m    526\u001b[0m     \u001b[38;5;124m'\u001b[39m\u001b[38;5;124mallow_redirects\u001b[39m\u001b[38;5;124m'\u001b[39m: allow_redirects,\n\u001b[1;32m    527\u001b[0m }\n\u001b[1;32m    528\u001b[0m send_kwargs\u001b[38;5;241m.\u001b[39mupdate(settings)\n\u001b[0;32m--> 529\u001b[0m resp \u001b[38;5;241m=\u001b[39m \u001b[38;5;28;43mself\u001b[39;49m\u001b[38;5;241;43m.\u001b[39;49m\u001b[43msend\u001b[49m\u001b[43m(\u001b[49m\u001b[43mprep\u001b[49m\u001b[43m,\u001b[49m\u001b[43m \u001b[49m\u001b[38;5;241;43m*\u001b[39;49m\u001b[38;5;241;43m*\u001b[39;49m\u001b[43msend_kwargs\u001b[49m\u001b[43m)\u001b[49m\n\u001b[1;32m    531\u001b[0m \u001b[38;5;28;01mreturn\u001b[39;00m resp\n",
      "File \u001b[0;32m~/mambaforge/lib/python3.9/site-packages/requests/sessions.py:645\u001b[0m, in \u001b[0;36mSession.send\u001b[0;34m(self, request, **kwargs)\u001b[0m\n\u001b[1;32m    642\u001b[0m start \u001b[38;5;241m=\u001b[39m preferred_clock()\n\u001b[1;32m    644\u001b[0m \u001b[38;5;66;03m# Send the request\u001b[39;00m\n\u001b[0;32m--> 645\u001b[0m r \u001b[38;5;241m=\u001b[39m \u001b[43madapter\u001b[49m\u001b[38;5;241;43m.\u001b[39;49m\u001b[43msend\u001b[49m\u001b[43m(\u001b[49m\u001b[43mrequest\u001b[49m\u001b[43m,\u001b[49m\u001b[43m \u001b[49m\u001b[38;5;241;43m*\u001b[39;49m\u001b[38;5;241;43m*\u001b[39;49m\u001b[43mkwargs\u001b[49m\u001b[43m)\u001b[49m\n\u001b[1;32m    647\u001b[0m \u001b[38;5;66;03m# Total elapsed time of the request (approximately)\u001b[39;00m\n\u001b[1;32m    648\u001b[0m elapsed \u001b[38;5;241m=\u001b[39m preferred_clock() \u001b[38;5;241m-\u001b[39m start\n",
      "File \u001b[0;32m~/mambaforge/lib/python3.9/site-packages/requests/adapters.py:440\u001b[0m, in \u001b[0;36mHTTPAdapter.send\u001b[0;34m(self, request, stream, timeout, verify, cert, proxies)\u001b[0m\n\u001b[1;32m    438\u001b[0m \u001b[38;5;28;01mtry\u001b[39;00m:\n\u001b[1;32m    439\u001b[0m     \u001b[38;5;28;01mif\u001b[39;00m \u001b[38;5;129;01mnot\u001b[39;00m chunked:\n\u001b[0;32m--> 440\u001b[0m         resp \u001b[38;5;241m=\u001b[39m \u001b[43mconn\u001b[49m\u001b[38;5;241;43m.\u001b[39;49m\u001b[43murlopen\u001b[49m\u001b[43m(\u001b[49m\n\u001b[1;32m    441\u001b[0m \u001b[43m            \u001b[49m\u001b[43mmethod\u001b[49m\u001b[38;5;241;43m=\u001b[39;49m\u001b[43mrequest\u001b[49m\u001b[38;5;241;43m.\u001b[39;49m\u001b[43mmethod\u001b[49m\u001b[43m,\u001b[49m\n\u001b[1;32m    442\u001b[0m \u001b[43m            \u001b[49m\u001b[43murl\u001b[49m\u001b[38;5;241;43m=\u001b[39;49m\u001b[43murl\u001b[49m\u001b[43m,\u001b[49m\n\u001b[1;32m    443\u001b[0m \u001b[43m            \u001b[49m\u001b[43mbody\u001b[49m\u001b[38;5;241;43m=\u001b[39;49m\u001b[43mrequest\u001b[49m\u001b[38;5;241;43m.\u001b[39;49m\u001b[43mbody\u001b[49m\u001b[43m,\u001b[49m\n\u001b[1;32m    444\u001b[0m \u001b[43m            \u001b[49m\u001b[43mheaders\u001b[49m\u001b[38;5;241;43m=\u001b[39;49m\u001b[43mrequest\u001b[49m\u001b[38;5;241;43m.\u001b[39;49m\u001b[43mheaders\u001b[49m\u001b[43m,\u001b[49m\n\u001b[1;32m    445\u001b[0m \u001b[43m            \u001b[49m\u001b[43mredirect\u001b[49m\u001b[38;5;241;43m=\u001b[39;49m\u001b[38;5;28;43;01mFalse\u001b[39;49;00m\u001b[43m,\u001b[49m\n\u001b[1;32m    446\u001b[0m \u001b[43m            \u001b[49m\u001b[43massert_same_host\u001b[49m\u001b[38;5;241;43m=\u001b[39;49m\u001b[38;5;28;43;01mFalse\u001b[39;49;00m\u001b[43m,\u001b[49m\n\u001b[1;32m    447\u001b[0m \u001b[43m            \u001b[49m\u001b[43mpreload_content\u001b[49m\u001b[38;5;241;43m=\u001b[39;49m\u001b[38;5;28;43;01mFalse\u001b[39;49;00m\u001b[43m,\u001b[49m\n\u001b[1;32m    448\u001b[0m \u001b[43m            \u001b[49m\u001b[43mdecode_content\u001b[49m\u001b[38;5;241;43m=\u001b[39;49m\u001b[38;5;28;43;01mFalse\u001b[39;49;00m\u001b[43m,\u001b[49m\n\u001b[1;32m    449\u001b[0m \u001b[43m            \u001b[49m\u001b[43mretries\u001b[49m\u001b[38;5;241;43m=\u001b[39;49m\u001b[38;5;28;43mself\u001b[39;49m\u001b[38;5;241;43m.\u001b[39;49m\u001b[43mmax_retries\u001b[49m\u001b[43m,\u001b[49m\n\u001b[1;32m    450\u001b[0m \u001b[43m            \u001b[49m\u001b[43mtimeout\u001b[49m\u001b[38;5;241;43m=\u001b[39;49m\u001b[43mtimeout\u001b[49m\n\u001b[1;32m    451\u001b[0m \u001b[43m        \u001b[49m\u001b[43m)\u001b[49m\n\u001b[1;32m    453\u001b[0m     \u001b[38;5;66;03m# Send the request.\u001b[39;00m\n\u001b[1;32m    454\u001b[0m     \u001b[38;5;28;01melse\u001b[39;00m:\n\u001b[1;32m    455\u001b[0m         \u001b[38;5;28;01mif\u001b[39;00m \u001b[38;5;28mhasattr\u001b[39m(conn, \u001b[38;5;124m'\u001b[39m\u001b[38;5;124mproxy_pool\u001b[39m\u001b[38;5;124m'\u001b[39m):\n",
      "File \u001b[0;32m~/mambaforge/lib/python3.9/site-packages/urllib3/connectionpool.py:703\u001b[0m, in \u001b[0;36mHTTPConnectionPool.urlopen\u001b[0;34m(self, method, url, body, headers, retries, redirect, assert_same_host, timeout, pool_timeout, release_conn, chunked, body_pos, **response_kw)\u001b[0m\n\u001b[1;32m    700\u001b[0m     \u001b[38;5;28mself\u001b[39m\u001b[38;5;241m.\u001b[39m_prepare_proxy(conn)\n\u001b[1;32m    702\u001b[0m \u001b[38;5;66;03m# Make the request on the httplib connection object.\u001b[39;00m\n\u001b[0;32m--> 703\u001b[0m httplib_response \u001b[38;5;241m=\u001b[39m \u001b[38;5;28;43mself\u001b[39;49m\u001b[38;5;241;43m.\u001b[39;49m\u001b[43m_make_request\u001b[49m\u001b[43m(\u001b[49m\n\u001b[1;32m    704\u001b[0m \u001b[43m    \u001b[49m\u001b[43mconn\u001b[49m\u001b[43m,\u001b[49m\n\u001b[1;32m    705\u001b[0m \u001b[43m    \u001b[49m\u001b[43mmethod\u001b[49m\u001b[43m,\u001b[49m\n\u001b[1;32m    706\u001b[0m \u001b[43m    \u001b[49m\u001b[43murl\u001b[49m\u001b[43m,\u001b[49m\n\u001b[1;32m    707\u001b[0m \u001b[43m    \u001b[49m\u001b[43mtimeout\u001b[49m\u001b[38;5;241;43m=\u001b[39;49m\u001b[43mtimeout_obj\u001b[49m\u001b[43m,\u001b[49m\n\u001b[1;32m    708\u001b[0m \u001b[43m    \u001b[49m\u001b[43mbody\u001b[49m\u001b[38;5;241;43m=\u001b[39;49m\u001b[43mbody\u001b[49m\u001b[43m,\u001b[49m\n\u001b[1;32m    709\u001b[0m \u001b[43m    \u001b[49m\u001b[43mheaders\u001b[49m\u001b[38;5;241;43m=\u001b[39;49m\u001b[43mheaders\u001b[49m\u001b[43m,\u001b[49m\n\u001b[1;32m    710\u001b[0m \u001b[43m    \u001b[49m\u001b[43mchunked\u001b[49m\u001b[38;5;241;43m=\u001b[39;49m\u001b[43mchunked\u001b[49m\u001b[43m,\u001b[49m\n\u001b[1;32m    711\u001b[0m \u001b[43m\u001b[49m\u001b[43m)\u001b[49m\n\u001b[1;32m    713\u001b[0m \u001b[38;5;66;03m# If we're going to release the connection in ``finally:``, then\u001b[39;00m\n\u001b[1;32m    714\u001b[0m \u001b[38;5;66;03m# the response doesn't need to know about the connection. Otherwise\u001b[39;00m\n\u001b[1;32m    715\u001b[0m \u001b[38;5;66;03m# it will also try to release it and we'll have a double-release\u001b[39;00m\n\u001b[1;32m    716\u001b[0m \u001b[38;5;66;03m# mess.\u001b[39;00m\n\u001b[1;32m    717\u001b[0m response_conn \u001b[38;5;241m=\u001b[39m conn \u001b[38;5;28;01mif\u001b[39;00m \u001b[38;5;129;01mnot\u001b[39;00m release_conn \u001b[38;5;28;01melse\u001b[39;00m \u001b[38;5;28;01mNone\u001b[39;00m\n",
      "File \u001b[0;32m~/mambaforge/lib/python3.9/site-packages/urllib3/connectionpool.py:449\u001b[0m, in \u001b[0;36mHTTPConnectionPool._make_request\u001b[0;34m(self, conn, method, url, timeout, chunked, **httplib_request_kw)\u001b[0m\n\u001b[1;32m    444\u001b[0m             httplib_response \u001b[38;5;241m=\u001b[39m conn\u001b[38;5;241m.\u001b[39mgetresponse()\n\u001b[1;32m    445\u001b[0m         \u001b[38;5;28;01mexcept\u001b[39;00m \u001b[38;5;167;01mBaseException\u001b[39;00m \u001b[38;5;28;01mas\u001b[39;00m e:\n\u001b[1;32m    446\u001b[0m             \u001b[38;5;66;03m# Remove the TypeError from the exception chain in\u001b[39;00m\n\u001b[1;32m    447\u001b[0m             \u001b[38;5;66;03m# Python 3 (including for exceptions like SystemExit).\u001b[39;00m\n\u001b[1;32m    448\u001b[0m             \u001b[38;5;66;03m# Otherwise it looks like a bug in the code.\u001b[39;00m\n\u001b[0;32m--> 449\u001b[0m             \u001b[43msix\u001b[49m\u001b[38;5;241;43m.\u001b[39;49m\u001b[43mraise_from\u001b[49m\u001b[43m(\u001b[49m\u001b[43me\u001b[49m\u001b[43m,\u001b[49m\u001b[43m \u001b[49m\u001b[38;5;28;43;01mNone\u001b[39;49;00m\u001b[43m)\u001b[49m\n\u001b[1;32m    450\u001b[0m \u001b[38;5;28;01mexcept\u001b[39;00m (SocketTimeout, BaseSSLError, SocketError) \u001b[38;5;28;01mas\u001b[39;00m e:\n\u001b[1;32m    451\u001b[0m     \u001b[38;5;28mself\u001b[39m\u001b[38;5;241m.\u001b[39m_raise_timeout(err\u001b[38;5;241m=\u001b[39me, url\u001b[38;5;241m=\u001b[39murl, timeout_value\u001b[38;5;241m=\u001b[39mread_timeout)\n",
      "File \u001b[0;32m<string>:3\u001b[0m, in \u001b[0;36mraise_from\u001b[0;34m(value, from_value)\u001b[0m\n",
      "File \u001b[0;32m~/mambaforge/lib/python3.9/site-packages/urllib3/connectionpool.py:444\u001b[0m, in \u001b[0;36mHTTPConnectionPool._make_request\u001b[0;34m(self, conn, method, url, timeout, chunked, **httplib_request_kw)\u001b[0m\n\u001b[1;32m    441\u001b[0m \u001b[38;5;28;01mexcept\u001b[39;00m \u001b[38;5;167;01mTypeError\u001b[39;00m:\n\u001b[1;32m    442\u001b[0m     \u001b[38;5;66;03m# Python 3\u001b[39;00m\n\u001b[1;32m    443\u001b[0m     \u001b[38;5;28;01mtry\u001b[39;00m:\n\u001b[0;32m--> 444\u001b[0m         httplib_response \u001b[38;5;241m=\u001b[39m \u001b[43mconn\u001b[49m\u001b[38;5;241;43m.\u001b[39;49m\u001b[43mgetresponse\u001b[49m\u001b[43m(\u001b[49m\u001b[43m)\u001b[49m\n\u001b[1;32m    445\u001b[0m     \u001b[38;5;28;01mexcept\u001b[39;00m \u001b[38;5;167;01mBaseException\u001b[39;00m \u001b[38;5;28;01mas\u001b[39;00m e:\n\u001b[1;32m    446\u001b[0m         \u001b[38;5;66;03m# Remove the TypeError from the exception chain in\u001b[39;00m\n\u001b[1;32m    447\u001b[0m         \u001b[38;5;66;03m# Python 3 (including for exceptions like SystemExit).\u001b[39;00m\n\u001b[1;32m    448\u001b[0m         \u001b[38;5;66;03m# Otherwise it looks like a bug in the code.\u001b[39;00m\n\u001b[1;32m    449\u001b[0m         six\u001b[38;5;241m.\u001b[39mraise_from(e, \u001b[38;5;28;01mNone\u001b[39;00m)\n",
      "File \u001b[0;32m~/mambaforge/lib/python3.9/http/client.py:1377\u001b[0m, in \u001b[0;36mHTTPConnection.getresponse\u001b[0;34m(self)\u001b[0m\n\u001b[1;32m   1375\u001b[0m \u001b[38;5;28;01mtry\u001b[39;00m:\n\u001b[1;32m   1376\u001b[0m     \u001b[38;5;28;01mtry\u001b[39;00m:\n\u001b[0;32m-> 1377\u001b[0m         \u001b[43mresponse\u001b[49m\u001b[38;5;241;43m.\u001b[39;49m\u001b[43mbegin\u001b[49m\u001b[43m(\u001b[49m\u001b[43m)\u001b[49m\n\u001b[1;32m   1378\u001b[0m     \u001b[38;5;28;01mexcept\u001b[39;00m \u001b[38;5;167;01mConnectionError\u001b[39;00m:\n\u001b[1;32m   1379\u001b[0m         \u001b[38;5;28mself\u001b[39m\u001b[38;5;241m.\u001b[39mclose()\n",
      "File \u001b[0;32m~/mambaforge/lib/python3.9/http/client.py:320\u001b[0m, in \u001b[0;36mHTTPResponse.begin\u001b[0;34m(self)\u001b[0m\n\u001b[1;32m    318\u001b[0m \u001b[38;5;66;03m# read until we get a non-100 response\u001b[39;00m\n\u001b[1;32m    319\u001b[0m \u001b[38;5;28;01mwhile\u001b[39;00m \u001b[38;5;28;01mTrue\u001b[39;00m:\n\u001b[0;32m--> 320\u001b[0m     version, status, reason \u001b[38;5;241m=\u001b[39m \u001b[38;5;28;43mself\u001b[39;49m\u001b[38;5;241;43m.\u001b[39;49m\u001b[43m_read_status\u001b[49m\u001b[43m(\u001b[49m\u001b[43m)\u001b[49m\n\u001b[1;32m    321\u001b[0m     \u001b[38;5;28;01mif\u001b[39;00m status \u001b[38;5;241m!=\u001b[39m CONTINUE:\n\u001b[1;32m    322\u001b[0m         \u001b[38;5;28;01mbreak\u001b[39;00m\n",
      "File \u001b[0;32m~/mambaforge/lib/python3.9/http/client.py:281\u001b[0m, in \u001b[0;36mHTTPResponse._read_status\u001b[0;34m(self)\u001b[0m\n\u001b[1;32m    280\u001b[0m \u001b[38;5;28;01mdef\u001b[39;00m \u001b[38;5;21m_read_status\u001b[39m(\u001b[38;5;28mself\u001b[39m):\n\u001b[0;32m--> 281\u001b[0m     line \u001b[38;5;241m=\u001b[39m \u001b[38;5;28mstr\u001b[39m(\u001b[38;5;28;43mself\u001b[39;49m\u001b[38;5;241;43m.\u001b[39;49m\u001b[43mfp\u001b[49m\u001b[38;5;241;43m.\u001b[39;49m\u001b[43mreadline\u001b[49m\u001b[43m(\u001b[49m\u001b[43m_MAXLINE\u001b[49m\u001b[43m \u001b[49m\u001b[38;5;241;43m+\u001b[39;49m\u001b[43m \u001b[49m\u001b[38;5;241;43m1\u001b[39;49m\u001b[43m)\u001b[49m, \u001b[38;5;124m\"\u001b[39m\u001b[38;5;124miso-8859-1\u001b[39m\u001b[38;5;124m\"\u001b[39m)\n\u001b[1;32m    282\u001b[0m     \u001b[38;5;28;01mif\u001b[39;00m \u001b[38;5;28mlen\u001b[39m(line) \u001b[38;5;241m>\u001b[39m _MAXLINE:\n\u001b[1;32m    283\u001b[0m         \u001b[38;5;28;01mraise\u001b[39;00m LineTooLong(\u001b[38;5;124m\"\u001b[39m\u001b[38;5;124mstatus line\u001b[39m\u001b[38;5;124m\"\u001b[39m)\n",
      "File \u001b[0;32m~/mambaforge/lib/python3.9/socket.py:704\u001b[0m, in \u001b[0;36mSocketIO.readinto\u001b[0;34m(self, b)\u001b[0m\n\u001b[1;32m    702\u001b[0m \u001b[38;5;28;01mwhile\u001b[39;00m \u001b[38;5;28;01mTrue\u001b[39;00m:\n\u001b[1;32m    703\u001b[0m     \u001b[38;5;28;01mtry\u001b[39;00m:\n\u001b[0;32m--> 704\u001b[0m         \u001b[38;5;28;01mreturn\u001b[39;00m \u001b[38;5;28;43mself\u001b[39;49m\u001b[38;5;241;43m.\u001b[39;49m\u001b[43m_sock\u001b[49m\u001b[38;5;241;43m.\u001b[39;49m\u001b[43mrecv_into\u001b[49m\u001b[43m(\u001b[49m\u001b[43mb\u001b[49m\u001b[43m)\u001b[49m\n\u001b[1;32m    705\u001b[0m     \u001b[38;5;28;01mexcept\u001b[39;00m timeout:\n\u001b[1;32m    706\u001b[0m         \u001b[38;5;28mself\u001b[39m\u001b[38;5;241m.\u001b[39m_timeout_occurred \u001b[38;5;241m=\u001b[39m \u001b[38;5;28;01mTrue\u001b[39;00m\n",
      "File \u001b[0;32m~/mambaforge/lib/python3.9/ssl.py:1242\u001b[0m, in \u001b[0;36mSSLSocket.recv_into\u001b[0;34m(self, buffer, nbytes, flags)\u001b[0m\n\u001b[1;32m   1238\u001b[0m     \u001b[38;5;28;01mif\u001b[39;00m flags \u001b[38;5;241m!=\u001b[39m \u001b[38;5;241m0\u001b[39m:\n\u001b[1;32m   1239\u001b[0m         \u001b[38;5;28;01mraise\u001b[39;00m \u001b[38;5;167;01mValueError\u001b[39;00m(\n\u001b[1;32m   1240\u001b[0m           \u001b[38;5;124m\"\u001b[39m\u001b[38;5;124mnon-zero flags not allowed in calls to recv_into() on \u001b[39m\u001b[38;5;132;01m%s\u001b[39;00m\u001b[38;5;124m\"\u001b[39m \u001b[38;5;241m%\u001b[39m\n\u001b[1;32m   1241\u001b[0m           \u001b[38;5;28mself\u001b[39m\u001b[38;5;241m.\u001b[39m\u001b[38;5;18m__class__\u001b[39m)\n\u001b[0;32m-> 1242\u001b[0m     \u001b[38;5;28;01mreturn\u001b[39;00m \u001b[38;5;28;43mself\u001b[39;49m\u001b[38;5;241;43m.\u001b[39;49m\u001b[43mread\u001b[49m\u001b[43m(\u001b[49m\u001b[43mnbytes\u001b[49m\u001b[43m,\u001b[49m\u001b[43m \u001b[49m\u001b[43mbuffer\u001b[49m\u001b[43m)\u001b[49m\n\u001b[1;32m   1243\u001b[0m \u001b[38;5;28;01melse\u001b[39;00m:\n\u001b[1;32m   1244\u001b[0m     \u001b[38;5;28;01mreturn\u001b[39;00m \u001b[38;5;28msuper\u001b[39m()\u001b[38;5;241m.\u001b[39mrecv_into(buffer, nbytes, flags)\n",
      "File \u001b[0;32m~/mambaforge/lib/python3.9/ssl.py:1100\u001b[0m, in \u001b[0;36mSSLSocket.read\u001b[0;34m(self, len, buffer)\u001b[0m\n\u001b[1;32m   1098\u001b[0m \u001b[38;5;28;01mtry\u001b[39;00m:\n\u001b[1;32m   1099\u001b[0m     \u001b[38;5;28;01mif\u001b[39;00m buffer \u001b[38;5;129;01mis\u001b[39;00m \u001b[38;5;129;01mnot\u001b[39;00m \u001b[38;5;28;01mNone\u001b[39;00m:\n\u001b[0;32m-> 1100\u001b[0m         \u001b[38;5;28;01mreturn\u001b[39;00m \u001b[38;5;28;43mself\u001b[39;49m\u001b[38;5;241;43m.\u001b[39;49m\u001b[43m_sslobj\u001b[49m\u001b[38;5;241;43m.\u001b[39;49m\u001b[43mread\u001b[49m\u001b[43m(\u001b[49m\u001b[38;5;28;43mlen\u001b[39;49m\u001b[43m,\u001b[49m\u001b[43m \u001b[49m\u001b[43mbuffer\u001b[49m\u001b[43m)\u001b[49m\n\u001b[1;32m   1101\u001b[0m     \u001b[38;5;28;01melse\u001b[39;00m:\n\u001b[1;32m   1102\u001b[0m         \u001b[38;5;28;01mreturn\u001b[39;00m \u001b[38;5;28mself\u001b[39m\u001b[38;5;241m.\u001b[39m_sslobj\u001b[38;5;241m.\u001b[39mread(\u001b[38;5;28mlen\u001b[39m)\n",
      "\u001b[0;31mKeyboardInterrupt\u001b[0m: "
     ]
    }
   ],
   "source": [
    "scrape_reddit_comments_in_post(posts, 'comments_from_posts_20220706.xlsx')"
   ]
  },
  {
   "cell_type": "code",
   "execution_count": 16,
   "id": "68c3d6a7-2a61-4188-8fb5-9e6c31509fe1",
   "metadata": {
    "scrolled": true,
    "tags": []
   },
   "outputs": [
    {
     "name": "stdout",
     "output_type": "stream",
     "text": [
      "Now searching r/ketoscience for statin\n",
      "Completed search. Total 76 entries!\n",
      "Now searching r/ketoscience for atorvastatin\n",
      "Completed search. Total 79 entries!\n",
      "Now searching r/ketoscience for lipitor\n",
      "Completed search. Total 84 entries!\n",
      "Now searching r/ketoscience for rosuvastatin\n",
      "Completed search. Total 86 entries!\n",
      "Now searching r/ketoscience for crestor\n",
      "Completed search. Total 91 entries!\n",
      "Now searching r/ketoscience for pitavastatin\n",
      "Completed search. Total 91 entries!\n",
      "Now searching r/ketoscience for livalo\n",
      "Completed search. Total 91 entries!\n",
      "Now searching r/ketoscience for zypitamag\n",
      "Completed search. Total 91 entries!\n",
      "Now searching r/ketoscience for simvastatin\n",
      "Completed search. Total 100 entries!\n",
      "Now searching r/ketoscience for zocor\n",
      "Completed search. Total 101 entries!\n",
      "Now searching r/ketoscience for pravastatin\n",
      "Completed search. Total 101 entries!\n",
      "Now searching r/ketoscience for pravachol\n",
      "Completed search. Total 102 entries!\n",
      "Now searching r/ketoscience for lovastatin\n",
      "Completed search. Total 102 entries!\n",
      "Now searching r/ketoscience for altoprev\n",
      "Completed search. Total 102 entries!\n",
      "Now searching r/ketoscience for fluvastatin\n",
      "Completed search. Total 102 entries!\n",
      "Now searching r/ketoscience for lescol\n",
      "Completed search. Total 102 entries!\n",
      "Now searching r/science for statin\n",
      "Completed search. Total 153 entries!\n",
      "Now searching r/science for atorvastatin\n",
      "Completed search. Total 157 entries!\n",
      "Now searching r/science for lipitor\n",
      "Completed search. Total 173 entries!\n",
      "Now searching r/science for rosuvastatin\n",
      "Completed search. Total 174 entries!\n",
      "Now searching r/science for crestor\n",
      "Completed search. Total 180 entries!\n",
      "Now searching r/science for pitavastatin\n",
      "Completed search. Total 180 entries!\n",
      "Now searching r/science for livalo\n",
      "Completed search. Total 180 entries!\n",
      "Now searching r/science for zypitamag\n",
      "Completed search. Total 180 entries!\n",
      "Now searching r/science for simvastatin\n",
      "Completed search. Total 186 entries!\n",
      "Now searching r/science for zocor\n",
      "Completed search. Total 193 entries!\n",
      "Now searching r/science for pravastatin\n",
      "Completed search. Total 195 entries!\n",
      "Now searching r/science for pravachol\n",
      "Completed search. Total 197 entries!\n",
      "Now searching r/science for lovastatin\n",
      "Completed search. Total 198 entries!\n",
      "Now searching r/science for altoprev\n",
      "Completed search. Total 198 entries!\n",
      "Now searching r/science for fluvastatin\n",
      "Completed search. Total 198 entries!\n",
      "Now searching r/science for lescol\n",
      "Completed search. Total 199 entries!\n",
      "Now searching r/keto for statin\n",
      "Completed search. Total 461 entries!\n",
      "Now searching r/keto for atorvastatin\n",
      "Completed search. Total 486 entries!\n",
      "Now searching r/keto for lipitor\n",
      "Completed search. Total 556 entries!\n",
      "Now searching r/keto for rosuvastatin\n",
      "Completed search. Total 562 entries!\n",
      "Now searching r/keto for crestor\n",
      "Completed search. Total 589 entries!\n",
      "Now searching r/keto for pitavastatin\n",
      "Completed search. Total 589 entries!\n",
      "Now searching r/keto for livalo\n",
      "Completed search. Total 589 entries!\n",
      "Now searching r/keto for zypitamag\n",
      "Completed search. Total 589 entries!\n",
      "Now searching r/keto for simvastatin\n",
      "Completed search. Total 607 entries!\n",
      "Now searching r/keto for zocor\n",
      "Completed search. Total 611 entries!\n",
      "Now searching r/keto for pravastatin\n",
      "Completed search. Total 615 entries!\n",
      "Now searching r/keto for pravachol\n",
      "Completed search. Total 615 entries!\n",
      "Now searching r/keto for lovastatin\n",
      "Completed search. Total 616 entries!\n",
      "Now searching r/keto for altoprev\n",
      "Completed search. Total 616 entries!\n",
      "Now searching r/keto for fluvastatin\n",
      "Completed search. Total 616 entries!\n",
      "Now searching r/keto for lescol\n",
      "Completed search. Total 616 entries!\n",
      "Now searching r/Health for statin\n",
      "Completed search. Total 745 entries!\n",
      "Now searching r/Health for atorvastatin\n",
      "Completed search. Total 757 entries!\n",
      "Now searching r/Health for lipitor\n",
      "Completed search. Total 815 entries!\n",
      "Now searching r/Health for rosuvastatin\n",
      "Completed search. Total 816 entries!\n",
      "Now searching r/Health for crestor\n",
      "Completed search. Total 827 entries!\n",
      "Now searching r/Health for pitavastatin\n",
      "Completed search. Total 827 entries!\n",
      "Now searching r/Health for livalo\n",
      "Completed search. Total 828 entries!\n",
      "Now searching r/Health for zypitamag\n",
      "Completed search. Total 828 entries!\n",
      "Now searching r/Health for simvastatin\n",
      "Completed search. Total 844 entries!\n",
      "Now searching r/Health for zocor\n",
      "Completed search. Total 852 entries!\n",
      "Now searching r/Health for pravastatin\n",
      "Completed search. Total 854 entries!\n",
      "Now searching r/Health for pravachol\n",
      "Completed search. Total 855 entries!\n",
      "Now searching r/Health for lovastatin\n",
      "Completed search. Total 856 entries!\n",
      "Now searching r/Health for altoprev\n",
      "Completed search. Total 856 entries!\n",
      "Now searching r/Health for fluvastatin\n",
      "Completed search. Total 858 entries!\n",
      "Now searching r/Health for lescol\n",
      "Completed search. Total 858 entries!\n",
      "Now searching r/conspiracy for statin\n",
      "Completed search. Total 891 entries!\n",
      "Now searching r/conspiracy for atorvastatin\n",
      "Completed search. Total 895 entries!\n",
      "Now searching r/conspiracy for lipitor\n",
      "Completed search. Total 908 entries!\n",
      "Now searching r/conspiracy for rosuvastatin\n",
      "Completed search. Total 908 entries!\n",
      "Now searching r/conspiracy for crestor\n",
      "Completed search. Total 913 entries!\n",
      "Now searching r/conspiracy for pitavastatin\n",
      "Completed search. Total 913 entries!\n",
      "Now searching r/conspiracy for livalo\n",
      "Completed search. Total 913 entries!\n",
      "Now searching r/conspiracy for zypitamag\n",
      "Completed search. Total 913 entries!\n",
      "Now searching r/conspiracy for simvastatin\n",
      "Completed search. Total 914 entries!\n",
      "Now searching r/conspiracy for zocor\n",
      "Completed search. Total 915 entries!\n",
      "Now searching r/conspiracy for pravastatin\n",
      "Completed search. Total 915 entries!\n",
      "Now searching r/conspiracy for pravachol\n",
      "Completed search. Total 915 entries!\n",
      "Now searching r/conspiracy for lovastatin\n",
      "Completed search. Total 915 entries!\n",
      "Now searching r/conspiracy for altoprev\n",
      "Completed search. Total 915 entries!\n",
      "Now searching r/conspiracy for fluvastatin\n",
      "Completed search. Total 916 entries!\n",
      "Now searching r/conspiracy for lescol\n",
      "Completed search. Total 916 entries!\n",
      "Now searching r/todayilearned for statin\n",
      "Completed search. Total 923 entries!\n",
      "Now searching r/todayilearned for atorvastatin\n",
      "Completed search. Total 925 entries!\n",
      "Now searching r/todayilearned for lipitor\n",
      "Completed search. Total 934 entries!\n",
      "Now searching r/todayilearned for rosuvastatin\n",
      "Completed search. Total 934 entries!\n",
      "Now searching r/todayilearned for crestor\n",
      "Completed search. Total 937 entries!\n",
      "Now searching r/todayilearned for pitavastatin\n",
      "Completed search. Total 937 entries!\n",
      "Now searching r/todayilearned for livalo\n",
      "Completed search. Total 937 entries!\n",
      "Now searching r/todayilearned for zypitamag\n",
      "Completed search. Total 937 entries!\n",
      "Now searching r/todayilearned for simvastatin\n",
      "Completed search. Total 937 entries!\n",
      "Now searching r/todayilearned for zocor\n",
      "Completed search. Total 937 entries!\n",
      "Now searching r/todayilearned for pravastatin\n",
      "Completed search. Total 937 entries!\n",
      "Now searching r/todayilearned for pravachol\n",
      "Completed search. Total 937 entries!\n",
      "Now searching r/todayilearned for lovastatin\n",
      "Completed search. Total 941 entries!\n",
      "Now searching r/todayilearned for altoprev\n",
      "Completed search. Total 941 entries!\n",
      "Now searching r/todayilearned for fluvastatin\n",
      "Completed search. Total 941 entries!\n",
      "Now searching r/todayilearned for lescol\n",
      "Completed search. Total 941 entries!\n",
      "Now searching r/ScientificNutrition for statin\n",
      "Completed search. Total 966 entries!\n",
      "Now searching r/ScientificNutrition for atorvastatin\n",
      "Completed search. Total 967 entries!\n",
      "Now searching r/ScientificNutrition for lipitor\n",
      "Completed search. Total 967 entries!\n",
      "Now searching r/ScientificNutrition for rosuvastatin\n",
      "Completed search. Total 968 entries!\n",
      "Now searching r/ScientificNutrition for crestor\n",
      "Completed search. Total 968 entries!\n",
      "Now searching r/ScientificNutrition for pitavastatin\n",
      "Completed search. Total 968 entries!\n",
      "Now searching r/ScientificNutrition for livalo\n",
      "Completed search. Total 968 entries!\n",
      "Now searching r/ScientificNutrition for zypitamag\n",
      "Completed search. Total 968 entries!\n",
      "Now searching r/ScientificNutrition for simvastatin\n",
      "Completed search. Total 969 entries!\n",
      "Now searching r/ScientificNutrition for zocor\n",
      "Completed search. Total 969 entries!\n",
      "Now searching r/ScientificNutrition for pravastatin\n",
      "Completed search. Total 969 entries!\n",
      "Now searching r/ScientificNutrition for pravachol\n",
      "Completed search. Total 969 entries!\n",
      "Now searching r/ScientificNutrition for lovastatin\n",
      "Completed search. Total 969 entries!\n",
      "Now searching r/ScientificNutrition for altoprev\n",
      "Completed search. Total 969 entries!\n",
      "Now searching r/ScientificNutrition for fluvastatin\n",
      "Completed search. Total 969 entries!\n",
      "Now searching r/ScientificNutrition for lescol\n",
      "Completed search. Total 969 entries!\n",
      "Now searching r/askscience for statin\n",
      "Completed search. Total 980 entries!\n",
      "Now searching r/askscience for atorvastatin\n",
      "Completed search. Total 982 entries!\n",
      "Now searching r/askscience for lipitor\n",
      "Completed search. Total 987 entries!\n",
      "Now searching r/askscience for rosuvastatin\n",
      "Completed search. Total 988 entries!\n",
      "Now searching r/askscience for crestor\n",
      "Completed search. Total 990 entries!\n",
      "Now searching r/askscience for pitavastatin\n",
      "Completed search. Total 990 entries!\n",
      "Now searching r/askscience for livalo\n",
      "Completed search. Total 990 entries!\n",
      "Now searching r/askscience for zypitamag\n",
      "Completed search. Total 990 entries!\n",
      "Now searching r/askscience for simvastatin\n",
      "Completed search. Total 991 entries!\n",
      "Now searching r/askscience for zocor\n",
      "Completed search. Total 991 entries!\n",
      "Now searching r/askscience for pravastatin\n",
      "Completed search. Total 991 entries!\n",
      "Now searching r/askscience for pravachol\n",
      "Completed search. Total 991 entries!\n",
      "Now searching r/askscience for lovastatin\n",
      "Completed search. Total 991 entries!\n",
      "Now searching r/askscience for altoprev\n",
      "Completed search. Total 991 entries!\n",
      "Now searching r/askscience for fluvastatin\n",
      "Completed search. Total 991 entries!\n",
      "Now searching r/askscience for lescol\n",
      "Completed search. Total 991 entries!\n",
      "Now searching r/news for statin\n",
      "Completed search. Total 1009 entries!\n",
      "Now searching r/news for atorvastatin\n",
      "Completed search. Total 1015 entries!\n",
      "Now searching r/news for lipitor\n",
      "Completed search. Total 1026 entries!\n",
      "Now searching r/news for rosuvastatin\n",
      "Completed search. Total 1027 entries!\n",
      "Now searching r/news for crestor\n",
      "Completed search. Total 1035 entries!\n",
      "Now searching r/news for pitavastatin\n",
      "Completed search. Total 1036 entries!\n",
      "Now searching r/news for livalo\n",
      "Completed search. Total 1036 entries!\n",
      "Now searching r/news for zypitamag\n",
      "Completed search. Total 1036 entries!\n",
      "Now searching r/news for simvastatin\n",
      "Completed search. Total 1040 entries!\n",
      "Now searching r/news for zocor\n",
      "Completed search. Total 1040 entries!\n",
      "Now searching r/news for pravastatin\n",
      "Completed search. Total 1040 entries!\n",
      "Now searching r/news for pravachol\n",
      "Completed search. Total 1040 entries!\n",
      "Now searching r/news for lovastatin\n",
      "Completed search. Total 1040 entries!\n",
      "Now searching r/news for altoprev\n",
      "Completed search. Total 1040 entries!\n",
      "Now searching r/news for fluvastatin\n",
      "Completed search. Total 1040 entries!\n",
      "Now searching r/news for lescol\n",
      "Completed search. Total 1040 entries!\n",
      "Now searching r/PlantBasedDiet for statin\n",
      "Completed search. Total 1063 entries!\n",
      "Now searching r/PlantBasedDiet for atorvastatin\n",
      "Completed search. Total 1063 entries!\n",
      "Now searching r/PlantBasedDiet for lipitor\n",
      "Completed search. Total 1064 entries!\n",
      "Now searching r/PlantBasedDiet for rosuvastatin\n",
      "Completed search. Total 1065 entries!\n",
      "Now searching r/PlantBasedDiet for crestor\n",
      "Completed search. Total 1068 entries!\n",
      "Now searching r/PlantBasedDiet for pitavastatin\n",
      "Completed search. Total 1068 entries!\n",
      "Now searching r/PlantBasedDiet for livalo\n",
      "Completed search. Total 1068 entries!\n",
      "Now searching r/PlantBasedDiet for zypitamag\n",
      "Completed search. Total 1068 entries!\n",
      "Now searching r/PlantBasedDiet for simvastatin\n",
      "Completed search. Total 1068 entries!\n",
      "Now searching r/PlantBasedDiet for zocor\n",
      "Completed search. Total 1068 entries!\n",
      "Now searching r/PlantBasedDiet for pravastatin\n",
      "Completed search. Total 1069 entries!\n",
      "Now searching r/PlantBasedDiet for pravachol\n",
      "Completed search. Total 1069 entries!\n",
      "Now searching r/PlantBasedDiet for lovastatin\n",
      "Completed search. Total 1069 entries!\n",
      "Now searching r/PlantBasedDiet for altoprev\n",
      "Completed search. Total 1069 entries!\n",
      "Now searching r/PlantBasedDiet for fluvastatin\n",
      "Completed search. Total 1069 entries!\n",
      "Now searching r/PlantBasedDiet for lescol\n",
      "Completed search. Total 1069 entries!\n",
      "Now searching r/nutrition for statin\n",
      "Completed search. Total 1088 entries!\n",
      "Now searching r/nutrition for atorvastatin\n",
      "Completed search. Total 1089 entries!\n",
      "Now searching r/nutrition for lipitor\n",
      "Completed search. Total 1090 entries!\n",
      "Now searching r/nutrition for rosuvastatin\n",
      "Completed search. Total 1090 entries!\n",
      "Now searching r/nutrition for crestor\n",
      "Completed search. Total 1090 entries!\n",
      "Now searching r/nutrition for pitavastatin\n",
      "Completed search. Total 1090 entries!\n",
      "Now searching r/nutrition for livalo\n",
      "Completed search. Total 1090 entries!\n",
      "Now searching r/nutrition for zypitamag\n",
      "Completed search. Total 1090 entries!\n",
      "Now searching r/nutrition for simvastatin\n",
      "Completed search. Total 1091 entries!\n",
      "Now searching r/nutrition for zocor\n",
      "Completed search. Total 1091 entries!\n",
      "Now searching r/nutrition for pravastatin\n",
      "Completed search. Total 1091 entries!\n",
      "Now searching r/nutrition for pravachol\n",
      "Completed search. Total 1091 entries!\n",
      "Now searching r/nutrition for lovastatin\n",
      "Completed search. Total 1091 entries!\n",
      "Now searching r/nutrition for altoprev\n",
      "Completed search. Total 1091 entries!\n",
      "Now searching r/nutrition for fluvastatin\n",
      "Completed search. Total 1091 entries!\n",
      "Now searching r/nutrition for lescol\n",
      "Completed search. Total 1091 entries!\n",
      "Now searching r/Paleo for statin\n",
      "Completed search. Total 1101 entries!\n",
      "Now searching r/Paleo for atorvastatin\n",
      "Completed search. Total 1101 entries!\n",
      "Now searching r/Paleo for lipitor\n",
      "Completed search. Total 1102 entries!\n",
      "Now searching r/Paleo for rosuvastatin\n",
      "Completed search. Total 1102 entries!\n",
      "Now searching r/Paleo for crestor\n",
      "Completed search. Total 1102 entries!\n",
      "Now searching r/Paleo for pitavastatin\n",
      "Completed search. Total 1102 entries!\n",
      "Now searching r/Paleo for livalo\n",
      "Completed search. Total 1102 entries!\n",
      "Now searching r/Paleo for zypitamag\n",
      "Completed search. Total 1102 entries!\n",
      "Now searching r/Paleo for simvastatin\n",
      "Completed search. Total 1102 entries!\n",
      "Now searching r/Paleo for zocor\n",
      "Completed search. Total 1102 entries!\n",
      "Now searching r/Paleo for pravastatin\n",
      "Completed search. Total 1102 entries!\n",
      "Now searching r/Paleo for pravachol\n",
      "Completed search. Total 1102 entries!\n",
      "Now searching r/Paleo for lovastatin\n",
      "Completed search. Total 1102 entries!\n",
      "Now searching r/Paleo for altoprev\n",
      "Completed search. Total 1102 entries!\n",
      "Now searching r/Paleo for fluvastatin\n",
      "Completed search. Total 1102 entries!\n",
      "Now searching r/Paleo for lescol\n",
      "Completed search. Total 1102 entries!\n",
      "Now searching r/longevity for statin\n",
      "Completed search. Total 1106 entries!\n",
      "Now searching r/longevity for atorvastatin\n",
      "Completed search. Total 1106 entries!\n",
      "Now searching r/longevity for lipitor\n",
      "Completed search. Total 1106 entries!\n",
      "Now searching r/longevity for rosuvastatin\n",
      "Completed search. Total 1106 entries!\n",
      "Now searching r/longevity for crestor\n",
      "Completed search. Total 1108 entries!\n",
      "Now searching r/longevity for pitavastatin\n",
      "Completed search. Total 1108 entries!\n",
      "Now searching r/longevity for livalo\n",
      "Completed search. Total 1108 entries!\n",
      "Now searching r/longevity for zypitamag\n",
      "Completed search. Total 1108 entries!\n",
      "Now searching r/longevity for simvastatin\n",
      "Completed search. Total 1109 entries!\n",
      "Now searching r/longevity for zocor\n",
      "Completed search. Total 1109 entries!\n",
      "Now searching r/longevity for pravastatin\n",
      "Completed search. Total 1109 entries!\n",
      "Now searching r/longevity for pravachol\n",
      "Completed search. Total 1109 entries!\n",
      "Now searching r/longevity for lovastatin\n",
      "Completed search. Total 1109 entries!\n",
      "Now searching r/longevity for altoprev\n",
      "Completed search. Total 1109 entries!\n",
      "Now searching r/longevity for fluvastatin\n",
      "Completed search. Total 1110 entries!\n",
      "Now searching r/longevity for lescol\n",
      "Completed search. Total 1110 entries!\n",
      "Now searching r/Supplements for statin\n",
      "Completed search. Total 1140 entries!\n",
      "Now searching r/Supplements for atorvastatin\n",
      "Completed search. Total 1144 entries!\n",
      "Now searching r/Supplements for lipitor\n",
      "Completed search. Total 1153 entries!\n",
      "Now searching r/Supplements for rosuvastatin\n",
      "Completed search. Total 1155 entries!\n",
      "Now searching r/Supplements for crestor\n",
      "Completed search. Total 1159 entries!\n",
      "Now searching r/Supplements for pitavastatin\n",
      "Completed search. Total 1159 entries!\n",
      "Now searching r/Supplements for livalo\n",
      "Completed search. Total 1159 entries!\n",
      "Now searching r/Supplements for zypitamag\n",
      "Completed search. Total 1159 entries!\n",
      "Now searching r/Supplements for simvastatin\n",
      "Completed search. Total 1160 entries!\n",
      "Now searching r/Supplements for zocor\n",
      "Completed search. Total 1162 entries!\n",
      "Now searching r/Supplements for pravastatin\n",
      "Completed search. Total 1164 entries!\n",
      "Now searching r/Supplements for pravachol\n",
      "Completed search. Total 1164 entries!\n",
      "Now searching r/Supplements for lovastatin\n",
      "Completed search. Total 1167 entries!\n",
      "Now searching r/Supplements for altoprev\n",
      "Completed search. Total 1167 entries!\n",
      "Now searching r/Supplements for fluvastatin\n",
      "Completed search. Total 1167 entries!\n",
      "Now searching r/Supplements for lescol\n",
      "Completed search. Total 1167 entries!\n",
      "Now searching r/COVID19 for statin\n",
      "Completed search. Total 1178 entries!\n",
      "Now searching r/COVID19 for atorvastatin\n",
      "Completed search. Total 1180 entries!\n",
      "Now searching r/COVID19 for lipitor\n",
      "Completed search. Total 1180 entries!\n",
      "Now searching r/COVID19 for rosuvastatin\n",
      "Completed search. Total 1181 entries!\n",
      "Now searching r/COVID19 for crestor\n",
      "Completed search. Total 1181 entries!\n",
      "Now searching r/COVID19 for pitavastatin\n",
      "Completed search. Total 1181 entries!\n",
      "Now searching r/COVID19 for livalo\n",
      "Completed search. Total 1181 entries!\n",
      "Now searching r/COVID19 for zypitamag\n",
      "Completed search. Total 1181 entries!\n",
      "Now searching r/COVID19 for simvastatin\n",
      "Completed search. Total 1182 entries!\n",
      "Now searching r/COVID19 for zocor\n",
      "Completed search. Total 1182 entries!\n",
      "Now searching r/COVID19 for pravastatin\n",
      "Completed search. Total 1183 entries!\n",
      "Now searching r/COVID19 for pravachol\n",
      "Completed search. Total 1183 entries!\n",
      "Now searching r/COVID19 for lovastatin\n",
      "Completed search. Total 1183 entries!\n",
      "Now searching r/COVID19 for altoprev\n",
      "Completed search. Total 1183 entries!\n",
      "Now searching r/COVID19 for fluvastatin\n",
      "Completed search. Total 1184 entries!\n",
      "Now searching r/COVID19 for lescol\n",
      "Completed search. Total 1184 entries!\n",
      "Now searching r/Cholesterol for statin\n",
      "Completed search. Total 1418 entries!\n",
      "Now searching r/Cholesterol for atorvastatin\n",
      "Completed search. Total 1467 entries!\n",
      "Now searching r/Cholesterol for lipitor\n",
      "Completed search. Total 1542 entries!\n",
      "Now searching r/Cholesterol for rosuvastatin\n",
      "Completed search. Total 1584 entries!\n",
      "Now searching r/Cholesterol for crestor\n",
      "Completed search. Total 1649 entries!\n",
      "Now searching r/Cholesterol for pitavastatin\n",
      "Completed search. Total 1651 entries!\n",
      "Now searching r/Cholesterol for livalo\n",
      "Completed search. Total 1656 entries!\n",
      "Now searching r/Cholesterol for zypitamag\n",
      "Completed search. Total 1657 entries!\n",
      "Now searching r/Cholesterol for simvastatin\n",
      "Completed search. Total 1669 entries!\n",
      "Now searching r/Cholesterol for zocor\n",
      "Completed search. Total 1676 entries!\n",
      "Now searching r/Cholesterol for pravastatin\n",
      "Completed search. Total 1684 entries!\n",
      "Now searching r/Cholesterol for pravachol\n",
      "Completed search. Total 1684 entries!\n",
      "Now searching r/Cholesterol for lovastatin\n",
      "Completed search. Total 1688 entries!\n",
      "Now searching r/Cholesterol for altoprev\n",
      "Completed search. Total 1688 entries!\n",
      "Now searching r/Cholesterol for fluvastatin\n",
      "Completed search. Total 1688 entries!\n",
      "Now searching r/Cholesterol for lescol\n",
      "Completed search. Total 1688 entries!\n",
      "Now searching r/skeptic for statin\n",
      "Completed search. Total 1689 entries!\n",
      "Now searching r/skeptic for atorvastatin\n",
      "Completed search. Total 1689 entries!\n",
      "Now searching r/skeptic for lipitor\n",
      "Completed search. Total 1689 entries!\n",
      "Now searching r/skeptic for rosuvastatin\n",
      "Completed search. Total 1689 entries!\n",
      "Now searching r/skeptic for crestor\n",
      "Completed search. Total 1689 entries!\n",
      "Now searching r/skeptic for pitavastatin\n",
      "Completed search. Total 1689 entries!\n",
      "Now searching r/skeptic for livalo\n",
      "Completed search. Total 1689 entries!\n",
      "Now searching r/skeptic for zypitamag\n",
      "Completed search. Total 1689 entries!\n",
      "Now searching r/skeptic for simvastatin\n",
      "Completed search. Total 1689 entries!\n",
      "Now searching r/skeptic for zocor\n",
      "Completed search. Total 1689 entries!\n",
      "Now searching r/skeptic for pravastatin\n",
      "Completed search. Total 1689 entries!\n",
      "Now searching r/skeptic for pravachol\n",
      "Completed search. Total 1689 entries!\n",
      "Now searching r/skeptic for lovastatin\n",
      "Completed search. Total 1689 entries!\n",
      "Now searching r/skeptic for altoprev\n",
      "Completed search. Total 1689 entries!\n",
      "Now searching r/skeptic for fluvastatin\n",
      "Completed search. Total 1689 entries!\n",
      "Now searching r/skeptic for lescol\n",
      "Completed search. Total 1689 entries!\n",
      "Now searching r/diabetes for statin\n",
      "Completed search. Total 1759 entries!\n",
      "Now searching r/diabetes for atorvastatin\n",
      "Completed search. Total 1779 entries!\n",
      "Now searching r/diabetes for lipitor\n",
      "Completed search. Total 1817 entries!\n",
      "Now searching r/diabetes for rosuvastatin\n",
      "Completed search. Total 1823 entries!\n",
      "Now searching r/diabetes for crestor\n",
      "Completed search. Total 1838 entries!\n",
      "Now searching r/diabetes for pitavastatin\n",
      "Completed search. Total 1838 entries!\n",
      "Now searching r/diabetes for livalo\n",
      "Completed search. Total 1838 entries!\n",
      "Now searching r/diabetes for zypitamag\n",
      "Completed search. Total 1838 entries!\n",
      "Now searching r/diabetes for simvastatin\n",
      "Completed search. Total 1855 entries!\n",
      "Now searching r/diabetes for zocor\n",
      "Completed search. Total 1856 entries!\n",
      "Now searching r/diabetes for pravastatin\n",
      "Completed search. Total 1866 entries!\n",
      "Now searching r/diabetes for pravachol\n",
      "Completed search. Total 1866 entries!\n",
      "Now searching r/diabetes for lovastatin\n",
      "Completed search. Total 1870 entries!\n",
      "Now searching r/diabetes for altoprev\n",
      "Completed search. Total 1870 entries!\n",
      "Now searching r/diabetes for fluvastatin\n",
      "Completed search. Total 1870 entries!\n",
      "Now searching r/diabetes for lescol\n",
      "Completed search. Total 1870 entries!\n",
      "Now searching r/stopusingstatins for statin\n",
      "Completed search. Total 1882 entries!\n",
      "Now searching r/stopusingstatins for atorvastatin\n",
      "Completed search. Total 1882 entries!\n",
      "Now searching r/stopusingstatins for lipitor\n",
      "Completed search. Total 1882 entries!\n",
      "Now searching r/stopusingstatins for rosuvastatin\n",
      "Completed search. Total 1882 entries!\n",
      "Now searching r/stopusingstatins for crestor\n",
      "Completed search. Total 1882 entries!\n",
      "Now searching r/stopusingstatins for pitavastatin\n",
      "Completed search. Total 1882 entries!\n",
      "Now searching r/stopusingstatins for livalo\n",
      "Completed search. Total 1882 entries!\n",
      "Now searching r/stopusingstatins for zypitamag\n",
      "Completed search. Total 1882 entries!\n",
      "Now searching r/stopusingstatins for simvastatin\n",
      "Completed search. Total 1883 entries!\n",
      "Now searching r/stopusingstatins for zocor\n",
      "Completed search. Total 1883 entries!\n",
      "Now searching r/stopusingstatins for pravastatin\n",
      "Completed search. Total 1883 entries!\n",
      "Now searching r/stopusingstatins for pravachol\n",
      "Completed search. Total 1883 entries!\n",
      "Now searching r/stopusingstatins for lovastatin\n",
      "Completed search. Total 1883 entries!\n",
      "Now searching r/stopusingstatins for altoprev\n",
      "Completed search. Total 1883 entries!\n",
      "Now searching r/stopusingstatins for fluvastatin\n",
      "Completed search. Total 1883 entries!\n",
      "Now searching r/stopusingstatins for lescol\n",
      "Completed search. Total 1883 entries!\n"
     ]
    }
   ],
   "source": [
    "subreddits = ['ketoscience', 'science', 'keto', 'Health', 'conspiracy', 'todayilearned', 'ScientificNutrition', 'askscience',\n",
    "    'news', 'PlantBasedDiet', 'nutrition', 'Paleo', 'longevity', 'Supplements', 'COVID19', 'Cholesterol', 'skeptic', 'diabetes', 'stopusingstatins']\n",
    "search_words = ['statin', 'atorvastatin', 'lipitor', 'rosuvastatin', 'crestor', 'pitavastatin', 'livalo', 'zypitamag', 'simvastatin', 'zocor', 'pravastatin', \n",
    "                'pravachol', 'lovastatin', 'altoprev', 'fluvastatin', 'lescol']\n",
    "\n",
    "comms = scrape_reddit_comments(subreddits, search_words, 'comments_20220712.xlsx')\n",
    "posts = scrape_reddit_posts(subreddits, search_words, 'posts_20220712.xlsx')"
   ]
  },
  {
   "cell_type": "code",
   "execution_count": 17,
   "id": "4000d775-8710-4a01-9c5b-9f5f06936053",
   "metadata": {},
   "outputs": [],
   "source": [
    "comms = pd.read_excel(DATA_FOLDER + 'comments_20220626.xlsx', index_col='link_id')\n",
    "posts = pd.read_excel(DATA_FOLDER + 'posts_20220626.xlsx', index_col='id')\n",
    "\n",
    "posts['date'] = posts['date'].apply(lambda x: dt.fromtimestamp(x))\n",
    "comms['date'] = comms['date'].apply(lambda x: dt.fromtimestamp(x))"
   ]
  },
  {
   "cell_type": "code",
   "execution_count": 31,
   "id": "64b90f61-2223-4080-b723-05eda24d653c",
   "metadata": {},
   "outputs": [],
   "source": [
    "search_words_regex = re.compile(\"|\".join(search_words))\n",
    "\n",
    "matching_rows = posts['body'].map(lambda x: True if search_words_regex.search(x) else False) + \\\n",
    "    posts['title'].map(lambda x: True if search_words_regex.search(x) else False)\n",
    "\n",
    "posts = posts.loc[matching_rows, :].sort_values(by='upvotes')"
   ]
  },
  {
   "cell_type": "code",
   "execution_count": 32,
   "id": "a5709ae2-a384-406b-9075-f3d561689425",
   "metadata": {},
   "outputs": [],
   "source": [
    "with pd.ExcelWriter(DATA_FOLDER + 'posts_20220712.xlsx', engine='xlsxwriter', options={'strings_to_urls': False}) as writer:\n",
    "    posts.to_excel(writer)"
   ]
  },
  {
   "cell_type": "code",
   "execution_count": 47,
   "id": "b2d520af-d82c-4822-ac59-bb70d904ead6",
   "metadata": {},
   "outputs": [],
   "source": [
    "posts['content'] = posts['title'] + '. ' + posts['body']\n",
    "comms['content'] = comms['body']\n",
    "\n",
    "posts['type'] = 'post'\n",
    "comms['type'] = 'comment'\n",
    "\n",
    "posts.set_index('id', inplace=True)\n",
    "comms.set_index('id', inplace=True)"
   ]
  },
  {
   "cell_type": "code",
   "execution_count": 48,
   "id": "203635b2-bea0-4d5d-91cc-f02d8e393701",
   "metadata": {
    "collapsed": true,
    "jupyter": {
     "outputs_hidden": true
    },
    "tags": []
   },
   "outputs": [
    {
     "data": {
      "text/html": [
       "<div>\n",
       "<style scoped>\n",
       "    .dataframe tbody tr th:only-of-type {\n",
       "        vertical-align: middle;\n",
       "    }\n",
       "\n",
       "    .dataframe tbody tr th {\n",
       "        vertical-align: top;\n",
       "    }\n",
       "\n",
       "    .dataframe thead th {\n",
       "        text-align: right;\n",
       "    }\n",
       "</style>\n",
       "<table border=\"1\" class=\"dataframe\">\n",
       "  <thead>\n",
       "    <tr style=\"text-align: right;\">\n",
       "      <th></th>\n",
       "      <th>query</th>\n",
       "      <th>subreddit</th>\n",
       "      <th>id</th>\n",
       "      <th>author</th>\n",
       "      <th>title</th>\n",
       "      <th>date</th>\n",
       "      <th>body</th>\n",
       "      <th>n_comments</th>\n",
       "      <th>upvotes</th>\n",
       "      <th>content</th>\n",
       "    </tr>\n",
       "  </thead>\n",
       "  <tbody>\n",
       "    <tr>\n",
       "      <th>122</th>\n",
       "      <td>science</td>\n",
       "      <td>statin</td>\n",
       "      <td>690frt</td>\n",
       "      <td>[deleted]</td>\n",
       "      <td>A new study helps debunk the widespread belief...</td>\n",
       "      <td>1493819266</td>\n",
       "      <td>[deleted]</td>\n",
       "      <td>0</td>\n",
       "      <td>0</td>\n",
       "      <td>A new study helps debunk the widespread belief...</td>\n",
       "    </tr>\n",
       "    <tr>\n",
       "      <th>1688</th>\n",
       "      <td>skeptic</td>\n",
       "      <td>statin</td>\n",
       "      <td>3yhkcr</td>\n",
       "      <td>FutureFormerRedditor</td>\n",
       "      <td>Are statin drugs the cause of widespread decli...</td>\n",
       "      <td>1451280370</td>\n",
       "      <td></td>\n",
       "      <td>2</td>\n",
       "      <td>0</td>\n",
       "      <td>Are statin drugs the cause of widespread decli...</td>\n",
       "    </tr>\n",
       "    <tr>\n",
       "      <th>357</th>\n",
       "      <td>keto</td>\n",
       "      <td>statin</td>\n",
       "      <td>6kynru</td>\n",
       "      <td>Cetaphil911</td>\n",
       "      <td>Blood test help...</td>\n",
       "      <td>1499069941</td>\n",
       "      <td>I do not have the specific numbers right now b...</td>\n",
       "      <td>13</td>\n",
       "      <td>0</td>\n",
       "      <td>Blood test help.... I do not have the specific...</td>\n",
       "    </tr>\n",
       "    <tr>\n",
       "      <th>734</th>\n",
       "      <td>Health</td>\n",
       "      <td>statin</td>\n",
       "      <td>7t4yk</td>\n",
       "      <td>quakerorts</td>\n",
       "      <td>High-dose statin therapy promotes tumor growth</td>\n",
       "      <td>1233170813</td>\n",
       "      <td></td>\n",
       "      <td>0</td>\n",
       "      <td>0</td>\n",
       "      <td>High-dose statin therapy promotes tumor growth.</td>\n",
       "    </tr>\n",
       "    <tr>\n",
       "      <th>1100</th>\n",
       "      <td>Paleo</td>\n",
       "      <td>statin</td>\n",
       "      <td>qnmcy</td>\n",
       "      <td>zak_on_reddit</td>\n",
       "      <td>On 3/8/12 Limpdick Limbaugh is praising Paleo ...</td>\n",
       "      <td>1331231247</td>\n",
       "      <td>On THU 3/8 I'm listening to the Hillbilly Hero...</td>\n",
       "      <td>4</td>\n",
       "      <td>0</td>\n",
       "      <td>On 3/8/12 Limpdick Limbaugh is praising Paleo ...</td>\n",
       "    </tr>\n",
       "    <tr>\n",
       "      <th>...</th>\n",
       "      <td>...</td>\n",
       "      <td>...</td>\n",
       "      <td>...</td>\n",
       "      <td>...</td>\n",
       "      <td>...</td>\n",
       "      <td>...</td>\n",
       "      <td>...</td>\n",
       "      <td>...</td>\n",
       "      <td>...</td>\n",
       "      <td>...</td>\n",
       "    </tr>\n",
       "    <tr>\n",
       "      <th>321</th>\n",
       "      <td>keto</td>\n",
       "      <td>statin</td>\n",
       "      <td>7wnkhk</td>\n",
       "      <td>Lyttle86</td>\n",
       "      <td>Keto is changing my practice.</td>\n",
       "      <td>1518290784</td>\n",
       "      <td>I’m a physician in a rural town in Canada.  I ...</td>\n",
       "      <td>199</td>\n",
       "      <td>685</td>\n",
       "      <td>Keto is changing my practice.. I’m a physician...</td>\n",
       "    </tr>\n",
       "    <tr>\n",
       "      <th>304</th>\n",
       "      <td>keto</td>\n",
       "      <td>statin</td>\n",
       "      <td>93t5y0</td>\n",
       "      <td>jordanonfilm</td>\n",
       "      <td>Nine months into keto, I've given birth to a n...</td>\n",
       "      <td>1533158553</td>\n",
       "      <td>TL; DR: FAT MAKES YOU FULL. 350 to 199.\\n\\nIn ...</td>\n",
       "      <td>111</td>\n",
       "      <td>829</td>\n",
       "      <td>Nine months into keto, I've given birth to a n...</td>\n",
       "    </tr>\n",
       "    <tr>\n",
       "      <th>112</th>\n",
       "      <td>science</td>\n",
       "      <td>statin</td>\n",
       "      <td>c57kd5</td>\n",
       "      <td>cassidy498</td>\n",
       "      <td>Cholesterol medication could invite diabetes, ...</td>\n",
       "      <td>1561464326</td>\n",
       "      <td></td>\n",
       "      <td>131</td>\n",
       "      <td>910</td>\n",
       "      <td>Cholesterol medication could invite diabetes, ...</td>\n",
       "    </tr>\n",
       "    <tr>\n",
       "      <th>298</th>\n",
       "      <td>keto</td>\n",
       "      <td>statin</td>\n",
       "      <td>9fex2w</td>\n",
       "      <td>Sayonara_Sugar</td>\n",
       "      <td>8 months of reducing sugar and simple carbs an...</td>\n",
       "      <td>1536812406</td>\n",
       "      <td>Yes.\\n\\nYes it was.\\n\\nI weighed in on January...</td>\n",
       "      <td>151</td>\n",
       "      <td>1615</td>\n",
       "      <td>8 months of reducing sugar and simple carbs an...</td>\n",
       "    </tr>\n",
       "    <tr>\n",
       "      <th>611</th>\n",
       "      <td>keto</td>\n",
       "      <td>pravastatin</td>\n",
       "      <td>96ouh9</td>\n",
       "      <td>frozengrapes23</td>\n",
       "      <td>From 489 to 288 - Down 201 lbs - If I can do t...</td>\n",
       "      <td>1534077167</td>\n",
       "      <td>**457 lbs** \\- [https://imgur.com/a/LlkS1](htt...</td>\n",
       "      <td>214</td>\n",
       "      <td>2042</td>\n",
       "      <td>From 489 to 288 - Down 201 lbs - If I can do t...</td>\n",
       "    </tr>\n",
       "  </tbody>\n",
       "</table>\n",
       "<p>1189 rows × 10 columns</p>\n",
       "</div>"
      ],
      "text/plain": [
       "        query    subreddit      id                author  \\\n",
       "122   science       statin  690frt             [deleted]   \n",
       "1688  skeptic       statin  3yhkcr  FutureFormerRedditor   \n",
       "357      keto       statin  6kynru           Cetaphil911   \n",
       "734    Health       statin   7t4yk            quakerorts   \n",
       "1100    Paleo       statin   qnmcy         zak_on_reddit   \n",
       "...       ...          ...     ...                   ...   \n",
       "321      keto       statin  7wnkhk              Lyttle86   \n",
       "304      keto       statin  93t5y0          jordanonfilm   \n",
       "112   science       statin  c57kd5            cassidy498   \n",
       "298      keto       statin  9fex2w        Sayonara_Sugar   \n",
       "611      keto  pravastatin  96ouh9        frozengrapes23   \n",
       "\n",
       "                                                  title        date  \\\n",
       "122   A new study helps debunk the widespread belief...  1493819266   \n",
       "1688  Are statin drugs the cause of widespread decli...  1451280370   \n",
       "357                                  Blood test help...  1499069941   \n",
       "734      High-dose statin therapy promotes tumor growth  1233170813   \n",
       "1100  On 3/8/12 Limpdick Limbaugh is praising Paleo ...  1331231247   \n",
       "...                                                 ...         ...   \n",
       "321                       Keto is changing my practice.  1518290784   \n",
       "304   Nine months into keto, I've given birth to a n...  1533158553   \n",
       "112   Cholesterol medication could invite diabetes, ...  1561464326   \n",
       "298   8 months of reducing sugar and simple carbs an...  1536812406   \n",
       "611   From 489 to 288 - Down 201 lbs - If I can do t...  1534077167   \n",
       "\n",
       "                                                   body  n_comments  upvotes  \\\n",
       "122                                           [deleted]           0        0   \n",
       "1688                                                              2        0   \n",
       "357   I do not have the specific numbers right now b...          13        0   \n",
       "734                                                               0        0   \n",
       "1100  On THU 3/8 I'm listening to the Hillbilly Hero...           4        0   \n",
       "...                                                 ...         ...      ...   \n",
       "321   I’m a physician in a rural town in Canada.  I ...         199      685   \n",
       "304   TL; DR: FAT MAKES YOU FULL. 350 to 199.\\n\\nIn ...         111      829   \n",
       "112                                                             131      910   \n",
       "298   Yes.\\n\\nYes it was.\\n\\nI weighed in on January...         151     1615   \n",
       "611   **457 lbs** \\- [https://imgur.com/a/LlkS1](htt...         214     2042   \n",
       "\n",
       "                                                content  \n",
       "122   A new study helps debunk the widespread belief...  \n",
       "1688  Are statin drugs the cause of widespread decli...  \n",
       "357   Blood test help.... I do not have the specific...  \n",
       "734    High-dose statin therapy promotes tumor growth.   \n",
       "1100  On 3/8/12 Limpdick Limbaugh is praising Paleo ...  \n",
       "...                                                 ...  \n",
       "321   Keto is changing my practice.. I’m a physician...  \n",
       "304   Nine months into keto, I've given birth to a n...  \n",
       "112   Cholesterol medication could invite diabetes, ...  \n",
       "298   8 months of reducing sugar and simple carbs an...  \n",
       "611   From 489 to 288 - Down 201 lbs - If I can do t...  \n",
       "\n",
       "[1189 rows x 10 columns]"
      ]
     },
     "execution_count": 48,
     "metadata": {},
     "output_type": "execute_result"
    }
   ],
   "source": [
    "\n"
   ]
  },
  {
   "cell_type": "code",
   "execution_count": 50,
   "id": "3f3c5ac1-6843-4972-891d-3555eade1833",
   "metadata": {},
   "outputs": [
    {
     "data": {
      "text/html": [
       "<div>\n",
       "<style scoped>\n",
       "    .dataframe tbody tr th:only-of-type {\n",
       "        vertical-align: middle;\n",
       "    }\n",
       "\n",
       "    .dataframe tbody tr th {\n",
       "        vertical-align: top;\n",
       "    }\n",
       "\n",
       "    .dataframe thead th {\n",
       "        text-align: right;\n",
       "    }\n",
       "</style>\n",
       "<table border=\"1\" class=\"dataframe\">\n",
       "  <thead>\n",
       "    <tr style=\"text-align: right;\">\n",
       "      <th></th>\n",
       "      <th>query</th>\n",
       "      <th>subreddit</th>\n",
       "      <th>id</th>\n",
       "      <th>author</th>\n",
       "      <th>title</th>\n",
       "      <th>body</th>\n",
       "      <th>date</th>\n",
       "      <th>link_id</th>\n",
       "      <th>parent_id</th>\n",
       "      <th>upvotes</th>\n",
       "      <th>content</th>\n",
       "    </tr>\n",
       "  </thead>\n",
       "  <tbody>\n",
       "    <tr>\n",
       "      <th>0</th>\n",
       "      <td>ketoscience</td>\n",
       "      <td>statin</td>\n",
       "      <td>icnalcx</td>\n",
       "      <td>dirtyloophole</td>\n",
       "      <td></td>\n",
       "      <td>I completely agree that there is a lot of BS Y...</td>\n",
       "      <td>1655424021</td>\n",
       "      <td>t3_rnqlnj</td>\n",
       "      <td>t1_i9t0ktq</td>\n",
       "      <td>1</td>\n",
       "      <td>I completely agree that there is a lot of BS Y...</td>\n",
       "    </tr>\n",
       "    <tr>\n",
       "      <th>1</th>\n",
       "      <td>ketoscience</td>\n",
       "      <td>statin</td>\n",
       "      <td>i9su4gy</td>\n",
       "      <td>Etadenod</td>\n",
       "      <td></td>\n",
       "      <td>bravo. this is the best answer why you should ...</td>\n",
       "      <td>1653396317</td>\n",
       "      <td>t3_rnqlnj</td>\n",
       "      <td>t1_hpxgazc</td>\n",
       "      <td>1</td>\n",
       "      <td>bravo. this is the best answer why you should ...</td>\n",
       "    </tr>\n",
       "    <tr>\n",
       "      <th>2</th>\n",
       "      <td>ketoscience</td>\n",
       "      <td>statin</td>\n",
       "      <td>i9stx7r</td>\n",
       "      <td>Etadenod</td>\n",
       "      <td></td>\n",
       "      <td>Evidence supports the idea that statin therapy...</td>\n",
       "      <td>1653396204</td>\n",
       "      <td>t3_rnqlnj</td>\n",
       "      <td>t1_hptsfui</td>\n",
       "      <td>1</td>\n",
       "      <td>Evidence supports the idea that statin therapy...</td>\n",
       "    </tr>\n",
       "    <tr>\n",
       "      <th>3</th>\n",
       "      <td>ketoscience</td>\n",
       "      <td>statin</td>\n",
       "      <td>i8gq5ls</td>\n",
       "      <td>Triabolical_</td>\n",
       "      <td></td>\n",
       "      <td>There is unfortunately not great research on t...</td>\n",
       "      <td>1652456719</td>\n",
       "      <td>t3_uo0wco</td>\n",
       "      <td>t1_i8fwjc8</td>\n",
       "      <td>1</td>\n",
       "      <td>There is unfortunately not great research on t...</td>\n",
       "    </tr>\n",
       "    <tr>\n",
       "      <th>4</th>\n",
       "      <td>ketoscience</td>\n",
       "      <td>statin</td>\n",
       "      <td>i60eyz4</td>\n",
       "      <td>sdavis484</td>\n",
       "      <td></td>\n",
       "      <td>If you take a statin? Weird correlation.</td>\n",
       "      <td>1650814542</td>\n",
       "      <td>t3_uawfdn</td>\n",
       "      <td>t1_i60c4fz</td>\n",
       "      <td>1</td>\n",
       "      <td>If you take a statin? Weird correlation.</td>\n",
       "    </tr>\n",
       "    <tr>\n",
       "      <th>...</th>\n",
       "      <td>...</td>\n",
       "      <td>...</td>\n",
       "      <td>...</td>\n",
       "      <td>...</td>\n",
       "      <td>...</td>\n",
       "      <td>...</td>\n",
       "      <td>...</td>\n",
       "      <td>...</td>\n",
       "      <td>...</td>\n",
       "      <td>...</td>\n",
       "      <td>...</td>\n",
       "    </tr>\n",
       "    <tr>\n",
       "      <th>10556</th>\n",
       "      <td>diabetes</td>\n",
       "      <td>lovastatin</td>\n",
       "      <td>co9d4e9</td>\n",
       "      <td>altintx</td>\n",
       "      <td></td>\n",
       "      <td>I swing between A1c of 5.8-6.2, and my cholest...</td>\n",
       "      <td>1422928570</td>\n",
       "      <td>t3_2uka8i</td>\n",
       "      <td>t3_2uka8i</td>\n",
       "      <td>1</td>\n",
       "      <td>I swing between A1c of 5.8-6.2, and my cholest...</td>\n",
       "    </tr>\n",
       "    <tr>\n",
       "      <th>10557</th>\n",
       "      <td>diabetes</td>\n",
       "      <td>lovastatin</td>\n",
       "      <td>cibgfko</td>\n",
       "      <td>Smokeya</td>\n",
       "      <td></td>\n",
       "      <td>Goto any store with a pharmacy, they sell some...</td>\n",
       "      <td>1403163936</td>\n",
       "      <td>t3_28hrqu</td>\n",
       "      <td>t3_28hrqu</td>\n",
       "      <td>2</td>\n",
       "      <td>Goto any store with a pharmacy, they sell some...</td>\n",
       "    </tr>\n",
       "    <tr>\n",
       "      <th>10558</th>\n",
       "      <td>diabetes</td>\n",
       "      <td>lovastatin</td>\n",
       "      <td>cgizrzz</td>\n",
       "      <td>i4k20z3</td>\n",
       "      <td></td>\n",
       "      <td>No, I do take other medications. Including a l...</td>\n",
       "      <td>1396530448</td>\n",
       "      <td>t3_222o4b</td>\n",
       "      <td>t1_cgitbqp</td>\n",
       "      <td>1</td>\n",
       "      <td>No, I do take other medications. Including a l...</td>\n",
       "    </tr>\n",
       "    <tr>\n",
       "      <th>10559</th>\n",
       "      <td>diabetes</td>\n",
       "      <td>lovastatin</td>\n",
       "      <td>c4kta4n</td>\n",
       "      <td>jordanlund</td>\n",
       "      <td></td>\n",
       "      <td>Watch the potassium as one of the side effects...</td>\n",
       "      <td>1336333786</td>\n",
       "      <td>t3_t9ayj</td>\n",
       "      <td>t1_c4kpvq9</td>\n",
       "      <td>1</td>\n",
       "      <td>Watch the potassium as one of the side effects...</td>\n",
       "    </tr>\n",
       "    <tr>\n",
       "      <th>10561</th>\n",
       "      <td>stopusingstatins</td>\n",
       "      <td>statin</td>\n",
       "      <td>i1uhrs3</td>\n",
       "      <td>737outtadasky</td>\n",
       "      <td></td>\n",
       "      <td>Get ready for the next surge in pro-statin art...</td>\n",
       "      <td>1648069332</td>\n",
       "      <td>t3_texa5v</td>\n",
       "      <td>t3_texa5v</td>\n",
       "      <td>1</td>\n",
       "      <td>Get ready for the next surge in pro-statin art...</td>\n",
       "    </tr>\n",
       "  </tbody>\n",
       "</table>\n",
       "<p>9364 rows × 11 columns</p>\n",
       "</div>"
      ],
      "text/plain": [
       "                  query   subreddit       id         author title  \\\n",
       "0           ketoscience      statin  icnalcx  dirtyloophole         \n",
       "1           ketoscience      statin  i9su4gy       Etadenod         \n",
       "2           ketoscience      statin  i9stx7r       Etadenod         \n",
       "3           ketoscience      statin  i8gq5ls   Triabolical_         \n",
       "4           ketoscience      statin  i60eyz4      sdavis484         \n",
       "...                 ...         ...      ...            ...   ...   \n",
       "10556          diabetes  lovastatin  co9d4e9        altintx         \n",
       "10557          diabetes  lovastatin  cibgfko        Smokeya         \n",
       "10558          diabetes  lovastatin  cgizrzz        i4k20z3         \n",
       "10559          diabetes  lovastatin  c4kta4n     jordanlund         \n",
       "10561  stopusingstatins      statin  i1uhrs3  737outtadasky         \n",
       "\n",
       "                                                    body        date  \\\n",
       "0      I completely agree that there is a lot of BS Y...  1655424021   \n",
       "1      bravo. this is the best answer why you should ...  1653396317   \n",
       "2      Evidence supports the idea that statin therapy...  1653396204   \n",
       "3      There is unfortunately not great research on t...  1652456719   \n",
       "4               If you take a statin? Weird correlation.  1650814542   \n",
       "...                                                  ...         ...   \n",
       "10556  I swing between A1c of 5.8-6.2, and my cholest...  1422928570   \n",
       "10557  Goto any store with a pharmacy, they sell some...  1403163936   \n",
       "10558  No, I do take other medications. Including a l...  1396530448   \n",
       "10559  Watch the potassium as one of the side effects...  1336333786   \n",
       "10561  Get ready for the next surge in pro-statin art...  1648069332   \n",
       "\n",
       "         link_id   parent_id  upvotes  \\\n",
       "0      t3_rnqlnj  t1_i9t0ktq        1   \n",
       "1      t3_rnqlnj  t1_hpxgazc        1   \n",
       "2      t3_rnqlnj  t1_hptsfui        1   \n",
       "3      t3_uo0wco  t1_i8fwjc8        1   \n",
       "4      t3_uawfdn  t1_i60c4fz        1   \n",
       "...          ...         ...      ...   \n",
       "10556  t3_2uka8i   t3_2uka8i        1   \n",
       "10557  t3_28hrqu   t3_28hrqu        2   \n",
       "10558  t3_222o4b  t1_cgitbqp        1   \n",
       "10559   t3_t9ayj  t1_c4kpvq9        1   \n",
       "10561  t3_texa5v   t3_texa5v        1   \n",
       "\n",
       "                                                 content  \n",
       "0      I completely agree that there is a lot of BS Y...  \n",
       "1      bravo. this is the best answer why you should ...  \n",
       "2      Evidence supports the idea that statin therapy...  \n",
       "3      There is unfortunately not great research on t...  \n",
       "4               If you take a statin? Weird correlation.  \n",
       "...                                                  ...  \n",
       "10556  I swing between A1c of 5.8-6.2, and my cholest...  \n",
       "10557  Goto any store with a pharmacy, they sell some...  \n",
       "10558  No, I do take other medications. Including a l...  \n",
       "10559  Watch the potassium as one of the side effects...  \n",
       "10561  Get ready for the next surge in pro-statin art...  \n",
       "\n",
       "[9364 rows x 11 columns]"
      ]
     },
     "execution_count": 50,
     "metadata": {},
     "output_type": "execute_result"
    }
   ],
   "source": [
    "comms"
   ]
  },
  {
   "cell_type": "markdown",
   "id": "3c91bcd8-e313-48f1-83c1-9db784fe148c",
   "metadata": {
    "jp-MarkdownHeadingCollapsed": true,
    "tags": []
   },
   "source": [
    "## PRAW"
   ]
  },
  {
   "cell_type": "markdown",
   "id": "16a1ce5e-9da4-40eb-807c-4c01d60dd1de",
   "metadata": {},
   "source": [
    "Load login information for PRAW to begin scraping :) "
   ]
  },
  {
   "cell_type": "markdown",
   "id": "8242ca79-ca02-41d0-818b-ed9b34f431df",
   "metadata": {
    "jp-MarkdownHeadingCollapsed": true,
    "tags": []
   },
   "source": [
    "## Failed Experiments"
   ]
  },
  {
   "cell_type": "code",
   "execution_count": 156,
   "id": "f44d9628-1140-49ac-b0a7-294a7a0b2303",
   "metadata": {
    "tags": []
   },
   "outputs": [],
   "source": [
    "class PushShift:\n",
    "    \"\"\"\n",
    "    \n",
    "    The PushShift iterator combs through data available via pushshift.io by effectively \\\n",
    "    paginating the search query.\n",
    "    \n",
    "    \"\"\"\n",
    "    \n",
    "    def __init__(self, subreddit, search_phrase, start_time, end_time):\n",
    "        \"\"\"Initialize our PushShift iterator.\n",
    "        \n",
    "        ARGS\n",
    "        ----\n",
    "        @TODO\n",
    "        \n",
    "        \"\"\"\n",
    "        \n",
    "        self.sr = subreddit\n",
    "        self.q = search_phrase\n",
    "        self.st = start_time\n",
    "        self.et = end_time\n",
    "    \n",
    "    def __iter__(self):\n",
    "        self.time = self.et\n",
    "        return self\n",
    "    \n",
    "    def __next__(self):\n",
    "        count = 0\n",
    "        \n",
    "        if self.time > self.st:\n",
    "            \n",
    "            p = {\n",
    "                'q' : self.q,\n",
    "                'subreddit' : self.sr,\n",
    "                'before' : self.time,\n",
    "            }\n",
    "            \n",
    "            url = BASE_POSTS_URL + \"?q={0}&subreddit={1}&before={2}\".format(self.q, self.sr, self.time)\n",
    "            \n",
    "            # posts = requests.get(base_url, params=p).json()['data']\n",
    "            posts = requests.get(base_url)\n",
    "            posts = posts.json()\n",
    "            posts = posts['data']\n",
    "            \n",
    "            import pdb; pdb.set_trace(); \n",
    "            \n",
    "            self.time = posts[-1]['created_utc']\n",
    "            posts = self.convert_to_output(posts)\n",
    "            \n",
    "        return posts\n",
    "            \n",
    "    def convert_to_output(self, posts):\n",
    "        \"\"\" Convert the GET query into a Pandas dataframe that can be concatenated by the \\\n",
    "            parent function calling the iterator.\n",
    "        \"\"\"\n",
    "        \n",
    "        post_info = pd.DataFrame()\n",
    "        post_info.index.name = 'id'\n",
    "\n",
    "        for post in posts:\n",
    "        \n",
    "            post_info.loc[post.id, 'query'] = self.q\n",
    "            post_info.loc[post.id, 'subreddit'] = self.sr\n",
    "            post_info.loc[post.id, 'author'] = post['author']\n",
    "            post_info.loc[post.id, 'title'] = post['title']\n",
    "            post_info.loc[post.id, 'body'] = post['selftext']\n",
    "            post_info.loc[post.id, 'number_of_comments'] = post['num_comments']\n",
    "            post_info.loc[post.id, 'upvotes'] = post['score']\n",
    "            post_info.loc[post.id, 'upvote_ratio'] = post['upvote_ratio']\n",
    "            \n",
    "        return post_info"
   ]
  },
  {
   "cell_type": "code",
   "execution_count": 121,
   "id": "03b96d4c-05e4-4010-b5b1-878b0d179ef0",
   "metadata": {
    "tags": []
   },
   "outputs": [],
   "source": [
    "def scrape_posts(subreddit_name, search_word):\n",
    "    \"\"\" Search for all posts matching a search word in a subreddit.\n",
    "    \"\"\"\n",
    "        \n",
    "    # Create empty objects to store post information.\n",
    "    POST_COLS = ['query', 'subreddit', 'author', 'title', 'body', 'number_of_comments', 'upvotes', 'upvote_ratio']\n",
    "    \n",
    "    post_info = pd.DataFrame(columns=POST_COLS)\n",
    "    post_info.index.name = 'id'\n",
    "    \n",
    "    posts = {}\n",
    "    \n",
    "    # Generate the iterator that will scrape over \n",
    "    for post in PushShift(subreddit_name, search_word, start_time, end_time):\n",
    "\n",
    "        post_info = pd.concat([post_info, post])\n",
    "        \n",
    "    return post_info"
   ]
  },
  {
   "cell_type": "code",
   "execution_count": 46,
   "id": "895f6c24-5de4-47ef-8954-dbee8ba717bf",
   "metadata": {
    "tags": []
   },
   "outputs": [],
   "source": [
    "def scrape_reddit(subreddits, search_words):\n",
    "    \"\"\"Scrapes Reddit for posts matching a set of search words in a set of subreddits.\n",
    "    \"\"\"\n",
    "\n",
    "    POST_INFO = ['query', 'subreddit', 'author', 'title', 'body', 'number_of_comments', 'upvotes', 'upvote_ratio']\n",
    "\n",
    "    all_posts_df = pd.DataFrame(columns=POST_INFO)\n",
    "    all_posts_df.index.name = 'id'\n",
    "\n",
    "    for subreddit in subreddits:\n",
    "        for search_word in search_words:\n",
    "            print(\"Now searching r/{0} for {1}\".format(subreddit, search_word))\n",
    "\n",
    "            post_df_ij = scrape_posts(subreddit, search_word)\n",
    "\n",
    "            print(\"Completed search. Joining!\")\n",
    "            all_posts_df = pd.concat([all_posts_df, post_df_ij])\n",
    "\n",
    "            with pd.ExcelWriter(DATA_FOLDER + 'scraped_posts_full.xlsx', engine='xlsxwriter', options={'strings_to_urls': False}) as writer:\n",
    "                all_posts_df.to_excel(writer)"
   ]
  },
  {
   "cell_type": "code",
   "execution_count": null,
   "id": "e48cfa77-7bcb-4f81-9992-b8d3cac2d629",
   "metadata": {},
   "outputs": [],
   "source": [
    "def scrape_reddit_cmnts(subreddits, search_words):\n",
    "    \"\"\"Scrapes Reddit for posts matching a set of search words in a set of subreddits.\n",
    "    \"\"\"\n",
    "\n",
    "    POST_INFO = ['query', 'subreddit', 'author', 'body', 'link_id', 'parent_id', 'upvotes']\n",
    "\n",
    "    all_posts = {}\n",
    "    all_posts_df = pd.DataFrame(columns=POST_INFO)\n",
    "    all_posts_df.index.name = 'id'\n",
    "\n",
    "    for subreddit in subreddits:\n",
    "        for search_word in search_words:\n",
    "            print(\"Now searching r/{0} for {1}\".format(subreddit, search_word))\n",
    "\n",
    "            # Create empty objects to store post information.\n",
    "            post_info = pd.DataFrame()\n",
    "            post_info.index.name = 'id'\n",
    "\n",
    "            posts = {}\n",
    "\n",
    "            # Generate the iterator that will scrape over \n",
    "            for post in api.search_comments(q=search_word, subreddit=subreddit):\n",
    "\n",
    "                # Save this post as k:v pair.\n",
    "                posts[post.id] = post\n",
    "\n",
    "                # Store this post's metadata in our dataframe.\n",
    "                post_info.loc[post.id, 'query'] = search_word\n",
    "                post_info.loc[post.id, 'subreddit'] = subreddit\n",
    "                post_info.loc[post.id, 'author'] = post.author\n",
    "\n",
    "                try:\n",
    "                    post_info.loc[post.id, 'body'] = post.body\n",
    "                except:\n",
    "                    pass\n",
    "\n",
    "                post_info.loc[post.id, 'link_id'] = post.link_id\n",
    "                post_info.loc[post.id, 'parent_id'] = post.parent_id\n",
    "                post_info.loc[post.id, 'upvotes'] = post.score\n",
    "                # post_info.loc[post.id, 'upvote_ratio'] = post.upvote_ratio\n",
    "\n",
    "            print(\"Completed search. Found {0} entries. Joining!\".format(post_info.shape[0]))\n",
    "\n",
    "            all_posts.update(posts)\n",
    "            all_posts_df = pd.concat([all_posts_df, post_info])\n",
    "\n",
    "            with pd.ExcelWriter(DATA_FOLDER + 'scraped_comments_full_psaw.xlsx', engine='xlsxwriter', options={'strings_to_urls': False}) as writer:\n",
    "                all_posts_df.to_excel(writer)"
   ]
  },
  {
   "cell_type": "code",
   "execution_count": 313,
   "id": "78c29a15-a396-40a7-936f-aca535f845f6",
   "metadata": {
    "scrolled": true,
    "tags": []
   },
   "outputs": [
    {
     "name": "stdout",
     "output_type": "stream",
     "text": [
      "Now searching r/ketoscience for statin\n",
      "Completed search. Found 464 entries. Joining!\n",
      "Now searching r/ketoscience for atorvastatin\n",
      "Completed search. Found 12 entries. Joining!\n",
      "Now searching r/ketoscience for lipitor\n",
      "Completed search. Found 23 entries. Joining!\n",
      "Now searching r/ketoscience for rosuvastatin\n",
      "Completed search. Found 11 entries. Joining!\n",
      "Now searching r/ketoscience for crestor\n",
      "Completed search. Found 15 entries. Joining!\n",
      "Now searching r/ketoscience for pitavastatin\n",
      "Completed search. Found 2 entries. Joining!\n",
      "Now searching r/ketoscience for livalo\n",
      "Completed search. Found 0 entries. Joining!\n",
      "Now searching r/ketoscience for zypitamag\n",
      "Completed search. Found 0 entries. Joining!\n",
      "Now searching r/ketoscience for simvastatin\n",
      "Completed search. Found 8 entries. Joining!\n",
      "Now searching r/ketoscience for zocor\n",
      "Completed search. Found 0 entries. Joining!\n",
      "Now searching r/ketoscience for pravastatin\n",
      "Completed search. Found 4 entries. Joining!\n",
      "Now searching r/ketoscience for pravachol\n",
      "Completed search. Found 0 entries. Joining!\n",
      "Now searching r/ketoscience for lovastatin\n",
      "Completed search. Found 3 entries. Joining!\n",
      "Now searching r/ketoscience for altoprev\n",
      "Completed search. Found 0 entries. Joining!\n",
      "Now searching r/ketoscience for fluvastatin\n",
      "Completed search. Found 1 entries. Joining!\n",
      "Now searching r/ketoscience for lescol\n",
      "Completed search. Found 0 entries. Joining!\n",
      "Now searching r/science for statin\n",
      "Completed search. Found 470 entries. Joining!\n",
      "Now searching r/science for atorvastatin\n",
      "Completed search. Found 66 entries. Joining!\n",
      "Now searching r/science for lipitor\n",
      "Completed search. Found 137 entries. Joining!\n",
      "Now searching r/science for rosuvastatin\n",
      "Completed search. Found 21 entries. Joining!\n",
      "Now searching r/science for crestor\n",
      "Completed search. Found 26 entries. Joining!\n",
      "Now searching r/science for pitavastatin\n",
      "Completed search. Found 8 entries. Joining!\n",
      "Now searching r/science for livalo\n",
      "Completed search. Found 1 entries. Joining!\n",
      "Now searching r/science for zypitamag\n",
      "Completed search. Found 0 entries. Joining!\n",
      "Now searching r/science for simvastatin\n",
      "Completed search. Found 41 entries. Joining!\n",
      "Now searching r/science for zocor\n",
      "Completed search. Found 10 entries. Joining!\n",
      "Now searching r/science for pravastatin\n",
      "Completed search. Found 14 entries. Joining!\n",
      "Now searching r/science for pravachol\n",
      "Completed search. Found 4 entries. Joining!\n",
      "Now searching r/science for lovastatin\n",
      "Completed search. Found 18 entries. Joining!\n",
      "Now searching r/science for altoprev\n",
      "Completed search. Found 1 entries. Joining!\n",
      "Now searching r/science for fluvastatin\n",
      "Completed search. Found 3 entries. Joining!\n",
      "Now searching r/science for lescol\n",
      "Completed search. Found 1 entries. Joining!\n",
      "Now searching r/keto for statin\n",
      "Completed search. Found 1685 entries. Joining!\n",
      "Now searching r/keto for atorvastatin\n",
      "Completed search. Found 39 entries. Joining!\n",
      "Now searching r/keto for lipitor\n",
      "Completed search. Found 236 entries. Joining!\n",
      "Now searching r/keto for rosuvastatin\n",
      "Completed search. Found 14 entries. Joining!\n",
      "Now searching r/keto for crestor\n",
      "Completed search. Found 100 entries. Joining!\n",
      "Now searching r/keto for pitavastatin\n",
      "Completed search. Found 4 entries. Joining!\n",
      "Now searching r/keto for livalo\n",
      "Completed search. Found 2 entries. Joining!\n",
      "Now searching r/keto for zypitamag\n",
      "Completed search. Found 0 entries. Joining!\n",
      "Now searching r/keto for simvastatin\n",
      "Completed search. Found 24 entries. Joining!\n",
      "Now searching r/keto for zocor\n",
      "Completed search. Found 9 entries. Joining!\n",
      "Now searching r/keto for pravastatin\n",
      "Completed search. Found 6 entries. Joining!\n",
      "Now searching r/keto for pravachol\n",
      "Completed search. Found 1 entries. Joining!\n",
      "Now searching r/keto for lovastatin\n",
      "Completed search. Found 3 entries. Joining!\n",
      "Now searching r/keto for altoprev\n",
      "Completed search. Found 0 entries. Joining!\n",
      "Now searching r/keto for fluvastatin\n",
      "Completed search. Found 0 entries. Joining!\n",
      "Now searching r/keto for lescol\n",
      "Completed search. Found 1 entries. Joining!\n",
      "Now searching r/Health for statin\n",
      "Completed search. Found 148 entries. Joining!\n",
      "Now searching r/Health for atorvastatin\n",
      "Completed search. Found 19 entries. Joining!\n",
      "Now searching r/Health for lipitor\n",
      "Completed search. Found 66 entries. Joining!\n",
      "Now searching r/Health for rosuvastatin\n",
      "Completed search. Found 4 entries. Joining!\n",
      "Now searching r/Health for crestor\n",
      "Completed search. Found 9 entries. Joining!\n",
      "Now searching r/Health for pitavastatin\n",
      "Completed search. Found 1 entries. Joining!\n",
      "Now searching r/Health for livalo\n",
      "Completed search. Found 0 entries. Joining!\n",
      "Now searching r/Health for zypitamag\n",
      "Completed search. Found 0 entries. Joining!\n",
      "Now searching r/Health for simvastatin\n",
      "Completed search. Found 9 entries. Joining!\n",
      "Now searching r/Health for zocor\n",
      "Completed search. Found 6 entries. Joining!\n",
      "Now searching r/Health for pravastatin\n",
      "Completed search. Found 2 entries. Joining!\n",
      "Now searching r/Health for pravachol\n",
      "Completed search. Found 1 entries. Joining!\n",
      "Now searching r/Health for lovastatin\n",
      "Completed search. Found 7 entries. Joining!\n",
      "Now searching r/Health for altoprev\n",
      "Completed search. Found 0 entries. Joining!\n",
      "Now searching r/Health for fluvastatin\n",
      "Completed search. Found 2 entries. Joining!\n",
      "Now searching r/Health for lescol\n",
      "Completed search. Found 1 entries. Joining!\n",
      "Now searching r/conspiracy for statin\n",
      "Completed search. Found 195 entries. Joining!\n",
      "Now searching r/conspiracy for atorvastatin\n",
      "Completed search. Found 30 entries. Joining!\n",
      "Now searching r/conspiracy for lipitor\n",
      "Completed search. Found 129 entries. Joining!\n",
      "Now searching r/conspiracy for rosuvastatin\n",
      "Completed search. Found 3 entries. Joining!\n",
      "Now searching r/conspiracy for crestor\n",
      "Completed search. Found 24 entries. Joining!\n",
      "Now searching r/conspiracy for pitavastatin\n",
      "Completed search. Found 0 entries. Joining!\n",
      "Now searching r/conspiracy for livalo\n",
      "Completed search. Found 1 entries. Joining!\n",
      "Now searching r/conspiracy for zypitamag\n",
      "Completed search. Found 0 entries. Joining!\n",
      "Now searching r/conspiracy for simvastatin\n",
      "Completed search. Found 5 entries. Joining!\n",
      "Now searching r/conspiracy for zocor\n",
      "Completed search. Found 4 entries. Joining!\n",
      "Now searching r/conspiracy for pravastatin\n",
      "Completed search. Found 2 entries. Joining!\n",
      "Now searching r/conspiracy for pravachol\n",
      "Completed search. Found 0 entries. Joining!\n",
      "Now searching r/conspiracy for lovastatin\n",
      "Completed search. Found 4 entries. Joining!\n",
      "Now searching r/conspiracy for altoprev\n",
      "Completed search. Found 0 entries. Joining!\n",
      "Now searching r/conspiracy for fluvastatin\n",
      "Completed search. Found 0 entries. Joining!\n",
      "Now searching r/conspiracy for lescol\n",
      "Completed search. Found 0 entries. Joining!\n",
      "Now searching r/todayilearned for statin\n",
      "Completed search. Found 170 entries. Joining!\n",
      "Now searching r/todayilearned for atorvastatin\n",
      "Completed search. Found 31 entries. Joining!\n",
      "Now searching r/todayilearned for lipitor\n",
      "Completed search. Found 173 entries. Joining!\n",
      "Now searching r/todayilearned for rosuvastatin\n",
      "Completed search. Found 5 entries. Joining!\n",
      "Now searching r/todayilearned for crestor\n",
      "Completed search. Found 31 entries. Joining!\n",
      "Now searching r/todayilearned for pitavastatin\n",
      "Completed search. Found 1 entries. Joining!\n",
      "Now searching r/todayilearned for livalo\n",
      "Completed search. Found 1 entries. Joining!\n",
      "Now searching r/todayilearned for zypitamag\n",
      "Completed search. Found 0 entries. Joining!\n",
      "Now searching r/todayilearned for simvastatin\n",
      "Completed search. Found 27 entries. Joining!\n",
      "Now searching r/todayilearned for zocor\n",
      "Completed search. Found 14 entries. Joining!\n",
      "Now searching r/todayilearned for pravastatin\n",
      "Completed search. Found 4 entries. Joining!\n",
      "Now searching r/todayilearned for pravachol\n",
      "Completed search. Found 2 entries. Joining!\n",
      "Now searching r/todayilearned for lovastatin\n",
      "Completed search. Found 15 entries. Joining!\n",
      "Now searching r/todayilearned for altoprev\n",
      "Completed search. Found 0 entries. Joining!\n",
      "Now searching r/todayilearned for fluvastatin\n",
      "Completed search. Found 1 entries. Joining!\n",
      "Now searching r/todayilearned for lescol\n",
      "Completed search. Found 1 entries. Joining!\n",
      "Now searching r/ScientificNutrition for statin\n",
      "Completed search. Found 396 entries. Joining!\n",
      "Now searching r/ScientificNutrition for atorvastatin\n",
      "Completed search. Found 23 entries. Joining!\n",
      "Now searching r/ScientificNutrition for lipitor\n",
      "Completed search. Found 7 entries. Joining!\n",
      "Now searching r/ScientificNutrition for rosuvastatin\n",
      "Completed search. Found 18 entries. Joining!\n",
      "Now searching r/ScientificNutrition for crestor\n",
      "Completed search. Found 3 entries. Joining!\n",
      "Now searching r/ScientificNutrition for pitavastatin\n",
      "Completed search. Found 0 entries. Joining!\n",
      "Now searching r/ScientificNutrition for livalo\n",
      "Completed search. Found 0 entries. Joining!\n",
      "Now searching r/ScientificNutrition for zypitamag\n",
      "Completed search. Found 0 entries. Joining!\n",
      "Now searching r/ScientificNutrition for simvastatin\n",
      "Completed search. Found 23 entries. Joining!\n",
      "Now searching r/ScientificNutrition for zocor\n",
      "Completed search. Found 0 entries. Joining!\n",
      "Now searching r/ScientificNutrition for pravastatin\n",
      "Completed search. Found 17 entries. Joining!\n",
      "Now searching r/ScientificNutrition for pravachol\n",
      "Completed search. Found 0 entries. Joining!\n",
      "Now searching r/ScientificNutrition for lovastatin\n",
      "Completed search. Found 5 entries. Joining!\n",
      "Now searching r/ScientificNutrition for altoprev\n",
      "Completed search. Found 0 entries. Joining!\n",
      "Now searching r/ScientificNutrition for fluvastatin\n",
      "Completed search. Found 3 entries. Joining!\n",
      "Now searching r/ScientificNutrition for lescol\n",
      "Completed search. Found 0 entries. Joining!\n",
      "Now searching r/askscience for statin\n",
      "Completed search. Found 99 entries. Joining!\n",
      "Now searching r/askscience for atorvastatin\n",
      "Completed search. Found 25 entries. Joining!\n",
      "Now searching r/askscience for lipitor\n",
      "Completed search. Found 40 entries. Joining!\n",
      "Now searching r/askscience for rosuvastatin\n",
      "Completed search. Found 5 entries. Joining!\n",
      "Now searching r/askscience for crestor\n",
      "Completed search. Found 10 entries. Joining!\n",
      "Now searching r/askscience for pitavastatin\n",
      "Completed search. Found 0 entries. Joining!\n",
      "Now searching r/askscience for livalo\n",
      "Completed search. Found 0 entries. Joining!\n",
      "Now searching r/askscience for zypitamag\n",
      "Completed search. Found 0 entries. Joining!\n",
      "Now searching r/askscience for simvastatin\n",
      "Completed search. Found 12 entries. Joining!\n",
      "Now searching r/askscience for zocor\n",
      "Completed search. Found 4 entries. Joining!\n",
      "Now searching r/askscience for pravastatin\n",
      "Completed search. Found 0 entries. Joining!\n",
      "Now searching r/askscience for pravachol\n",
      "Completed search. Found 0 entries. Joining!\n",
      "Now searching r/askscience for lovastatin\n",
      "Completed search. Found 2 entries. Joining!\n",
      "Now searching r/askscience for altoprev\n",
      "Completed search. Found 0 entries. Joining!\n",
      "Now searching r/askscience for fluvastatin\n",
      "Completed search. Found 0 entries. Joining!\n",
      "Now searching r/askscience for lescol\n",
      "Completed search. Found 0 entries. Joining!\n",
      "Now searching r/Futurology for statin\n",
      "Completed search. Found 49 entries. Joining!\n",
      "Now searching r/Futurology for atorvastatin\n",
      "Completed search. Found 3 entries. Joining!\n",
      "Now searching r/Futurology for lipitor\n",
      "Completed search. Found 20 entries. Joining!\n",
      "Now searching r/Futurology for rosuvastatin\n",
      "Completed search. Found 1 entries. Joining!\n",
      "Now searching r/Futurology for crestor\n",
      "Completed search. Found 0 entries. Joining!\n",
      "Now searching r/Futurology for pitavastatin\n",
      "Completed search. Found 0 entries. Joining!\n",
      "Now searching r/Futurology for livalo\n",
      "Completed search. Found 0 entries. Joining!\n",
      "Now searching r/Futurology for zypitamag\n",
      "Completed search. Found 0 entries. Joining!\n",
      "Now searching r/Futurology for simvastatin\n",
      "Completed search. Found 1 entries. Joining!\n",
      "Now searching r/Futurology for zocor\n",
      "Completed search. Found 0 entries. Joining!\n",
      "Now searching r/Futurology for pravastatin\n",
      "Completed search. Found 0 entries. Joining!\n",
      "Now searching r/Futurology for pravachol\n",
      "Completed search. Found 0 entries. Joining!\n",
      "Now searching r/Futurology for lovastatin\n",
      "Completed search. Found 2 entries. Joining!\n",
      "Now searching r/Futurology for altoprev\n",
      "Completed search. Found 0 entries. Joining!\n",
      "Now searching r/Futurology for fluvastatin\n",
      "Completed search. Found 0 entries. Joining!\n",
      "Now searching r/Futurology for lescol\n",
      "Completed search. Found 0 entries. Joining!\n",
      "Now searching r/news for statin\n",
      "Completed search. Found 153 entries. Joining!\n",
      "Now searching r/news for atorvastatin\n",
      "Completed search. Found 31 entries. Joining!\n",
      "Now searching r/news for lipitor\n",
      "Completed search. Found 242 entries. Joining!\n",
      "Now searching r/news for rosuvastatin\n",
      "Completed search. Found 9 entries. Joining!\n",
      "Now searching r/news for crestor\n",
      "Completed search. Found 40 entries. Joining!\n",
      "Now searching r/news for pitavastatin\n",
      "Completed search. Found 3 entries. Joining!\n",
      "Now searching r/news for livalo\n",
      "Completed search. Found 3 entries. Joining!\n",
      "Now searching r/news for zypitamag\n",
      "Completed search. Found 0 entries. Joining!\n",
      "Now searching r/news for simvastatin\n",
      "Completed search. Found 21 entries. Joining!\n",
      "Now searching r/news for zocor\n",
      "Completed search. Found 11 entries. Joining!\n",
      "Now searching r/news for pravastatin\n",
      "Completed search. Found 5 entries. Joining!\n",
      "Now searching r/news for pravachol\n",
      "Completed search. Found 4 entries. Joining!\n",
      "Now searching r/news for lovastatin\n",
      "Completed search. Found 11 entries. Joining!\n",
      "Now searching r/news for altoprev\n",
      "Completed search. Found 1 entries. Joining!\n",
      "Now searching r/news for fluvastatin\n",
      "Completed search. Found 3 entries. Joining!\n",
      "Now searching r/news for lescol\n",
      "Completed search. Found 2 entries. Joining!\n",
      "Now searching r/PlantBasedDiet for statin\n",
      "Completed search. Found 184 entries. Joining!\n",
      "Now searching r/PlantBasedDiet for atorvastatin\n",
      "Completed search. Found 4 entries. Joining!\n",
      "Now searching r/PlantBasedDiet for lipitor\n",
      "Completed search. Found 6 entries. Joining!\n",
      "Now searching r/PlantBasedDiet for rosuvastatin\n",
      "Completed search. Found 4 entries. Joining!\n",
      "Now searching r/PlantBasedDiet for crestor\n",
      "Completed search. Found 13 entries. Joining!\n",
      "Now searching r/PlantBasedDiet for pitavastatin\n",
      "Completed search. Found 0 entries. Joining!\n",
      "Now searching r/PlantBasedDiet for livalo\n",
      "Completed search. Found 0 entries. Joining!\n",
      "Now searching r/PlantBasedDiet for zypitamag\n",
      "Completed search. Found 0 entries. Joining!\n",
      "Now searching r/PlantBasedDiet for simvastatin\n",
      "Completed search. Found 2 entries. Joining!\n",
      "Now searching r/PlantBasedDiet for zocor\n",
      "Completed search. Found 0 entries. Joining!\n",
      "Now searching r/PlantBasedDiet for pravastatin\n",
      "Completed search. Found 4 entries. Joining!\n",
      "Now searching r/PlantBasedDiet for pravachol\n",
      "Completed search. Found 1 entries. Joining!\n",
      "Now searching r/PlantBasedDiet for lovastatin\n",
      "Completed search. Found 3 entries. Joining!\n",
      "Now searching r/PlantBasedDiet for altoprev\n",
      "Completed search. Found 0 entries. Joining!\n",
      "Now searching r/PlantBasedDiet for fluvastatin\n",
      "Completed search. Found 0 entries. Joining!\n",
      "Now searching r/PlantBasedDiet for lescol\n",
      "Completed search. Found 0 entries. Joining!\n",
      "Now searching r/nutrition for statin\n",
      "Completed search. Found 446 entries. Joining!\n",
      "Now searching r/nutrition for atorvastatin\n",
      "Completed search. Found 17 entries. Joining!\n",
      "Now searching r/nutrition for lipitor\n",
      "Completed search. Found 19 entries. Joining!\n",
      "Now searching r/nutrition for rosuvastatin\n",
      "Completed search. Found 9 entries. Joining!\n",
      "Now searching r/nutrition for crestor\n",
      "Completed search. Found 5 entries. Joining!\n",
      "Now searching r/nutrition for pitavastatin\n",
      "Completed search. Found 2 entries. Joining!\n",
      "Now searching r/nutrition for livalo\n",
      "Completed search. Found 0 entries. Joining!\n",
      "Now searching r/nutrition for zypitamag\n",
      "Completed search. Found 0 entries. Joining!\n",
      "Now searching r/nutrition for simvastatin\n",
      "Completed search. Found 12 entries. Joining!\n",
      "Now searching r/nutrition for zocor\n",
      "Completed search. Found 1 entries. Joining!\n",
      "Now searching r/nutrition for pravastatin\n",
      "Completed search. Found 4 entries. Joining!\n",
      "Now searching r/nutrition for pravachol\n",
      "Completed search. Found 0 entries. Joining!\n",
      "Now searching r/nutrition for lovastatin\n",
      "Completed search. Found 12 entries. Joining!\n",
      "Now searching r/nutrition for altoprev\n",
      "Completed search. Found 0 entries. Joining!\n",
      "Now searching r/nutrition for fluvastatin\n",
      "Completed search. Found 3 entries. Joining!\n",
      "Now searching r/nutrition for lescol\n",
      "Completed search. Found 0 entries. Joining!\n",
      "Now searching r/Paleo for statin\n",
      "Completed search. Found 73 entries. Joining!\n",
      "Now searching r/Paleo for atorvastatin\n",
      "Completed search. Found 1 entries. Joining!\n",
      "Now searching r/Paleo for lipitor\n",
      "Completed search. Found 25 entries. Joining!\n",
      "Now searching r/Paleo for rosuvastatin\n",
      "Completed search. Found 0 entries. Joining!\n",
      "Now searching r/Paleo for crestor\n",
      "Completed search. Found 9 entries. Joining!\n",
      "Now searching r/Paleo for pitavastatin\n",
      "Completed search. Found 0 entries. Joining!\n",
      "Now searching r/Paleo for livalo\n",
      "Completed search. Found 0 entries. Joining!\n",
      "Now searching r/Paleo for zypitamag\n",
      "Completed search. Found 0 entries. Joining!\n",
      "Now searching r/Paleo for simvastatin\n",
      "Completed search. Found 3 entries. Joining!\n",
      "Now searching r/Paleo for zocor\n",
      "Completed search. Found 0 entries. Joining!\n",
      "Now searching r/Paleo for pravastatin\n",
      "Completed search. Found 2 entries. Joining!\n",
      "Now searching r/Paleo for pravachol\n",
      "Completed search. Found 0 entries. Joining!\n",
      "Now searching r/Paleo for lovastatin\n",
      "Completed search. Found 2 entries. Joining!\n",
      "Now searching r/Paleo for altoprev\n",
      "Completed search. Found 0 entries. Joining!\n",
      "Now searching r/Paleo for fluvastatin\n",
      "Completed search. Found 0 entries. Joining!\n",
      "Now searching r/Paleo for lescol\n",
      "Completed search. Found 0 entries. Joining!\n",
      "Now searching r/fasting for statin\n",
      "Completed search. Found 56 entries. Joining!\n",
      "Now searching r/fasting for atorvastatin\n",
      "Completed search. Found 1 entries. Joining!\n",
      "Now searching r/fasting for lipitor\n",
      "Completed search. Found 4 entries. Joining!\n",
      "Now searching r/fasting for rosuvastatin\n",
      "Completed search. Found 1 entries. Joining!\n",
      "Now searching r/fasting for crestor\n",
      "Completed search. Found 0 entries. Joining!\n",
      "Now searching r/fasting for pitavastatin\n",
      "Completed search. Found 0 entries. Joining!\n",
      "Now searching r/fasting for livalo\n",
      "Completed search. Found 0 entries. Joining!\n",
      "Now searching r/fasting for zypitamag\n",
      "Completed search. Found 0 entries. Joining!\n",
      "Now searching r/fasting for simvastatin\n",
      "Completed search. Found 1 entries. Joining!\n",
      "Now searching r/fasting for zocor\n",
      "Completed search. Found 0 entries. Joining!\n",
      "Now searching r/fasting for pravastatin\n",
      "Completed search. Found 0 entries. Joining!\n",
      "Now searching r/fasting for pravachol\n",
      "Completed search. Found 0 entries. Joining!\n",
      "Now searching r/fasting for lovastatin\n",
      "Completed search. Found 0 entries. Joining!\n",
      "Now searching r/fasting for altoprev\n",
      "Completed search. Found 0 entries. Joining!\n",
      "Now searching r/fasting for fluvastatin\n",
      "Completed search. Found 0 entries. Joining!\n",
      "Now searching r/fasting for lescol\n",
      "Completed search. Found 0 entries. Joining!\n",
      "Now searching r/longevity for statin\n",
      "Completed search. Found 56 entries. Joining!\n",
      "Now searching r/longevity for atorvastatin\n",
      "Completed search. Found 4 entries. Joining!\n",
      "Now searching r/longevity for lipitor\n",
      "Completed search. Found 6 entries. Joining!\n",
      "Now searching r/longevity for rosuvastatin\n",
      "Completed search. Found 2 entries. Joining!\n",
      "Now searching r/longevity for crestor\n",
      "Completed search. Found 3 entries. Joining!\n",
      "Now searching r/longevity for pitavastatin\n",
      "Completed search. Found 2 entries. Joining!\n",
      "Now searching r/longevity for livalo\n",
      "Completed search. Found 0 entries. Joining!\n",
      "Now searching r/longevity for zypitamag\n",
      "Completed search. Found 0 entries. Joining!\n",
      "Now searching r/longevity for simvastatin\n",
      "Completed search. Found 2 entries. Joining!\n",
      "Now searching r/longevity for zocor\n",
      "Completed search. Found 0 entries. Joining!\n",
      "Now searching r/longevity for pravastatin\n",
      "Completed search. Found 1 entries. Joining!\n",
      "Now searching r/longevity for pravachol\n",
      "Completed search. Found 1 entries. Joining!\n",
      "Now searching r/longevity for lovastatin\n",
      "Completed search. Found 1 entries. Joining!\n",
      "Now searching r/longevity for altoprev\n",
      "Completed search. Found 0 entries. Joining!\n",
      "Now searching r/longevity for fluvastatin\n",
      "Completed search. Found 1 entries. Joining!\n",
      "Now searching r/longevity for lescol\n",
      "Completed search. Found 0 entries. Joining!\n",
      "Now searching r/Supplements for statin\n",
      "Completed search. Found 253 entries. Joining!\n",
      "Now searching r/Supplements for atorvastatin\n",
      "Completed search. Found 8 entries. Joining!\n",
      "Now searching r/Supplements for lipitor\n",
      "Completed search. Found 33 entries. Joining!\n",
      "Now searching r/Supplements for rosuvastatin\n",
      "Completed search. Found 9 entries. Joining!\n",
      "Now searching r/Supplements for crestor\n",
      "Completed search. Found 8 entries. Joining!\n",
      "Now searching r/Supplements for pitavastatin\n",
      "Completed search. Found 1 entries. Joining!\n",
      "Now searching r/Supplements for livalo\n",
      "Completed search. Found 0 entries. Joining!\n",
      "Now searching r/Supplements for zypitamag\n",
      "Completed search. Found 0 entries. Joining!\n",
      "Now searching r/Supplements for simvastatin\n",
      "Completed search. Found 4 entries. Joining!\n",
      "Now searching r/Supplements for zocor\n",
      "Completed search. Found 1 entries. Joining!\n",
      "Now searching r/Supplements for pravastatin\n",
      "Completed search. Found 7 entries. Joining!\n",
      "Now searching r/Supplements for pravachol\n",
      "Completed search. Found 0 entries. Joining!\n",
      "Now searching r/Supplements for lovastatin\n",
      "Completed search. Found 25 entries. Joining!\n",
      "Now searching r/Supplements for altoprev\n",
      "Completed search. Found 0 entries. Joining!\n",
      "Now searching r/Supplements for fluvastatin\n",
      "Completed search. Found 1 entries. Joining!\n",
      "Now searching r/Supplements for lescol\n",
      "Completed search. Found 0 entries. Joining!\n",
      "Now searching r/Coronavirus for statin\n",
      "Completed search. Found 67 entries. Joining!\n",
      "Now searching r/Coronavirus for atorvastatin\n",
      "Completed search. Found 13 entries. Joining!\n",
      "Now searching r/Coronavirus for lipitor\n",
      "Completed search. Found 46 entries. Joining!\n",
      "Now searching r/Coronavirus for rosuvastatin\n",
      "Completed search. Found 3 entries. Joining!\n",
      "Now searching r/Coronavirus for crestor\n",
      "Completed search. Found 8 entries. Joining!\n",
      "Now searching r/Coronavirus for pitavastatin\n",
      "Completed search. Found 0 entries. Joining!\n",
      "Now searching r/Coronavirus for livalo\n",
      "Completed search. Found 0 entries. Joining!\n",
      "Now searching r/Coronavirus for zypitamag\n",
      "Completed search. Found 0 entries. Joining!\n",
      "Now searching r/Coronavirus for simvastatin\n",
      "Completed search. Found 4 entries. Joining!\n",
      "Now searching r/Coronavirus for zocor\n",
      "Completed search. Found 2 entries. Joining!\n",
      "Now searching r/Coronavirus for pravastatin\n",
      "Completed search. Found 0 entries. Joining!\n",
      "Now searching r/Coronavirus for pravachol\n",
      "Completed search. Found 0 entries. Joining!\n",
      "Now searching r/Coronavirus for lovastatin\n",
      "Completed search. Found 4 entries. Joining!\n",
      "Now searching r/Coronavirus for altoprev\n",
      "Completed search. Found 0 entries. Joining!\n",
      "Now searching r/Coronavirus for fluvastatin\n",
      "Completed search. Found 0 entries. Joining!\n",
      "Now searching r/Coronavirus for lescol\n",
      "Completed search. Found 0 entries. Joining!\n",
      "Now searching r/COVID19 for statin\n",
      "Completed search. Found 95 entries. Joining!\n",
      "Now searching r/COVID19 for atorvastatin\n",
      "Completed search. Found 30 entries. Joining!\n",
      "Now searching r/COVID19 for lipitor\n",
      "Completed search. Found 8 entries. Joining!\n",
      "Now searching r/COVID19 for rosuvastatin\n",
      "Completed search. Found 16 entries. Joining!\n",
      "Now searching r/COVID19 for crestor\n",
      "Completed search. Found 4 entries. Joining!\n",
      "Now searching r/COVID19 for pitavastatin\n",
      "Completed search. Found 1 entries. Joining!\n",
      "Now searching r/COVID19 for livalo\n",
      "Completed search. Found 0 entries. Joining!\n",
      "Now searching r/COVID19 for zypitamag\n",
      "Completed search. Found 0 entries. Joining!\n",
      "Now searching r/COVID19 for simvastatin\n",
      "Completed search. Found 6 entries. Joining!\n",
      "Now searching r/COVID19 for zocor\n",
      "Completed search. Found 1 entries. Joining!\n",
      "Now searching r/COVID19 for pravastatin\n",
      "Completed search. Found 1 entries. Joining!\n",
      "Now searching r/COVID19 for pravachol\n",
      "Completed search. Found 0 entries. Joining!\n",
      "Now searching r/COVID19 for lovastatin\n",
      "Completed search. Found 1 entries. Joining!\n",
      "Now searching r/COVID19 for altoprev\n",
      "Completed search. Found 0 entries. Joining!\n",
      "Now searching r/COVID19 for fluvastatin\n",
      "Completed search. Found 3 entries. Joining!\n",
      "Now searching r/COVID19 for lescol\n",
      "Completed search. Found 0 entries. Joining!\n",
      "Now searching r/Cholesterol for statin\n",
      "Completed search. Found 1393 entries. Joining!\n",
      "Now searching r/Cholesterol for atorvastatin\n",
      "Completed search. Found 105 entries. Joining!\n",
      "Now searching r/Cholesterol for lipitor\n",
      "Completed search. Found 200 entries. Joining!\n",
      "Now searching r/Cholesterol for rosuvastatin\n",
      "Completed search. Found 109 entries. Joining!\n",
      "Now searching r/Cholesterol for crestor\n",
      "Completed search. Found 223 entries. Joining!\n",
      "Now searching r/Cholesterol for pitavastatin\n",
      "Completed search. Found 4 entries. Joining!\n",
      "Now searching r/Cholesterol for livalo\n",
      "Completed search. Found 6 entries. Joining!\n",
      "Now searching r/Cholesterol for zypitamag\n",
      "Completed search. Found 0 entries. Joining!\n",
      "Now searching r/Cholesterol for simvastatin\n",
      "Completed search. Found 25 entries. Joining!\n",
      "Now searching r/Cholesterol for zocor\n",
      "Completed search. Found 8 entries. Joining!\n",
      "Now searching r/Cholesterol for pravastatin\n",
      "Completed search. Found 34 entries. Joining!\n",
      "Now searching r/Cholesterol for pravachol\n",
      "Completed search. Found 0 entries. Joining!\n",
      "Now searching r/Cholesterol for lovastatin\n",
      "Completed search. Found 16 entries. Joining!\n",
      "Now searching r/Cholesterol for altoprev\n",
      "Completed search. Found 0 entries. Joining!\n",
      "Now searching r/Cholesterol for fluvastatin\n",
      "Completed search. Found 8 entries. Joining!\n",
      "Now searching r/Cholesterol for lescol\n",
      "Completed search. Found 1 entries. Joining!\n",
      "Now searching r/Fitness for statin\n",
      "Completed search. Found 157 entries. Joining!\n",
      "Now searching r/Fitness for atorvastatin\n",
      "Completed search. Found 5 entries. Joining!\n",
      "Now searching r/Fitness for lipitor\n",
      "Completed search. Found 66 entries. Joining!\n",
      "Now searching r/Fitness for rosuvastatin\n",
      "Completed search. Found 0 entries. Joining!\n",
      "Now searching r/Fitness for crestor\n",
      "Completed search. Found 8 entries. Joining!\n",
      "Now searching r/Fitness for pitavastatin\n",
      "Completed search. Found 0 entries. Joining!\n",
      "Now searching r/Fitness for livalo\n",
      "Completed search. Found 0 entries. Joining!\n",
      "Now searching r/Fitness for zypitamag\n",
      "Completed search. Found 0 entries. Joining!\n",
      "Now searching r/Fitness for simvastatin\n",
      "Completed search. Found 5 entries. Joining!\n",
      "Now searching r/Fitness for zocor\n",
      "Completed search. Found 6 entries. Joining!\n",
      "Now searching r/Fitness for pravastatin\n",
      "Completed search. Found 2 entries. Joining!\n",
      "Now searching r/Fitness for pravachol\n",
      "Completed search. Found 1 entries. Joining!\n",
      "Now searching r/Fitness for lovastatin\n",
      "Completed search. Found 10 entries. Joining!\n",
      "Now searching r/Fitness for altoprev\n",
      "Completed search. Found 0 entries. Joining!\n",
      "Now searching r/Fitness for fluvastatin\n",
      "Completed search. Found 0 entries. Joining!\n",
      "Now searching r/Fitness for lescol\n",
      "Completed search. Found 0 entries. Joining!\n"
     ]
    }
   ],
   "source": [
    "subreddits = ['ketoscience', 'science', 'keto', 'Health', 'conspiracy', 'todayilearned', 'ScientificNutrition', 'askscience', 'Futurology',\n",
    "    'news', 'PlantBasedDiet', 'nutrition', 'Paleo', 'fasting', 'longevity', 'Supplements', 'Coronavirus', 'COVID19', 'Cholesterol', 'Fitness']\n",
    "search_words = ['statin', 'atorvastatin', 'lipitor', 'rosuvastatin', 'crestor', 'pitavastatin', 'livalo', 'zypitamag', 'simvastatin', 'zocor', 'pravastatin', \n",
    "                'pravachol', 'lovastatin', 'altoprev', 'fluvastatin', 'lescol']\n",
    "\n",
    "scrape_reddit_cmnts(subreddits, search_words)"
   ]
  },
  {
   "cell_type": "code",
   "execution_count": 303,
   "id": "d45138fb-95e7-4670-801e-29768cf03a98",
   "metadata": {},
   "outputs": [
    {
     "data": {
      "text/plain": [
       "Unnamed: 0                                              icnalcx\n",
       "query                                                    statin\n",
       "subreddit                                           ketoscience\n",
       "author                                            dirtyloophole\n",
       "body          I completely agree that there is a lot of BS Y...\n",
       "parent_id                                            t1_i9t0ktq\n",
       "upvotes                                                       1\n",
       "Name: t3_rnqlnj, dtype: object"
      ]
     },
     "execution_count": 303,
     "metadata": {},
     "output_type": "execute_result"
    }
   ],
   "source": [
    "def scrape_author_posts(authors):\n",
    "    \"\"\"Scrapes Reddit for posts matching a set of search words in a set of subreddits.\n",
    "    \"\"\"\n",
    "\n",
    "    POST_INFO = ['query', 'subreddit', 'author', 'title', 'body', 'number_of_comments', 'upvotes', 'upvote_ratio']\n",
    "\n",
    "    all_posts = {}\n",
    "    all_posts_df = pd.DataFrame(columns=POST_INFO)\n",
    "    all_posts_df.index.name = 'id'\n",
    "\n",
    "    for author in authors:\n",
    "        print(\"Now searching r/{0} for {1}\".format(subreddit, search_word))\n",
    "\n",
    "        # Create empty objects to store post information.\n",
    "        post_info = pd.DataFrame()\n",
    "        post_info.index.name = 'id'\n",
    "\n",
    "        posts = {}\n",
    "\n",
    "        # Generate the iterator that will scrape over \n",
    "        for post in api.search_comments(q=search_word, subreddit=subreddit):\n",
    "\n",
    "            # Save this post as k:v pair.\n",
    "            posts[post.id] = post\n",
    "\n",
    "            # Store this post's metadata in our dataframe.\n",
    "            post_info.loc[post.id, 'query'] = search_word\n",
    "            post_info.loc[post.id, 'subreddit'] = subreddit\n",
    "            post_info.loc[post.id, 'author'] = post.author\n",
    "\n",
    "            try:\n",
    "                post_info.loc[post.id, 'body'] = post.body\n",
    "            except:\n",
    "                pass\n",
    "\n",
    "            post_info.loc[post.id, 'link_id'] = post.link_id\n",
    "            post_info.loc[post.id, 'parent_id'] = post.parent_id\n",
    "            post_info.loc[post.id, 'upvotes'] = post.score\n",
    "            # post_info.loc[post.id, 'upvote_ratio'] = post.upvote_ratio\n",
    "\n",
    "            print(\"Completed search. Found {0} entries. Joining!\".format(post_info.shape[0]))\n",
    "\n",
    "            all_posts.update(posts)\n",
    "            all_posts_df = pd.concat([all_posts_df, post_info])\n",
    "\n",
    "            with pd.ExcelWriter(DATA_FOLDER + 'scraped_comments_full_psaw.xlsx', engine='xlsxwriter', options={'strings_to_urls': False}) as writer:\n",
    "                all_posts_df.to_excel(writer)"
   ]
  }
 ],
 "metadata": {
  "kernelspec": {
   "display_name": "Python 3 (ipykernel)",
   "language": "python",
   "name": "python3"
  },
  "language_info": {
   "codemirror_mode": {
    "name": "ipython",
    "version": 3
   },
   "file_extension": ".py",
   "mimetype": "text/x-python",
   "name": "python",
   "nbconvert_exporter": "python",
   "pygments_lexer": "ipython3",
   "version": "3.9.13"
  }
 },
 "nbformat": 4,
 "nbformat_minor": 5
}
